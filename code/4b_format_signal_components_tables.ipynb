{
 "cells": [
  {
   "cell_type": "markdown",
   "metadata": {},
   "source": [
    "# Format signal component results\n",
    "\n",
    "Pandas code to produce the tables in the appendix of `MCC`.\n",
    "\n",
    "After formatting, tables are fed into [Tables Generator](https://www.tablesgenerator.com/latex_tables) to produce final latex version."
   ]
  },
  {
   "cell_type": "code",
   "execution_count": 1,
   "metadata": {},
   "outputs": [],
   "source": [
    "import pandas as pd\n",
    "import numpy as np\n",
    "from graspologic.datasets import load_mice\n",
    "\n",
    "pd.options.mode.chained_assignment = None"
   ]
  },
  {
   "cell_type": "code",
   "execution_count": 2,
   "metadata": {},
   "outputs": [
    {
     "output_type": "execute_result",
     "data": {
      "text/plain": [
       "   ROI                        Structure Abbreviation  c_R  c_G  c_B  c_A  \\\n",
       "0    1        Cingulate_Cortex_Area_24a         A24a  255    0    0  255   \n",
       "1    2  Cingulate_Cortex_Area_24a_prime    A24aPrime  255  124    0  255   \n",
       "2    3        Cingulate_Cortex_Area_24b         A24b  255  248    0  255   \n",
       "3    4  Cingulate_Cortex_Area_24b_prime    A24bPrime  138  255    0  255   \n",
       "4    5        Cingulate_Cortex_Area_29a         A29a   14  255    0  255   \n",
       "\n",
       "     Level_1                   Level_2    Level_3           Level_4  \\\n",
       "0  forebrain  secondary_prosencephalon  isocortex  cingulate_cortex   \n",
       "1  forebrain  secondary_prosencephalon  isocortex  cingulate_cortex   \n",
       "2  forebrain  secondary_prosencephalon  isocortex  cingulate_cortex   \n",
       "3  forebrain  secondary_prosencephalon  isocortex  cingulate_cortex   \n",
       "4  forebrain  secondary_prosencephalon  isocortex  cingulate_cortex   \n",
       "\n",
       "  Macrostructure  \n",
       "0      isocortex  \n",
       "1      isocortex  \n",
       "2      isocortex  \n",
       "3      isocortex  \n",
       "4      isocortex  "
      ],
      "text/html": "<div>\n<style scoped>\n    .dataframe tbody tr th:only-of-type {\n        vertical-align: middle;\n    }\n\n    .dataframe tbody tr th {\n        vertical-align: top;\n    }\n\n    .dataframe thead th {\n        text-align: right;\n    }\n</style>\n<table border=\"1\" class=\"dataframe\">\n  <thead>\n    <tr style=\"text-align: right;\">\n      <th></th>\n      <th>ROI</th>\n      <th>Structure</th>\n      <th>Abbreviation</th>\n      <th>c_R</th>\n      <th>c_G</th>\n      <th>c_B</th>\n      <th>c_A</th>\n      <th>Level_1</th>\n      <th>Level_2</th>\n      <th>Level_3</th>\n      <th>Level_4</th>\n      <th>Macrostructure</th>\n    </tr>\n  </thead>\n  <tbody>\n    <tr>\n      <th>0</th>\n      <td>1</td>\n      <td>Cingulate_Cortex_Area_24a</td>\n      <td>A24a</td>\n      <td>255</td>\n      <td>0</td>\n      <td>0</td>\n      <td>255</td>\n      <td>forebrain</td>\n      <td>secondary_prosencephalon</td>\n      <td>isocortex</td>\n      <td>cingulate_cortex</td>\n      <td>isocortex</td>\n    </tr>\n    <tr>\n      <th>1</th>\n      <td>2</td>\n      <td>Cingulate_Cortex_Area_24a_prime</td>\n      <td>A24aPrime</td>\n      <td>255</td>\n      <td>124</td>\n      <td>0</td>\n      <td>255</td>\n      <td>forebrain</td>\n      <td>secondary_prosencephalon</td>\n      <td>isocortex</td>\n      <td>cingulate_cortex</td>\n      <td>isocortex</td>\n    </tr>\n    <tr>\n      <th>2</th>\n      <td>3</td>\n      <td>Cingulate_Cortex_Area_24b</td>\n      <td>A24b</td>\n      <td>255</td>\n      <td>248</td>\n      <td>0</td>\n      <td>255</td>\n      <td>forebrain</td>\n      <td>secondary_prosencephalon</td>\n      <td>isocortex</td>\n      <td>cingulate_cortex</td>\n      <td>isocortex</td>\n    </tr>\n    <tr>\n      <th>3</th>\n      <td>4</td>\n      <td>Cingulate_Cortex_Area_24b_prime</td>\n      <td>A24bPrime</td>\n      <td>138</td>\n      <td>255</td>\n      <td>0</td>\n      <td>255</td>\n      <td>forebrain</td>\n      <td>secondary_prosencephalon</td>\n      <td>isocortex</td>\n      <td>cingulate_cortex</td>\n      <td>isocortex</td>\n    </tr>\n    <tr>\n      <th>4</th>\n      <td>5</td>\n      <td>Cingulate_Cortex_Area_29a</td>\n      <td>A29a</td>\n      <td>14</td>\n      <td>255</td>\n      <td>0</td>\n      <td>255</td>\n      <td>forebrain</td>\n      <td>secondary_prosencephalon</td>\n      <td>isocortex</td>\n      <td>cingulate_cortex</td>\n      <td>isocortex</td>\n    </tr>\n  </tbody>\n</table>\n</div>"
     },
     "metadata": {},
     "execution_count": 2
    }
   ],
   "source": [
    "mice = load_mice()\n",
    "mice.atlas.head()"
   ]
  },
  {
   "cell_type": "code",
   "execution_count": 3,
   "metadata": {},
   "outputs": [],
   "source": [
    "ventricles = [147, 151, 160]\n",
    "ventricles += [roi + 166 for roi in ventricles]\n",
    "ventricles = np.array(ventricles)\n",
    "\n",
    "def lookup_roi_name(roi):\n",
    "    roi += np.sum(roi >= ventricles) # Adjust for removing the ventricles\n",
    "    roi -= 1\n",
    "    hemisphere = \"R\" if roi // 166 else \"L\"\n",
    "    roi = roi % 166\n",
    "    structure = mice.atlas[\"Structure\"].values[roi]\n",
    "    structure = \" \".join(structure.split(\"_\"))\n",
    "    return f\"{structure} ({hemisphere})\""
   ]
  },
  {
   "cell_type": "markdown",
   "metadata": {},
   "source": [
    "## Table 1: Signal Edges\n",
    "\n",
    "The top 20 signal edges (out of 54,946 total edges) ranked by the order of their Holm--Bonferroni corrected $p$-value. Eleven of the top 20 signal edges are adjacent to either the left or right hemisphere corpus callosum."
   ]
  },
  {
   "cell_type": "code",
   "execution_count": 4,
   "metadata": {},
   "outputs": [
    {
     "output_type": "execute_result",
     "data": {
      "text/plain": [
       "                                            Vertex 1  \\\n",
       "0                                Corpus Callosum (L)   \n",
       "1                                Corpus Callosum (L)   \n",
       "2                                Corpus Callosum (L)   \n",
       "3                                Corpus Callosum (L)   \n",
       "4                                         Septum (R)   \n",
       "5                                       Striatum (L)   \n",
       "6                                Corpus Callosum (L)   \n",
       "7                                    Hippocampus (L)   \n",
       "8                  Caudomedial Entorhinal Cortex (R)   \n",
       "9                                Corpus Callosum (L)   \n",
       "10                    Midbrain Reticular Nucleus (L)   \n",
       "11                               Corpus Callosum (L)   \n",
       "12                       Spinal Trigeminal Nerve (L)   \n",
       "13           Secondary Visual CortexLateral Area (L)   \n",
       "14                               Globus Pallidus (R)   \n",
       "15                                      Striatum (L)   \n",
       "16  Primary Somatosensory Cortex Hindlimb Region (L)   \n",
       "17                               Corpus Callosum (L)   \n",
       "18                               Corpus Callosum (L)   \n",
       "19                                  Zona Incerta (R)   \n",
       "\n",
       "                                        Vertex 2 statistic p-value  \n",
       "0                                   Striatum (R)     0.717   0.053  \n",
       "1                           Internal Capsule (R)     0.699   0.070  \n",
       "2              Reticular Nucleus of Thalamus (R)     0.698   0.072  \n",
       "3                               Zona Incerta (R)     0.686   0.088  \n",
       "4                            Corpus Callosum (R)     0.671   0.113  \n",
       "5                                   Striatum (R)     0.664   0.127  \n",
       "6                    Ventral Thalamic Nuclei (R)     0.663   0.128  \n",
       "7                 Middle Cerebellar Peduncle (L)     0.658   0.139  \n",
       "8             Ventral Hippocampal Commissure (R)     0.656   0.145  \n",
       "9                 Midbrain Reticular Nucleus (R)     0.653   0.154  \n",
       "10              Superior Cerebellar Peduncle (L)     0.648   0.166  \n",
       "11                           Corpus Callosum (R)     0.646   0.172  \n",
       "12                Middle Cerebellar Peduncle (L)     0.645   0.173  \n",
       "13                                  Striatum (R)     0.641   0.185  \n",
       "14                Midbrain Reticular Nucleus (R)     0.632   0.217  \n",
       "15                           Corpus Callosum (R)     0.632   0.217  \n",
       "16  Secondary Visual Cortex Mediomedial Area (L)     0.629   0.228  \n",
       "17   Primary Somatosensory Cortex Jaw Region (R)     0.628   0.230  \n",
       "18                    Ventral Orbital Cortex (R)     0.628   0.231  \n",
       "19            Intermediate Reticular Nucleus (R)     0.627   0.234  "
      ],
      "text/html": "<div>\n<style scoped>\n    .dataframe tbody tr th:only-of-type {\n        vertical-align: middle;\n    }\n\n    .dataframe tbody tr th {\n        vertical-align: top;\n    }\n\n    .dataframe thead th {\n        text-align: right;\n    }\n</style>\n<table border=\"1\" class=\"dataframe\">\n  <thead>\n    <tr style=\"text-align: right;\">\n      <th></th>\n      <th>Vertex 1</th>\n      <th>Vertex 2</th>\n      <th>statistic</th>\n      <th>p-value</th>\n    </tr>\n  </thead>\n  <tbody>\n    <tr>\n      <th>0</th>\n      <td>Corpus Callosum (L)</td>\n      <td>Striatum (R)</td>\n      <td>0.717</td>\n      <td>0.053</td>\n    </tr>\n    <tr>\n      <th>1</th>\n      <td>Corpus Callosum (L)</td>\n      <td>Internal Capsule (R)</td>\n      <td>0.699</td>\n      <td>0.070</td>\n    </tr>\n    <tr>\n      <th>2</th>\n      <td>Corpus Callosum (L)</td>\n      <td>Reticular Nucleus of Thalamus (R)</td>\n      <td>0.698</td>\n      <td>0.072</td>\n    </tr>\n    <tr>\n      <th>3</th>\n      <td>Corpus Callosum (L)</td>\n      <td>Zona Incerta (R)</td>\n      <td>0.686</td>\n      <td>0.088</td>\n    </tr>\n    <tr>\n      <th>4</th>\n      <td>Septum (R)</td>\n      <td>Corpus Callosum (R)</td>\n      <td>0.671</td>\n      <td>0.113</td>\n    </tr>\n    <tr>\n      <th>5</th>\n      <td>Striatum (L)</td>\n      <td>Striatum (R)</td>\n      <td>0.664</td>\n      <td>0.127</td>\n    </tr>\n    <tr>\n      <th>6</th>\n      <td>Corpus Callosum (L)</td>\n      <td>Ventral Thalamic Nuclei (R)</td>\n      <td>0.663</td>\n      <td>0.128</td>\n    </tr>\n    <tr>\n      <th>7</th>\n      <td>Hippocampus (L)</td>\n      <td>Middle Cerebellar Peduncle (L)</td>\n      <td>0.658</td>\n      <td>0.139</td>\n    </tr>\n    <tr>\n      <th>8</th>\n      <td>Caudomedial Entorhinal Cortex (R)</td>\n      <td>Ventral Hippocampal Commissure (R)</td>\n      <td>0.656</td>\n      <td>0.145</td>\n    </tr>\n    <tr>\n      <th>9</th>\n      <td>Corpus Callosum (L)</td>\n      <td>Midbrain Reticular Nucleus (R)</td>\n      <td>0.653</td>\n      <td>0.154</td>\n    </tr>\n    <tr>\n      <th>10</th>\n      <td>Midbrain Reticular Nucleus (L)</td>\n      <td>Superior Cerebellar Peduncle (L)</td>\n      <td>0.648</td>\n      <td>0.166</td>\n    </tr>\n    <tr>\n      <th>11</th>\n      <td>Corpus Callosum (L)</td>\n      <td>Corpus Callosum (R)</td>\n      <td>0.646</td>\n      <td>0.172</td>\n    </tr>\n    <tr>\n      <th>12</th>\n      <td>Spinal Trigeminal Nerve (L)</td>\n      <td>Middle Cerebellar Peduncle (L)</td>\n      <td>0.645</td>\n      <td>0.173</td>\n    </tr>\n    <tr>\n      <th>13</th>\n      <td>Secondary Visual CortexLateral Area (L)</td>\n      <td>Striatum (R)</td>\n      <td>0.641</td>\n      <td>0.185</td>\n    </tr>\n    <tr>\n      <th>14</th>\n      <td>Globus Pallidus (R)</td>\n      <td>Midbrain Reticular Nucleus (R)</td>\n      <td>0.632</td>\n      <td>0.217</td>\n    </tr>\n    <tr>\n      <th>15</th>\n      <td>Striatum (L)</td>\n      <td>Corpus Callosum (R)</td>\n      <td>0.632</td>\n      <td>0.217</td>\n    </tr>\n    <tr>\n      <th>16</th>\n      <td>Primary Somatosensory Cortex Hindlimb Region (L)</td>\n      <td>Secondary Visual Cortex Mediomedial Area (L)</td>\n      <td>0.629</td>\n      <td>0.228</td>\n    </tr>\n    <tr>\n      <th>17</th>\n      <td>Corpus Callosum (L)</td>\n      <td>Primary Somatosensory Cortex Jaw Region (R)</td>\n      <td>0.628</td>\n      <td>0.230</td>\n    </tr>\n    <tr>\n      <th>18</th>\n      <td>Corpus Callosum (L)</td>\n      <td>Ventral Orbital Cortex (R)</td>\n      <td>0.628</td>\n      <td>0.231</td>\n    </tr>\n    <tr>\n      <th>19</th>\n      <td>Zona Incerta (R)</td>\n      <td>Intermediate Reticular Nucleus (R)</td>\n      <td>0.627</td>\n      <td>0.234</td>\n    </tr>\n  </tbody>\n</table>\n</div>"
     },
     "metadata": {},
     "execution_count": 4
    }
   ],
   "source": [
    "signal_edges = pd.read_csv(\"../results/signal_edges.csv\")\n",
    "\n",
    "# Get the top 20 strongest signal edges\n",
    "strong_signal_edges = signal_edges.head(20)\n",
    "strong_signal_edges[\"ROI_1\"] = strong_signal_edges[\"ROI_1\"].apply(lookup_roi_name)\n",
    "strong_signal_edges[\"ROI_2\"] = strong_signal_edges[\"ROI_2\"].apply(lookup_roi_name)\n",
    "\n",
    "strong_signal_edges.drop([\"pvalue\", \"significant\"], axis=1, inplace=True)\n",
    "strong_signal_edges.columns = [\"Vertex 1\", \"Vertex 2\", \"statistic\", \"p-value\"]\n",
    "\n",
    "strong_signal_edges[\"statistic\"] = strong_signal_edges[\"statistic\"].apply(lambda x: f\"{x:.3f}\")\n",
    "strong_signal_edges[\"p-value\"] = strong_signal_edges[\"p-value\"].apply(lambda x: f\"{x:.3f}\")\n",
    "\n",
    "strong_signal_edges"
   ]
  },
  {
   "cell_type": "code",
   "execution_count": 5,
   "metadata": {},
   "outputs": [],
   "source": [
    "strong_signal_edges.round(3).to_csv(\"../results/formatted_tables/edges.csv\", index=False)"
   ]
  },
  {
   "cell_type": "markdown",
   "metadata": {},
   "source": [
    "## Table 2: Signal Vertices\n",
    "\n",
    "The top 20 signal vertices (out of 332 total vertices) ranked by the order of their Holm--Bonferroni corrected $p$-values. Pillai's trace and approximate $F$ statistic (along with degrees of freedom) as calculated by one-way MANOVA are also reported. The corpus callosum in the left and right hemisphere are the top two signal vertices."
   ]
  },
  {
   "cell_type": "code",
   "execution_count": 6,
   "metadata": {},
   "outputs": [
    {
     "output_type": "execute_result",
     "data": {
      "text/plain": [
       "                            Vertex Pillai F(15, 78)   p-value\n",
       "0              Corpus Callosum (L)  2.592    33.026  4.47e-25\n",
       "1              Corpus Callosum (R)  2.550    29.501  1.75e-23\n",
       "2       Secondary Motor Cortex (L)  2.438    22.578  7.73e-20\n",
       "3   Midbrain Reticular Nucleus (R)  2.435    22.429  9.43e-20\n",
       "4                      Fimbria (L)  2.424    21.902  1.94e-19\n",
       "5             Substantia Nigra (R)  2.299    17.049  3.04e-16\n",
       "6       Secondary Motor Cortex (R)  2.298    17.034   3.1e-16\n",
       "7             Internal Capsule (R)  2.297    17.003  3.26e-16\n",
       "8                     Striatum (L)  2.259    15.854  2.32e-15\n",
       "9            Cerebral Peduncle (R)  2.229    15.036  9.98e-15\n",
       "10            Internal Capsule (L)  2.219    14.775   1.6e-14\n",
       "11            Stria Terminalis (R)  2.209    14.514  2.59e-14\n",
       "12     Cerebellar White Matter (R)  2.204    14.409  3.14e-14\n",
       "13                Optic Tracts (L)  2.194    14.166  4.95e-14\n",
       "14                 Hippocampus (R)  2.185    13.952  7.43e-14\n",
       "15         Subthalamic Nucleus (L)  2.176    13.738  1.12e-13\n",
       "16  Frontal Association Cortex (L)  2.175    13.702  1.19e-13\n",
       "17            Stria Terminalis (L)  2.174    13.679  1.25e-13\n",
       "18          Retro Rubral Field (R)  2.167    13.537  1.64e-13\n",
       "19      Rostral Linear Nucleus (R)  2.159    13.350  2.35e-13"
      ],
      "text/html": "<div>\n<style scoped>\n    .dataframe tbody tr th:only-of-type {\n        vertical-align: middle;\n    }\n\n    .dataframe tbody tr th {\n        vertical-align: top;\n    }\n\n    .dataframe thead th {\n        text-align: right;\n    }\n</style>\n<table border=\"1\" class=\"dataframe\">\n  <thead>\n    <tr style=\"text-align: right;\">\n      <th></th>\n      <th>Vertex</th>\n      <th>Pillai</th>\n      <th>F(15, 78)</th>\n      <th>p-value</th>\n    </tr>\n  </thead>\n  <tbody>\n    <tr>\n      <th>0</th>\n      <td>Corpus Callosum (L)</td>\n      <td>2.592</td>\n      <td>33.026</td>\n      <td>4.47e-25</td>\n    </tr>\n    <tr>\n      <th>1</th>\n      <td>Corpus Callosum (R)</td>\n      <td>2.550</td>\n      <td>29.501</td>\n      <td>1.75e-23</td>\n    </tr>\n    <tr>\n      <th>2</th>\n      <td>Secondary Motor Cortex (L)</td>\n      <td>2.438</td>\n      <td>22.578</td>\n      <td>7.73e-20</td>\n    </tr>\n    <tr>\n      <th>3</th>\n      <td>Midbrain Reticular Nucleus (R)</td>\n      <td>2.435</td>\n      <td>22.429</td>\n      <td>9.43e-20</td>\n    </tr>\n    <tr>\n      <th>4</th>\n      <td>Fimbria (L)</td>\n      <td>2.424</td>\n      <td>21.902</td>\n      <td>1.94e-19</td>\n    </tr>\n    <tr>\n      <th>5</th>\n      <td>Substantia Nigra (R)</td>\n      <td>2.299</td>\n      <td>17.049</td>\n      <td>3.04e-16</td>\n    </tr>\n    <tr>\n      <th>6</th>\n      <td>Secondary Motor Cortex (R)</td>\n      <td>2.298</td>\n      <td>17.034</td>\n      <td>3.1e-16</td>\n    </tr>\n    <tr>\n      <th>7</th>\n      <td>Internal Capsule (R)</td>\n      <td>2.297</td>\n      <td>17.003</td>\n      <td>3.26e-16</td>\n    </tr>\n    <tr>\n      <th>8</th>\n      <td>Striatum (L)</td>\n      <td>2.259</td>\n      <td>15.854</td>\n      <td>2.32e-15</td>\n    </tr>\n    <tr>\n      <th>9</th>\n      <td>Cerebral Peduncle (R)</td>\n      <td>2.229</td>\n      <td>15.036</td>\n      <td>9.98e-15</td>\n    </tr>\n    <tr>\n      <th>10</th>\n      <td>Internal Capsule (L)</td>\n      <td>2.219</td>\n      <td>14.775</td>\n      <td>1.6e-14</td>\n    </tr>\n    <tr>\n      <th>11</th>\n      <td>Stria Terminalis (R)</td>\n      <td>2.209</td>\n      <td>14.514</td>\n      <td>2.59e-14</td>\n    </tr>\n    <tr>\n      <th>12</th>\n      <td>Cerebellar White Matter (R)</td>\n      <td>2.204</td>\n      <td>14.409</td>\n      <td>3.14e-14</td>\n    </tr>\n    <tr>\n      <th>13</th>\n      <td>Optic Tracts (L)</td>\n      <td>2.194</td>\n      <td>14.166</td>\n      <td>4.95e-14</td>\n    </tr>\n    <tr>\n      <th>14</th>\n      <td>Hippocampus (R)</td>\n      <td>2.185</td>\n      <td>13.952</td>\n      <td>7.43e-14</td>\n    </tr>\n    <tr>\n      <th>15</th>\n      <td>Subthalamic Nucleus (L)</td>\n      <td>2.176</td>\n      <td>13.738</td>\n      <td>1.12e-13</td>\n    </tr>\n    <tr>\n      <th>16</th>\n      <td>Frontal Association Cortex (L)</td>\n      <td>2.175</td>\n      <td>13.702</td>\n      <td>1.19e-13</td>\n    </tr>\n    <tr>\n      <th>17</th>\n      <td>Stria Terminalis (L)</td>\n      <td>2.174</td>\n      <td>13.679</td>\n      <td>1.25e-13</td>\n    </tr>\n    <tr>\n      <th>18</th>\n      <td>Retro Rubral Field (R)</td>\n      <td>2.167</td>\n      <td>13.537</td>\n      <td>1.64e-13</td>\n    </tr>\n    <tr>\n      <th>19</th>\n      <td>Rostral Linear Nucleus (R)</td>\n      <td>2.159</td>\n      <td>13.350</td>\n      <td>2.35e-13</td>\n    </tr>\n  </tbody>\n</table>\n</div>"
     },
     "metadata": {},
     "execution_count": 6
    }
   ],
   "source": [
    "signal_vertices = pd.read_csv(\"../results/signal_vertices.csv\")\n",
    "\n",
    "# Get the top 10 strongest signal edges\n",
    "strong_signal_vertices = signal_vertices.head(20)\n",
    "strong_signal_vertices[\"ROI\"] = strong_signal_vertices[\"ROI\"].apply(lookup_roi_name)\n",
    "strong_signal_vertices\n",
    "\n",
    "strong_signal_vertices.drop([\"num.df\", \"den.df\", \"pvalue\", \"significant\"], axis=1, inplace=True)\n",
    "strong_signal_vertices.columns = [\"Vertex\", \"Pillai\", \"F(15, 78)\", \"p-value\"]\n",
    "\n",
    "# pd.set_option('display.float_format', '{:.3g}'.format)\n",
    "strong_signal_vertices[\"Pillai\"] = strong_signal_vertices[\"Pillai\"].apply(lambda x: f\"{x:.3f}\")\n",
    "strong_signal_vertices[\"F(15, 78)\"] = strong_signal_vertices[\"F(15, 78)\"].apply(lambda x: f\"{x:.3f}\")\n",
    "strong_signal_vertices[\"p-value\"] = strong_signal_vertices[\"p-value\"].apply(lambda x: f\"{x:.3g}\")\n",
    "strong_signal_vertices"
   ]
  },
  {
   "cell_type": "code",
   "execution_count": 7,
   "metadata": {},
   "outputs": [],
   "source": [
    "strong_signal_vertices.to_csv(\"../results/formatted_tables/vertices.csv\", index=False)"
   ]
  },
  {
   "cell_type": "markdown",
   "metadata": {},
   "source": [
    "## Table 3: Bilateral Signal Pairs\n",
    "\n",
    "The top 10 bilateral signal vertex pairs (out of 166 total vertex pairs) ranked by the order of their average total rank."
   ]
  },
  {
   "cell_type": "code",
   "execution_count": 8,
   "metadata": {},
   "outputs": [],
   "source": [
    "def roi_name_no_hemisphere(roi):\n",
    "    name = lookup_roi_name(roi)\n",
    "    name = \" \".join(name.split(\" \")[:-1])\n",
    "    return name"
   ]
  },
  {
   "cell_type": "code",
   "execution_count": 9,
   "metadata": {},
   "outputs": [],
   "source": [
    "def bilateral_twin(roi):\n",
    "    left = True\n",
    "    if roi > 163:\n",
    "        left = False\n",
    "        return roi - 163, left\n",
    "    else:\n",
    "        return roi + 163, left"
   ]
  },
  {
   "cell_type": "code",
   "execution_count": 10,
   "metadata": {},
   "outputs": [],
   "source": [
    "def bilateral_ranks(roi):\n",
    "\n",
    "    bilateral_roi, left = bilateral_twin(roi)\n",
    "    if left:\n",
    "        left_roi = roi\n",
    "        right_roi = bilateral_roi\n",
    "    else:\n",
    "        left_roi = bilateral_roi\n",
    "        right_roi = roi\n",
    "        \n",
    "    left_rank = bilateral.query(f\"ROI == {left_roi}\")[\"rank\"].values[0]\n",
    "    right_rank = bilateral.query(f\"ROI == {right_roi}\")[\"rank\"].values[0]\n",
    "\n",
    "    left_pval = bilateral.query(f\"ROI == {left_roi}\")[\"holm_pvalue\"].values[0]\n",
    "    right_pval = bilateral.query(f\"ROI == {right_roi}\")[\"holm_pvalue\"].values[0]\n",
    "\n",
    "\n",
    "    return left_pval, left_rank, right_pval, right_rank"
   ]
  },
  {
   "cell_type": "code",
   "execution_count": 11,
   "metadata": {},
   "outputs": [],
   "source": [
    "def avg_rank(row):\n",
    "    return (row.left_rank + row.right_rank) / 2"
   ]
  },
  {
   "cell_type": "code",
   "execution_count": 12,
   "metadata": {},
   "outputs": [
    {
     "output_type": "execute_result",
     "data": {
      "text/plain": [
       "                      name left_pval  left_rank right_pval  right_rank  \\\n",
       "0          Corpus Callosum  4.47e-25          1   1.75e-23           2   \n",
       "2   Secondary Motor Cortex  7.73e-20          3    3.1e-16           7   \n",
       "7         Internal Capsule   1.6e-14         11   3.26e-16           8   \n",
       "11        Stria Terminalis  1.25e-13         18   2.59e-14          12   \n",
       "4                  Fimbria  1.94e-19          5   3.58e-12          26   \n",
       "20  Ventral Tegmental Area  3.87e-12         27   8.76e-13          21   \n",
       "14             Hippocampus  8.02e-11         40   7.43e-14          15   \n",
       "28       Ectorhinal Cortex  8.11e-12         29   4.56e-11          37   \n",
       "24         Globus Pallidus  9.68e-11         41   1.89e-12          25   \n",
       "9        Cerebral Peduncle  4.64e-10         57   9.98e-15          10   \n",
       "\n",
       "    avg_rank  \n",
       "0        1.5  \n",
       "2        5.0  \n",
       "7        9.5  \n",
       "11      15.0  \n",
       "4       15.5  \n",
       "20      24.0  \n",
       "14      27.5  \n",
       "28      33.0  \n",
       "24      33.0  \n",
       "9       33.5  "
      ],
      "text/html": "<div>\n<style scoped>\n    .dataframe tbody tr th:only-of-type {\n        vertical-align: middle;\n    }\n\n    .dataframe tbody tr th {\n        vertical-align: top;\n    }\n\n    .dataframe thead th {\n        text-align: right;\n    }\n</style>\n<table border=\"1\" class=\"dataframe\">\n  <thead>\n    <tr style=\"text-align: right;\">\n      <th></th>\n      <th>name</th>\n      <th>left_pval</th>\n      <th>left_rank</th>\n      <th>right_pval</th>\n      <th>right_rank</th>\n      <th>avg_rank</th>\n    </tr>\n  </thead>\n  <tbody>\n    <tr>\n      <th>0</th>\n      <td>Corpus Callosum</td>\n      <td>4.47e-25</td>\n      <td>1</td>\n      <td>1.75e-23</td>\n      <td>2</td>\n      <td>1.5</td>\n    </tr>\n    <tr>\n      <th>2</th>\n      <td>Secondary Motor Cortex</td>\n      <td>7.73e-20</td>\n      <td>3</td>\n      <td>3.1e-16</td>\n      <td>7</td>\n      <td>5.0</td>\n    </tr>\n    <tr>\n      <th>7</th>\n      <td>Internal Capsule</td>\n      <td>1.6e-14</td>\n      <td>11</td>\n      <td>3.26e-16</td>\n      <td>8</td>\n      <td>9.5</td>\n    </tr>\n    <tr>\n      <th>11</th>\n      <td>Stria Terminalis</td>\n      <td>1.25e-13</td>\n      <td>18</td>\n      <td>2.59e-14</td>\n      <td>12</td>\n      <td>15.0</td>\n    </tr>\n    <tr>\n      <th>4</th>\n      <td>Fimbria</td>\n      <td>1.94e-19</td>\n      <td>5</td>\n      <td>3.58e-12</td>\n      <td>26</td>\n      <td>15.5</td>\n    </tr>\n    <tr>\n      <th>20</th>\n      <td>Ventral Tegmental Area</td>\n      <td>3.87e-12</td>\n      <td>27</td>\n      <td>8.76e-13</td>\n      <td>21</td>\n      <td>24.0</td>\n    </tr>\n    <tr>\n      <th>14</th>\n      <td>Hippocampus</td>\n      <td>8.02e-11</td>\n      <td>40</td>\n      <td>7.43e-14</td>\n      <td>15</td>\n      <td>27.5</td>\n    </tr>\n    <tr>\n      <th>28</th>\n      <td>Ectorhinal Cortex</td>\n      <td>8.11e-12</td>\n      <td>29</td>\n      <td>4.56e-11</td>\n      <td>37</td>\n      <td>33.0</td>\n    </tr>\n    <tr>\n      <th>24</th>\n      <td>Globus Pallidus</td>\n      <td>9.68e-11</td>\n      <td>41</td>\n      <td>1.89e-12</td>\n      <td>25</td>\n      <td>33.0</td>\n    </tr>\n    <tr>\n      <th>9</th>\n      <td>Cerebral Peduncle</td>\n      <td>4.64e-10</td>\n      <td>57</td>\n      <td>9.98e-15</td>\n      <td>10</td>\n      <td>33.5</td>\n    </tr>\n  </tbody>\n</table>\n</div>"
     },
     "metadata": {},
     "execution_count": 12
    }
   ],
   "source": [
    "bilateral = signal_vertices.copy()\n",
    "bilateral = bilateral.drop([\"pillai\", \"F\", \"num.df\", \"den.df\", \"pvalue\", \"significant\"], axis=1)\n",
    "bilateral[\"rank\"] = bilateral[\"holm_pvalue\"].rank().astype(int)\n",
    "bilateral[\"name\"] = bilateral[\"ROI\"].apply(roi_name_no_hemisphere)\n",
    "\n",
    "bilateral[\"left_pval\"], bilateral[\"left_rank\"], bilateral[\"right_pval\"], bilateral[\"right_rank\"] = zip(*bilateral[\"ROI\"].apply(bilateral_ranks))\n",
    "bilateral = bilateral.drop([\"ROI\", \"holm_pvalue\", \"rank\"], axis=1)\n",
    "bilateral = bilateral.drop_duplicates()\n",
    "\n",
    "bilateral[\"left_pval\"] = bilateral[\"left_pval\"].apply(lambda x: f\"{x:.3g}\")\n",
    "bilateral[\"right_pval\"] = bilateral[\"right_pval\"].apply(lambda x: f\"{x:.3g}\")\n",
    "\n",
    "bilateral[\"avg_rank\"] = bilateral.apply(avg_rank, axis=1)\n",
    "bilateral = bilateral.sort_values([\"avg_rank\"])\n",
    "\n",
    "bilateral.head(10)"
   ]
  },
  {
   "cell_type": "code",
   "execution_count": 13,
   "metadata": {},
   "outputs": [],
   "source": [
    "bilateral.head(10).to_csv(\"../results/formatted_tables/vertices_bilateral.csv\", index=False)"
   ]
  },
  {
   "cell_type": "markdown",
   "metadata": {},
   "source": [
    "## Table 4: Signal Communities\n",
    "\n",
    "The top 10 signal communities (out of 105 total communities) ranked by the order of their Holm--Bonferroni corrected $p$-values as calculated by the Multivariate Weighted method."
   ]
  },
  {
   "cell_type": "code",
   "execution_count": 14,
   "metadata": {},
   "outputs": [
    {
     "output_type": "execute_result",
     "data": {
      "text/plain": [
       "        Community 1       Community 2 statistic holm_pvalue\n",
       "0  White Matter (R)  White Matter (R)     0.885    6.43e-06\n",
       "1  White Matter (L)  White Matter (L)     0.857    1.02e-05\n",
       "2     Hindbrain (L)  White Matter (L)     0.849    1.14e-05\n",
       "3      Midbrain (R)  White Matter (R)     0.845    1.21e-05\n",
       "4     Isocortex (L)     Isocortex (L)     0.844    1.22e-05"
      ],
      "text/html": "<div>\n<style scoped>\n    .dataframe tbody tr th:only-of-type {\n        vertical-align: middle;\n    }\n\n    .dataframe tbody tr th {\n        vertical-align: top;\n    }\n\n    .dataframe thead th {\n        text-align: right;\n    }\n</style>\n<table border=\"1\" class=\"dataframe\">\n  <thead>\n    <tr style=\"text-align: right;\">\n      <th></th>\n      <th>Community 1</th>\n      <th>Community 2</th>\n      <th>statistic</th>\n      <th>holm_pvalue</th>\n    </tr>\n  </thead>\n  <tbody>\n    <tr>\n      <th>0</th>\n      <td>White Matter (R)</td>\n      <td>White Matter (R)</td>\n      <td>0.885</td>\n      <td>6.43e-06</td>\n    </tr>\n    <tr>\n      <th>1</th>\n      <td>White Matter (L)</td>\n      <td>White Matter (L)</td>\n      <td>0.857</td>\n      <td>1.02e-05</td>\n    </tr>\n    <tr>\n      <th>2</th>\n      <td>Hindbrain (L)</td>\n      <td>White Matter (L)</td>\n      <td>0.849</td>\n      <td>1.14e-05</td>\n    </tr>\n    <tr>\n      <th>3</th>\n      <td>Midbrain (R)</td>\n      <td>White Matter (R)</td>\n      <td>0.845</td>\n      <td>1.21e-05</td>\n    </tr>\n    <tr>\n      <th>4</th>\n      <td>Isocortex (L)</td>\n      <td>Isocortex (L)</td>\n      <td>0.844</td>\n      <td>1.22e-05</td>\n    </tr>\n  </tbody>\n</table>\n</div>"
     },
     "metadata": {},
     "execution_count": 14
    }
   ],
   "source": [
    "signal_communities = pd.read_csv(\"../results/signal_communities.csv\")\n",
    "\n",
    "signal_communities = signal_communities.drop([\"pvalue\", \"significant\"], axis=1)\n",
    "\n",
    "signal_communities[\"statistic\"] = signal_communities[\"statistic\"].apply(lambda x: f\"{x:.3f}\")\n",
    "signal_communities[\"holm_pvalue\"] = signal_communities[\"holm_pvalue\"].apply(lambda x: f\"{x:.3g}\")\n",
    "\n",
    "signal_communities.head()"
   ]
  },
  {
   "cell_type": "code",
   "execution_count": 15,
   "metadata": {},
   "outputs": [],
   "source": [
    "signal_communities.head(10).to_csv(\"../results/formatted_tables/communities.csv\", index=False)"
   ]
  },
  {
   "cell_type": "code",
   "execution_count": null,
   "metadata": {},
   "outputs": [],
   "source": []
  }
 ],
 "metadata": {
  "kernelspec": {
   "name": "python3",
   "display_name": "Python 3.6.9 64-bit ('mcc': venv)"
  },
  "language_info": {
   "codemirror_mode": {
    "name": "ipython",
    "version": 3
   },
   "file_extension": ".py",
   "mimetype": "text/x-python",
   "name": "python",
   "nbconvert_exporter": "python",
   "pygments_lexer": "ipython3",
   "version": "3.6.9"
  },
  "varInspector": {
   "cols": {
    "lenName": 16,
    "lenType": 16,
    "lenVar": 40
   },
   "kernels_config": {
    "python": {
     "delete_cmd_postfix": "",
     "delete_cmd_prefix": "del ",
     "library": "var_list.py",
     "varRefreshCmd": "print(var_dic_list())"
    },
    "r": {
     "delete_cmd_postfix": ") ",
     "delete_cmd_prefix": "rm(",
     "library": "var_list.r",
     "varRefreshCmd": "cat(var_dic_list()) "
    }
   },
   "types_to_exclude": [
    "module",
    "function",
    "builtin_function_or_method",
    "instance",
    "_Feature"
   ],
   "window_display": false
  },
  "interpreter": {
   "hash": "d419123dbdd72c7fd55301a6240ef73bae31474d14e0b68fe3a8d24c823dda95"
  }
 },
 "nbformat": 4,
 "nbformat_minor": 4
}