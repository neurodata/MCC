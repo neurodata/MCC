{
 "cells": [
  {
   "cell_type": "markdown",
   "metadata": {},
   "source": [
    "# Our methods uncover more information about network topology than neuroanatomical metrics\n",
    "\n",
    "How do we know that our methods add anything of value to connectomics?\n",
    "One way is to compare against prevailing methods.\n",
    "\n",
    "One popular connectomics method is to compare brain regions across subjects\n",
    "using anatomnical measurements from those regions (e.g., region volume).\n",
    "We ask: *does this approach capture the same information about connectivity as `omni`?*\n",
    "\n",
    "We do this information theoretic comparison using a conditional indendence test.\n",
    "\n",
    "This notebook recreates Figure 6 from *Multiscale Comparative Connectomics*.\n",
    "![Fig6](figures/6_causal.jpg)"
   ]
  },
  {
   "cell_type": "code",
   "execution_count": 1,
   "metadata": {},
   "outputs": [
    {
     "data": {
      "application/javascript": [
       "\n",
       "            setTimeout(function() {\n",
       "                var nbb_cell_id = 1;\n",
       "                var nbb_unformatted_code = \"%load_ext nb_black\\n%load_ext rpy2.ipython\";\n",
       "                var nbb_formatted_code = \"%load_ext nb_black\\n%load_ext rpy2.ipython\";\n",
       "                var nbb_cells = Jupyter.notebook.get_cells();\n",
       "                for (var i = 0; i < nbb_cells.length; ++i) {\n",
       "                    if (nbb_cells[i].input_prompt_number == nbb_cell_id) {\n",
       "                        if (nbb_cells[i].get_text() == nbb_unformatted_code) {\n",
       "                             nbb_cells[i].set_text(nbb_formatted_code);\n",
       "                        }\n",
       "                        break;\n",
       "                    }\n",
       "                }\n",
       "            }, 500);\n",
       "            "
      ],
      "text/plain": [
       "<IPython.core.display.Javascript object>"
      ]
     },
     "metadata": {},
     "output_type": "display_data"
    }
   ],
   "source": [
    "%load_ext nb_black\n",
    "%load_ext rpy2.ipython"
   ]
  },
  {
   "cell_type": "code",
   "execution_count": 2,
   "metadata": {},
   "outputs": [
    {
     "data": {
      "application/javascript": [
       "\n",
       "            setTimeout(function() {\n",
       "                var nbb_cell_id = 2;\n",
       "                var nbb_unformatted_code = \"from itertools import product\\n\\nimport numpy as np\\nimport pandas as pd\\nfrom graspologic.datasets import load_mice\\nfrom graspologic.embed import OmnibusEmbed\\nfrom statsmodels.stats.multitest import multipletests\";\n",
       "                var nbb_formatted_code = \"from itertools import product\\n\\nimport numpy as np\\nimport pandas as pd\\nfrom graspologic.datasets import load_mice\\nfrom graspologic.embed import OmnibusEmbed\\nfrom statsmodels.stats.multitest import multipletests\";\n",
       "                var nbb_cells = Jupyter.notebook.get_cells();\n",
       "                for (var i = 0; i < nbb_cells.length; ++i) {\n",
       "                    if (nbb_cells[i].input_prompt_number == nbb_cell_id) {\n",
       "                        if (nbb_cells[i].get_text() == nbb_unformatted_code) {\n",
       "                             nbb_cells[i].set_text(nbb_formatted_code);\n",
       "                        }\n",
       "                        break;\n",
       "                    }\n",
       "                }\n",
       "            }, 500);\n",
       "            "
      ],
      "text/plain": [
       "<IPython.core.display.Javascript object>"
      ]
     },
     "metadata": {},
     "output_type": "display_data"
    }
   ],
   "source": [
    "from itertools import product\n",
    "\n",
    "import numpy as np\n",
    "import pandas as pd\n",
    "from graspologic.datasets import load_mice\n",
    "from graspologic.embed import OmnibusEmbed\n",
    "from statsmodels.stats.multitest import multipletests"
   ]
  },
  {
   "cell_type": "code",
   "execution_count": 3,
   "metadata": {},
   "outputs": [
    {
     "data": {
      "application/javascript": [
       "\n",
       "            setTimeout(function() {\n",
       "                var nbb_cell_id = 3;\n",
       "                var nbb_unformatted_code = \"# Load the full mouse dataset\\nmice = load_mice()\";\n",
       "                var nbb_formatted_code = \"# Load the full mouse dataset\\nmice = load_mice()\";\n",
       "                var nbb_cells = Jupyter.notebook.get_cells();\n",
       "                for (var i = 0; i < nbb_cells.length; ++i) {\n",
       "                    if (nbb_cells[i].input_prompt_number == nbb_cell_id) {\n",
       "                        if (nbb_cells[i].get_text() == nbb_unformatted_code) {\n",
       "                             nbb_cells[i].set_text(nbb_formatted_code);\n",
       "                        }\n",
       "                        break;\n",
       "                    }\n",
       "                }\n",
       "            }, 500);\n",
       "            "
      ],
      "text/plain": [
       "<IPython.core.display.Javascript object>"
      ]
     },
     "metadata": {},
     "output_type": "display_data"
    }
   ],
   "source": [
    "# Load the full mouse dataset\n",
    "mice = load_mice()"
   ]
  },
  {
   "cell_type": "code",
   "execution_count": 4,
   "metadata": {},
   "outputs": [
    {
     "name": "stdout",
     "output_type": "stream",
     "text": [
      "Omnibus embedding shape is (10624, 5)\n"
     ]
    },
    {
     "data": {
      "text/html": [
       "<div>\n",
       "<style scoped>\n",
       "    .dataframe tbody tr th:only-of-type {\n",
       "        vertical-align: middle;\n",
       "    }\n",
       "\n",
       "    .dataframe tbody tr th {\n",
       "        vertical-align: top;\n",
       "    }\n",
       "\n",
       "    .dataframe thead th {\n",
       "        text-align: right;\n",
       "    }\n",
       "</style>\n",
       "<table border=\"1\" class=\"dataframe\">\n",
       "  <thead>\n",
       "    <tr style=\"text-align: right;\">\n",
       "      <th></th>\n",
       "      <th>omni_1</th>\n",
       "      <th>omni_2</th>\n",
       "      <th>omni_3</th>\n",
       "      <th>omni_4</th>\n",
       "      <th>omni_5</th>\n",
       "    </tr>\n",
       "  </thead>\n",
       "  <tbody>\n",
       "    <tr>\n",
       "      <th>0</th>\n",
       "      <td>12.730154</td>\n",
       "      <td>-5.338366</td>\n",
       "      <td>-2.503565</td>\n",
       "      <td>14.369667</td>\n",
       "      <td>4.277382</td>\n",
       "    </tr>\n",
       "    <tr>\n",
       "      <th>1</th>\n",
       "      <td>9.080038</td>\n",
       "      <td>-3.107737</td>\n",
       "      <td>-0.569771</td>\n",
       "      <td>14.679973</td>\n",
       "      <td>2.005405</td>\n",
       "    </tr>\n",
       "    <tr>\n",
       "      <th>2</th>\n",
       "      <td>3.491072</td>\n",
       "      <td>-2.343092</td>\n",
       "      <td>-5.636349</td>\n",
       "      <td>11.416039</td>\n",
       "      <td>-0.373804</td>\n",
       "    </tr>\n",
       "    <tr>\n",
       "      <th>3</th>\n",
       "      <td>0.761835</td>\n",
       "      <td>-0.652198</td>\n",
       "      <td>-1.929811</td>\n",
       "      <td>3.537828</td>\n",
       "      <td>-0.247422</td>\n",
       "    </tr>\n",
       "    <tr>\n",
       "      <th>4</th>\n",
       "      <td>9.124708</td>\n",
       "      <td>-2.755428</td>\n",
       "      <td>-2.402753</td>\n",
       "      <td>17.376237</td>\n",
       "      <td>0.947563</td>\n",
       "    </tr>\n",
       "  </tbody>\n",
       "</table>\n",
       "</div>"
      ],
      "text/plain": [
       "      omni_1    omni_2    omni_3     omni_4    omni_5\n",
       "0  12.730154 -5.338366 -2.503565  14.369667  4.277382\n",
       "1   9.080038 -3.107737 -0.569771  14.679973  2.005405\n",
       "2   3.491072 -2.343092 -5.636349  11.416039 -0.373804\n",
       "3   0.761835 -0.652198 -1.929811   3.537828 -0.247422\n",
       "4   9.124708 -2.755428 -2.402753  17.376237  0.947563"
      ]
     },
     "execution_count": 4,
     "metadata": {},
     "output_type": "execute_result"
    },
    {
     "data": {
      "application/javascript": [
       "\n",
       "            setTimeout(function() {\n",
       "                var nbb_cell_id = 4;\n",
       "                var nbb_unformatted_code = \"# Stack all adjacency matrices in a 3D numpy array\\ngraphs = np.array(mice.graphs)\\n\\n# Jointly embed graphs using OMNI\\nembedder = OmnibusEmbed()\\nomni_embedding = embedder.fit_transform(graphs)\\nomni_embedding = omni_embedding.reshape(-1, omni_embedding.shape[-1])\\nprint(f\\\"Omnibus embedding shape is {omni_embedding.shape}\\\")\\n\\n# Convert array to a dataframe\\nomni_embedding = pd.DataFrame(\\n    omni_embedding, columns=[f\\\"omni_{i + 1}\\\" for i in range(omni_embedding.shape[-1])]\\n).astype(np.float64)\\nomni_embedding.head()\";\n",
       "                var nbb_formatted_code = \"# Stack all adjacency matrices in a 3D numpy array\\ngraphs = np.array(mice.graphs)\\n\\n# Jointly embed graphs using OMNI\\nembedder = OmnibusEmbed()\\nomni_embedding = embedder.fit_transform(graphs)\\nomni_embedding = omni_embedding.reshape(-1, omni_embedding.shape[-1])\\nprint(f\\\"Omnibus embedding shape is {omni_embedding.shape}\\\")\\n\\n# Convert array to a dataframe\\nomni_embedding = pd.DataFrame(\\n    omni_embedding, columns=[f\\\"omni_{i + 1}\\\" for i in range(omni_embedding.shape[-1])]\\n).astype(np.float64)\\nomni_embedding.head()\";\n",
       "                var nbb_cells = Jupyter.notebook.get_cells();\n",
       "                for (var i = 0; i < nbb_cells.length; ++i) {\n",
       "                    if (nbb_cells[i].input_prompt_number == nbb_cell_id) {\n",
       "                        if (nbb_cells[i].get_text() == nbb_unformatted_code) {\n",
       "                             nbb_cells[i].set_text(nbb_formatted_code);\n",
       "                        }\n",
       "                        break;\n",
       "                    }\n",
       "                }\n",
       "            }, 500);\n",
       "            "
      ],
      "text/plain": [
       "<IPython.core.display.Javascript object>"
      ]
     },
     "metadata": {},
     "output_type": "display_data"
    }
   ],
   "source": [
    "# Stack all adjacency matrices in a 3D numpy array\n",
    "graphs = np.array(mice.graphs)\n",
    "\n",
    "# Jointly embed graphs using OMNI\n",
    "embedder = OmnibusEmbed()\n",
    "omni_embedding = embedder.fit_transform(graphs)\n",
    "omni_embedding = omni_embedding.reshape(-1, omni_embedding.shape[-1])\n",
    "print(f\"Omnibus embedding shape is {omni_embedding.shape}\")\n",
    "\n",
    "# Convert array to a dataframe\n",
    "omni_embedding = pd.DataFrame(\n",
    "    omni_embedding, columns=[f\"omni_{i + 1}\" for i in range(omni_embedding.shape[-1])]\n",
    ").astype(np.float64)\n",
    "omni_embedding.head()"
   ]
  },
  {
   "cell_type": "code",
   "execution_count": 5,
   "metadata": {},
   "outputs": [
    {
     "data": {
      "text/html": [
       "<div>\n",
       "<style scoped>\n",
       "    .dataframe tbody tr th:only-of-type {\n",
       "        vertical-align: middle;\n",
       "    }\n",
       "\n",
       "    .dataframe tbody tr th {\n",
       "        vertical-align: top;\n",
       "    }\n",
       "\n",
       "    .dataframe thead th {\n",
       "        text-align: right;\n",
       "    }\n",
       "</style>\n",
       "<table border=\"1\" class=\"dataframe\">\n",
       "  <thead>\n",
       "    <tr style=\"text-align: right;\">\n",
       "      <th></th>\n",
       "      <th>omni_1</th>\n",
       "      <th>omni_2</th>\n",
       "      <th>omni_3</th>\n",
       "      <th>omni_4</th>\n",
       "      <th>omni_5</th>\n",
       "      <th>participant_id</th>\n",
       "      <th>ROI</th>\n",
       "      <th>genotype</th>\n",
       "    </tr>\n",
       "  </thead>\n",
       "  <tbody>\n",
       "    <tr>\n",
       "      <th>0</th>\n",
       "      <td>12.730154</td>\n",
       "      <td>-5.338366</td>\n",
       "      <td>-2.503565</td>\n",
       "      <td>14.369667</td>\n",
       "      <td>4.277382</td>\n",
       "      <td>54776</td>\n",
       "      <td>1</td>\n",
       "      <td>DBA2</td>\n",
       "    </tr>\n",
       "    <tr>\n",
       "      <th>1</th>\n",
       "      <td>9.080038</td>\n",
       "      <td>-3.107737</td>\n",
       "      <td>-0.569771</td>\n",
       "      <td>14.679973</td>\n",
       "      <td>2.005405</td>\n",
       "      <td>54776</td>\n",
       "      <td>2</td>\n",
       "      <td>DBA2</td>\n",
       "    </tr>\n",
       "    <tr>\n",
       "      <th>2</th>\n",
       "      <td>3.491072</td>\n",
       "      <td>-2.343092</td>\n",
       "      <td>-5.636349</td>\n",
       "      <td>11.416039</td>\n",
       "      <td>-0.373804</td>\n",
       "      <td>54776</td>\n",
       "      <td>3</td>\n",
       "      <td>DBA2</td>\n",
       "    </tr>\n",
       "    <tr>\n",
       "      <th>3</th>\n",
       "      <td>0.761835</td>\n",
       "      <td>-0.652198</td>\n",
       "      <td>-1.929811</td>\n",
       "      <td>3.537828</td>\n",
       "      <td>-0.247422</td>\n",
       "      <td>54776</td>\n",
       "      <td>4</td>\n",
       "      <td>DBA2</td>\n",
       "    </tr>\n",
       "    <tr>\n",
       "      <th>4</th>\n",
       "      <td>9.124708</td>\n",
       "      <td>-2.755428</td>\n",
       "      <td>-2.402753</td>\n",
       "      <td>17.376237</td>\n",
       "      <td>0.947563</td>\n",
       "      <td>54776</td>\n",
       "      <td>5</td>\n",
       "      <td>DBA2</td>\n",
       "    </tr>\n",
       "  </tbody>\n",
       "</table>\n",
       "</div>"
      ],
      "text/plain": [
       "      omni_1    omni_2    omni_3     omni_4    omni_5 participant_id  ROI  \\\n",
       "0  12.730154 -5.338366 -2.503565  14.369667  4.277382          54776    1   \n",
       "1   9.080038 -3.107737 -0.569771  14.679973  2.005405          54776    2   \n",
       "2   3.491072 -2.343092 -5.636349  11.416039 -0.373804          54776    3   \n",
       "3   0.761835 -0.652198 -1.929811   3.537828 -0.247422          54776    4   \n",
       "4   9.124708 -2.755428 -2.402753  17.376237  0.947563          54776    5   \n",
       "\n",
       "  genotype  \n",
       "0     DBA2  \n",
       "1     DBA2  \n",
       "2     DBA2  \n",
       "3     DBA2  \n",
       "4     DBA2  "
      ]
     },
     "execution_count": 5,
     "metadata": {},
     "output_type": "execute_result"
    },
    {
     "data": {
      "application/javascript": [
       "\n",
       "            setTimeout(function() {\n",
       "                var nbb_cell_id = 5;\n",
       "                var nbb_unformatted_code = \"# Construct identifiers for each embedded vertex\\nleft = mice.atlas[\\\"ROI\\\"].unique()\\nright = left + 1000\\nrois = np.append(left, right)\\n\\nparticipants = mice.participants[\\\"participant_id\\\"]\\nparticipants = participants.apply(lambda x: x.split(\\\"-\\\")[1])\\n\\nidentifiers = np.array(list(product(participants, rois))).reshape(-1, 2)\\nidentifiers = pd.DataFrame(identifiers, columns=[\\\"participant_id\\\", \\\"ROI\\\"])\\nidentifiers[\\\"ROI\\\"] = identifiers[\\\"ROI\\\"].astype(np.int64)\\nidentifiers[\\\"genotype\\\"] = identifiers[\\\"participant_id\\\"].apply(\\n    lambda i: mice.participants.query(f\\\"participant_id == 'sub-{i}'\\\")[\\n        \\\"genotype\\\"\\n    ].values[0]\\n)\\n\\nomni_embedding = pd.concat([omni_embedding, identifiers], axis=1)\\nomni_embedding.head()\";\n",
       "                var nbb_formatted_code = \"# Construct identifiers for each embedded vertex\\nleft = mice.atlas[\\\"ROI\\\"].unique()\\nright = left + 1000\\nrois = np.append(left, right)\\n\\nparticipants = mice.participants[\\\"participant_id\\\"]\\nparticipants = participants.apply(lambda x: x.split(\\\"-\\\")[1])\\n\\nidentifiers = np.array(list(product(participants, rois))).reshape(-1, 2)\\nidentifiers = pd.DataFrame(identifiers, columns=[\\\"participant_id\\\", \\\"ROI\\\"])\\nidentifiers[\\\"ROI\\\"] = identifiers[\\\"ROI\\\"].astype(np.int64)\\nidentifiers[\\\"genotype\\\"] = identifiers[\\\"participant_id\\\"].apply(\\n    lambda i: mice.participants.query(f\\\"participant_id == 'sub-{i}'\\\")[\\n        \\\"genotype\\\"\\n    ].values[0]\\n)\\n\\nomni_embedding = pd.concat([omni_embedding, identifiers], axis=1)\\nomni_embedding.head()\";\n",
       "                var nbb_cells = Jupyter.notebook.get_cells();\n",
       "                for (var i = 0; i < nbb_cells.length; ++i) {\n",
       "                    if (nbb_cells[i].input_prompt_number == nbb_cell_id) {\n",
       "                        if (nbb_cells[i].get_text() == nbb_unformatted_code) {\n",
       "                             nbb_cells[i].set_text(nbb_formatted_code);\n",
       "                        }\n",
       "                        break;\n",
       "                    }\n",
       "                }\n",
       "            }, 500);\n",
       "            "
      ],
      "text/plain": [
       "<IPython.core.display.Javascript object>"
      ]
     },
     "metadata": {},
     "output_type": "display_data"
    }
   ],
   "source": [
    "# Construct identifiers for each embedded vertex\n",
    "left = mice.atlas[\"ROI\"].unique()\n",
    "right = left + 1000\n",
    "rois = np.append(left, right)\n",
    "\n",
    "participants = mice.participants[\"participant_id\"]\n",
    "participants = participants.apply(lambda x: x.split(\"-\")[1])\n",
    "\n",
    "identifiers = np.array(list(product(participants, rois))).reshape(-1, 2)\n",
    "identifiers = pd.DataFrame(identifiers, columns=[\"participant_id\", \"ROI\"])\n",
    "identifiers[\"ROI\"] = identifiers[\"ROI\"].astype(np.int64)\n",
    "identifiers[\"genotype\"] = identifiers[\"participant_id\"].apply(\n",
    "    lambda i: mice.participants.query(f\"participant_id == 'sub-{i}'\")[\n",
    "        \"genotype\"\n",
    "    ].values[0]\n",
    ")\n",
    "\n",
    "omni_embedding = pd.concat([omni_embedding, identifiers], axis=1)\n",
    "omni_embedding.head()"
   ]
  },
  {
   "cell_type": "code",
   "execution_count": 6,
   "metadata": {},
   "outputs": [
    {
     "data": {
      "text/html": [
       "<div>\n",
       "<style scoped>\n",
       "    .dataframe tbody tr th:only-of-type {\n",
       "        vertical-align: middle;\n",
       "    }\n",
       "\n",
       "    .dataframe tbody tr th {\n",
       "        vertical-align: top;\n",
       "    }\n",
       "\n",
       "    .dataframe thead th {\n",
       "        text-align: right;\n",
       "    }\n",
       "</style>\n",
       "<table border=\"1\" class=\"dataframe\">\n",
       "  <thead>\n",
       "    <tr style=\"text-align: right;\">\n",
       "      <th></th>\n",
       "      <th>volume_mm3</th>\n",
       "      <th>adc</th>\n",
       "      <th>fa</th>\n",
       "      <th>rd</th>\n",
       "      <th>participant_id</th>\n",
       "      <th>ROI</th>\n",
       "    </tr>\n",
       "  </thead>\n",
       "  <tbody>\n",
       "    <tr>\n",
       "      <th>0</th>\n",
       "      <td>2106.923246</td>\n",
       "      <td>0.000384</td>\n",
       "      <td>0.274220</td>\n",
       "      <td>0.000311</td>\n",
       "      <td>54811</td>\n",
       "      <td>0</td>\n",
       "    </tr>\n",
       "    <tr>\n",
       "      <th>1</th>\n",
       "      <td>1.169498</td>\n",
       "      <td>0.000317</td>\n",
       "      <td>0.195003</td>\n",
       "      <td>0.000286</td>\n",
       "      <td>54811</td>\n",
       "      <td>1</td>\n",
       "    </tr>\n",
       "    <tr>\n",
       "      <th>2</th>\n",
       "      <td>0.788778</td>\n",
       "      <td>0.000324</td>\n",
       "      <td>0.173186</td>\n",
       "      <td>0.000297</td>\n",
       "      <td>54811</td>\n",
       "      <td>2</td>\n",
       "    </tr>\n",
       "    <tr>\n",
       "      <th>3</th>\n",
       "      <td>0.433482</td>\n",
       "      <td>0.000337</td>\n",
       "      <td>0.178772</td>\n",
       "      <td>0.000310</td>\n",
       "      <td>54811</td>\n",
       "      <td>3</td>\n",
       "    </tr>\n",
       "    <tr>\n",
       "      <th>4</th>\n",
       "      <td>0.207218</td>\n",
       "      <td>0.000332</td>\n",
       "      <td>0.233240</td>\n",
       "      <td>0.000295</td>\n",
       "      <td>54811</td>\n",
       "      <td>4</td>\n",
       "    </tr>\n",
       "  </tbody>\n",
       "</table>\n",
       "</div>"
      ],
      "text/plain": [
       "    volume_mm3       adc        fa        rd participant_id  ROI\n",
       "0  2106.923246  0.000384  0.274220  0.000311          54811    0\n",
       "1     1.169498  0.000317  0.195003  0.000286          54811    1\n",
       "2     0.788778  0.000324  0.173186  0.000297          54811    2\n",
       "3     0.433482  0.000337  0.178772  0.000310          54811    3\n",
       "4     0.207218  0.000332  0.233240  0.000295          54811    4"
      ]
     },
     "execution_count": 6,
     "metadata": {},
     "output_type": "execute_result"
    },
    {
     "data": {
      "application/javascript": [
       "\n",
       "            setTimeout(function() {\n",
       "                var nbb_cell_id = 6;\n",
       "                var nbb_unformatted_code = \"anatomy = mice.features[[\\\"volume_mm3\\\", \\\"adc\\\", \\\"fa\\\", \\\"rd\\\", \\\"participant_id\\\", \\\"ROI\\\"]]\\nanatomy.head()\";\n",
       "                var nbb_formatted_code = \"anatomy = mice.features[[\\\"volume_mm3\\\", \\\"adc\\\", \\\"fa\\\", \\\"rd\\\", \\\"participant_id\\\", \\\"ROI\\\"]]\\nanatomy.head()\";\n",
       "                var nbb_cells = Jupyter.notebook.get_cells();\n",
       "                for (var i = 0; i < nbb_cells.length; ++i) {\n",
       "                    if (nbb_cells[i].input_prompt_number == nbb_cell_id) {\n",
       "                        if (nbb_cells[i].get_text() == nbb_unformatted_code) {\n",
       "                             nbb_cells[i].set_text(nbb_formatted_code);\n",
       "                        }\n",
       "                        break;\n",
       "                    }\n",
       "                }\n",
       "            }, 500);\n",
       "            "
      ],
      "text/plain": [
       "<IPython.core.display.Javascript object>"
      ]
     },
     "metadata": {},
     "output_type": "display_data"
    }
   ],
   "source": [
    "anatomy = mice.features[[\"volume_mm3\", \"adc\", \"fa\", \"rd\", \"participant_id\", \"ROI\"]]\n",
    "anatomy.head()"
   ]
  },
  {
   "cell_type": "code",
   "execution_count": 7,
   "metadata": {},
   "outputs": [
    {
     "data": {
      "text/html": [
       "<div>\n",
       "<style scoped>\n",
       "    .dataframe tbody tr th:only-of-type {\n",
       "        vertical-align: middle;\n",
       "    }\n",
       "\n",
       "    .dataframe tbody tr th {\n",
       "        vertical-align: top;\n",
       "    }\n",
       "\n",
       "    .dataframe thead th {\n",
       "        text-align: right;\n",
       "    }\n",
       "</style>\n",
       "<table border=\"1\" class=\"dataframe\">\n",
       "  <thead>\n",
       "    <tr style=\"text-align: right;\">\n",
       "      <th></th>\n",
       "      <th>genotype</th>\n",
       "      <th>participant_id</th>\n",
       "      <th>ROI</th>\n",
       "      <th>volume_mm3</th>\n",
       "      <th>adc</th>\n",
       "      <th>fa</th>\n",
       "      <th>rd</th>\n",
       "      <th>omni_1</th>\n",
       "      <th>omni_2</th>\n",
       "      <th>omni_3</th>\n",
       "      <th>omni_4</th>\n",
       "      <th>omni_5</th>\n",
       "    </tr>\n",
       "  </thead>\n",
       "  <tbody>\n",
       "    <tr>\n",
       "      <th>0</th>\n",
       "      <td>BTBR</td>\n",
       "      <td>54811</td>\n",
       "      <td>1</td>\n",
       "      <td>1.169498</td>\n",
       "      <td>0.000317</td>\n",
       "      <td>0.195003</td>\n",
       "      <td>0.000286</td>\n",
       "      <td>15.849042</td>\n",
       "      <td>-5.451059</td>\n",
       "      <td>7.833718</td>\n",
       "      <td>20.197061</td>\n",
       "      <td>6.971619</td>\n",
       "    </tr>\n",
       "    <tr>\n",
       "      <th>1</th>\n",
       "      <td>BTBR</td>\n",
       "      <td>54811</td>\n",
       "      <td>2</td>\n",
       "      <td>0.788778</td>\n",
       "      <td>0.000324</td>\n",
       "      <td>0.173186</td>\n",
       "      <td>0.000297</td>\n",
       "      <td>12.256862</td>\n",
       "      <td>-4.184300</td>\n",
       "      <td>-0.021644</td>\n",
       "      <td>20.847276</td>\n",
       "      <td>1.763333</td>\n",
       "    </tr>\n",
       "    <tr>\n",
       "      <th>2</th>\n",
       "      <td>BTBR</td>\n",
       "      <td>54811</td>\n",
       "      <td>3</td>\n",
       "      <td>0.433482</td>\n",
       "      <td>0.000337</td>\n",
       "      <td>0.178772</td>\n",
       "      <td>0.000310</td>\n",
       "      <td>3.871277</td>\n",
       "      <td>-2.526653</td>\n",
       "      <td>-5.081744</td>\n",
       "      <td>11.851098</td>\n",
       "      <td>-0.241778</td>\n",
       "    </tr>\n",
       "    <tr>\n",
       "      <th>3</th>\n",
       "      <td>BTBR</td>\n",
       "      <td>54811</td>\n",
       "      <td>4</td>\n",
       "      <td>0.207218</td>\n",
       "      <td>0.000332</td>\n",
       "      <td>0.233240</td>\n",
       "      <td>0.000295</td>\n",
       "      <td>1.579193</td>\n",
       "      <td>-1.144775</td>\n",
       "      <td>-2.968037</td>\n",
       "      <td>5.453984</td>\n",
       "      <td>-0.438220</td>\n",
       "    </tr>\n",
       "    <tr>\n",
       "      <th>4</th>\n",
       "      <td>BTBR</td>\n",
       "      <td>54811</td>\n",
       "      <td>5</td>\n",
       "      <td>0.856119</td>\n",
       "      <td>0.000320</td>\n",
       "      <td>0.182581</td>\n",
       "      <td>0.000292</td>\n",
       "      <td>17.189417</td>\n",
       "      <td>-3.108872</td>\n",
       "      <td>2.187134</td>\n",
       "      <td>21.089432</td>\n",
       "      <td>2.593552</td>\n",
       "    </tr>\n",
       "  </tbody>\n",
       "</table>\n",
       "</div>"
      ],
      "text/plain": [
       "  genotype participant_id  ROI  volume_mm3       adc        fa        rd  \\\n",
       "0     BTBR          54811    1    1.169498  0.000317  0.195003  0.000286   \n",
       "1     BTBR          54811    2    0.788778  0.000324  0.173186  0.000297   \n",
       "2     BTBR          54811    3    0.433482  0.000337  0.178772  0.000310   \n",
       "3     BTBR          54811    4    0.207218  0.000332  0.233240  0.000295   \n",
       "4     BTBR          54811    5    0.856119  0.000320  0.182581  0.000292   \n",
       "\n",
       "      omni_1    omni_2    omni_3     omni_4    omni_5  \n",
       "0  15.849042 -5.451059  7.833718  20.197061  6.971619  \n",
       "1  12.256862 -4.184300 -0.021644  20.847276  1.763333  \n",
       "2   3.871277 -2.526653 -5.081744  11.851098 -0.241778  \n",
       "3   1.579193 -1.144775 -2.968037   5.453984 -0.438220  \n",
       "4  17.189417 -3.108872  2.187134  21.089432  2.593552  "
      ]
     },
     "execution_count": 7,
     "metadata": {},
     "output_type": "execute_result"
    },
    {
     "data": {
      "application/javascript": [
       "\n",
       "            setTimeout(function() {\n",
       "                var nbb_cell_id = 7;\n",
       "                var nbb_unformatted_code = \"df = pd.merge(anatomy, omni_embedding, on=[\\\"participant_id\\\", \\\"ROI\\\"])\\ncolumns = [\\n    \\\"genotype\\\",\\n    \\\"participant_id\\\",\\n    \\\"ROI\\\",\\n    \\\"volume_mm3\\\",\\n    \\\"adc\\\",\\n    \\\"fa\\\",\\n    \\\"rd\\\",\\n    \\\"omni_1\\\",\\n    \\\"omni_2\\\",\\n    \\\"omni_3\\\",\\n    \\\"omni_4\\\",\\n    \\\"omni_5\\\",\\n]\\ndf = df[columns]\\nassert df.shape[0] == anatomy.shape[0] - 32 == omni_embedding.shape[0]\\ndf.head()\";\n",
       "                var nbb_formatted_code = \"df = pd.merge(anatomy, omni_embedding, on=[\\\"participant_id\\\", \\\"ROI\\\"])\\ncolumns = [\\n    \\\"genotype\\\",\\n    \\\"participant_id\\\",\\n    \\\"ROI\\\",\\n    \\\"volume_mm3\\\",\\n    \\\"adc\\\",\\n    \\\"fa\\\",\\n    \\\"rd\\\",\\n    \\\"omni_1\\\",\\n    \\\"omni_2\\\",\\n    \\\"omni_3\\\",\\n    \\\"omni_4\\\",\\n    \\\"omni_5\\\",\\n]\\ndf = df[columns]\\nassert df.shape[0] == anatomy.shape[0] - 32 == omni_embedding.shape[0]\\ndf.head()\";\n",
       "                var nbb_cells = Jupyter.notebook.get_cells();\n",
       "                for (var i = 0; i < nbb_cells.length; ++i) {\n",
       "                    if (nbb_cells[i].input_prompt_number == nbb_cell_id) {\n",
       "                        if (nbb_cells[i].get_text() == nbb_unformatted_code) {\n",
       "                             nbb_cells[i].set_text(nbb_formatted_code);\n",
       "                        }\n",
       "                        break;\n",
       "                    }\n",
       "                }\n",
       "            }, 500);\n",
       "            "
      ],
      "text/plain": [
       "<IPython.core.display.Javascript object>"
      ]
     },
     "metadata": {},
     "output_type": "display_data"
    }
   ],
   "source": [
    "df = pd.merge(anatomy, omni_embedding, on=[\"participant_id\", \"ROI\"])\n",
    "columns = [\n",
    "    \"genotype\",\n",
    "    \"participant_id\",\n",
    "    \"ROI\",\n",
    "    \"volume_mm3\",\n",
    "    \"adc\",\n",
    "    \"fa\",\n",
    "    \"rd\",\n",
    "    \"omni_1\",\n",
    "    \"omni_2\",\n",
    "    \"omni_3\",\n",
    "    \"omni_4\",\n",
    "    \"omni_5\",\n",
    "]\n",
    "df = df[columns]\n",
    "assert df.shape[0] == anatomy.shape[0] - 32 == omni_embedding.shape[0]\n",
    "df.head()"
   ]
  },
  {
   "cell_type": "code",
   "execution_count": 8,
   "metadata": {},
   "outputs": [
    {
     "data": {
      "application/javascript": [
       "\n",
       "            setTimeout(function() {\n",
       "                var nbb_cell_id = 8;\n",
       "                var nbb_unformatted_code = \"%%R -i df\\n\\nsuppressPackageStartupMessages(library(cdcsis))\\nsuppressPackageStartupMessages(library(data.table))\\nlibrary(mltools)\\nlibrary(future)\\nlibrary(future.apply)\\n\\ndf$genotype <- as.factor(df$genotype)\";\n",
       "                var nbb_formatted_code = \"%%R -i df\\n\\nsuppressPackageStartupMessages(library(cdcsis))\\nsuppressPackageStartupMessages(library(data.table))\\nlibrary(mltools)\\nlibrary(future)\\nlibrary(future.apply)\\n\\ndf$genotype <- as.factor(df$genotype)\";\n",
       "                var nbb_cells = Jupyter.notebook.get_cells();\n",
       "                for (var i = 0; i < nbb_cells.length; ++i) {\n",
       "                    if (nbb_cells[i].input_prompt_number == nbb_cell_id) {\n",
       "                        if (nbb_cells[i].get_text() == nbb_unformatted_code) {\n",
       "                             nbb_cells[i].set_text(nbb_formatted_code);\n",
       "                        }\n",
       "                        break;\n",
       "                    }\n",
       "                }\n",
       "            }, 500);\n",
       "            "
      ],
      "text/plain": [
       "<IPython.core.display.Javascript object>"
      ]
     },
     "metadata": {},
     "output_type": "display_data"
    }
   ],
   "source": [
    "%%R -i df\n",
    "\n",
    "suppressPackageStartupMessages(library(cdcsis))\n",
    "suppressPackageStartupMessages(library(data.table))\n",
    "library(mltools)\n",
    "library(future)\n",
    "library(future.apply)\n",
    "\n",
    "df$genotype <- as.factor(df$genotype)"
   ]
  },
  {
   "cell_type": "code",
   "execution_count": 9,
   "metadata": {},
   "outputs": [
    {
     "data": {
      "application/javascript": [
       "\n",
       "            setTimeout(function() {\n",
       "                var nbb_cell_id = 10;\n",
       "                var nbb_unformatted_code = \"%%R\\n\\npdcov.roi <- function(parameters, df, outfile) {\\n  \\n  roi <- as.integer(parameters[1])\\n  metric <- parameters[2]\\n  \\n  sub.df <- df[which(df$ROI == roi), ]\\n  X <- sub.df[\\\"genotype\\\"]\\n  X <- one_hot(as.data.table(X))\\n  Y <- sub.df[c(metric)]\\n  Z <- sub.df[c(\\\"omni_1\\\", \\\"omni_2\\\", \\\"omni_3\\\", \\\"omni_4\\\", \\\"omni_5\\\")]\\n  fit <- cdcov.test(X, Y, Z, num.bootstrap = 1000000)\\n  \\n  print(paste(roi, metric, fit$p.value))\\n  \\n  results <- paste(c(roi, metric, as.numeric(fit$statistic), fit$p.value), collapse=\\\",\\\")\\n  write(results, outfile, append=TRUE)\\n  \\n}\";\n",
       "                var nbb_formatted_code = \"%%R\\n\\npdcov.roi <- function(parameters, df, outfile) {\\n  \\n  roi <- as.integer(parameters[1])\\n  metric <- parameters[2]\\n  \\n  sub.df <- df[which(df$ROI == roi), ]\\n  X <- sub.df[\\\"genotype\\\"]\\n  X <- one_hot(as.data.table(X))\\n  Y <- sub.df[c(metric)]\\n  Z <- sub.df[c(\\\"omni_1\\\", \\\"omni_2\\\", \\\"omni_3\\\", \\\"omni_4\\\", \\\"omni_5\\\")]\\n  fit <- cdcov.test(X, Y, Z, num.bootstrap = 1000000)\\n  \\n  print(paste(roi, metric, fit$p.value))\\n  \\n  results <- paste(c(roi, metric, as.numeric(fit$statistic), fit$p.value), collapse=\\\",\\\")\\n  write(results, outfile, append=TRUE)\\n  \\n}\";\n",
       "                var nbb_cells = Jupyter.notebook.get_cells();\n",
       "                for (var i = 0; i < nbb_cells.length; ++i) {\n",
       "                    if (nbb_cells[i].input_prompt_number == nbb_cell_id) {\n",
       "                        if (nbb_cells[i].get_text() == nbb_unformatted_code) {\n",
       "                             nbb_cells[i].set_text(nbb_formatted_code);\n",
       "                        }\n",
       "                        break;\n",
       "                    }\n",
       "                }\n",
       "            }, 500);\n",
       "            "
      ],
      "text/plain": [
       "<IPython.core.display.Javascript object>"
      ]
     },
     "metadata": {},
     "output_type": "display_data"
    }
   ],
   "source": [
    "%%R\n",
    "\n",
    "pdcov.roi <- function(parameters, df, outfile) {\n",
    "  \n",
    "  roi <- as.integer(parameters[1])\n",
    "  metric <- parameters[2]\n",
    "  \n",
    "  sub.df <- df[which(df$ROI == roi), ]\n",
    "  X <- sub.df[\"genotype\"]\n",
    "  X <- one_hot(as.data.table(X))\n",
    "  Y <- sub.df[c(\"omni_1\", \"omni_2\", \"omni_3\", \"omni_4\", \"omni_5\")]\n",
    "  Z <- sub.df[c(metric)]\n",
    "  fit <- cdcov.test(X, Y, Z, num.bootstrap = 1000000)\n",
    "  \n",
    "  print(paste(roi, metric, fit$p.value))\n",
    "  \n",
    "  results <- paste(c(roi, metric, as.numeric(fit$statistic), fit$p.value), collapse=\",\")\n",
    "  write(results, outfile, append=TRUE)\n",
    "  \n",
    "}"
   ]
  },
  {
   "cell_type": "code",
   "execution_count": 10,
   "metadata": {},
   "outputs": [],
   "source": [
    "%%R\n",
    "\n",
    "# Conditional independence test for the top 5 most significant vertices by MANOVA o Omni.\n",
    "metrics <- c(\"volume_mm3\", \"adc\", \"fa\", \"rd\")\n",
    "rois <- c(seq(166), seq(166) + 1000)\n",
    "parameter_space <- expand.grid(rois, metrics)\n",
    "\n",
    "# Get p.value and test statistic for each node\n",
    "outfile <- \"../results/pdcov_omni_given_metric.csv\"\n",
    "header <- paste(c(\"roi\", \"metric\", \"statistic\", \"pvalue\"), collapse=\",\")\n",
    "write(header, file=outfile, append=TRUE)\n",
    "future_apply(parameter_space, 1, FUN=function(parameters) {pdcov.roi(parameters, df, outfile)})"
   ]
  },
  {
   "cell_type": "code",
   "execution_count": 11,
   "metadata": {},
   "outputs": [
    {
     "data": {
      "text/html": [
       "<div>\n",
       "<style scoped>\n",
       "    .dataframe tbody tr th:only-of-type {\n",
       "        vertical-align: middle;\n",
       "    }\n",
       "\n",
       "    .dataframe tbody tr th {\n",
       "        vertical-align: top;\n",
       "    }\n",
       "\n",
       "    .dataframe thead th {\n",
       "        text-align: right;\n",
       "    }\n",
       "</style>\n",
       "<table border=\"1\" class=\"dataframe\">\n",
       "  <thead>\n",
       "    <tr style=\"text-align: right;\">\n",
       "      <th></th>\n",
       "      <th>Volume</th>\n",
       "      <th>ADC</th>\n",
       "      <th>FA</th>\n",
       "      <th>RD</th>\n",
       "    </tr>\n",
       "    <tr>\n",
       "      <th>ROI</th>\n",
       "      <th></th>\n",
       "      <th></th>\n",
       "      <th></th>\n",
       "      <th></th>\n",
       "    </tr>\n",
       "  </thead>\n",
       "  <tbody>\n",
       "    <tr>\n",
       "      <th>121</th>\n",
       "      <td>0.001328</td>\n",
       "      <td>0.001328</td>\n",
       "      <td>0.001328</td>\n",
       "      <td>0.001328</td>\n",
       "    </tr>\n",
       "    <tr>\n",
       "      <th>1121</th>\n",
       "      <td>0.001328</td>\n",
       "      <td>0.001328</td>\n",
       "      <td>0.001328</td>\n",
       "      <td>0.001328</td>\n",
       "    </tr>\n",
       "    <tr>\n",
       "      <th>120</th>\n",
       "      <td>0.024111</td>\n",
       "      <td>0.028690</td>\n",
       "      <td>0.024111</td>\n",
       "      <td>0.036176</td>\n",
       "    </tr>\n",
       "    <tr>\n",
       "      <th>20</th>\n",
       "      <td>0.002934</td>\n",
       "      <td>0.003120</td>\n",
       "      <td>0.002934</td>\n",
       "      <td>0.019344</td>\n",
       "    </tr>\n",
       "    <tr>\n",
       "      <th>1085</th>\n",
       "      <td>0.001328</td>\n",
       "      <td>0.001328</td>\n",
       "      <td>0.001328</td>\n",
       "      <td>0.001328</td>\n",
       "    </tr>\n",
       "  </tbody>\n",
       "</table>\n",
       "</div>"
      ],
      "text/plain": [
       "        Volume       ADC        FA        RD\n",
       "ROI                                         \n",
       "121   0.001328  0.001328  0.001328  0.001328\n",
       "1121  0.001328  0.001328  0.001328  0.001328\n",
       "120   0.024111  0.028690  0.024111  0.036176\n",
       "20    0.002934  0.003120  0.002934  0.019344\n",
       "1085  0.001328  0.001328  0.001328  0.001328"
      ]
     },
     "execution_count": 11,
     "metadata": {},
     "output_type": "execute_result"
    },
    {
     "data": {
      "application/javascript": [
       "\n",
       "            setTimeout(function() {\n",
       "                var nbb_cell_id = 11;\n",
       "                var nbb_unformatted_code = \"def relabel_roi(x):\\n    if x > 166:\\n        x += 1000 - 166\\n    return x\\n\\n\\ndf = pd.read_csv(\\\"../results/pdcov_omni_given_metric.csv\\\")\\n_, holm_pvalue, _, _ = multipletests(df[\\\"pvalue\\\"], method=\\\"holm\\\")\\ndf[\\\"holm_pvalue\\\"] = holm_pvalue\\ndf = df.pivot(index=\\\"roi\\\", columns=\\\"metric\\\")[\\\"holm_pvalue\\\"]\\n\\n# Reindex by MANOVA rankings\\nmanova_rankings = pd.read_csv(\\\"../results/signal_vertices.csv\\\").ROI\\nmanova_rankings = manova_rankings.apply(relabel_roi)\\ndf = df.reindex(manova_rankings)\\ndf.columns = [\\\"Volume\\\", \\\"ADC\\\", \\\"FA\\\", \\\"RD\\\"]\\n\\ntop_20_vertices = df.iloc[:20, :].T.values\\ntop_20_vertices = np.log10(top_20_vertices)\\n\\ndf.head()\";\n",
       "                var nbb_formatted_code = \"def relabel_roi(x):\\n    if x > 166:\\n        x += 1000 - 166\\n    return x\\n\\n\\ndf = pd.read_csv(\\\"../results/pdcov_omni_given_metric.csv\\\")\\n_, holm_pvalue, _, _ = multipletests(df[\\\"pvalue\\\"], method=\\\"holm\\\")\\ndf[\\\"holm_pvalue\\\"] = holm_pvalue\\ndf = df.pivot(index=\\\"roi\\\", columns=\\\"metric\\\")[\\\"holm_pvalue\\\"]\\n\\n# Reindex by MANOVA rankings\\nmanova_rankings = pd.read_csv(\\\"../results/signal_vertices.csv\\\").ROI\\nmanova_rankings = manova_rankings.apply(relabel_roi)\\ndf = df.reindex(manova_rankings)\\ndf.columns = [\\\"Volume\\\", \\\"ADC\\\", \\\"FA\\\", \\\"RD\\\"]\\n\\ntop_20_vertices = df.iloc[:20, :].T.values\\ntop_20_vertices = np.log10(top_20_vertices)\\n\\ndf.head()\";\n",
       "                var nbb_cells = Jupyter.notebook.get_cells();\n",
       "                for (var i = 0; i < nbb_cells.length; ++i) {\n",
       "                    if (nbb_cells[i].input_prompt_number == nbb_cell_id) {\n",
       "                        if (nbb_cells[i].get_text() == nbb_unformatted_code) {\n",
       "                             nbb_cells[i].set_text(nbb_formatted_code);\n",
       "                        }\n",
       "                        break;\n",
       "                    }\n",
       "                }\n",
       "            }, 500);\n",
       "            "
      ],
      "text/plain": [
       "<IPython.core.display.Javascript object>"
      ]
     },
     "metadata": {},
     "output_type": "display_data"
    }
   ],
   "source": [
    "def relabel_roi(x):\n",
    "    if x > 166:\n",
    "        x += 1000 - 166\n",
    "    return x\n",
    "\n",
    "\n",
    "df = pd.read_csv(\"../results/pdcov_omni_given_metric.csv\")\n",
    "_, holm_pvalue, _, _ = multipletests(df[\"pvalue\"], method=\"holm\")\n",
    "df[\"holm_pvalue\"] = holm_pvalue\n",
    "df = df.pivot(index=\"roi\", columns=\"metric\")[\"holm_pvalue\"]\n",
    "\n",
    "# Reindex by MANOVA rankings\n",
    "manova_rankings = pd.read_csv(\"../results/signal_vertices.csv\").ROI\n",
    "manova_rankings = manova_rankings.apply(relabel_roi)\n",
    "df = df.reindex(manova_rankings)\n",
    "df.columns = [\"Volume\", \"ADC\", \"FA\", \"RD\"]\n",
    "\n",
    "top_20_vertices = df.iloc[:20, :].T.values\n",
    "top_20_vertices = np.log10(top_20_vertices)\n",
    "\n",
    "df.head()"
   ]
  },
  {
   "cell_type": "code",
   "execution_count": 12,
   "metadata": {},
   "outputs": [
    {
     "data": {
      "image/png": "[encoded data removed]"
     },
     "metadata": {},
     "output_type": "display_data"
    },
    {
     "data": {
      "application/javascript": [
       "\n",
       "            setTimeout(function() {\n",
       "                var nbb_cell_id = 12;\n",
       "                var nbb_unformatted_code = \"%%R -i top_20_vertices -w 5 -h 3 --units in -r 150\\n\\nsuppressPackageStartupMessages(library(ComplexHeatmap))\\nsuppressPackageStartupMessages(library(circlize))\\n\\npval <- as.matrix(top_20_vertices)\\nrows <- c(\\\"Volume\\\", \\\"ADC\\\", \\\"FA\\\", \\\"RD\\\")\\nrownames(pval) <- rows\\ncolnames(pval) <- c(1:20)\\n\\nha1 = HeatmapAnnotation(\\n  foo = anno_points(\\n    apply(pval > log10(0.05), 2, sum),\\n    height = unit(2, \\\"cm\\\")\\n  ),\\n  show_annotation_name = FALSE\\n)\\n\\ncol <- colorRamp2(c(0, -3), c(\\\"red\\\", \\\"white\\\"))\\nht <- Heatmap(\\n  pval,\\n  name = \\\"p-value\\\",\\n  col = col,\\n  cluster_columns = FALSE, cluster_column_slices = FALSE,\\n  cluster_rows = FALSE, cluster_row_slices = FALSE, show_row_names = TRUE, row_title = NULL, row_names_side = \\\"left\\\",\\n  width = unit(8, \\\"cm\\\"), height = unit(4, \\\"cm\\\"),\\n  heatmap_legend_param = list(at = log10(c(1, 0.1, 0.05, 0.01, 0.001)), labels = c(1, 0.1, 0.05, 0.01, 0.001), legend_height = unit(3.4, \\\"cm\\\")),\\n  bottom_annotation = ha1,\\n)\\ndraw(ht)\\n\\nleg = Legend(\\n  col, \\n  title = \\\"p-value\\\", \\n  at = log10(c(1, 0.1, 0.05, 0.01, 0.001)),\\n  labels = c(1, 0.1, 0.05, 0.01, 0.001),\\n  legend_height = unit(10, \\\"cm\\\"),\\n  direction = \\\"horizontal\\\", title_position = \\\"lefttop\\\"\\n)\";\n",
       "                var nbb_formatted_code = \"%%R -i top_20_vertices -w 5 -h 3 --units in -r 150\\n\\nsuppressPackageStartupMessages(library(ComplexHeatmap))\\nsuppressPackageStartupMessages(library(circlize))\\n\\npval <- as.matrix(top_20_vertices)\\nrows <- c(\\\"Volume\\\", \\\"ADC\\\", \\\"FA\\\", \\\"RD\\\")\\nrownames(pval) <- rows\\ncolnames(pval) <- c(1:20)\\n\\nha1 = HeatmapAnnotation(\\n  foo = anno_points(\\n    apply(pval > log10(0.05), 2, sum),\\n    height = unit(2, \\\"cm\\\")\\n  ),\\n  show_annotation_name = FALSE\\n)\\n\\ncol <- colorRamp2(c(0, -3), c(\\\"red\\\", \\\"white\\\"))\\nht <- Heatmap(\\n  pval,\\n  name = \\\"p-value\\\",\\n  col = col,\\n  cluster_columns = FALSE, cluster_column_slices = FALSE,\\n  cluster_rows = FALSE, cluster_row_slices = FALSE, show_row_names = TRUE, row_title = NULL, row_names_side = \\\"left\\\",\\n  width = unit(8, \\\"cm\\\"), height = unit(4, \\\"cm\\\"),\\n  heatmap_legend_param = list(at = log10(c(1, 0.1, 0.05, 0.01, 0.001)), labels = c(1, 0.1, 0.05, 0.01, 0.001), legend_height = unit(3.4, \\\"cm\\\")),\\n  bottom_annotation = ha1,\\n)\\ndraw(ht)\\n\\nleg = Legend(\\n  col, \\n  title = \\\"p-value\\\", \\n  at = log10(c(1, 0.1, 0.05, 0.01, 0.001)),\\n  labels = c(1, 0.1, 0.05, 0.01, 0.001),\\n  legend_height = unit(10, \\\"cm\\\"),\\n  direction = \\\"horizontal\\\", title_position = \\\"lefttop\\\"\\n)\";\n",
       "                var nbb_cells = Jupyter.notebook.get_cells();\n",
       "                for (var i = 0; i < nbb_cells.length; ++i) {\n",
       "                    if (nbb_cells[i].input_prompt_number == nbb_cell_id) {\n",
       "                        if (nbb_cells[i].get_text() == nbb_unformatted_code) {\n",
       "                             nbb_cells[i].set_text(nbb_formatted_code);\n",
       "                        }\n",
       "                        break;\n",
       "                    }\n",
       "                }\n",
       "            }, 500);\n",
       "            "
      ],
      "text/plain": [
       "<IPython.core.display.Javascript object>"
      ]
     },
     "metadata": {},
     "output_type": "display_data"
    }
   ],
   "source": [
    "%%R -i top_20_vertices -w 5 -h 3 --units in -r 150\n",
    "\n",
    "suppressPackageStartupMessages(library(ComplexHeatmap))\n",
    "suppressPackageStartupMessages(library(circlize))\n",
    "\n",
    "pval <- as.matrix(top_20_vertices)\n",
    "rows <- c(\"Volume\", \"ADC\", \"FA\", \"RD\")\n",
    "rownames(pval) <- rows\n",
    "colnames(pval) <- c(1:20)\n",
    "\n",
    "ha1 = HeatmapAnnotation(\n",
    "  foo = anno_points(\n",
    "    apply(pval > log10(0.05), 2, sum),\n",
    "    height = unit(2, \"cm\")\n",
    "  ),\n",
    "  show_annotation_name = FALSE\n",
    ")\n",
    "\n",
    "col <- colorRamp2(c(0, -3), c(\"red\", \"white\"))\n",
    "ht <- Heatmap(\n",
    "  pval,\n",
    "  name = \"p-value\",\n",
    "  col = col,\n",
    "  cluster_columns = FALSE, cluster_column_slices = FALSE,\n",
    "  cluster_rows = FALSE, cluster_row_slices = FALSE, show_row_names = TRUE, row_title = NULL, row_names_side = \"left\",\n",
    "  width = unit(8, \"cm\"), height = unit(4, \"cm\"),\n",
    "  heatmap_legend_param = list(at = log10(c(1, 0.1, 0.05, 0.01, 0.001)), labels = c(1, 0.1, 0.05, 0.01, 0.001), legend_height = unit(3.4, \"cm\")),\n",
    "  bottom_annotation = ha1,\n",
    ")\n",
    "draw(ht)\n",
    "\n",
    "leg = Legend(\n",
    "  col, \n",
    "  title = \"p-value\", \n",
    "  at = log10(c(1, 0.1, 0.05, 0.01, 0.001)),\n",
    "  labels = c(1, 0.1, 0.05, 0.01, 0.001),\n",
    "  legend_height = unit(10, \"cm\"),\n",
    "  direction = \"horizontal\", title_position = \"lefttop\"\n",
    ")"
   ]
  },
  {
   "cell_type": "code",
   "execution_count": 13,
   "metadata": {},
   "outputs": [
    {
     "name": "stdout",
     "output_type": "stream",
     "text": [
      "40 vertices have at least 1 anatomical confounder\n",
      "28 vertices have 4 anatomical confounders\n",
      "7 vertices with 4 anatomical confounders are in the top 100 signal vertices\n"
     ]
    },
    {
     "data": {
      "application/javascript": [
       "\n",
       "            setTimeout(function() {\n",
       "                var nbb_cell_id = 25;\n",
       "                var nbb_unformatted_code = \"# Calculate the number of confounders for each vertex\\ndf[\\\"sum\\\"] = (df > 0.05).sum(axis=1)\\n\\n# How many vertices have at least 1 cofounder?\\nans = np.sum(df[\\\"sum\\\"] > 0)\\nprint(f\\\"{ans} vertices have at least 1 anatomical confounder\\\")\\n\\n# How many vertices have all 4 anatomical features as confounders?\\nans = np.sum(df[\\\"sum\\\"] == 4)\\nprint(f\\\"{ans} vertices have 4 anatomical confounders\\\")\\n\\n# How many vertices with 4 confounders are in the top 100 signal vertices?\\nans = np.sum(df.iloc[:100][\\\"sum\\\"] == 4)\\nprint(\\n    f\\\"{ans} vertices with 4 anatomical confounders are in the top 100 signal vertices\\\"\\n)\";\n",
       "                var nbb_formatted_code = \"# Calculate the number of confounders for each vertex\\ndf[\\\"sum\\\"] = (df > 0.05).sum(axis=1)\\n\\n# How many vertices have at least 1 cofounder?\\nans = np.sum(df[\\\"sum\\\"] > 0)\\nprint(f\\\"{ans} vertices have at least 1 anatomical confounder\\\")\\n\\n# How many vertices have all 4 anatomical features as confounders?\\nans = np.sum(df[\\\"sum\\\"] == 4)\\nprint(f\\\"{ans} vertices have 4 anatomical confounders\\\")\\n\\n# How many vertices with 4 confounders are in the top 100 signal vertices?\\nans = np.sum(df.iloc[:100][\\\"sum\\\"] == 4)\\nprint(\\n    f\\\"{ans} vertices with 4 anatomical confounders are in the top 100 signal vertices\\\"\\n)\";\n",
       "                var nbb_cells = Jupyter.notebook.get_cells();\n",
       "                for (var i = 0; i < nbb_cells.length; ++i) {\n",
       "                    if (nbb_cells[i].input_prompt_number == nbb_cell_id) {\n",
       "                        if (nbb_cells[i].get_text() == nbb_unformatted_code) {\n",
       "                             nbb_cells[i].set_text(nbb_formatted_code);\n",
       "                        }\n",
       "                        break;\n",
       "                    }\n",
       "                }\n",
       "            }, 500);\n",
       "            "
      ],
      "text/plain": [
       "<IPython.core.display.Javascript object>"
      ]
     },
     "metadata": {},
     "output_type": "display_data"
    }
   ],
   "source": [
    "# Calculate the number of confounders for each vertex\n",
    "df[\"sum\"] = (df > 0.05).sum(axis=1)\n",
    "\n",
    "# How many vertices have at least 1 cofounder?\n",
    "ans = np.sum(df[\"sum\"] > 0)\n",
    "print(f\"{ans} vertices have at least 1 anatomical confounder\")\n",
    "\n",
    "# How many vertices have all 4 anatomical features as confounders?\n",
    "ans = np.sum(df[\"sum\"] == 4)\n",
    "print(f\"{ans} vertices have 4 anatomical confounders\")\n",
    "\n",
    "# How many vertices with 4 confounders are in the top 100 signal vertices?\n",
    "ans = np.sum(df.iloc[:100][\"sum\"] == 4)\n",
    "print(\n",
    "    f\"{ans} vertices with 4 anatomical confounders are in the top 100 signal vertices\"\n",
    ")"
   ]
  },
  {
   "cell_type": "code",
   "execution_count": null,
   "metadata": {},
   "outputs": [],
   "source": []
  }
 ],
 "metadata": {
  "kernelspec": {
   "display_name": "Python [conda env:mcc]",
   "language": "python",
   "name": "conda-env-mcc-py"
  },
  "language_info": {},
  "varInspector": {
   "cols": {
    "lenName": 16,
    "lenType": 16,
    "lenVar": 40
   },
   "kernels_config": {
    "python": {
     "delete_cmd_postfix": "",
     "delete_cmd_prefix": "del ",
     "library": "var_list.py",
     "varRefreshCmd": "print(var_dic_list())"
    },
    "r": {
     "delete_cmd_postfix": ") ",
     "delete_cmd_prefix": "rm(",
     "library": "var_list.r",
     "varRefreshCmd": "cat(var_dic_list()) "
    }
   },
   "types_to_exclude": [
    "module",
    "function",
    "builtin_function_or_method",
    "instance",
    "_Feature"
   ],
   "window_display": false
  }
 },
 "nbformat": 4,
 "nbformat_minor": 4
}