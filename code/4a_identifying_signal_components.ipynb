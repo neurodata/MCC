{
 "cells": [
  {
   "cell_type": "markdown",
   "metadata": {},
   "source": [
    "# Identifying signal components across multiple scales of network topology\n",
    "\n",
    "This demo shows you how to use methods in `graspologic` to analyze patterns\n",
    "in brain connectivity in connectomics datasets. We specifically demonstrate\n",
    "methods for identifying differences in edges and vertices across subjects. \n",
    "\n",
    "This notebook replicates Figure 4 of _Multiscale Comparative Connectomics_.\n",
    "\n",
    "<img src=\"figures/4_signal_tractograms.jpg\" alt=\"Fig4\" width=\"450\"/>\n",
    "<!-- ![Fig4](figures/4_signal_tractograms.jpg) -->\n",
    "\n",
    "Note that tractograms are not produced in this notebook.\n",
    "Tractograms of various signal components were made using DSI Studio.\n",
    "Tracking parameters used in DSI Studio are available in `supplement/tracking_parameters`\n",
    "and the necessary MRI data can be requested from Dr. G. Allan Johnson."
   ]
  },
  {
   "cell_type": "code",
   "execution_count": 1,
   "metadata": {},
   "outputs": [
    {
     "data": {
      "application/javascript": "\n            setTimeout(function() {\n                var nbb_cell_id = 1;\n                var nbb_unformatted_code = \"%load_ext nb_black\\n%load_ext rpy2.ipython\";\n                var nbb_formatted_code = \"%load_ext nb_black\\n%load_ext rpy2.ipython\";\n                var nbb_cells = Jupyter.notebook.get_cells();\n                for (var i = 0; i < nbb_cells.length; ++i) {\n                    if (nbb_cells[i].input_prompt_number == nbb_cell_id) {\n                        if (nbb_cells[i].get_text() == nbb_unformatted_code) {\n                             nbb_cells[i].set_text(nbb_formatted_code);\n                        }\n                        break;\n                    }\n                }\n            }, 500);\n            ",
      "text/plain": [
       "<IPython.core.display.Javascript object>"
      ]
     },
     "metadata": {},
     "output_type": "display_data"
    }
   ],
   "source": [
    "%load_ext nb_black\n",
    "%load_ext rpy2.ipython"
   ]
  },
  {
   "cell_type": "code",
   "execution_count": 2,
   "metadata": {},
   "outputs": [
    {
     "data": {
      "application/javascript": "\n            setTimeout(function() {\n                var nbb_cell_id = 2;\n                var nbb_unformatted_code = \"import matplotlib.pyplot as plt\\nimport numpy as np\\nimport pandas as pd\\nimport seaborn as sns\\nfrom graspologic.datasets import load_mice\\nfrom statsmodels.stats.multitest import multipletests\\nfrom tqdm import tqdm\\n\\npd.options.mode.chained_assignment = None\";\n                var nbb_formatted_code = \"import matplotlib.pyplot as plt\\nimport numpy as np\\nimport pandas as pd\\nimport seaborn as sns\\nfrom graspologic.datasets import load_mice\\nfrom statsmodels.stats.multitest import multipletests\\nfrom tqdm import tqdm\\n\\npd.options.mode.chained_assignment = None\";\n                var nbb_cells = Jupyter.notebook.get_cells();\n                for (var i = 0; i < nbb_cells.length; ++i) {\n                    if (nbb_cells[i].input_prompt_number == nbb_cell_id) {\n                        if (nbb_cells[i].get_text() == nbb_unformatted_code) {\n                             nbb_cells[i].set_text(nbb_formatted_code);\n                        }\n                        break;\n                    }\n                }\n            }, 500);\n            ",
      "text/plain": [
       "<IPython.core.display.Javascript object>"
      ]
     },
     "metadata": {},
     "output_type": "display_data"
    }
   ],
   "source": [
    "import matplotlib.pyplot as plt\n",
    "import numpy as np\n",
    "import pandas as pd\n",
    "import seaborn as sns\n",
    "from graspologic.datasets import load_mice\n",
    "from statsmodels.stats.multitest import multipletests\n",
    "from tqdm import tqdm\n",
    "\n",
    "pd.options.mode.chained_assignment = None"
   ]
  },
  {
   "cell_type": "markdown",
   "metadata": {},
   "source": [
    "## Load the Duke mouse brain dataset\n",
    "\n",
    "Dataset of 32 mouse connectomes derived from whole-brain diffusion\n",
    "magnetic resonance imaging of four distinct mouse genotypes:\n",
    "BTBR T+ Itpr3tf/J (BTBR), C57BL/6J(B6), CAST/EiJ (CAST), and DBA/2J (DBA2).\n",
    "For each strain, connectomes were generated from eight age-matched mice\n",
    "(N = 8 per strain), with a sex distribution of four males and four females.\n",
    "Each connectome was parcellated using asymmetric Waxholm Space, yielding a\n",
    "vertex set with a total of 332 regions of interest (ROIs) symmetrically\n",
    "distributed across the left and right hemispheres. Within a given\n",
    "hemisphere, there are seven superstructures consisting up multiple ROIs,\n",
    "resulting in a total of 14 distinct communities in each connectome."
   ]
  },
  {
   "cell_type": "code",
   "execution_count": 3,
   "metadata": {},
   "outputs": [
    {
     "data": {
      "application/javascript": "\n            setTimeout(function() {\n                var nbb_cell_id = 3;\n                var nbb_unformatted_code = \"ventricles = [147, 151, 160]\\nventricles += [roi + 166 for roi in ventricles]\\nventricles = np.array(ventricles)\\n\\ndef mask_rois(graphs, rois=ventricles):\\n    \\\"\\\"\\\"Remove all connections to and from specified ROIs.\\\"\\\"\\\"\\n    graphs = np.delete(graphs, rois, axis=1)\\n    graphs = np.delete(graphs, rois, axis=2)\\n    return graphs\";\n                var nbb_formatted_code = \"ventricles = [147, 151, 160]\\nventricles += [roi + 166 for roi in ventricles]\\nventricles = np.array(ventricles)\\n\\n\\ndef mask_rois(graphs, rois=ventricles):\\n    \\\"\\\"\\\"Remove all connections to and from specified ROIs.\\\"\\\"\\\"\\n    graphs = np.delete(graphs, rois, axis=1)\\n    graphs = np.delete(graphs, rois, axis=2)\\n    return graphs\";\n                var nbb_cells = Jupyter.notebook.get_cells();\n                for (var i = 0; i < nbb_cells.length; ++i) {\n                    if (nbb_cells[i].input_prompt_number == nbb_cell_id) {\n                        if (nbb_cells[i].get_text() == nbb_unformatted_code) {\n                             nbb_cells[i].set_text(nbb_formatted_code);\n                        }\n                        break;\n                    }\n                }\n            }, 500);\n            ",
      "text/plain": [
       "<IPython.core.display.Javascript object>"
      ]
     },
     "metadata": {},
     "output_type": "display_data"
    }
   ],
   "source": [
    "ventricles = [147, 151, 160]\n",
    "ventricles += [roi + 166 for roi in ventricles]\n",
    "ventricles = np.array(ventricles)\n",
    "\n",
    "def mask_rois(graphs, rois=ventricles):\n",
    "    \"\"\"Remove all connections to and from specified ROIs.\"\"\"\n",
    "    graphs = np.delete(graphs, rois, axis=1)\n",
    "    graphs = np.delete(graphs, rois, axis=2)\n",
    "    return graphs"
   ]
  },
  {
   "cell_type": "code",
   "execution_count": 4,
   "metadata": {},
   "outputs": [
    {
     "name": "stdout",
     "output_type": "stream",
     "text": [
      "(32, 326, 326)\n"
     ]
    },
    {
     "data": {
      "application/javascript": "\n            setTimeout(function() {\n                var nbb_cell_id = 4;\n                var nbb_unformatted_code = \"# Load the full mouse dataset\\nmice = load_mice()\\n\\n# Stack all adjacency matrices in a 3D numpy array\\ngraphs = np.array(mice.graphs)\\n\\n# Sort the connectomes and genotype labels so BTBR is first\\nlabel_indices = np.argsort(mice.labels).reshape(4, 8)\\nlabel_indices = label_indices[[1, 0, 2, 3]].reshape(-1)\\nlabels = mice.labels[label_indices]\\ngraphs = graphs[label_indices]\\ngraphs = mask_rois(graphs)\\nprint(graphs.shape)\\n\\n# Get sample parameters\\nn_subjects = mice.meta[\\\"n_subjects\\\"]\\nn_vertices = mice.meta[\\\"n_vertices\\\"] - 6\";\n                var nbb_formatted_code = \"# Load the full mouse dataset\\nmice = load_mice()\\n\\n# Stack all adjacency matrices in a 3D numpy array\\ngraphs = np.array(mice.graphs)\\n\\n# Sort the connectomes and genotype labels so BTBR is first\\nlabel_indices = np.argsort(mice.labels).reshape(4, 8)\\nlabel_indices = label_indices[[1, 0, 2, 3]].reshape(-1)\\nlabels = mice.labels[label_indices]\\ngraphs = graphs[label_indices]\\ngraphs = mask_rois(graphs)\\nprint(graphs.shape)\\n\\n# Get sample parameters\\nn_subjects = mice.meta[\\\"n_subjects\\\"]\\nn_vertices = mice.meta[\\\"n_vertices\\\"] - 6\";\n                var nbb_cells = Jupyter.notebook.get_cells();\n                for (var i = 0; i < nbb_cells.length; ++i) {\n                    if (nbb_cells[i].input_prompt_number == nbb_cell_id) {\n                        if (nbb_cells[i].get_text() == nbb_unformatted_code) {\n                             nbb_cells[i].set_text(nbb_formatted_code);\n                        }\n                        break;\n                    }\n                }\n            }, 500);\n            ",
      "text/plain": [
       "<IPython.core.display.Javascript object>"
      ]
     },
     "metadata": {},
     "output_type": "display_data"
    }
   ],
   "source": [
    "# Load the full mouse dataset\n",
    "mice = load_mice()\n",
    "\n",
    "# Stack all adjacency matrices in a 3D numpy array\n",
    "graphs = np.array(mice.graphs)\n",
    "\n",
    "# Sort the connectomes and genotype labels so BTBR is first\n",
    "label_indices = np.argsort(mice.labels).reshape(4, 8)\n",
    "label_indices = label_indices[[1, 0, 2, 3]].reshape(-1)\n",
    "labels = mice.labels[label_indices]\n",
    "graphs = graphs[label_indices]\n",
    "graphs = mask_rois(graphs)\n",
    "print(graphs.shape)\n",
    "\n",
    "# Get sample parameters\n",
    "n_subjects = mice.meta[\"n_subjects\"]\n",
    "n_vertices = mice.meta[\"n_vertices\"] - 6"
   ]
  },
  {
   "cell_type": "markdown",
   "metadata": {},
   "source": [
    "## Identifying Signal Edges\n",
    "\n",
    "The simplest approach for comparing connectomes is to treat them as a _bag of edges_ without considering interactions between the edges.\n",
    "Serially performing univariate statistical analyses at each edge enables the discovery of _signal edges_ whose neurological connectivity differs across categorical or dimensional phenotypes.\n",
    "Here, we demonstrate the possibility of using Distance Correlation (`Dcorr`), a nonparametric universally consistent test, to detect changes in edges.\n",
    "\n",
    "In this model, we assume that each edge in the connectome is independently and\n",
    "identically sampled from some distribution $F_i$, where $i$ represents the group\n",
    "to which the given connectome belongs. In this setting the groups are the mouse\n",
    "genotypes. `Dcorr` allows us to test the following hypothesis:\n",
    "\n",
    "\\begin{align*}\n",
    "H_0:\\ &F_1 = F_2 = \\cdots = F_k \\\\\n",
    "H_A:\\ &\\exists \\ j \\neq j' \\text{ s.t. } F_j \\neq F_{j'}\n",
    "\\end{align*}"
   ]
  },
  {
   "cell_type": "code",
   "execution_count": 5,
   "metadata": {},
   "outputs": [
    {
     "data": {
      "application/javascript": "\n            setTimeout(function() {\n                var nbb_cell_id = 5;\n                var nbb_unformatted_code = \"from hyppo.ksample import KSample\";\n                var nbb_formatted_code = \"from hyppo.ksample import KSample\";\n                var nbb_cells = Jupyter.notebook.get_cells();\n                for (var i = 0; i < nbb_cells.length; ++i) {\n                    if (nbb_cells[i].input_prompt_number == nbb_cell_id) {\n                        if (nbb_cells[i].get_text() == nbb_unformatted_code) {\n                             nbb_cells[i].set_text(nbb_formatted_code);\n                        }\n                        break;\n                    }\n                }\n            }, 500);\n            ",
      "text/plain": [
       "<IPython.core.display.Javascript object>"
      ]
     },
     "metadata": {},
     "output_type": "display_data"
    }
   ],
   "source": [
    "from hyppo.ksample import KSample"
   ]
  },
  {
   "cell_type": "code",
   "execution_count": 6,
   "metadata": {},
   "outputs": [
    {
     "data": {
      "application/javascript": "\n            setTimeout(function() {\n                var nbb_cell_id = 6;\n                var nbb_unformatted_code = \"# Split the set of graphs by genotype\\nbtbr = graphs[labels == \\\"BTBR\\\"]\\nb6 = graphs[labels == \\\"B6\\\"]\\ncast = graphs[labels == \\\"CAST\\\"]\\ndba2 = graphs[labels == \\\"DBA2\\\"]\\n\\nconnectomes = [btbr, b6, cast, dba2]\";\n                var nbb_formatted_code = \"# Split the set of graphs by genotype\\nbtbr = graphs[labels == \\\"BTBR\\\"]\\nb6 = graphs[labels == \\\"B6\\\"]\\ncast = graphs[labels == \\\"CAST\\\"]\\ndba2 = graphs[labels == \\\"DBA2\\\"]\\n\\nconnectomes = [btbr, b6, cast, dba2]\";\n                var nbb_cells = Jupyter.notebook.get_cells();\n                for (var i = 0; i < nbb_cells.length; ++i) {\n                    if (nbb_cells[i].input_prompt_number == nbb_cell_id) {\n                        if (nbb_cells[i].get_text() == nbb_unformatted_code) {\n                             nbb_cells[i].set_text(nbb_formatted_code);\n                        }\n                        break;\n                    }\n                }\n            }, 500);\n            ",
      "text/plain": [
       "<IPython.core.display.Javascript object>"
      ]
     },
     "metadata": {},
     "output_type": "display_data"
    }
   ],
   "source": [
    "# Split the set of graphs by genotype\n",
    "btbr = graphs[labels == \"BTBR\"]\n",
    "b6 = graphs[labels == \"B6\"]\n",
    "cast = graphs[labels == \"CAST\"]\n",
    "dba2 = graphs[labels == \"DBA2\"]\n",
    "\n",
    "connectomes = [btbr, b6, cast, dba2]"
   ]
  },
  {
   "cell_type": "markdown",
   "metadata": {},
   "source": [
    "Since the connectomes in this dataset are undirected, we only need to do edge\n",
    "comparisons on the upper triangle of the adjacency matrices."
   ]
  },
  {
   "cell_type": "code",
   "execution_count": 7,
   "metadata": {},
   "outputs": [
    {
     "data": {
      "application/javascript": "\n            setTimeout(function() {\n                var nbb_cell_id = 7;\n                var nbb_unformatted_code = \"# Make iterator for traversing the upper triangle of the connectome\\nedges_ = np.triu_indices(n_vertices, 1)\\nindices = zip(*edges_)\\nn_tests = len(edges_[0])\";\n                var nbb_formatted_code = \"# Make iterator for traversing the upper triangle of the connectome\\nedges_ = np.triu_indices(n_vertices, 1)\\nindices = zip(*edges_)\\nn_tests = len(edges_[0])\";\n                var nbb_cells = Jupyter.notebook.get_cells();\n                for (var i = 0; i < nbb_cells.length; ++i) {\n                    if (nbb_cells[i].input_prompt_number == nbb_cell_id) {\n                        if (nbb_cells[i].get_text() == nbb_unformatted_code) {\n                             nbb_cells[i].set_text(nbb_formatted_code);\n                        }\n                        break;\n                    }\n                }\n            }, 500);\n            ",
      "text/plain": [
       "<IPython.core.display.Javascript object>"
      ]
     },
     "metadata": {},
     "output_type": "display_data"
    }
   ],
   "source": [
    "# Make iterator for traversing the upper triangle of the connectome\n",
    "edges_ = np.triu_indices(n_vertices, 1)\n",
    "indices = zip(*edges_)\n",
    "n_tests = len(edges_[0])"
   ]
  },
  {
   "cell_type": "code",
   "execution_count": 8,
   "metadata": {},
   "outputs": [
    {
     "name": "stderr",
     "output_type": "stream",
     "text": [
      "100%|██████████| 52975/52975 [00:10<00:00, 4877.85it/s]\n"
     ]
    },
    {
     "data": {
      "application/javascript": "\n            setTimeout(function() {\n                var nbb_cell_id = 8;\n                var nbb_unformatted_code = \"edge_pvals = []\\n\\nfor roi_i, roi_j in tqdm(indices, total=n_tests):\\n\\n    # Get the (i,j)-th edge for each connectome\\n    samples = [genotype[:, roi_i, roi_j] for genotype in connectomes]\\n\\n    # Calculate the p-value for the (i,j)-th edge\\n    try:\\n        statistic, pvalue = KSample(\\\"Dcorr\\\").test(*samples)\\n    except ValueError:\\n        # A ValueError is thrown when any of the samples have equal edge\\n        # weights (i.e. one of the inputs has 0 variance)\\n        statistic = np.nan\\n        pvalue = 1\\n\\n    edge_pvals.append([roi_i + 1, roi_j + 1, statistic, pvalue])\";\n                var nbb_formatted_code = \"edge_pvals = []\\n\\nfor roi_i, roi_j in tqdm(indices, total=n_tests):\\n\\n    # Get the (i,j)-th edge for each connectome\\n    samples = [genotype[:, roi_i, roi_j] for genotype in connectomes]\\n\\n    # Calculate the p-value for the (i,j)-th edge\\n    try:\\n        statistic, pvalue = KSample(\\\"Dcorr\\\").test(*samples)\\n    except ValueError:\\n        # A ValueError is thrown when any of the samples have equal edge\\n        # weights (i.e. one of the inputs has 0 variance)\\n        statistic = np.nan\\n        pvalue = 1\\n\\n    edge_pvals.append([roi_i + 1, roi_j + 1, statistic, pvalue])\";\n                var nbb_cells = Jupyter.notebook.get_cells();\n                for (var i = 0; i < nbb_cells.length; ++i) {\n                    if (nbb_cells[i].input_prompt_number == nbb_cell_id) {\n                        if (nbb_cells[i].get_text() == nbb_unformatted_code) {\n                             nbb_cells[i].set_text(nbb_formatted_code);\n                        }\n                        break;\n                    }\n                }\n            }, 500);\n            ",
      "text/plain": [
       "<IPython.core.display.Javascript object>"
      ]
     },
     "metadata": {},
     "output_type": "display_data"
    }
   ],
   "source": [
    "edge_pvals = []\n",
    "\n",
    "for roi_i, roi_j in tqdm(indices, total=n_tests):\n",
    "\n",
    "    # Get the (i,j)-th edge for each connectome\n",
    "    samples = [genotype[:, roi_i, roi_j] for genotype in connectomes]\n",
    "\n",
    "    # Calculate the p-value for the (i,j)-th edge\n",
    "    try:\n",
    "        statistic, pvalue = KSample(\"Dcorr\").test(*samples)\n",
    "    except ValueError:\n",
    "        # A ValueError is thrown when any of the samples have equal edge\n",
    "        # weights (i.e. one of the inputs has 0 variance)\n",
    "        statistic = np.nan\n",
    "        pvalue = 1\n",
    "\n",
    "    edge_pvals.append([roi_i + 1, roi_j + 1, statistic, pvalue])"
   ]
  },
  {
   "cell_type": "markdown",
   "metadata": {},
   "source": [
    "### Correcting for multiple comparisons\n",
    "\n",
    "Connectomes are a high-dimensional dataype.\n",
    "Thus, statistical tests on components of the connectome (e.g., edge, vertices, and communities)\n",
    "results in multiple comparisons.\n",
    "We recommend correcting for multiple comparisons using a modified version of the Benjamini-Hochberg procedure.\n",
    "\n",
    "#### Benjamini-Hochberg Correction\n",
    "\n",
    "The Benjamini-Hochberg procedure controls the FDR (false discovery rate), i.e., the proportion of rejected null hypotheses (discoveries) that are actually false.\n",
    "The canonical verison of the procedure assumes that the p-values being corrected are independent of each other.\n",
    "However, in connectomics data, that assumption is invalid as different structures are interconnected and, therefore, inherently depend on each other.\n",
    "A correction to the Benjamini-Hochberg procedure that makes it more conservative removes this assumption by allowing the p-values to have any arbitrary dependence structure.\n",
    "\n",
    "Specifically, for the Benjamini-Hochberg procedure to be valid for connectomics data, the desired FDR (i.e., $\\alpha \\in [0, 1]$) must be divided by $\\sum_{i=1}^m 1/i$ where $m$ is the number of p-values being corrected.\n",
    "\n",
    "#### Bonferroni-Holm Correction\n",
    "\n",
    "We also include corrected p-values for a FWER (family-wise error rate) controlling procedure, the Bonferroni-Holm correction."
   ]
  },
  {
   "cell_type": "code",
   "execution_count": 9,
   "metadata": {},
   "outputs": [
    {
     "data": {
      "text/html": [
       "<div>\n",
       "<style scoped>\n",
       "    .dataframe tbody tr th:only-of-type {\n",
       "        vertical-align: middle;\n",
       "    }\n",
       "\n",
       "    .dataframe tbody tr th {\n",
       "        vertical-align: top;\n",
       "    }\n",
       "\n",
       "    .dataframe thead th {\n",
       "        text-align: right;\n",
       "    }\n",
       "</style>\n",
       "<table border=\"1\" class=\"dataframe\">\n",
       "  <thead>\n",
       "    <tr style=\"text-align: right;\">\n",
       "      <th></th>\n",
       "      <th>ROI_1</th>\n",
       "      <th>ROI_2</th>\n",
       "      <th>stat</th>\n",
       "      <th>pvalue</th>\n",
       "      <th>holm_pvalue</th>\n",
       "      <th>bh_significant</th>\n",
       "    </tr>\n",
       "  </thead>\n",
       "  <tbody>\n",
       "    <tr>\n",
       "      <th>0</th>\n",
       "      <td>121</td>\n",
       "      <td>227</td>\n",
       "      <td>0.717036</td>\n",
       "      <td>9.911903e-07</td>\n",
       "      <td>0.052508</td>\n",
       "      <td>True</td>\n",
       "    </tr>\n",
       "    <tr>\n",
       "      <th>1</th>\n",
       "      <td>121</td>\n",
       "      <td>290</td>\n",
       "      <td>0.699473</td>\n",
       "      <td>1.327371e-06</td>\n",
       "      <td>0.070316</td>\n",
       "      <td>True</td>\n",
       "    </tr>\n",
       "    <tr>\n",
       "      <th>2</th>\n",
       "      <td>121</td>\n",
       "      <td>241</td>\n",
       "      <td>0.698197</td>\n",
       "      <td>1.355858e-06</td>\n",
       "      <td>0.071824</td>\n",
       "      <td>True</td>\n",
       "    </tr>\n",
       "    <tr>\n",
       "      <th>3</th>\n",
       "      <td>121</td>\n",
       "      <td>240</td>\n",
       "      <td>0.685735</td>\n",
       "      <td>1.668308e-06</td>\n",
       "      <td>0.088374</td>\n",
       "      <td>True</td>\n",
       "    </tr>\n",
       "    <tr>\n",
       "      <th>4</th>\n",
       "      <td>225</td>\n",
       "      <td>284</td>\n",
       "      <td>0.670809</td>\n",
       "      <td>2.139082e-06</td>\n",
       "      <td>0.113309</td>\n",
       "      <td>True</td>\n",
       "    </tr>\n",
       "  </tbody>\n",
       "</table>\n",
       "</div>"
      ],
      "text/plain": [
       "   ROI_1  ROI_2      stat        pvalue  holm_pvalue  bh_significant\n",
       "0    121    227  0.717036  9.911903e-07     0.052508            True\n",
       "1    121    290  0.699473  1.327371e-06     0.070316            True\n",
       "2    121    241  0.698197  1.355858e-06     0.071824            True\n",
       "3    121    240  0.685735  1.668308e-06     0.088374            True\n",
       "4    225    284  0.670809  2.139082e-06     0.113309            True"
      ]
     },
     "execution_count": 9,
     "metadata": {},
     "output_type": "execute_result"
    },
    {
     "data": {
      "application/javascript": "\n            setTimeout(function() {\n                var nbb_cell_id = 9;\n                var nbb_unformatted_code = \"# Convert the nested list to a dataframe\\nsignal_edges = pd.DataFrame(edge_pvals, columns=[\\\"ROI_1\\\", \\\"ROI_2\\\", \\\"stat\\\", \\\"pvalue\\\"])\\nsignal_edges.sort_values(by=\\\"pvalue\\\", inplace=True, ignore_index=True)\\nalpha = 0.05\\n\\n# Holm-Bonferroni correct p-values\\n_, holm_pvalue, _, _ = multipletests(signal_edges[\\\"pvalue\\\"], alpha=alpha, method=\\\"holm\\\")\\nsignal_edges[\\\"holm_pvalue\\\"] = holm_pvalue\\n\\n# Benjamini-Hochberg correct p-values\\nm = len(signal_edges)\\ncorrection = sum((1 / i for i in range(1, m + 1)))\\nreject, _, _, _ = multipletests(signal_edges[\\\"pvalue\\\"], alpha=alpha / correction, method=\\\"fdr_bh\\\", is_sorted=True)\\nsignal_edges[\\\"bh_significant\\\"] = reject\\n\\nsignal_edges.sort_values(by=\\\"pvalue\\\", inplace=True, ignore_index=True)\\nsignal_edges.to_csv(\\\"../results/signal_edges.csv\\\", index=False)\\nsignal_edges.head()\";\n                var nbb_formatted_code = \"# Convert the nested list to a dataframe\\nsignal_edges = pd.DataFrame(edge_pvals, columns=[\\\"ROI_1\\\", \\\"ROI_2\\\", \\\"stat\\\", \\\"pvalue\\\"])\\nsignal_edges.sort_values(by=\\\"pvalue\\\", inplace=True, ignore_index=True)\\nalpha = 0.05\\n\\n# Holm-Bonferroni correct p-values\\n_, holm_pvalue, _, _ = multipletests(signal_edges[\\\"pvalue\\\"], alpha=alpha, method=\\\"holm\\\")\\nsignal_edges[\\\"holm_pvalue\\\"] = holm_pvalue\\n\\n# Benjamini-Hochberg correct p-values\\nm = len(signal_edges)\\ncorrection = sum((1 / i for i in range(1, m + 1)))\\nreject, _, _, _ = multipletests(\\n    signal_edges[\\\"pvalue\\\"], alpha=alpha / correction, method=\\\"fdr_bh\\\", is_sorted=True\\n)\\nsignal_edges[\\\"bh_significant\\\"] = reject\\n\\nsignal_edges.sort_values(by=\\\"pvalue\\\", inplace=True, ignore_index=True)\\nsignal_edges.to_csv(\\\"../results/signal_edges.csv\\\", index=False)\\nsignal_edges.head()\";\n                var nbb_cells = Jupyter.notebook.get_cells();\n                for (var i = 0; i < nbb_cells.length; ++i) {\n                    if (nbb_cells[i].input_prompt_number == nbb_cell_id) {\n                        if (nbb_cells[i].get_text() == nbb_unformatted_code) {\n                             nbb_cells[i].set_text(nbb_formatted_code);\n                        }\n                        break;\n                    }\n                }\n            }, 500);\n            ",
      "text/plain": [
       "<IPython.core.display.Javascript object>"
      ]
     },
     "metadata": {},
     "output_type": "display_data"
    }
   ],
   "source": [
    "# Convert the nested list to a dataframe\n",
    "signal_edges = pd.DataFrame(edge_pvals, columns=[\"ROI_1\", \"ROI_2\", \"stat\", \"pvalue\"])\n",
    "signal_edges.sort_values(by=\"pvalue\", inplace=True, ignore_index=True)\n",
    "alpha = 0.05\n",
    "\n",
    "# Holm-Bonferroni correct p-values\n",
    "_, holm_pvalue, _, _ = multipletests(signal_edges[\"pvalue\"], alpha=alpha, method=\"holm\")\n",
    "signal_edges[\"holm_pvalue\"] = holm_pvalue\n",
    "\n",
    "# Benjamini-Hochberg correct p-values\n",
    "m = len(signal_edges)\n",
    "correction = sum((1 / i for i in range(1, m + 1)))\n",
    "reject, _, _, _ = multipletests(signal_edges[\"pvalue\"], alpha=alpha / correction, method=\"fdr_bh\", is_sorted=True)\n",
    "signal_edges[\"bh_significant\"] = reject\n",
    "\n",
    "signal_edges.sort_values(by=\"pvalue\", inplace=True, ignore_index=True)\n",
    "signal_edges.to_csv(\"../results/signal_edges.csv\", index=False)\n",
    "signal_edges.head()"
   ]
  },
  {
   "cell_type": "code",
   "execution_count": 10,
   "metadata": {},
   "outputs": [
    {
     "data": {
      "application/javascript": "\n            setTimeout(function() {\n                var nbb_cell_id = 10;\n                var nbb_unformatted_code = \"def lookup_roi_name(roi):\\n    roi += np.sum(roi >= ventricles) # Adjust for removing the ventricles\\n    roi -= 1\\n    hemisphere = \\\"R\\\" if roi // 166 else \\\"L\\\"\\n    roi = roi % 166\\n    structure = mice.atlas[\\\"Structure\\\"].values[roi]\\n    structure = \\\" \\\".join(structure.split(\\\"_\\\"))\\n    return f\\\"{structure} ({hemisphere})\\\"\";\n                var nbb_formatted_code = \"def lookup_roi_name(roi):\\n    roi += np.sum(roi >= ventricles)  # Adjust for removing the ventricles\\n    roi -= 1\\n    hemisphere = \\\"R\\\" if roi // 166 else \\\"L\\\"\\n    roi = roi % 166\\n    structure = mice.atlas[\\\"Structure\\\"].values[roi]\\n    structure = \\\" \\\".join(structure.split(\\\"_\\\"))\\n    return f\\\"{structure} ({hemisphere})\\\"\";\n                var nbb_cells = Jupyter.notebook.get_cells();\n                for (var i = 0; i < nbb_cells.length; ++i) {\n                    if (nbb_cells[i].input_prompt_number == nbb_cell_id) {\n                        if (nbb_cells[i].get_text() == nbb_unformatted_code) {\n                             nbb_cells[i].set_text(nbb_formatted_code);\n                        }\n                        break;\n                    }\n                }\n            }, 500);\n            ",
      "text/plain": [
       "<IPython.core.display.Javascript object>"
      ]
     },
     "metadata": {},
     "output_type": "display_data"
    }
   ],
   "source": [
    "def lookup_roi_name(roi):\n",
    "    roi += np.sum(roi >= ventricles) # Adjust for removing the ventricles\n",
    "    roi -= 1\n",
    "    hemisphere = \"R\" if roi // 166 else \"L\"\n",
    "    roi = roi % 166\n",
    "    structure = mice.atlas[\"Structure\"].values[roi]\n",
    "    structure = \" \".join(structure.split(\"_\"))\n",
    "    return f\"{structure} ({hemisphere})\""
   ]
  },
  {
   "cell_type": "code",
   "execution_count": 11,
   "metadata": {},
   "outputs": [
    {
     "data": {
      "text/html": [
       "<div>\n",
       "<style scoped>\n",
       "    .dataframe tbody tr th:only-of-type {\n",
       "        vertical-align: middle;\n",
       "    }\n",
       "\n",
       "    .dataframe tbody tr th {\n",
       "        vertical-align: top;\n",
       "    }\n",
       "\n",
       "    .dataframe thead th {\n",
       "        text-align: right;\n",
       "    }\n",
       "</style>\n",
       "<table border=\"1\" class=\"dataframe\">\n",
       "  <thead>\n",
       "    <tr style=\"text-align: right;\">\n",
       "      <th></th>\n",
       "      <th>ROI_1</th>\n",
       "      <th>ROI_2</th>\n",
       "      <th>stat</th>\n",
       "      <th>pvalue</th>\n",
       "      <th>holm_pvalue</th>\n",
       "      <th>bh_significant</th>\n",
       "    </tr>\n",
       "  </thead>\n",
       "  <tbody>\n",
       "    <tr>\n",
       "      <th>0</th>\n",
       "      <td>Corpus Callosum (L)</td>\n",
       "      <td>Striatum (R)</td>\n",
       "      <td>0.717036</td>\n",
       "      <td>9.911903e-07</td>\n",
       "      <td>0.052508</td>\n",
       "      <td>True</td>\n",
       "    </tr>\n",
       "    <tr>\n",
       "      <th>1</th>\n",
       "      <td>Corpus Callosum (L)</td>\n",
       "      <td>Internal Capsule (R)</td>\n",
       "      <td>0.699473</td>\n",
       "      <td>1.327371e-06</td>\n",
       "      <td>0.070316</td>\n",
       "      <td>True</td>\n",
       "    </tr>\n",
       "    <tr>\n",
       "      <th>2</th>\n",
       "      <td>Corpus Callosum (L)</td>\n",
       "      <td>Reticular Nucleus of Thalamus (R)</td>\n",
       "      <td>0.698197</td>\n",
       "      <td>1.355858e-06</td>\n",
       "      <td>0.071824</td>\n",
       "      <td>True</td>\n",
       "    </tr>\n",
       "    <tr>\n",
       "      <th>3</th>\n",
       "      <td>Corpus Callosum (L)</td>\n",
       "      <td>Zona Incerta (R)</td>\n",
       "      <td>0.685735</td>\n",
       "      <td>1.668308e-06</td>\n",
       "      <td>0.088374</td>\n",
       "      <td>True</td>\n",
       "    </tr>\n",
       "    <tr>\n",
       "      <th>4</th>\n",
       "      <td>Septum (R)</td>\n",
       "      <td>Corpus Callosum (R)</td>\n",
       "      <td>0.670809</td>\n",
       "      <td>2.139082e-06</td>\n",
       "      <td>0.113309</td>\n",
       "      <td>True</td>\n",
       "    </tr>\n",
       "    <tr>\n",
       "      <th>5</th>\n",
       "      <td>Striatum (L)</td>\n",
       "      <td>Striatum (R)</td>\n",
       "      <td>0.663875</td>\n",
       "      <td>2.401064e-06</td>\n",
       "      <td>0.127184</td>\n",
       "      <td>True</td>\n",
       "    </tr>\n",
       "    <tr>\n",
       "      <th>6</th>\n",
       "      <td>Corpus Callosum (L)</td>\n",
       "      <td>Ventral Thalamic Nuclei (R)</td>\n",
       "      <td>0.663380</td>\n",
       "      <td>2.420987e-06</td>\n",
       "      <td>0.128237</td>\n",
       "      <td>True</td>\n",
       "    </tr>\n",
       "    <tr>\n",
       "      <th>7</th>\n",
       "      <td>Hippocampus (L)</td>\n",
       "      <td>Middle Cerebellar Peduncle (L)</td>\n",
       "      <td>0.658415</td>\n",
       "      <td>2.629842e-06</td>\n",
       "      <td>0.139297</td>\n",
       "      <td>True</td>\n",
       "    </tr>\n",
       "    <tr>\n",
       "      <th>8</th>\n",
       "      <td>Caudomedial Entorhinal Cortex (R)</td>\n",
       "      <td>Ventral Hippocampal Commissure (R)</td>\n",
       "      <td>0.655984</td>\n",
       "      <td>2.738604e-06</td>\n",
       "      <td>0.145056</td>\n",
       "      <td>True</td>\n",
       "    </tr>\n",
       "    <tr>\n",
       "      <th>9</th>\n",
       "      <td>Corpus Callosum (L)</td>\n",
       "      <td>Midbrain Reticular Nucleus (R)</td>\n",
       "      <td>0.652512</td>\n",
       "      <td>2.901853e-06</td>\n",
       "      <td>0.153700</td>\n",
       "      <td>True</td>\n",
       "    </tr>\n",
       "    <tr>\n",
       "      <th>10</th>\n",
       "      <td>Midbrain Reticular Nucleus (L)</td>\n",
       "      <td>Superior Cerebellar Peduncle (L)</td>\n",
       "      <td>0.647961</td>\n",
       "      <td>3.130693e-06</td>\n",
       "      <td>0.165817</td>\n",
       "      <td>True</td>\n",
       "    </tr>\n",
       "    <tr>\n",
       "      <th>11</th>\n",
       "      <td>Corpus Callosum (L)</td>\n",
       "      <td>Corpus Callosum (R)</td>\n",
       "      <td>0.645608</td>\n",
       "      <td>3.255997e-06</td>\n",
       "      <td>0.172451</td>\n",
       "      <td>True</td>\n",
       "    </tr>\n",
       "    <tr>\n",
       "      <th>12</th>\n",
       "      <td>Spinal Trigeminal Nerve (L)</td>\n",
       "      <td>Middle Cerebellar Peduncle (L)</td>\n",
       "      <td>0.645284</td>\n",
       "      <td>3.273650e-06</td>\n",
       "      <td>0.173382</td>\n",
       "      <td>True</td>\n",
       "    </tr>\n",
       "    <tr>\n",
       "      <th>13</th>\n",
       "      <td>Secondary Visual CortexLateral Area (L)</td>\n",
       "      <td>Striatum (R)</td>\n",
       "      <td>0.641368</td>\n",
       "      <td>3.494704e-06</td>\n",
       "      <td>0.185086</td>\n",
       "      <td>True</td>\n",
       "    </tr>\n",
       "    <tr>\n",
       "      <th>14</th>\n",
       "      <td>Globus Pallidus (R)</td>\n",
       "      <td>Midbrain Reticular Nucleus (R)</td>\n",
       "      <td>0.631761</td>\n",
       "      <td>4.102502e-06</td>\n",
       "      <td>0.217273</td>\n",
       "      <td>True</td>\n",
       "    </tr>\n",
       "    <tr>\n",
       "      <th>15</th>\n",
       "      <td>Striatum (L)</td>\n",
       "      <td>Corpus Callosum (R)</td>\n",
       "      <td>0.631710</td>\n",
       "      <td>4.105987e-06</td>\n",
       "      <td>0.217453</td>\n",
       "      <td>True</td>\n",
       "    </tr>\n",
       "    <tr>\n",
       "      <th>16</th>\n",
       "      <td>Primary Somatosensory Cortex Hindlimb Region (L)</td>\n",
       "      <td>Secondary Visual Cortex Mediomedial Area (L)</td>\n",
       "      <td>0.628985</td>\n",
       "      <td>4.297134e-06</td>\n",
       "      <td>0.227572</td>\n",
       "      <td>True</td>\n",
       "    </tr>\n",
       "    <tr>\n",
       "      <th>17</th>\n",
       "      <td>Corpus Callosum (L)</td>\n",
       "      <td>Primary Somatosensory Cortex Jaw Region (R)</td>\n",
       "      <td>0.628365</td>\n",
       "      <td>4.341833e-06</td>\n",
       "      <td>0.229935</td>\n",
       "      <td>True</td>\n",
       "    </tr>\n",
       "    <tr>\n",
       "      <th>18</th>\n",
       "      <td>Corpus Callosum (L)</td>\n",
       "      <td>Ventral Orbital Cortex (R)</td>\n",
       "      <td>0.627970</td>\n",
       "      <td>4.370614e-06</td>\n",
       "      <td>0.231455</td>\n",
       "      <td>True</td>\n",
       "    </tr>\n",
       "    <tr>\n",
       "      <th>19</th>\n",
       "      <td>Zona Incerta (R)</td>\n",
       "      <td>Intermediate Reticular Nucleus (R)</td>\n",
       "      <td>0.627274</td>\n",
       "      <td>4.421685e-06</td>\n",
       "      <td>0.234155</td>\n",
       "      <td>True</td>\n",
       "    </tr>\n",
       "  </tbody>\n",
       "</table>\n",
       "</div>"
      ],
      "text/plain": [
       "                                               ROI_1  \\\n",
       "0                                Corpus Callosum (L)   \n",
       "1                                Corpus Callosum (L)   \n",
       "2                                Corpus Callosum (L)   \n",
       "3                                Corpus Callosum (L)   \n",
       "4                                         Septum (R)   \n",
       "5                                       Striatum (L)   \n",
       "6                                Corpus Callosum (L)   \n",
       "7                                    Hippocampus (L)   \n",
       "8                  Caudomedial Entorhinal Cortex (R)   \n",
       "9                                Corpus Callosum (L)   \n",
       "10                    Midbrain Reticular Nucleus (L)   \n",
       "11                               Corpus Callosum (L)   \n",
       "12                       Spinal Trigeminal Nerve (L)   \n",
       "13           Secondary Visual CortexLateral Area (L)   \n",
       "14                               Globus Pallidus (R)   \n",
       "15                                      Striatum (L)   \n",
       "16  Primary Somatosensory Cortex Hindlimb Region (L)   \n",
       "17                               Corpus Callosum (L)   \n",
       "18                               Corpus Callosum (L)   \n",
       "19                                  Zona Incerta (R)   \n",
       "\n",
       "                                           ROI_2      stat        pvalue  \\\n",
       "0                                   Striatum (R)  0.717036  9.911903e-07   \n",
       "1                           Internal Capsule (R)  0.699473  1.327371e-06   \n",
       "2              Reticular Nucleus of Thalamus (R)  0.698197  1.355858e-06   \n",
       "3                               Zona Incerta (R)  0.685735  1.668308e-06   \n",
       "4                            Corpus Callosum (R)  0.670809  2.139082e-06   \n",
       "5                                   Striatum (R)  0.663875  2.401064e-06   \n",
       "6                    Ventral Thalamic Nuclei (R)  0.663380  2.420987e-06   \n",
       "7                 Middle Cerebellar Peduncle (L)  0.658415  2.629842e-06   \n",
       "8             Ventral Hippocampal Commissure (R)  0.655984  2.738604e-06   \n",
       "9                 Midbrain Reticular Nucleus (R)  0.652512  2.901853e-06   \n",
       "10              Superior Cerebellar Peduncle (L)  0.647961  3.130693e-06   \n",
       "11                           Corpus Callosum (R)  0.645608  3.255997e-06   \n",
       "12                Middle Cerebellar Peduncle (L)  0.645284  3.273650e-06   \n",
       "13                                  Striatum (R)  0.641368  3.494704e-06   \n",
       "14                Midbrain Reticular Nucleus (R)  0.631761  4.102502e-06   \n",
       "15                           Corpus Callosum (R)  0.631710  4.105987e-06   \n",
       "16  Secondary Visual Cortex Mediomedial Area (L)  0.628985  4.297134e-06   \n",
       "17   Primary Somatosensory Cortex Jaw Region (R)  0.628365  4.341833e-06   \n",
       "18                    Ventral Orbital Cortex (R)  0.627970  4.370614e-06   \n",
       "19            Intermediate Reticular Nucleus (R)  0.627274  4.421685e-06   \n",
       "\n",
       "    holm_pvalue  bh_significant  \n",
       "0      0.052508            True  \n",
       "1      0.070316            True  \n",
       "2      0.071824            True  \n",
       "3      0.088374            True  \n",
       "4      0.113309            True  \n",
       "5      0.127184            True  \n",
       "6      0.128237            True  \n",
       "7      0.139297            True  \n",
       "8      0.145056            True  \n",
       "9      0.153700            True  \n",
       "10     0.165817            True  \n",
       "11     0.172451            True  \n",
       "12     0.173382            True  \n",
       "13     0.185086            True  \n",
       "14     0.217273            True  \n",
       "15     0.217453            True  \n",
       "16     0.227572            True  \n",
       "17     0.229935            True  \n",
       "18     0.231455            True  \n",
       "19     0.234155            True  "
      ]
     },
     "execution_count": 11,
     "metadata": {},
     "output_type": "execute_result"
    },
    {
     "data": {
      "application/javascript": "\n            setTimeout(function() {\n                var nbb_cell_id = 11;\n                var nbb_unformatted_code = \"# Get the top 20 strongest signal edges\\nstrong_signal_edges = signal_edges.head(20)\\nstrong_signal_edges[\\\"ROI_1\\\"] = strong_signal_edges[\\\"ROI_1\\\"].apply(lookup_roi_name)\\nstrong_signal_edges[\\\"ROI_2\\\"] = strong_signal_edges[\\\"ROI_2\\\"].apply(lookup_roi_name)\\nstrong_signal_edges\";\n                var nbb_formatted_code = \"# Get the top 20 strongest signal edges\\nstrong_signal_edges = signal_edges.head(20)\\nstrong_signal_edges[\\\"ROI_1\\\"] = strong_signal_edges[\\\"ROI_1\\\"].apply(lookup_roi_name)\\nstrong_signal_edges[\\\"ROI_2\\\"] = strong_signal_edges[\\\"ROI_2\\\"].apply(lookup_roi_name)\\nstrong_signal_edges\";\n                var nbb_cells = Jupyter.notebook.get_cells();\n                for (var i = 0; i < nbb_cells.length; ++i) {\n                    if (nbb_cells[i].input_prompt_number == nbb_cell_id) {\n                        if (nbb_cells[i].get_text() == nbb_unformatted_code) {\n                             nbb_cells[i].set_text(nbb_formatted_code);\n                        }\n                        break;\n                    }\n                }\n            }, 500);\n            ",
      "text/plain": [
       "<IPython.core.display.Javascript object>"
      ]
     },
     "metadata": {},
     "output_type": "display_data"
    }
   ],
   "source": [
    "# Get the top 20 strongest signal edges\n",
    "strong_signal_edges = signal_edges.head(20)\n",
    "strong_signal_edges[\"ROI_1\"] = strong_signal_edges[\"ROI_1\"].apply(lookup_roi_name)\n",
    "strong_signal_edges[\"ROI_2\"] = strong_signal_edges[\"ROI_2\"].apply(lookup_roi_name)\n",
    "strong_signal_edges"
   ]
  },
  {
   "cell_type": "code",
   "execution_count": 12,
   "metadata": {},
   "outputs": [
    {
     "data": {
      "text/plain": [
       "5179"
      ]
     },
     "execution_count": 12,
     "metadata": {},
     "output_type": "execute_result"
    },
    {
     "data": {
      "application/javascript": "\n            setTimeout(function() {\n                var nbb_cell_id = 12;\n                var nbb_unformatted_code = \"signal_edges[\\\"bh_significant\\\"].sum()\";\n                var nbb_formatted_code = \"signal_edges[\\\"bh_significant\\\"].sum()\";\n                var nbb_cells = Jupyter.notebook.get_cells();\n                for (var i = 0; i < nbb_cells.length; ++i) {\n                    if (nbb_cells[i].input_prompt_number == nbb_cell_id) {\n                        if (nbb_cells[i].get_text() == nbb_unformatted_code) {\n                             nbb_cells[i].set_text(nbb_formatted_code);\n                        }\n                        break;\n                    }\n                }\n            }, 500);\n            ",
      "text/plain": [
       "<IPython.core.display.Javascript object>"
      ]
     },
     "metadata": {},
     "output_type": "display_data"
    }
   ],
   "source": [
    "# How many p-value corrected edges are significant?\n",
    "signal_edges[\"bh_significant\"].sum()"
   ]
  },
  {
   "cell_type": "markdown",
   "metadata": {},
   "source": [
    "Plot the distribution of edgeweights for the top signal edge across all genotypes.\n",
    "Clearly different!"
   ]
  },
  {
   "cell_type": "code",
   "execution_count": 13,
   "metadata": {},
   "outputs": [
    {
     "data": {
      "image/png": "[encoded data removed]",
      "text/plain": [
       "<Figure size 375x375 with 1 Axes>"
      ]
     },
     "metadata": {
      "needs_background": "light"
     },
     "output_type": "display_data"
    },
    {
     "data": {
      "application/javascript": "\n            setTimeout(function() {\n                var nbb_cell_id = 13;\n                var nbb_unformatted_code = \"def stripplot(df, data_column):\\n\\n    kwargs = {\\n        \\\"alpha\\\": 0.75,\\n        \\\"edgecolor\\\": None,\\n        \\\"linewidth\\\": 0,\\n        \\\"marker\\\": \\\"o\\\",\\n        \\\"palette\\\": [\\\"#e7298a\\\", \\\"#1b9e77\\\", \\\"#d95f02\\\", \\\"#7570b3\\\"],\\n    }\\n\\n    fig, ax = plt.subplots(figsize=(2.5, 2.5), dpi=150)\\n\\n    g = sns.stripplot(\\n        x=\\\"Strain\\\",\\n        y=data_column,\\n        data=df,\\n        jitter=True,\\n        orient=\\\"v\\\",\\n        ax=ax,\\n        **kwargs,\\n    )\\n\\n    return g\\n    \\n\\nedgeweight = graphs[:, 121 - 1, 227 - 1]\\nedgeweight = pd.DataFrame({\\\"Edgeweight\\\": edgeweight, \\\"Strain\\\": labels})\\ng = stripplot(edgeweight, \\\"Edgeweight\\\")\\ng.ticklabel_format(style=\\\"sci\\\", scilimits=(0, 0), axis=\\\"y\\\")\\nplt.show()\";\n                var nbb_formatted_code = \"def stripplot(df, data_column):\\n\\n    kwargs = {\\n        \\\"alpha\\\": 0.75,\\n        \\\"edgecolor\\\": None,\\n        \\\"linewidth\\\": 0,\\n        \\\"marker\\\": \\\"o\\\",\\n        \\\"palette\\\": [\\\"#e7298a\\\", \\\"#1b9e77\\\", \\\"#d95f02\\\", \\\"#7570b3\\\"],\\n    }\\n\\n    fig, ax = plt.subplots(figsize=(2.5, 2.5), dpi=150)\\n\\n    g = sns.stripplot(\\n        x=\\\"Strain\\\",\\n        y=data_column,\\n        data=df,\\n        jitter=True,\\n        orient=\\\"v\\\",\\n        ax=ax,\\n        **kwargs,\\n    )\\n\\n    return g\\n\\n\\nedgeweight = graphs[:, 121 - 1, 227 - 1]\\nedgeweight = pd.DataFrame({\\\"Edgeweight\\\": edgeweight, \\\"Strain\\\": labels})\\ng = stripplot(edgeweight, \\\"Edgeweight\\\")\\ng.ticklabel_format(style=\\\"sci\\\", scilimits=(0, 0), axis=\\\"y\\\")\\nplt.show()\";\n                var nbb_cells = Jupyter.notebook.get_cells();\n                for (var i = 0; i < nbb_cells.length; ++i) {\n                    if (nbb_cells[i].input_prompt_number == nbb_cell_id) {\n                        if (nbb_cells[i].get_text() == nbb_unformatted_code) {\n                             nbb_cells[i].set_text(nbb_formatted_code);\n                        }\n                        break;\n                    }\n                }\n            }, 500);\n            ",
      "text/plain": [
       "<IPython.core.display.Javascript object>"
      ]
     },
     "metadata": {},
     "output_type": "display_data"
    }
   ],
   "source": [
    "def stripplot(df, data_column):\n",
    "\n",
    "    kwargs = {\n",
    "        \"alpha\": 0.75,\n",
    "        \"edgecolor\": None,\n",
    "        \"linewidth\": 0,\n",
    "        \"marker\": \"o\",\n",
    "        \"palette\": [\"#e7298a\", \"#1b9e77\", \"#d95f02\", \"#7570b3\"],\n",
    "    }\n",
    "\n",
    "    fig, ax = plt.subplots(figsize=(2.5, 2.5), dpi=150)\n",
    "\n",
    "    g = sns.stripplot(\n",
    "        x=\"Strain\",\n",
    "        y=data_column,\n",
    "        data=df,\n",
    "        jitter=True,\n",
    "        orient=\"v\",\n",
    "        ax=ax,\n",
    "        **kwargs,\n",
    "    )\n",
    "\n",
    "    return g\n",
    "    \n",
    "\n",
    "edgeweight = graphs[:, 121 - 1, 227 - 1]\n",
    "edgeweight = pd.DataFrame({\"Edgeweight\": edgeweight, \"Strain\": labels})\n",
    "g = stripplot(edgeweight, \"Edgeweight\")\n",
    "g.ticklabel_format(style=\"sci\", scilimits=(0, 0), axis=\"y\")\n",
    "plt.show()"
   ]
  },
  {
   "cell_type": "markdown",
   "metadata": {},
   "source": [
    "## Identifying Signal Vertices\n",
    "\n",
    "A sample of connectomes can be jointly embedded in a low-dimensional Euclidean space using the omnibus embedding (`omni`).\n",
    "A host of machine learning tasks can be accomplished with this joint embedded representation of the connectome, such as clustering or classification of vertices.\n",
    "Here, we use the embedding to formulate a statistical test that can be used to identify vertices that are strongly associated with given phenotypes.\n",
    "According to a Central Limit Theorem for `omni`, these latent positions are universally consistent and asymptotically normal."
   ]
  },
  {
   "cell_type": "code",
   "execution_count": 14,
   "metadata": {},
   "outputs": [
    {
     "data": {
      "application/javascript": "\n            setTimeout(function() {\n                var nbb_cell_id = 14;\n                var nbb_unformatted_code = \"from itertools import product\\n\\nfrom graspologic.embed import OmnibusEmbed\";\n                var nbb_formatted_code = \"from itertools import product\\n\\nfrom graspologic.embed import OmnibusEmbed\";\n                var nbb_cells = Jupyter.notebook.get_cells();\n                for (var i = 0; i < nbb_cells.length; ++i) {\n                    if (nbb_cells[i].input_prompt_number == nbb_cell_id) {\n                        if (nbb_cells[i].get_text() == nbb_unformatted_code) {\n                             nbb_cells[i].set_text(nbb_formatted_code);\n                        }\n                        break;\n                    }\n                }\n            }, 500);\n            ",
      "text/plain": [
       "<IPython.core.display.Javascript object>"
      ]
     },
     "metadata": {},
     "output_type": "display_data"
    }
   ],
   "source": [
    "from itertools import product\n",
    "\n",
    "from graspologic.embed import OmnibusEmbed"
   ]
  },
  {
   "cell_type": "code",
   "execution_count": 15,
   "metadata": {},
   "outputs": [
    {
     "name": "stdout",
     "output_type": "stream",
     "text": [
      "Omnibus embedding shape is (10432, 5)\n"
     ]
    },
    {
     "data": {
      "text/html": [
       "<div>\n",
       "<style scoped>\n",
       "    .dataframe tbody tr th:only-of-type {\n",
       "        vertical-align: middle;\n",
       "    }\n",
       "\n",
       "    .dataframe tbody tr th {\n",
       "        vertical-align: top;\n",
       "    }\n",
       "\n",
       "    .dataframe thead th {\n",
       "        text-align: right;\n",
       "    }\n",
       "</style>\n",
       "<table border=\"1\" class=\"dataframe\">\n",
       "  <thead>\n",
       "    <tr style=\"text-align: right;\">\n",
       "      <th></th>\n",
       "      <th>omni_1</th>\n",
       "      <th>omni_2</th>\n",
       "      <th>omni_3</th>\n",
       "      <th>omni_4</th>\n",
       "      <th>omni_5</th>\n",
       "    </tr>\n",
       "  </thead>\n",
       "  <tbody>\n",
       "    <tr>\n",
       "      <th>0</th>\n",
       "      <td>15.661184</td>\n",
       "      <td>-4.884497</td>\n",
       "      <td>5.237723</td>\n",
       "      <td>21.634930</td>\n",
       "      <td>3.793096</td>\n",
       "    </tr>\n",
       "    <tr>\n",
       "      <th>1</th>\n",
       "      <td>10.487819</td>\n",
       "      <td>-3.178093</td>\n",
       "      <td>-0.489620</td>\n",
       "      <td>18.743634</td>\n",
       "      <td>0.101909</td>\n",
       "    </tr>\n",
       "    <tr>\n",
       "      <th>2</th>\n",
       "      <td>3.318623</td>\n",
       "      <td>-2.310029</td>\n",
       "      <td>-5.885230</td>\n",
       "      <td>10.273286</td>\n",
       "      <td>-1.615462</td>\n",
       "    </tr>\n",
       "    <tr>\n",
       "      <th>3</th>\n",
       "      <td>0.895805</td>\n",
       "      <td>-0.755028</td>\n",
       "      <td>-2.435315</td>\n",
       "      <td>3.625679</td>\n",
       "      <td>-0.737963</td>\n",
       "    </tr>\n",
       "    <tr>\n",
       "      <th>4</th>\n",
       "      <td>14.854647</td>\n",
       "      <td>-2.753113</td>\n",
       "      <td>1.715284</td>\n",
       "      <td>19.959635</td>\n",
       "      <td>0.375624</td>\n",
       "    </tr>\n",
       "  </tbody>\n",
       "</table>\n",
       "</div>"
      ],
      "text/plain": [
       "      omni_1    omni_2    omni_3     omni_4    omni_5\n",
       "0  15.661184 -4.884497  5.237723  21.634930  3.793096\n",
       "1  10.487819 -3.178093 -0.489620  18.743634  0.101909\n",
       "2   3.318623 -2.310029 -5.885230  10.273286 -1.615462\n",
       "3   0.895805 -0.755028 -2.435315   3.625679 -0.737963\n",
       "4  14.854647 -2.753113  1.715284  19.959635  0.375624"
      ]
     },
     "execution_count": 15,
     "metadata": {},
     "output_type": "execute_result"
    },
    {
     "data": {
      "application/javascript": "\n            setTimeout(function() {\n                var nbb_cell_id = 15;\n                var nbb_unformatted_code = \"# Jointly embed graphs using OMNI\\nembedder = OmnibusEmbed()\\nomni_embedding = embedder.fit_transform(graphs)\\nomni_embedding = omni_embedding.reshape(-1, embedder.n_components_)\\nprint(f\\\"Omnibus embedding shape is {omni_embedding.shape}\\\")\\n\\n# Convert array to a dataframe\\nomni_embedding = pd.DataFrame(omni_embedding, columns=[f\\\"omni_{i + 1}\\\" for i in range(embedder.n_components_)]).astype(np.float64)\\nomni_embedding.head()\";\n                var nbb_formatted_code = \"# Jointly embed graphs using OMNI\\nembedder = OmnibusEmbed()\\nomni_embedding = embedder.fit_transform(graphs)\\nomni_embedding = omni_embedding.reshape(-1, embedder.n_components_)\\nprint(f\\\"Omnibus embedding shape is {omni_embedding.shape}\\\")\\n\\n# Convert array to a dataframe\\nomni_embedding = pd.DataFrame(\\n    omni_embedding, columns=[f\\\"omni_{i + 1}\\\" for i in range(embedder.n_components_)]\\n).astype(np.float64)\\nomni_embedding.head()\";\n                var nbb_cells = Jupyter.notebook.get_cells();\n                for (var i = 0; i < nbb_cells.length; ++i) {\n                    if (nbb_cells[i].input_prompt_number == nbb_cell_id) {\n                        if (nbb_cells[i].get_text() == nbb_unformatted_code) {\n                             nbb_cells[i].set_text(nbb_formatted_code);\n                        }\n                        break;\n                    }\n                }\n            }, 500);\n            ",
      "text/plain": [
       "<IPython.core.display.Javascript object>"
      ]
     },
     "metadata": {},
     "output_type": "display_data"
    }
   ],
   "source": [
    "# Jointly embed graphs using OMNI\n",
    "embedder = OmnibusEmbed()\n",
    "omni_embedding = embedder.fit_transform(graphs)\n",
    "omni_embedding = omni_embedding.reshape(-1, embedder.n_components_)\n",
    "print(f\"Omnibus embedding shape is {omni_embedding.shape}\")\n",
    "\n",
    "# Convert array to a dataframe\n",
    "omni_embedding = pd.DataFrame(omni_embedding, columns=[f\"omni_{i + 1}\" for i in range(embedder.n_components_)]).astype(np.float64)\n",
    "omni_embedding.head()"
   ]
  },
  {
   "cell_type": "code",
   "execution_count": 16,
   "metadata": {},
   "outputs": [
    {
     "data": {
      "text/html": [
       "<div>\n",
       "<style scoped>\n",
       "    .dataframe tbody tr th:only-of-type {\n",
       "        vertical-align: middle;\n",
       "    }\n",
       "\n",
       "    .dataframe tbody tr th {\n",
       "        vertical-align: top;\n",
       "    }\n",
       "\n",
       "    .dataframe thead th {\n",
       "        text-align: right;\n",
       "    }\n",
       "</style>\n",
       "<table border=\"1\" class=\"dataframe\">\n",
       "  <thead>\n",
       "    <tr style=\"text-align: right;\">\n",
       "      <th></th>\n",
       "      <th>omni_1</th>\n",
       "      <th>omni_2</th>\n",
       "      <th>omni_3</th>\n",
       "      <th>omni_4</th>\n",
       "      <th>omni_5</th>\n",
       "      <th>participant_id</th>\n",
       "      <th>ROI</th>\n",
       "      <th>genotype</th>\n",
       "    </tr>\n",
       "  </thead>\n",
       "  <tbody>\n",
       "    <tr>\n",
       "      <th>0</th>\n",
       "      <td>15.661184</td>\n",
       "      <td>-4.884497</td>\n",
       "      <td>5.237723</td>\n",
       "      <td>21.634930</td>\n",
       "      <td>3.793096</td>\n",
       "      <td>54776</td>\n",
       "      <td>1</td>\n",
       "      <td>BTBR</td>\n",
       "    </tr>\n",
       "    <tr>\n",
       "      <th>1</th>\n",
       "      <td>10.487819</td>\n",
       "      <td>-3.178093</td>\n",
       "      <td>-0.489620</td>\n",
       "      <td>18.743634</td>\n",
       "      <td>0.101909</td>\n",
       "      <td>54776</td>\n",
       "      <td>2</td>\n",
       "      <td>BTBR</td>\n",
       "    </tr>\n",
       "    <tr>\n",
       "      <th>2</th>\n",
       "      <td>3.318623</td>\n",
       "      <td>-2.310029</td>\n",
       "      <td>-5.885230</td>\n",
       "      <td>10.273286</td>\n",
       "      <td>-1.615462</td>\n",
       "      <td>54776</td>\n",
       "      <td>3</td>\n",
       "      <td>BTBR</td>\n",
       "    </tr>\n",
       "    <tr>\n",
       "      <th>3</th>\n",
       "      <td>0.895805</td>\n",
       "      <td>-0.755028</td>\n",
       "      <td>-2.435315</td>\n",
       "      <td>3.625679</td>\n",
       "      <td>-0.737963</td>\n",
       "      <td>54776</td>\n",
       "      <td>4</td>\n",
       "      <td>BTBR</td>\n",
       "    </tr>\n",
       "    <tr>\n",
       "      <th>4</th>\n",
       "      <td>14.854647</td>\n",
       "      <td>-2.753113</td>\n",
       "      <td>1.715284</td>\n",
       "      <td>19.959635</td>\n",
       "      <td>0.375624</td>\n",
       "      <td>54776</td>\n",
       "      <td>5</td>\n",
       "      <td>BTBR</td>\n",
       "    </tr>\n",
       "  </tbody>\n",
       "</table>\n",
       "</div>"
      ],
      "text/plain": [
       "      omni_1    omni_2    omni_3     omni_4    omni_5 participant_id  ROI  \\\n",
       "0  15.661184 -4.884497  5.237723  21.634930  3.793096          54776    1   \n",
       "1  10.487819 -3.178093 -0.489620  18.743634  0.101909          54776    2   \n",
       "2   3.318623 -2.310029 -5.885230  10.273286 -1.615462          54776    3   \n",
       "3   0.895805 -0.755028 -2.435315   3.625679 -0.737963          54776    4   \n",
       "4  14.854647 -2.753113  1.715284  19.959635  0.375624          54776    5   \n",
       "\n",
       "  genotype  \n",
       "0     BTBR  \n",
       "1     BTBR  \n",
       "2     BTBR  \n",
       "3     BTBR  \n",
       "4     BTBR  "
      ]
     },
     "execution_count": 16,
     "metadata": {},
     "output_type": "execute_result"
    },
    {
     "data": {
      "application/javascript": "\n            setTimeout(function() {\n                var nbb_cell_id = 16;\n                var nbb_unformatted_code = \"# Construct identifiers for each embedded vertex\\nrois = np.arange(n_vertices) + 1\\n\\nparticipants = mice.participants[\\\"participant_id\\\"]\\nparticipants = participants.apply(lambda x: x.split(\\\"-\\\")[1])\\n\\nidentifiers = np.array(list(product(participants, rois))).reshape(-1, 2)\\nidentifiers = pd.DataFrame(identifiers, columns=[\\\"participant_id\\\", \\\"ROI\\\"])\\nidentifiers[\\\"ROI\\\"] = identifiers[\\\"ROI\\\"].astype(np.int64)\\nidentifiers[\\\"genotype\\\"] = np.array([[strain] * n_vertices for strain in labels]).reshape(-1)\\n\\nomni = pd.concat([omni_embedding, identifiers], axis=1)\\nomni.head()\";\n                var nbb_formatted_code = \"# Construct identifiers for each embedded vertex\\nrois = np.arange(n_vertices) + 1\\n\\nparticipants = mice.participants[\\\"participant_id\\\"]\\nparticipants = participants.apply(lambda x: x.split(\\\"-\\\")[1])\\n\\nidentifiers = np.array(list(product(participants, rois))).reshape(-1, 2)\\nidentifiers = pd.DataFrame(identifiers, columns=[\\\"participant_id\\\", \\\"ROI\\\"])\\nidentifiers[\\\"ROI\\\"] = identifiers[\\\"ROI\\\"].astype(np.int64)\\nidentifiers[\\\"genotype\\\"] = np.array(\\n    [[strain] * n_vertices for strain in labels]\\n).reshape(-1)\\n\\nomni = pd.concat([omni_embedding, identifiers], axis=1)\\nomni.head()\";\n                var nbb_cells = Jupyter.notebook.get_cells();\n                for (var i = 0; i < nbb_cells.length; ++i) {\n                    if (nbb_cells[i].input_prompt_number == nbb_cell_id) {\n                        if (nbb_cells[i].get_text() == nbb_unformatted_code) {\n                             nbb_cells[i].set_text(nbb_formatted_code);\n                        }\n                        break;\n                    }\n                }\n            }, 500);\n            ",
      "text/plain": [
       "<IPython.core.display.Javascript object>"
      ]
     },
     "metadata": {},
     "output_type": "display_data"
    }
   ],
   "source": [
    "# Construct identifiers for each embedded vertex\n",
    "rois = np.arange(n_vertices) + 1\n",
    "\n",
    "participants = mice.participants[\"participant_id\"]\n",
    "participants = participants.apply(lambda x: x.split(\"-\")[1])\n",
    "\n",
    "identifiers = np.array(list(product(participants, rois))).reshape(-1, 2)\n",
    "identifiers = pd.DataFrame(identifiers, columns=[\"participant_id\", \"ROI\"])\n",
    "identifiers[\"ROI\"] = identifiers[\"ROI\"].astype(np.int64)\n",
    "identifiers[\"genotype\"] = np.array([[strain] * n_vertices for strain in labels]).reshape(-1)\n",
    "\n",
    "omni = pd.concat([omni_embedding, identifiers], axis=1)\n",
    "omni.head()"
   ]
  },
  {
   "cell_type": "markdown",
   "metadata": {},
   "source": [
    "For each of the 32 mice, `omni` embeds each vertex in the connectome as a latent position vector $x \\in \\mathbb{R}^5$.\n",
    "We test for differences in the distribution of vertex latent positions using the `R` implementation of `MANOVA`."
   ]
  },
  {
   "cell_type": "code",
   "execution_count": 17,
   "metadata": {},
   "outputs": [
    {
     "data": {
      "application/javascript": "\n            setTimeout(function() {\n                var nbb_cell_id = 17;\n                var nbb_unformatted_code = \"%%R -i omni -i n_vertices -o signal_vertices\\n\\nsuppressPackageStartupMessages(require(tidyverse))\\n\\ncol1 <- which(grepl(\\\"omni\\\", names(omni))) # column indices for the embeddings\\ncol2 <- which(grepl(\\\"genotype\\\", names(omni))) # column index for the genotype\\n\\nembedding <- colnames(omni)[col1]\\ngenotype <- colnames(omni)[col2]\\nform <- paste0(\\\"cbind(\\\", paste(embedding, collapse=\\\", \\\"), \\\") ~ \\\", genotype)\\n\\npvec <- rep(0, n_vertices)\\npillai <- rep(0, n_vertices)\\nF <- rep(0, n_vertices)\\nnum.df <- rep(0, n_vertices)\\nden.df <- rep(0, n_vertices)\\n\\nfor (i in 1 : n_vertices) {\\n    omni.v <- omni[which(omni$ROI == i), ]\\n    ans <- manova(as.formula(form), data=omni.v)\\n    pvec[i] <- summary(ans)$stats[1, \\\"Pr(>F)\\\"]\\n    pillai[i] <- summary(ans)$stats[1, \\\"Pillai\\\"]\\n    F[i] <- summary(ans)$stats[1, \\\"approx F\\\"]\\n    num.df[i] <- summary(ans)$stats[1, \\\"num Df\\\"]\\n    den.df[i] <- summary(ans)$stats[1, \\\"den Df\\\"]\\n}\\n\\nsignal_vertices <- data.frame(ROI=unique(omni$ROI), pillai=pillai, F=F, num.df=num.df, den.df=den.df, pvalue=pvec)\";\n                var nbb_formatted_code = \"%%R -i omni -i n_vertices -o signal_vertices\\n\\nsuppressPackageStartupMessages(require(tidyverse))\\n\\ncol1 <- which(grepl(\\\"omni\\\", names(omni))) # column indices for the embeddings\\ncol2 <- which(grepl(\\\"genotype\\\", names(omni))) # column index for the genotype\\n\\nembedding <- colnames(omni)[col1]\\ngenotype <- colnames(omni)[col2]\\nform <- paste0(\\\"cbind(\\\", paste(embedding, collapse=\\\", \\\"), \\\") ~ \\\", genotype)\\n\\npvec <- rep(0, n_vertices)\\npillai <- rep(0, n_vertices)\\nF <- rep(0, n_vertices)\\nnum.df <- rep(0, n_vertices)\\nden.df <- rep(0, n_vertices)\\n\\nfor (i in 1 : n_vertices) {\\n    omni.v <- omni[which(omni$ROI == i), ]\\n    ans <- manova(as.formula(form), data=omni.v)\\n    pvec[i] <- summary(ans)$stats[1, \\\"Pr(>F)\\\"]\\n    pillai[i] <- summary(ans)$stats[1, \\\"Pillai\\\"]\\n    F[i] <- summary(ans)$stats[1, \\\"approx F\\\"]\\n    num.df[i] <- summary(ans)$stats[1, \\\"num Df\\\"]\\n    den.df[i] <- summary(ans)$stats[1, \\\"den Df\\\"]\\n}\\n\\nsignal_vertices <- data.frame(ROI=unique(omni$ROI), pillai=pillai, F=F, num.df=num.df, den.df=den.df, pvalue=pvec)\";\n                var nbb_cells = Jupyter.notebook.get_cells();\n                for (var i = 0; i < nbb_cells.length; ++i) {\n                    if (nbb_cells[i].input_prompt_number == nbb_cell_id) {\n                        if (nbb_cells[i].get_text() == nbb_unformatted_code) {\n                             nbb_cells[i].set_text(nbb_formatted_code);\n                        }\n                        break;\n                    }\n                }\n            }, 500);\n            ",
      "text/plain": [
       "<IPython.core.display.Javascript object>"
      ]
     },
     "metadata": {},
     "output_type": "display_data"
    }
   ],
   "source": [
    "%%R -i omni -i n_vertices -o signal_vertices\n",
    "\n",
    "suppressPackageStartupMessages(require(tidyverse))\n",
    "\n",
    "col1 <- which(grepl(\"omni\", names(omni))) # column indices for the embeddings\n",
    "col2 <- which(grepl(\"genotype\", names(omni))) # column index for the genotype\n",
    "\n",
    "embedding <- colnames(omni)[col1]\n",
    "genotype <- colnames(omni)[col2]\n",
    "form <- paste0(\"cbind(\", paste(embedding, collapse=\", \"), \") ~ \", genotype)\n",
    "\n",
    "pvec <- rep(0, n_vertices)\n",
    "pillai <- rep(0, n_vertices)\n",
    "F <- rep(0, n_vertices)\n",
    "num.df <- rep(0, n_vertices)\n",
    "den.df <- rep(0, n_vertices)\n",
    "\n",
    "for (i in 1 : n_vertices) {\n",
    "    omni.v <- omni[which(omni$ROI == i), ]\n",
    "    ans <- manova(as.formula(form), data=omni.v)\n",
    "    pvec[i] <- summary(ans)$stats[1, \"Pr(>F)\"]\n",
    "    pillai[i] <- summary(ans)$stats[1, \"Pillai\"]\n",
    "    F[i] <- summary(ans)$stats[1, \"approx F\"]\n",
    "    num.df[i] <- summary(ans)$stats[1, \"num Df\"]\n",
    "    den.df[i] <- summary(ans)$stats[1, \"den Df\"]\n",
    "}\n",
    "\n",
    "signal_vertices <- data.frame(ROI=unique(omni$ROI), pillai=pillai, F=F, num.df=num.df, den.df=den.df, pvalue=pvec)"
   ]
  },
  {
   "cell_type": "code",
   "execution_count": 18,
   "metadata": {},
   "outputs": [
    {
     "data": {
      "application/javascript": "\n            setTimeout(function() {\n                var nbb_cell_id = 18;\n                var nbb_unformatted_code = \"# Correct p-values\\nsignal_vertices.sort_values(by=\\\"pvalue\\\", inplace=True, ignore_index=True)\\n_, holm_pvalue, _, _ = multipletests(signal_vertices[\\\"pvalue\\\"], alpha=0.05, method=\\\"holm\\\")\\nsignal_vertices[\\\"holm_pvalue\\\"] = holm_pvalue\\n\\n# Benjamini-Hochberg correct p-values\\nm = len(signal_vertices)\\ncorrection = sum((1 / i for i in range(1, m + 1)))\\nreject, _, _, _ = multipletests(signal_vertices[\\\"pvalue\\\"], alpha=alpha / correction, method=\\\"fdr_bh\\\", is_sorted=True)\\nsignal_vertices[\\\"bh_significant\\\"] = reject\\n\\nsignal_edges.sort_values(by=\\\"pvalue\\\", inplace=True, ignore_index=True)\\nsignal_vertices.to_csv(\\\"../results/signal_vertices.csv\\\", index=False)\";\n                var nbb_formatted_code = \"# Correct p-values\\nsignal_vertices.sort_values(by=\\\"pvalue\\\", inplace=True, ignore_index=True)\\n_, holm_pvalue, _, _ = multipletests(\\n    signal_vertices[\\\"pvalue\\\"], alpha=0.05, method=\\\"holm\\\"\\n)\\nsignal_vertices[\\\"holm_pvalue\\\"] = holm_pvalue\\n\\n# Benjamini-Hochberg correct p-values\\nm = len(signal_vertices)\\ncorrection = sum((1 / i for i in range(1, m + 1)))\\nreject, _, _, _ = multipletests(\\n    signal_vertices[\\\"pvalue\\\"], alpha=alpha / correction, method=\\\"fdr_bh\\\", is_sorted=True\\n)\\nsignal_vertices[\\\"bh_significant\\\"] = reject\\n\\nsignal_edges.sort_values(by=\\\"pvalue\\\", inplace=True, ignore_index=True)\\nsignal_vertices.to_csv(\\\"../results/signal_vertices.csv\\\", index=False)\";\n                var nbb_cells = Jupyter.notebook.get_cells();\n                for (var i = 0; i < nbb_cells.length; ++i) {\n                    if (nbb_cells[i].input_prompt_number == nbb_cell_id) {\n                        if (nbb_cells[i].get_text() == nbb_unformatted_code) {\n                             nbb_cells[i].set_text(nbb_formatted_code);\n                        }\n                        break;\n                    }\n                }\n            }, 500);\n            ",
      "text/plain": [
       "<IPython.core.display.Javascript object>"
      ]
     },
     "metadata": {},
     "output_type": "display_data"
    }
   ],
   "source": [
    "# Correct p-values\n",
    "signal_vertices.sort_values(by=\"pvalue\", inplace=True, ignore_index=True)\n",
    "_, holm_pvalue, _, _ = multipletests(signal_vertices[\"pvalue\"], alpha=0.05, method=\"holm\")\n",
    "signal_vertices[\"holm_pvalue\"] = holm_pvalue\n",
    "\n",
    "# Benjamini-Hochberg correct p-values\n",
    "m = len(signal_vertices)\n",
    "correction = sum((1 / i for i in range(1, m + 1)))\n",
    "reject, _, _, _ = multipletests(signal_vertices[\"pvalue\"], alpha=alpha / correction, method=\"fdr_bh\", is_sorted=True)\n",
    "signal_vertices[\"bh_significant\"] = reject\n",
    "\n",
    "signal_edges.sort_values(by=\"pvalue\", inplace=True, ignore_index=True)\n",
    "signal_vertices.to_csv(\"../results/signal_vertices.csv\", index=False)"
   ]
  },
  {
   "cell_type": "code",
   "execution_count": 19,
   "metadata": {},
   "outputs": [
    {
     "data": {
      "text/html": [
       "<div>\n",
       "<style scoped>\n",
       "    .dataframe tbody tr th:only-of-type {\n",
       "        vertical-align: middle;\n",
       "    }\n",
       "\n",
       "    .dataframe tbody tr th {\n",
       "        vertical-align: top;\n",
       "    }\n",
       "\n",
       "    .dataframe thead th {\n",
       "        text-align: right;\n",
       "    }\n",
       "</style>\n",
       "<table border=\"1\" class=\"dataframe\">\n",
       "  <thead>\n",
       "    <tr style=\"text-align: right;\">\n",
       "      <th></th>\n",
       "      <th>ROI</th>\n",
       "      <th>pillai</th>\n",
       "      <th>F</th>\n",
       "      <th>num.df</th>\n",
       "      <th>den.df</th>\n",
       "      <th>pvalue</th>\n",
       "      <th>holm_pvalue</th>\n",
       "      <th>bh_significant</th>\n",
       "    </tr>\n",
       "  </thead>\n",
       "  <tbody>\n",
       "    <tr>\n",
       "      <th>0</th>\n",
       "      <td>Corpus Callosum (L)</td>\n",
       "      <td>2.591900</td>\n",
       "      <td>33.025931</td>\n",
       "      <td>15.0</td>\n",
       "      <td>78.0</td>\n",
       "      <td>1.370546e-27</td>\n",
       "      <td>4.467980e-25</td>\n",
       "      <td>True</td>\n",
       "    </tr>\n",
       "    <tr>\n",
       "      <th>1</th>\n",
       "      <td>Corpus Callosum (R)</td>\n",
       "      <td>2.550448</td>\n",
       "      <td>29.501176</td>\n",
       "      <td>15.0</td>\n",
       "      <td>78.0</td>\n",
       "      <td>5.386096e-26</td>\n",
       "      <td>1.750481e-23</td>\n",
       "      <td>True</td>\n",
       "    </tr>\n",
       "    <tr>\n",
       "      <th>2</th>\n",
       "      <td>Secondary Motor Cortex (L)</td>\n",
       "      <td>2.438402</td>\n",
       "      <td>22.577866</td>\n",
       "      <td>15.0</td>\n",
       "      <td>78.0</td>\n",
       "      <td>2.385152e-22</td>\n",
       "      <td>7.727892e-20</td>\n",
       "      <td>True</td>\n",
       "    </tr>\n",
       "    <tr>\n",
       "      <th>3</th>\n",
       "      <td>Midbrain Reticular Nucleus (R)</td>\n",
       "      <td>2.435367</td>\n",
       "      <td>22.428551</td>\n",
       "      <td>15.0</td>\n",
       "      <td>78.0</td>\n",
       "      <td>2.920123e-22</td>\n",
       "      <td>9.431999e-20</td>\n",
       "      <td>True</td>\n",
       "    </tr>\n",
       "    <tr>\n",
       "      <th>4</th>\n",
       "      <td>Fimbria (L)</td>\n",
       "      <td>2.424394</td>\n",
       "      <td>21.901876</td>\n",
       "      <td>15.0</td>\n",
       "      <td>78.0</td>\n",
       "      <td>6.012408e-22</td>\n",
       "      <td>1.935995e-19</td>\n",
       "      <td>True</td>\n",
       "    </tr>\n",
       "    <tr>\n",
       "      <th>5</th>\n",
       "      <td>Substantia Nigra (R)</td>\n",
       "      <td>2.298846</td>\n",
       "      <td>17.049028</td>\n",
       "      <td>15.0</td>\n",
       "      <td>78.0</td>\n",
       "      <td>9.455684e-19</td>\n",
       "      <td>3.035275e-16</td>\n",
       "      <td>True</td>\n",
       "    </tr>\n",
       "    <tr>\n",
       "      <th>6</th>\n",
       "      <td>Secondary Motor Cortex (R)</td>\n",
       "      <td>2.298378</td>\n",
       "      <td>17.034193</td>\n",
       "      <td>15.0</td>\n",
       "      <td>78.0</td>\n",
       "      <td>9.692478e-19</td>\n",
       "      <td>3.101593e-16</td>\n",
       "      <td>True</td>\n",
       "    </tr>\n",
       "    <tr>\n",
       "      <th>7</th>\n",
       "      <td>Internal Capsule (R)</td>\n",
       "      <td>2.297397</td>\n",
       "      <td>17.003148</td>\n",
       "      <td>15.0</td>\n",
       "      <td>78.0</td>\n",
       "      <td>1.020789e-18</td>\n",
       "      <td>3.256318e-16</td>\n",
       "      <td>True</td>\n",
       "    </tr>\n",
       "    <tr>\n",
       "      <th>8</th>\n",
       "      <td>Striatum (L)</td>\n",
       "      <td>2.259065</td>\n",
       "      <td>15.854467</td>\n",
       "      <td>15.0</td>\n",
       "      <td>78.0</td>\n",
       "      <td>7.291170e-18</td>\n",
       "      <td>2.318592e-15</td>\n",
       "      <td>True</td>\n",
       "    </tr>\n",
       "    <tr>\n",
       "      <th>9</th>\n",
       "      <td>Cerebral Peduncle (R)</td>\n",
       "      <td>2.229096</td>\n",
       "      <td>15.035989</td>\n",
       "      <td>15.0</td>\n",
       "      <td>78.0</td>\n",
       "      <td>3.147576e-17</td>\n",
       "      <td>9.977817e-15</td>\n",
       "      <td>True</td>\n",
       "    </tr>\n",
       "  </tbody>\n",
       "</table>\n",
       "</div>"
      ],
      "text/plain": [
       "                              ROI    pillai          F  num.df  den.df  \\\n",
       "0             Corpus Callosum (L)  2.591900  33.025931    15.0    78.0   \n",
       "1             Corpus Callosum (R)  2.550448  29.501176    15.0    78.0   \n",
       "2      Secondary Motor Cortex (L)  2.438402  22.577866    15.0    78.0   \n",
       "3  Midbrain Reticular Nucleus (R)  2.435367  22.428551    15.0    78.0   \n",
       "4                     Fimbria (L)  2.424394  21.901876    15.0    78.0   \n",
       "5            Substantia Nigra (R)  2.298846  17.049028    15.0    78.0   \n",
       "6      Secondary Motor Cortex (R)  2.298378  17.034193    15.0    78.0   \n",
       "7            Internal Capsule (R)  2.297397  17.003148    15.0    78.0   \n",
       "8                    Striatum (L)  2.259065  15.854467    15.0    78.0   \n",
       "9           Cerebral Peduncle (R)  2.229096  15.035989    15.0    78.0   \n",
       "\n",
       "         pvalue   holm_pvalue  bh_significant  \n",
       "0  1.370546e-27  4.467980e-25            True  \n",
       "1  5.386096e-26  1.750481e-23            True  \n",
       "2  2.385152e-22  7.727892e-20            True  \n",
       "3  2.920123e-22  9.431999e-20            True  \n",
       "4  6.012408e-22  1.935995e-19            True  \n",
       "5  9.455684e-19  3.035275e-16            True  \n",
       "6  9.692478e-19  3.101593e-16            True  \n",
       "7  1.020789e-18  3.256318e-16            True  \n",
       "8  7.291170e-18  2.318592e-15            True  \n",
       "9  3.147576e-17  9.977817e-15            True  "
      ]
     },
     "execution_count": 19,
     "metadata": {},
     "output_type": "execute_result"
    },
    {
     "data": {
      "application/javascript": "\n            setTimeout(function() {\n                var nbb_cell_id = 19;\n                var nbb_unformatted_code = \"# Get the top 10 strongest signal edges\\nstrong_signal_vertices = signal_vertices.head(10)\\nstrong_signal_vertices[\\\"ROI\\\"] = strong_signal_vertices[\\\"ROI\\\"].apply(lookup_roi_name)\\nstrong_signal_vertices\";\n                var nbb_formatted_code = \"# Get the top 10 strongest signal edges\\nstrong_signal_vertices = signal_vertices.head(10)\\nstrong_signal_vertices[\\\"ROI\\\"] = strong_signal_vertices[\\\"ROI\\\"].apply(lookup_roi_name)\\nstrong_signal_vertices\";\n                var nbb_cells = Jupyter.notebook.get_cells();\n                for (var i = 0; i < nbb_cells.length; ++i) {\n                    if (nbb_cells[i].input_prompt_number == nbb_cell_id) {\n                        if (nbb_cells[i].get_text() == nbb_unformatted_code) {\n                             nbb_cells[i].set_text(nbb_formatted_code);\n                        }\n                        break;\n                    }\n                }\n            }, 500);\n            ",
      "text/plain": [
       "<IPython.core.display.Javascript object>"
      ]
     },
     "metadata": {},
     "output_type": "display_data"
    }
   ],
   "source": [
    "# Get the top 10 strongest signal edges\n",
    "strong_signal_vertices = signal_vertices.head(10)\n",
    "strong_signal_vertices[\"ROI\"] = strong_signal_vertices[\"ROI\"].apply(lookup_roi_name)\n",
    "strong_signal_vertices"
   ]
  },
  {
   "cell_type": "markdown",
   "metadata": {},
   "source": [
    "The strongest signal vertex is the left hemisphere corpus callosum.\n",
    "THe corpus callosum is the bridge between the left and right hemispheres of the brain.\n",
    "In BTBR mice, this connection is absent (see the tractograms above).\n",
    "We would expect our methods to recover this vertex as highly heterogeneous\n",
    "across strains. This experiment validates this hypothesis!"
   ]
  },
  {
   "cell_type": "code",
   "execution_count": 20,
   "metadata": {},
   "outputs": [
    {
     "data": {
      "image/png": "[encoded data removed]",
      "text/plain": [
       "<Figure size 375x375 with 1 Axes>"
      ]
     },
     "metadata": {
      "needs_background": "light"
     },
     "output_type": "display_data"
    },
    {
     "data": {
      "application/javascript": "\n            setTimeout(function() {\n                var nbb_cell_id = 20;\n                var nbb_unformatted_code = \"left_cc = omni.query(\\\"ROI == 121\\\")[[\\\"omni_1\\\", \\\"genotype\\\"]]\\nleft_cc.columns = [\\\"Embedding Dim. 1\\\", \\\"Strain\\\"]\\ng = stripplot(left_cc, \\\"Embedding Dim. 1\\\")\\nplt.show()\";\n                var nbb_formatted_code = \"left_cc = omni.query(\\\"ROI == 121\\\")[[\\\"omni_1\\\", \\\"genotype\\\"]]\\nleft_cc.columns = [\\\"Embedding Dim. 1\\\", \\\"Strain\\\"]\\ng = stripplot(left_cc, \\\"Embedding Dim. 1\\\")\\nplt.show()\";\n                var nbb_cells = Jupyter.notebook.get_cells();\n                for (var i = 0; i < nbb_cells.length; ++i) {\n                    if (nbb_cells[i].input_prompt_number == nbb_cell_id) {\n                        if (nbb_cells[i].get_text() == nbb_unformatted_code) {\n                             nbb_cells[i].set_text(nbb_formatted_code);\n                        }\n                        break;\n                    }\n                }\n            }, 500);\n            ",
      "text/plain": [
       "<IPython.core.display.Javascript object>"
      ]
     },
     "metadata": {},
     "output_type": "display_data"
    }
   ],
   "source": [
    "left_cc = omni.query(\"ROI == 121\")[[\"omni_1\", \"genotype\"]]\n",
    "left_cc.columns = [\"Embedding Dim. 1\", \"Strain\"]\n",
    "g = stripplot(left_cc, \"Embedding Dim. 1\")\n",
    "plt.show()"
   ]
  },
  {
   "cell_type": "markdown",
   "metadata": {},
   "source": [
    "## Identifying Signal Communities\n",
    "Communities are the connections between distinct superstructures in the brain (effectively subgraphs of the connectome).\n",
    "To test for differences in these subgraphs, we use `DCorr`."
   ]
  },
  {
   "cell_type": "code",
   "execution_count": 21,
   "metadata": {},
   "outputs": [
    {
     "data": {
      "application/javascript": "\n            setTimeout(function() {\n                var nbb_cell_id = 21;\n                var nbb_unformatted_code = \"from collections import namedtuple\\nfrom itertools import combinations_with_replacement\\n\\nPoint = namedtuple(\\\"Point\\\", [\\\"x\\\", \\\"y\\\"])\";\n                var nbb_formatted_code = \"from collections import namedtuple\\nfrom itertools import combinations_with_replacement\\n\\nPoint = namedtuple(\\\"Point\\\", [\\\"x\\\", \\\"y\\\"])\";\n                var nbb_cells = Jupyter.notebook.get_cells();\n                for (var i = 0; i < nbb_cells.length; ++i) {\n                    if (nbb_cells[i].input_prompt_number == nbb_cell_id) {\n                        if (nbb_cells[i].get_text() == nbb_unformatted_code) {\n                             nbb_cells[i].set_text(nbb_formatted_code);\n                        }\n                        break;\n                    }\n                }\n            }, 500);\n            ",
      "text/plain": [
       "<IPython.core.display.Javascript object>"
      ]
     },
     "metadata": {},
     "output_type": "display_data"
    }
   ],
   "source": [
    "from collections import namedtuple\n",
    "from itertools import combinations_with_replacement\n",
    "\n",
    "Point = namedtuple(\"Point\", [\"x\", \"y\"])"
   ]
  },
  {
   "cell_type": "code",
   "execution_count": 22,
   "metadata": {},
   "outputs": [
    {
     "data": {
      "application/javascript": "\n            setTimeout(function() {\n                var nbb_cell_id = 22;\n                var nbb_unformatted_code = \"def _get_point(community, hemisphere):\\n    \\\"\\\"\\\"Make points from database queries.\\\"\\\"\\\"\\n    expr = f\\\"block == '{community}' and hemisphere == '{hemisphere}'\\\"\\n    point = Point(*mice.blocks.query(expr).values[0][2:])\\n    return point\";\n                var nbb_formatted_code = \"def _get_point(community, hemisphere):\\n    \\\"\\\"\\\"Make points from database queries.\\\"\\\"\\\"\\n    expr = f\\\"block == '{community}' and hemisphere == '{hemisphere}'\\\"\\n    point = Point(*mice.blocks.query(expr).values[0][2:])\\n    return point\";\n                var nbb_cells = Jupyter.notebook.get_cells();\n                for (var i = 0; i < nbb_cells.length; ++i) {\n                    if (nbb_cells[i].input_prompt_number == nbb_cell_id) {\n                        if (nbb_cells[i].get_text() == nbb_unformatted_code) {\n                             nbb_cells[i].set_text(nbb_formatted_code);\n                        }\n                        break;\n                    }\n                }\n            }, 500);\n            ",
      "text/plain": [
       "<IPython.core.display.Javascript object>"
      ]
     },
     "metadata": {},
     "output_type": "display_data"
    }
   ],
   "source": [
    "def _get_point(community, hemisphere):\n",
    "    \"\"\"Make points from database queries.\"\"\"\n",
    "    expr = f\"block == '{community}' and hemisphere == '{hemisphere}'\"\n",
    "    point = Point(*mice.blocks.query(expr).values[0][2:])\n",
    "    return point"
   ]
  },
  {
   "cell_type": "code",
   "execution_count": 23,
   "metadata": {},
   "outputs": [
    {
     "data": {
      "application/javascript": "\n            setTimeout(function() {\n                var nbb_cell_id = 23;\n                var nbb_unformatted_code = \"def _get_edges(point_1, point_2, sample):\\n    return sample[:, point_1.x : point_1.y, point_2.x : point_2.y].reshape(8, -1)\";\n                var nbb_formatted_code = \"def _get_edges(point_1, point_2, sample):\\n    return sample[:, point_1.x : point_1.y, point_2.x : point_2.y].reshape(8, -1)\";\n                var nbb_cells = Jupyter.notebook.get_cells();\n                for (var i = 0; i < nbb_cells.length; ++i) {\n                    if (nbb_cells[i].input_prompt_number == nbb_cell_id) {\n                        if (nbb_cells[i].get_text() == nbb_unformatted_code) {\n                             nbb_cells[i].set_text(nbb_formatted_code);\n                        }\n                        break;\n                    }\n                }\n            }, 500);\n            ",
      "text/plain": [
       "<IPython.core.display.Javascript object>"
      ]
     },
     "metadata": {},
     "output_type": "display_data"
    }
   ],
   "source": [
    "def _get_edges(point_1, point_2, sample):\n",
    "    return sample[:, point_1.x : point_1.y, point_2.x : point_2.y].reshape(8, -1)"
   ]
  },
  {
   "cell_type": "code",
   "execution_count": 24,
   "metadata": {},
   "outputs": [
    {
     "data": {
      "application/javascript": "\n            setTimeout(function() {\n                var nbb_cell_id = 24;\n                var nbb_unformatted_code = \"def _get_community_name(block, hemisphere):\\n    block = \\\" \\\".join([struct.capitalize() for struct in block.split(\\\"_\\\")])\\n    return f\\\"{block} ({hemisphere})\\\"\";\n                var nbb_formatted_code = \"def _get_community_name(block, hemisphere):\\n    block = \\\" \\\".join([struct.capitalize() for struct in block.split(\\\"_\\\")])\\n    return f\\\"{block} ({hemisphere})\\\"\";\n                var nbb_cells = Jupyter.notebook.get_cells();\n                for (var i = 0; i < nbb_cells.length; ++i) {\n                    if (nbb_cells[i].input_prompt_number == nbb_cell_id) {\n                        if (nbb_cells[i].get_text() == nbb_unformatted_code) {\n                             nbb_cells[i].set_text(nbb_formatted_code);\n                        }\n                        break;\n                    }\n                }\n            }, 500);\n            ",
      "text/plain": [
       "<IPython.core.display.Javascript object>"
      ]
     },
     "metadata": {},
     "output_type": "display_data"
    }
   ],
   "source": [
    "def _get_community_name(block, hemisphere):\n",
    "    block = \" \".join([struct.capitalize() for struct in block.split(\"_\")])\n",
    "    return f\"{block} ({hemisphere})\""
   ]
  },
  {
   "cell_type": "code",
   "execution_count": 25,
   "metadata": {},
   "outputs": [
    {
     "data": {
      "application/javascript": "\n            setTimeout(function() {\n                var nbb_cell_id = 25;\n                var nbb_unformatted_code = \"signal_communities = []\\n\\nfor (_, community_1), (_, community_2) in combinations_with_replacement(\\n    mice.blocks.iterrows(), r=2\\n):\\n\\n    point_1 = _get_point(community_1.block, community_1.hemisphere)\\n    point_2 = _get_point(community_2.block, community_2.hemisphere)\\n\\n    community_1 = _get_community_name(community_1.block, community_1.hemisphere)\\n    community_2 = _get_community_name(community_2.block, community_2.hemisphere)\\n\\n    edges = [_get_edges(point_1, point_2, sample) for sample in connectomes]\\n\\n    try:\\n        stat, pvalue = KSample(\\\"Dcorr\\\").test(*edges)\\n    except ValueError as e:\\n        print(e)\\n        stat, pvalue = np.nan, 1\\n\\n    signal_communities.append([community_1, community_2, stat, pvalue])\";\n                var nbb_formatted_code = \"signal_communities = []\\n\\nfor (_, community_1), (_, community_2) in combinations_with_replacement(\\n    mice.blocks.iterrows(), r=2\\n):\\n\\n    point_1 = _get_point(community_1.block, community_1.hemisphere)\\n    point_2 = _get_point(community_2.block, community_2.hemisphere)\\n\\n    community_1 = _get_community_name(community_1.block, community_1.hemisphere)\\n    community_2 = _get_community_name(community_2.block, community_2.hemisphere)\\n\\n    edges = [_get_edges(point_1, point_2, sample) for sample in connectomes]\\n\\n    try:\\n        stat, pvalue = KSample(\\\"Dcorr\\\").test(*edges)\\n    except ValueError as e:\\n        print(e)\\n        stat, pvalue = np.nan, 1\\n\\n    signal_communities.append([community_1, community_2, stat, pvalue])\";\n                var nbb_cells = Jupyter.notebook.get_cells();\n                for (var i = 0; i < nbb_cells.length; ++i) {\n                    if (nbb_cells[i].input_prompt_number == nbb_cell_id) {\n                        if (nbb_cells[i].get_text() == nbb_unformatted_code) {\n                             nbb_cells[i].set_text(nbb_formatted_code);\n                        }\n                        break;\n                    }\n                }\n            }, 500);\n            ",
      "text/plain": [
       "<IPython.core.display.Javascript object>"
      ]
     },
     "metadata": {},
     "output_type": "display_data"
    }
   ],
   "source": [
    "signal_communities = []\n",
    "\n",
    "for (_, community_1), (_, community_2) in combinations_with_replacement(\n",
    "    mice.blocks.iterrows(), r=2\n",
    "):\n",
    "\n",
    "    point_1 = _get_point(community_1.block, community_1.hemisphere)\n",
    "    point_2 = _get_point(community_2.block, community_2.hemisphere)\n",
    "\n",
    "    community_1 = _get_community_name(community_1.block, community_1.hemisphere)\n",
    "    community_2 = _get_community_name(community_2.block, community_2.hemisphere)\n",
    "\n",
    "    edges = [_get_edges(point_1, point_2, sample) for sample in connectomes]\n",
    "\n",
    "    try:\n",
    "        stat, pvalue = KSample(\"Dcorr\").test(*edges)\n",
    "    except ValueError as e:\n",
    "        print(e)\n",
    "        stat, pvalue = np.nan, 1\n",
    "\n",
    "    signal_communities.append([community_1, community_2, stat, pvalue])"
   ]
  },
  {
   "cell_type": "code",
   "execution_count": 26,
   "metadata": {},
   "outputs": [
    {
     "data": {
      "text/html": [
       "<div>\n",
       "<style scoped>\n",
       "    .dataframe tbody tr th:only-of-type {\n",
       "        vertical-align: middle;\n",
       "    }\n",
       "\n",
       "    .dataframe tbody tr th {\n",
       "        vertical-align: top;\n",
       "    }\n",
       "\n",
       "    .dataframe thead th {\n",
       "        text-align: right;\n",
       "    }\n",
       "</style>\n",
       "<table border=\"1\" class=\"dataframe\">\n",
       "  <thead>\n",
       "    <tr style=\"text-align: right;\">\n",
       "      <th></th>\n",
       "      <th>Community 1</th>\n",
       "      <th>Community 2</th>\n",
       "      <th>statistic</th>\n",
       "      <th>pvalue</th>\n",
       "      <th>holm_pvalue</th>\n",
       "      <th>bh_significant</th>\n",
       "    </tr>\n",
       "  </thead>\n",
       "  <tbody>\n",
       "    <tr>\n",
       "      <th>104</th>\n",
       "      <td>White Matter (R)</td>\n",
       "      <td>White Matter (R)</td>\n",
       "      <td>0.885077</td>\n",
       "      <td>6.128165e-08</td>\n",
       "      <td>0.000006</td>\n",
       "      <td>True</td>\n",
       "    </tr>\n",
       "    <tr>\n",
       "      <th>69</th>\n",
       "      <td>White Matter (L)</td>\n",
       "      <td>White Matter (L)</td>\n",
       "      <td>0.856670</td>\n",
       "      <td>9.798217e-08</td>\n",
       "      <td>0.000010</td>\n",
       "      <td>True</td>\n",
       "    </tr>\n",
       "    <tr>\n",
       "      <th>61</th>\n",
       "      <td>Hindbrain (L)</td>\n",
       "      <td>White Matter (L)</td>\n",
       "      <td>0.849136</td>\n",
       "      <td>1.109787e-07</td>\n",
       "      <td>0.000011</td>\n",
       "      <td>True</td>\n",
       "    </tr>\n",
       "    <tr>\n",
       "      <th>101</th>\n",
       "      <td>Midbrain (R)</td>\n",
       "      <td>White Matter (R)</td>\n",
       "      <td>0.844907</td>\n",
       "      <td>1.190169e-07</td>\n",
       "      <td>0.000012</td>\n",
       "      <td>True</td>\n",
       "    </tr>\n",
       "    <tr>\n",
       "      <th>0</th>\n",
       "      <td>Isocortex (L)</td>\n",
       "      <td>Isocortex (L)</td>\n",
       "      <td>0.843782</td>\n",
       "      <td>1.212519e-07</td>\n",
       "      <td>0.000012</td>\n",
       "      <td>True</td>\n",
       "    </tr>\n",
       "  </tbody>\n",
       "</table>\n",
       "</div>"
      ],
      "text/plain": [
       "          Community 1       Community 2  statistic        pvalue  holm_pvalue  \\\n",
       "104  White Matter (R)  White Matter (R)   0.885077  6.128165e-08     0.000006   \n",
       "69   White Matter (L)  White Matter (L)   0.856670  9.798217e-08     0.000010   \n",
       "61      Hindbrain (L)  White Matter (L)   0.849136  1.109787e-07     0.000011   \n",
       "101      Midbrain (R)  White Matter (R)   0.844907  1.190169e-07     0.000012   \n",
       "0       Isocortex (L)     Isocortex (L)   0.843782  1.212519e-07     0.000012   \n",
       "\n",
       "     bh_significant  \n",
       "104            True  \n",
       "69             True  \n",
       "61             True  \n",
       "101            True  \n",
       "0              True  "
      ]
     },
     "execution_count": 26,
     "metadata": {},
     "output_type": "execute_result"
    },
    {
     "data": {
      "application/javascript": "\n            setTimeout(function() {\n                var nbb_cell_id = 26;\n                var nbb_unformatted_code = \"signal_communities = pd.DataFrame(\\n    signal_communities, columns=[\\\"Community 1\\\", \\\"Community 2\\\", \\\"statistic\\\", \\\"pvalue\\\"]\\n)\\n\\n# Correct p-values\\nsignal_communities = signal_communities.sort_values([\\\"pvalue\\\"])\\nreject, holm_pvalue, _, _ = multipletests(\\n    signal_communities[\\\"pvalue\\\"], alpha=0.05, method=\\\"holm\\\"\\n)\\nsignal_communities[\\\"holm_pvalue\\\"] = holm_pvalue\\n\\n# Benjamini-Hochberg correct p-values\\nm = len(signal_communities)\\ncorrection = sum((1 / i for i in range(1, m + 1)))\\nreject, _, _, _ = multipletests(signal_communities[\\\"pvalue\\\"], alpha=alpha / correction, method=\\\"fdr_bh\\\", is_sorted=True)\\nsignal_communities[\\\"bh_significant\\\"] = reject\\n\\nsignal_communities.head()\";\n                var nbb_formatted_code = \"signal_communities = pd.DataFrame(\\n    signal_communities, columns=[\\\"Community 1\\\", \\\"Community 2\\\", \\\"statistic\\\", \\\"pvalue\\\"]\\n)\\n\\n# Correct p-values\\nsignal_communities = signal_communities.sort_values([\\\"pvalue\\\"])\\nreject, holm_pvalue, _, _ = multipletests(\\n    signal_communities[\\\"pvalue\\\"], alpha=0.05, method=\\\"holm\\\"\\n)\\nsignal_communities[\\\"holm_pvalue\\\"] = holm_pvalue\\n\\n# Benjamini-Hochberg correct p-values\\nm = len(signal_communities)\\ncorrection = sum((1 / i for i in range(1, m + 1)))\\nreject, _, _, _ = multipletests(\\n    signal_communities[\\\"pvalue\\\"],\\n    alpha=alpha / correction,\\n    method=\\\"fdr_bh\\\",\\n    is_sorted=True,\\n)\\nsignal_communities[\\\"bh_significant\\\"] = reject\\n\\nsignal_communities.head()\";\n                var nbb_cells = Jupyter.notebook.get_cells();\n                for (var i = 0; i < nbb_cells.length; ++i) {\n                    if (nbb_cells[i].input_prompt_number == nbb_cell_id) {\n                        if (nbb_cells[i].get_text() == nbb_unformatted_code) {\n                             nbb_cells[i].set_text(nbb_formatted_code);\n                        }\n                        break;\n                    }\n                }\n            }, 500);\n            ",
      "text/plain": [
       "<IPython.core.display.Javascript object>"
      ]
     },
     "metadata": {},
     "output_type": "display_data"
    }
   ],
   "source": [
    "signal_communities = pd.DataFrame(\n",
    "    signal_communities, columns=[\"Community 1\", \"Community 2\", \"statistic\", \"pvalue\"]\n",
    ")\n",
    "\n",
    "# Correct p-values\n",
    "signal_communities = signal_communities.sort_values([\"pvalue\"])\n",
    "reject, holm_pvalue, _, _ = multipletests(\n",
    "    signal_communities[\"pvalue\"], alpha=0.05, method=\"holm\"\n",
    ")\n",
    "signal_communities[\"holm_pvalue\"] = holm_pvalue\n",
    "\n",
    "# Benjamini-Hochberg correct p-values\n",
    "m = len(signal_communities)\n",
    "correction = sum((1 / i for i in range(1, m + 1)))\n",
    "reject, _, _, _ = multipletests(signal_communities[\"pvalue\"], alpha=alpha / correction, method=\"fdr_bh\", is_sorted=True)\n",
    "signal_communities[\"bh_significant\"] = reject\n",
    "\n",
    "signal_communities.head()"
   ]
  },
  {
   "cell_type": "code",
   "execution_count": 27,
   "metadata": {},
   "outputs": [
    {
     "data": {
      "application/javascript": "\n            setTimeout(function() {\n                var nbb_cell_id = 27;\n                var nbb_unformatted_code = \"signal_communities.to_csv(\\\"../results/signal_communities.csv\\\", index=False)\";\n                var nbb_formatted_code = \"signal_communities.to_csv(\\\"../results/signal_communities.csv\\\", index=False)\";\n                var nbb_cells = Jupyter.notebook.get_cells();\n                for (var i = 0; i < nbb_cells.length; ++i) {\n                    if (nbb_cells[i].input_prompt_number == nbb_cell_id) {\n                        if (nbb_cells[i].get_text() == nbb_unformatted_code) {\n                             nbb_cells[i].set_text(nbb_formatted_code);\n                        }\n                        break;\n                    }\n                }\n            }, 500);\n            ",
      "text/plain": [
       "<IPython.core.display.Javascript object>"
      ]
     },
     "metadata": {},
     "output_type": "display_data"
    }
   ],
   "source": [
    "signal_communities.to_csv(\"../results/signal_communities.csv\", index=False)"
   ]
  },
  {
   "cell_type": "code",
   "execution_count": 28,
   "metadata": {},
   "outputs": [
    {
     "data": {
      "image/png": "[encoded data removed]",
      "text/plain": [
       "<Figure size 375x375 with 1 Axes>"
      ]
     },
     "metadata": {
      "needs_background": "light"
     },
     "output_type": "display_data"
    },
    {
     "data": {
      "application/javascript": "\n            setTimeout(function() {\n                var nbb_cell_id = 28;\n                var nbb_unformatted_code = \"wm_r = _get_point(\\\"white_matter\\\", \\\"R\\\")\\nwm_r_edgeweight = graphs[:, wm_r.x : wm_r.y, wm_r.x : wm_r.y].reshape(32, -1)\\nwm_r_mean = wm_r_edgeweight.mean(axis=1)\\n\\navg_connectivity = pd.DataFrame({\\\"Mean Edgeweight\\\": wm_r_mean, \\\"Strain\\\": labels})\\ng = stripplot(avg_connectivity, \\\"Mean Edgeweight\\\")\\nplt.show()\";\n                var nbb_formatted_code = \"wm_r = _get_point(\\\"white_matter\\\", \\\"R\\\")\\nwm_r_edgeweight = graphs[:, wm_r.x : wm_r.y, wm_r.x : wm_r.y].reshape(32, -1)\\nwm_r_mean = wm_r_edgeweight.mean(axis=1)\\n\\navg_connectivity = pd.DataFrame({\\\"Mean Edgeweight\\\": wm_r_mean, \\\"Strain\\\": labels})\\ng = stripplot(avg_connectivity, \\\"Mean Edgeweight\\\")\\nplt.show()\";\n                var nbb_cells = Jupyter.notebook.get_cells();\n                for (var i = 0; i < nbb_cells.length; ++i) {\n                    if (nbb_cells[i].input_prompt_number == nbb_cell_id) {\n                        if (nbb_cells[i].get_text() == nbb_unformatted_code) {\n                             nbb_cells[i].set_text(nbb_formatted_code);\n                        }\n                        break;\n                    }\n                }\n            }, 500);\n            ",
      "text/plain": [
       "<IPython.core.display.Javascript object>"
      ]
     },
     "metadata": {},
     "output_type": "display_data"
    }
   ],
   "source": [
    "wm_r = _get_point(\"white_matter\", \"R\")\n",
    "wm_r_edgeweight = graphs[:, wm_r.x : wm_r.y, wm_r.x : wm_r.y].reshape(32, -1)\n",
    "wm_r_mean = wm_r_edgeweight.mean(axis=1)\n",
    "\n",
    "avg_connectivity = pd.DataFrame({\"Mean Edgeweight\": wm_r_mean, \"Strain\": labels})\n",
    "g = stripplot(avg_connectivity, \"Mean Edgeweight\")\n",
    "plt.show()"
   ]
  }
 ],
 "metadata": {
  "interpreter": {
   "hash": "d419123dbdd72c7fd55301a6240ef73bae31474d14e0b68fe3a8d24c823dda95"
  },
  "kernelspec": {
   "display_name": "Python 3.6.9 64-bit ('mcc': venv)",
   "name": "python3"
  },
  "language_info": {
   "codemirror_mode": {
    "name": "ipython",
    "version": 3
   },
   "file_extension": ".py",
   "mimetype": "text/x-python",
   "name": "python",
   "nbconvert_exporter": "python",
   "pygments_lexer": "ipython3",
   "version": "3.8.12"
  },
  "varInspector": {
   "cols": {
    "lenName": 16,
    "lenType": 16,
    "lenVar": 40
   },
   "kernels_config": {
    "python": {
     "delete_cmd_postfix": "",
     "delete_cmd_prefix": "del ",
     "library": "var_list.py",
     "varRefreshCmd": "print(var_dic_list())"
    },
    "r": {
     "delete_cmd_postfix": ") ",
     "delete_cmd_prefix": "rm(",
     "library": "var_list.r",
     "varRefreshCmd": "cat(var_dic_list()) "
    }
   },
   "types_to_exclude": [
    "module",
    "function",
    "builtin_function_or_method",
    "instance",
    "_Feature"
   ],
   "window_display": false
  }
 },
 "nbformat": 4,
 "nbformat_minor": 4
}
