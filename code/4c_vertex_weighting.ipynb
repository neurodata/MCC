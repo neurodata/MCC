{
 "metadata": {
  "language_info": {
   "codemirror_mode": {
    "name": "ipython",
    "version": 3
   },
   "file_extension": ".py",
   "mimetype": "text/x-python",
   "name": "python",
   "nbconvert_exporter": "python",
   "pygments_lexer": "ipython3",
   "version": "3.6.9"
  },
  "orig_nbformat": 2,
  "kernelspec": {
   "name": "python369jvsc74a57bd0d419123dbdd72c7fd55301a6240ef73bae31474d14e0b68fe3a8d24c823dda95",
   "display_name": "Python 3.6.9 64-bit ('mcc': venv)",
   "language": "python"
  }
 },
 "nbformat": 4,
 "nbformat_minor": 2,
 "cells": [
  {
   "cell_type": "code",
   "execution_count": 1,
   "metadata": {},
   "outputs": [],
   "source": [
    "import matplotlib.pyplot as plt\n",
    "import numpy as np\n",
    "import pandas as pd\n",
    "import seaborn as sns\n",
    "from graspologic.datasets import load_mice\n",
    "from statsmodels.stats.multitest import multipletests"
   ]
  },
  {
   "cell_type": "code",
   "execution_count": 2,
   "metadata": {},
   "outputs": [],
   "source": [
    "ventricles = [147, 151, 160]\n",
    "ventricles += [roi + 166 for roi in ventricles]\n",
    "ventricles = np.array(ventricles)\n",
    "\n",
    "def mask_rois(graphs, rois=ventricles):\n",
    "    \"\"\"Remove all connections to and from specified ROIs.\"\"\"\n",
    "    graphs = np.delete(graphs, ventricles, axis=1)\n",
    "    graphs = np.delete(graphs, ventricles, axis=2)\n",
    "    return graphs"
   ]
  },
  {
   "cell_type": "code",
   "execution_count": 3,
   "metadata": {},
   "outputs": [],
   "source": [
    "# Load the full mouse dataset\n",
    "mice = load_mice()\n",
    "\n",
    "# Stack all adjacency matrices in a 3D numpy array\n",
    "graphs = np.array(mice.graphs)\n",
    "graphs = mask_rois(graphs)\n",
    "\n",
    "# Sort the connectomes and genotype labels so BTBR is first\n",
    "label_indices = np.argsort(mice.labels).reshape(4, 8)\n",
    "label_indices = label_indices[[1, 0, 2, 3]].reshape(-1)\n",
    "labels = mice.labels[label_indices]\n",
    "graphs = graphs[label_indices]\n",
    "\n",
    "# Get sample parameters\n",
    "n_subjects = mice.meta[\"n_subjects\"]\n",
    "n_vertices = mice.meta[\"n_vertices\"] - len(ventricles)"
   ]
  },
  {
   "cell_type": "code",
   "execution_count": 4,
   "metadata": {},
   "outputs": [],
   "source": [
    "# Split the set of graphs by genotype\n",
    "btbr = graphs[labels == \"BTBR\"]\n",
    "b6 = graphs[labels == \"B6\"]\n",
    "cast = graphs[labels == \"CAST\"]\n",
    "dba2 = graphs[labels == \"DBA2\"]\n",
    "\n",
    "connectomes = [btbr, b6, cast, dba2]"
   ]
  },
  {
   "cell_type": "code",
   "execution_count": 5,
   "metadata": {},
   "outputs": [],
   "source": [
    "from hyppo.ksample import KSample"
   ]
  },
  {
   "cell_type": "code",
   "execution_count": 6,
   "metadata": {},
   "outputs": [
    {
     "output_type": "execute_result",
     "data": {
      "text/plain": [
       "(8, 326, 326)"
      ]
     },
     "metadata": {},
     "execution_count": 6
    }
   ],
   "source": [
    "btbr.shape"
   ]
  },
  {
   "cell_type": "code",
   "execution_count": 7,
   "metadata": {},
   "outputs": [],
   "source": [
    "mdmr_pvals = []\n",
    "\n",
    "for vertex in range(n_vertices):\n",
    "\n",
    "    samples = [genotype[:, vertex, :] for genotype in connectomes]\n",
    "    \n",
    "    # Calculate the p-value for the i-th edge\n",
    "    try:\n",
    "        statistic, pvalue = KSample(\"Dcorr\").test(*samples)\n",
    "    except ValueError:\n",
    "        # A ValueError is thrown when any of the samples have equal edge\n",
    "        # weights (i.e. one of the inputs has 0 variance)\n",
    "        statistic = np.nan\n",
    "        pvalue = 1\n",
    "\n",
    "    mdmr_pvals.append([vertex + 1, statistic, pvalue])"
   ]
  },
  {
   "cell_type": "code",
   "execution_count": 8,
   "metadata": {},
   "outputs": [
    {
     "output_type": "execute_result",
     "data": {
      "text/plain": [
       "   ROI      stat        pvalue  holm_pvalue  significant\n",
       "0   83  0.855008  1.007113e-07     0.000033         True\n",
       "1  307  0.851743  1.062976e-07     0.000035         True\n",
       "2  127  0.850835  1.079052e-07     0.000035         True\n",
       "3  246  0.844896  1.190383e-07     0.000038         True\n",
       "4  267  0.840283  1.284743e-07     0.000041         True"
      ],
      "text/html": "<div>\n<style scoped>\n    .dataframe tbody tr th:only-of-type {\n        vertical-align: middle;\n    }\n\n    .dataframe tbody tr th {\n        vertical-align: top;\n    }\n\n    .dataframe thead th {\n        text-align: right;\n    }\n</style>\n<table border=\"1\" class=\"dataframe\">\n  <thead>\n    <tr style=\"text-align: right;\">\n      <th></th>\n      <th>ROI</th>\n      <th>stat</th>\n      <th>pvalue</th>\n      <th>holm_pvalue</th>\n      <th>significant</th>\n    </tr>\n  </thead>\n  <tbody>\n    <tr>\n      <th>0</th>\n      <td>83</td>\n      <td>0.855008</td>\n      <td>1.007113e-07</td>\n      <td>0.000033</td>\n      <td>True</td>\n    </tr>\n    <tr>\n      <th>1</th>\n      <td>307</td>\n      <td>0.851743</td>\n      <td>1.062976e-07</td>\n      <td>0.000035</td>\n      <td>True</td>\n    </tr>\n    <tr>\n      <th>2</th>\n      <td>127</td>\n      <td>0.850835</td>\n      <td>1.079052e-07</td>\n      <td>0.000035</td>\n      <td>True</td>\n    </tr>\n    <tr>\n      <th>3</th>\n      <td>246</td>\n      <td>0.844896</td>\n      <td>1.190383e-07</td>\n      <td>0.000038</td>\n      <td>True</td>\n    </tr>\n    <tr>\n      <th>4</th>\n      <td>267</td>\n      <td>0.840283</td>\n      <td>1.284743e-07</td>\n      <td>0.000041</td>\n      <td>True</td>\n    </tr>\n  </tbody>\n</table>\n</div>"
     },
     "metadata": {},
     "execution_count": 8
    }
   ],
   "source": [
    "# Convert the nested list to a dataframe\n",
    "mdmr_vertices = pd.DataFrame(mdmr_pvals, columns=[\"ROI\", \"stat\", \"pvalue\"])\n",
    "mdmr_vertices.sort_values(by=\"pvalue\", inplace=True, ignore_index=True)\n",
    "\n",
    "# Correct p-values\n",
    "reject, holm_pvalue, _, _ = multipletests(\n",
    "    mdmr_vertices[\"pvalue\"], alpha=0.05, method=\"holm\"\n",
    ")\n",
    "mdmr_vertices[\"holm_pvalue\"] = holm_pvalue\n",
    "mdmr_vertices[\"significant\"] = reject\n",
    "mdmr_vertices.sort_values(by=\"holm_pvalue\", inplace=True, ignore_index=True)\n",
    "mdmr_vertices.to_csv(\"../results/mdmr_vertices.csv\", index=False)\n",
    "mdmr_vertices.head()"
   ]
  },
  {
   "cell_type": "code",
   "execution_count": 9,
   "metadata": {},
   "outputs": [],
   "source": [
    "def lookup_roi_name(roi):\n",
    "    roi += np.sum(roi >= ventricles) # Adjust for removing the ventricles\n",
    "    roi -= 1\n",
    "    hemisphere = \"R\" if roi // 166 else \"L\"\n",
    "    roi = roi % 166\n",
    "    structure = mice.atlas[\"Structure\"].values[roi]\n",
    "    structure = \" \".join(structure.split(\"_\"))\n",
    "    return f\"{structure} ({hemisphere})\""
   ]
  },
  {
   "cell_type": "code",
   "execution_count": 10,
   "metadata": {},
   "outputs": [
    {
     "output_type": "stream",
     "name": "stderr",
     "text": [
      "ipykernel_launcher:3: SettingWithCopyWarning: \nA value is trying to be set on a copy of a slice from a DataFrame.\nTry using .loc[row_indexer,col_indexer] = value instead\n\nSee the caveats in the documentation: https://pandas.pydata.org/pandas-docs/stable/user_guide/indexing.html#returning-a-view-versus-a-copy\n/home/vivek/btbr/lib/python3.6/site-packages/pandas/core/frame.py:3997: SettingWithCopyWarning: \nA value is trying to be set on a copy of a slice from a DataFrame\n\nSee the caveats in the documentation: https://pandas.pydata.org/pandas-docs/stable/user_guide/indexing.html#returning-a-view-versus-a-copy\n  errors=errors,\nipykernel_launcher:8: SettingWithCopyWarning: \nA value is trying to be set on a copy of a slice from a DataFrame.\nTry using .loc[row_indexer,col_indexer] = value instead\n\nSee the caveats in the documentation: https://pandas.pydata.org/pandas-docs/stable/user_guide/indexing.html#returning-a-view-versus-a-copy\nipykernel_launcher:9: SettingWithCopyWarning: \nA value is trying to be set on a copy of a slice from a DataFrame.\nTry using .loc[row_indexer,col_indexer] = value instead\n\nSee the caveats in the documentation: https://pandas.pydata.org/pandas-docs/stable/user_guide/indexing.html#returning-a-view-versus-a-copy\n"
     ]
    },
    {
     "output_type": "execute_result",
     "data": {
      "text/plain": [
       "                                           Vertex statistic   p-value\n",
       "0                            Substantia Nigra (L)     0.855  3.28e-05\n",
       "1                  Middle Cerebellar Peduncle (R)     0.852  3.45e-05\n",
       "2                            Internal Capsule (L)     0.851   3.5e-05\n",
       "3                            Substantia Nigra (R)     0.845  3.84e-05\n",
       "4                   Pontine Reticular Nucleus (R)     0.840  4.14e-05\n",
       "5                   Pontine Reticular Nucleus (L)     0.838  4.25e-05\n",
       "6                               Parasubiculum (L)     0.838  4.25e-05\n",
       "7                      Ventral Tegmental Area (R)     0.837  4.32e-05\n",
       "8                          Retro Rubral Field (L)     0.829  4.91e-05\n",
       "9      Fastigial Medial Nucleus of Cerebellum (R)     0.824   5.3e-05\n",
       "10                          Cerebral Peduncle (R)     0.819  5.74e-05\n",
       "11                          Cerebral Peduncle (L)     0.818  5.87e-05\n",
       "12     Fastigial Medial Nucleus of Cerebellum (L)     0.814  6.23e-05\n",
       "13                                    Fimbria (L)     0.813  6.28e-05\n",
       "14                            Brain Stem Rest (L)     0.811  6.46e-05\n",
       "15                   Cingulate Cortex Area 30 (L)     0.810   6.6e-05\n",
       "16                     Ventral Tegmental Area (L)     0.806  6.99e-05\n",
       "17                            Globus Pallidus (R)     0.802  7.46e-05\n",
       "18                           Internal Capsule (R)     0.797  8.09e-05\n",
       "19                        Subthalamic Nucleus (R)     0.792  8.78e-05\n",
       "20                               Zona Incerta (R)     0.783  0.000102\n",
       "21                       Parabrachial Nucleus (L)     0.783  0.000102\n",
       "22                            Globus Pallidus (L)     0.781  0.000104\n",
       "23                             Insular Cortex (R)     0.780  0.000106\n",
       "24                            Brain Stem Rest (R)     0.777   0.00011\n",
       "25  Secondary Visual Cortex Mediolateral Area (R)     0.777   0.00011\n",
       "26                        Inferior Colliculus (R)     0.776  0.000111\n",
       "27               Superior Cerebellar Peduncle (L)     0.775  0.000113\n",
       "28                         Retro Rubral Field (R)     0.773  0.000117\n",
       "29                           Stria Terminalis (L)     0.772  0.000118\n",
       "30                              Postsubiculum (R)     0.769  0.000123\n",
       "31                 Midbrain Reticular Nucleus (L)     0.768  0.000125\n",
       "32                                   Striatum (R)     0.768  0.000125\n",
       "33       Primary Visual Cortex Binocular Area (R)     0.768  0.000125\n",
       "34                            Corpus Callosum (L)     0.767  0.000125"
      ],
      "text/html": "<div>\n<style scoped>\n    .dataframe tbody tr th:only-of-type {\n        vertical-align: middle;\n    }\n\n    .dataframe tbody tr th {\n        vertical-align: top;\n    }\n\n    .dataframe thead th {\n        text-align: right;\n    }\n</style>\n<table border=\"1\" class=\"dataframe\">\n  <thead>\n    <tr style=\"text-align: right;\">\n      <th></th>\n      <th>Vertex</th>\n      <th>statistic</th>\n      <th>p-value</th>\n    </tr>\n  </thead>\n  <tbody>\n    <tr>\n      <th>0</th>\n      <td>Substantia Nigra (L)</td>\n      <td>0.855</td>\n      <td>3.28e-05</td>\n    </tr>\n    <tr>\n      <th>1</th>\n      <td>Middle Cerebellar Peduncle (R)</td>\n      <td>0.852</td>\n      <td>3.45e-05</td>\n    </tr>\n    <tr>\n      <th>2</th>\n      <td>Internal Capsule (L)</td>\n      <td>0.851</td>\n      <td>3.5e-05</td>\n    </tr>\n    <tr>\n      <th>3</th>\n      <td>Substantia Nigra (R)</td>\n      <td>0.845</td>\n      <td>3.84e-05</td>\n    </tr>\n    <tr>\n      <th>4</th>\n      <td>Pontine Reticular Nucleus (R)</td>\n      <td>0.840</td>\n      <td>4.14e-05</td>\n    </tr>\n    <tr>\n      <th>5</th>\n      <td>Pontine Reticular Nucleus (L)</td>\n      <td>0.838</td>\n      <td>4.25e-05</td>\n    </tr>\n    <tr>\n      <th>6</th>\n      <td>Parasubiculum (L)</td>\n      <td>0.838</td>\n      <td>4.25e-05</td>\n    </tr>\n    <tr>\n      <th>7</th>\n      <td>Ventral Tegmental Area (R)</td>\n      <td>0.837</td>\n      <td>4.32e-05</td>\n    </tr>\n    <tr>\n      <th>8</th>\n      <td>Retro Rubral Field (L)</td>\n      <td>0.829</td>\n      <td>4.91e-05</td>\n    </tr>\n    <tr>\n      <th>9</th>\n      <td>Fastigial Medial Nucleus of Cerebellum (R)</td>\n      <td>0.824</td>\n      <td>5.3e-05</td>\n    </tr>\n    <tr>\n      <th>10</th>\n      <td>Cerebral Peduncle (R)</td>\n      <td>0.819</td>\n      <td>5.74e-05</td>\n    </tr>\n    <tr>\n      <th>11</th>\n      <td>Cerebral Peduncle (L)</td>\n      <td>0.818</td>\n      <td>5.87e-05</td>\n    </tr>\n    <tr>\n      <th>12</th>\n      <td>Fastigial Medial Nucleus of Cerebellum (L)</td>\n      <td>0.814</td>\n      <td>6.23e-05</td>\n    </tr>\n    <tr>\n      <th>13</th>\n      <td>Fimbria (L)</td>\n      <td>0.813</td>\n      <td>6.28e-05</td>\n    </tr>\n    <tr>\n      <th>14</th>\n      <td>Brain Stem Rest (L)</td>\n      <td>0.811</td>\n      <td>6.46e-05</td>\n    </tr>\n    <tr>\n      <th>15</th>\n      <td>Cingulate Cortex Area 30 (L)</td>\n      <td>0.810</td>\n      <td>6.6e-05</td>\n    </tr>\n    <tr>\n      <th>16</th>\n      <td>Ventral Tegmental Area (L)</td>\n      <td>0.806</td>\n      <td>6.99e-05</td>\n    </tr>\n    <tr>\n      <th>17</th>\n      <td>Globus Pallidus (R)</td>\n      <td>0.802</td>\n      <td>7.46e-05</td>\n    </tr>\n    <tr>\n      <th>18</th>\n      <td>Internal Capsule (R)</td>\n      <td>0.797</td>\n      <td>8.09e-05</td>\n    </tr>\n    <tr>\n      <th>19</th>\n      <td>Subthalamic Nucleus (R)</td>\n      <td>0.792</td>\n      <td>8.78e-05</td>\n    </tr>\n    <tr>\n      <th>20</th>\n      <td>Zona Incerta (R)</td>\n      <td>0.783</td>\n      <td>0.000102</td>\n    </tr>\n    <tr>\n      <th>21</th>\n      <td>Parabrachial Nucleus (L)</td>\n      <td>0.783</td>\n      <td>0.000102</td>\n    </tr>\n    <tr>\n      <th>22</th>\n      <td>Globus Pallidus (L)</td>\n      <td>0.781</td>\n      <td>0.000104</td>\n    </tr>\n    <tr>\n      <th>23</th>\n      <td>Insular Cortex (R)</td>\n      <td>0.780</td>\n      <td>0.000106</td>\n    </tr>\n    <tr>\n      <th>24</th>\n      <td>Brain Stem Rest (R)</td>\n      <td>0.777</td>\n      <td>0.00011</td>\n    </tr>\n    <tr>\n      <th>25</th>\n      <td>Secondary Visual Cortex Mediolateral Area (R)</td>\n      <td>0.777</td>\n      <td>0.00011</td>\n    </tr>\n    <tr>\n      <th>26</th>\n      <td>Inferior Colliculus (R)</td>\n      <td>0.776</td>\n      <td>0.000111</td>\n    </tr>\n    <tr>\n      <th>27</th>\n      <td>Superior Cerebellar Peduncle (L)</td>\n      <td>0.775</td>\n      <td>0.000113</td>\n    </tr>\n    <tr>\n      <th>28</th>\n      <td>Retro Rubral Field (R)</td>\n      <td>0.773</td>\n      <td>0.000117</td>\n    </tr>\n    <tr>\n      <th>29</th>\n      <td>Stria Terminalis (L)</td>\n      <td>0.772</td>\n      <td>0.000118</td>\n    </tr>\n    <tr>\n      <th>30</th>\n      <td>Postsubiculum (R)</td>\n      <td>0.769</td>\n      <td>0.000123</td>\n    </tr>\n    <tr>\n      <th>31</th>\n      <td>Midbrain Reticular Nucleus (L)</td>\n      <td>0.768</td>\n      <td>0.000125</td>\n    </tr>\n    <tr>\n      <th>32</th>\n      <td>Striatum (R)</td>\n      <td>0.768</td>\n      <td>0.000125</td>\n    </tr>\n    <tr>\n      <th>33</th>\n      <td>Primary Visual Cortex Binocular Area (R)</td>\n      <td>0.768</td>\n      <td>0.000125</td>\n    </tr>\n    <tr>\n      <th>34</th>\n      <td>Corpus Callosum (L)</td>\n      <td>0.767</td>\n      <td>0.000125</td>\n    </tr>\n  </tbody>\n</table>\n</div>"
     },
     "metadata": {},
     "execution_count": 10
    }
   ],
   "source": [
    "# Get the top 20 strongest signal edges\n",
    "strong_mdmr_vertices = mdmr_vertices.head(35)\n",
    "strong_mdmr_vertices[\"ROI\"] = strong_mdmr_vertices[\"ROI\"].apply(lookup_roi_name)\n",
    "strong_mdmr_vertices.drop([\"pvalue\", \"significant\"], axis=1, inplace=True)\n",
    "strong_mdmr_vertices.columns = [\"Vertex\", \"statistic\", \"p-value\"]\n",
    "\n",
    "# pd.set_option('display.float_format', '{:.3g}'.format)\n",
    "strong_mdmr_vertices[\"statistic\"] = strong_mdmr_vertices[\"statistic\"].apply(lambda x: f\"{x:.3f}\")\n",
    "strong_mdmr_vertices[\"p-value\"] = strong_mdmr_vertices[\"p-value\"].apply(lambda x: f\"{x:.3g}\")\n",
    "strong_mdmr_vertices"
   ]
  },
  {
   "cell_type": "code",
   "execution_count": 11,
   "metadata": {},
   "outputs": [],
   "source": [
    "strong_mdmr_vertices.to_csv(\"../results/formatted_tables/mdmr_vertices.csv\", index=False)"
   ]
  },
  {
   "cell_type": "code",
   "execution_count": null,
   "metadata": {},
   "outputs": [],
   "source": []
  }
 ]
}