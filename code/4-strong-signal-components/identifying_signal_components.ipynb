{
 "cells": [
  {
   "cell_type": "code",
   "execution_count": 1,
   "metadata": {},
   "outputs": [
    {
     "data": {
      "application/javascript": [
       "\n",
       "            setTimeout(function() {\n",
       "                var nbb_cell_id = 1;\n",
       "                var nbb_unformatted_code = \"%load_ext nb_black\\n%load_ext rpy2.ipython\";\n",
       "                var nbb_formatted_code = \"%load_ext nb_black\\n%load_ext rpy2.ipython\";\n",
       "                var nbb_cells = Jupyter.notebook.get_cells();\n",
       "                for (var i = 0; i < nbb_cells.length; ++i) {\n",
       "                    if (nbb_cells[i].input_prompt_number == nbb_cell_id) {\n",
       "                        if (nbb_cells[i].get_text() == nbb_unformatted_code) {\n",
       "                             nbb_cells[i].set_text(nbb_formatted_code);\n",
       "                        }\n",
       "                        break;\n",
       "                    }\n",
       "                }\n",
       "            }, 500);\n",
       "            "
      ],
      "text/plain": [
       "<IPython.core.display.Javascript object>"
      ]
     },
     "metadata": {},
     "output_type": "display_data"
    }
   ],
   "source": [
    "%load_ext nb_black\n",
    "%load_ext rpy2.ipython"
   ]
  },
  {
   "cell_type": "code",
   "execution_count": 2,
   "metadata": {},
   "outputs": [
    {
     "data": {
      "application/javascript": [
       "\n",
       "            setTimeout(function() {\n",
       "                var nbb_cell_id = 2;\n",
       "                var nbb_unformatted_code = \"import matplotlib.pyplot as plt\\nimport numpy as np\\nimport pandas as pd\\nfrom graspologic.datasets import load_mice\\nfrom statsmodels.stats.multitest import multipletests\\n\\nfrom stripplot import stripplot\";\n",
       "                var nbb_formatted_code = \"import matplotlib.pyplot as plt\\nimport numpy as np\\nimport pandas as pd\\nfrom graspologic.datasets import load_mice\\nfrom statsmodels.stats.multitest import multipletests\\n\\nfrom stripplot import stripplot\";\n",
       "                var nbb_cells = Jupyter.notebook.get_cells();\n",
       "                for (var i = 0; i < nbb_cells.length; ++i) {\n",
       "                    if (nbb_cells[i].input_prompt_number == nbb_cell_id) {\n",
       "                        if (nbb_cells[i].get_text() == nbb_unformatted_code) {\n",
       "                             nbb_cells[i].set_text(nbb_formatted_code);\n",
       "                        }\n",
       "                        break;\n",
       "                    }\n",
       "                }\n",
       "            }, 500);\n",
       "            "
      ],
      "text/plain": [
       "<IPython.core.display.Javascript object>"
      ]
     },
     "metadata": {},
     "output_type": "display_data"
    }
   ],
   "source": [
    "import matplotlib.pyplot as plt\n",
    "import numpy as np\n",
    "import pandas as pd\n",
    "import seaborn as sns\n",
    "from graspologic.datasets import load_mice\n",
    "from statsmodels.stats.multitest import multipletests"
   ]
  },
  {
   "cell_type": "code",
   "execution_count": 3,
   "metadata": {},
   "outputs": [
    {
     "data": {
      "application/javascript": [
       "\n",
       "            setTimeout(function() {\n",
       "                var nbb_cell_id = 3;\n",
       "                var nbb_unformatted_code = \"# Load the full mouse dataset\\nmice = load_mice()\\n\\n# Stack all adjacency matrices in a 3D numpy array\\ngraphs = np.array(mice.graphs)\\n\\n# Sort the connectomes and genotype labels so BTBR is first\\nlabel_indices = np.argsort(mice.labels).reshape(4, 8)\\nlabel_indices = label_indices[[1, 0, 2, 3]].reshape(-1)\\nlabels = mice.labels[label_indices]\\ngraphs = graphs[label_indices]\\n\\n# Get sample parameters\\nn_subjects = mice.meta[\\\"n_subjects\\\"]\\nn_vertices = mice.meta[\\\"n_vertices\\\"]\";\n",
       "                var nbb_formatted_code = \"# Load the full mouse dataset\\nmice = load_mice()\\n\\n# Stack all adjacency matrices in a 3D numpy array\\ngraphs = np.array(mice.graphs)\\n\\n# Sort the connectomes and genotype labels so BTBR is first\\nlabel_indices = np.argsort(mice.labels).reshape(4, 8)\\nlabel_indices = label_indices[[1, 0, 2, 3]].reshape(-1)\\nlabels = mice.labels[label_indices]\\ngraphs = graphs[label_indices]\\n\\n# Get sample parameters\\nn_subjects = mice.meta[\\\"n_subjects\\\"]\\nn_vertices = mice.meta[\\\"n_vertices\\\"]\";\n",
       "                var nbb_cells = Jupyter.notebook.get_cells();\n",
       "                for (var i = 0; i < nbb_cells.length; ++i) {\n",
       "                    if (nbb_cells[i].input_prompt_number == nbb_cell_id) {\n",
       "                        if (nbb_cells[i].get_text() == nbb_unformatted_code) {\n",
       "                             nbb_cells[i].set_text(nbb_formatted_code);\n",
       "                        }\n",
       "                        break;\n",
       "                    }\n",
       "                }\n",
       "            }, 500);\n",
       "            "
      ],
      "text/plain": [
       "<IPython.core.display.Javascript object>"
      ]
     },
     "metadata": {},
     "output_type": "display_data"
    }
   ],
   "source": [
    "# Load the full mouse dataset\n",
    "mice = load_mice()\n",
    "\n",
    "# Stack all adjacency matrices in a 3D numpy array\n",
    "graphs = np.array(mice.graphs)\n",
    "\n",
    "# Sort the connectomes and genotype labels so BTBR is first\n",
    "label_indices = np.argsort(mice.labels).reshape(4, 8)\n",
    "label_indices = label_indices[[1, 0, 2, 3]].reshape(-1)\n",
    "labels = mice.labels[label_indices]\n",
    "graphs = graphs[label_indices]\n",
    "\n",
    "# Get sample parameters\n",
    "n_subjects = mice.meta[\"n_subjects\"]\n",
    "n_vertices = mice.meta[\"n_vertices\"]"
   ]
  },
  {
   "cell_type": "markdown",
   "metadata": {},
   "source": [
    "## Identifying Signal Edges"
   ]
  },
  {
   "cell_type": "code",
   "execution_count": 4,
   "metadata": {},
   "outputs": [
    {
     "data": {
      "application/javascript": [
       "\n",
       "            setTimeout(function() {\n",
       "                var nbb_cell_id = 4;\n",
       "                var nbb_unformatted_code = \"from hyppo.ksample import KSample\";\n",
       "                var nbb_formatted_code = \"from hyppo.ksample import KSample\";\n",
       "                var nbb_cells = Jupyter.notebook.get_cells();\n",
       "                for (var i = 0; i < nbb_cells.length; ++i) {\n",
       "                    if (nbb_cells[i].input_prompt_number == nbb_cell_id) {\n",
       "                        if (nbb_cells[i].get_text() == nbb_unformatted_code) {\n",
       "                             nbb_cells[i].set_text(nbb_formatted_code);\n",
       "                        }\n",
       "                        break;\n",
       "                    }\n",
       "                }\n",
       "            }, 500);\n",
       "            "
      ],
      "text/plain": [
       "<IPython.core.display.Javascript object>"
      ]
     },
     "metadata": {},
     "output_type": "display_data"
    }
   ],
   "source": [
    "from hyppo.ksample import KSample"
   ]
  },
  {
   "cell_type": "code",
   "execution_count": 5,
   "metadata": {},
   "outputs": [
    {
     "data": {
      "application/javascript": [
       "\n",
       "            setTimeout(function() {\n",
       "                var nbb_cell_id = 5;\n",
       "                var nbb_unformatted_code = \"# Split the set of graphs by genotype\\nbtbr = graphs[labels == \\\"BTBR\\\"]\\nb6 = graphs[labels == \\\"B6\\\"]\\ncast = graphs[labels == \\\"CAST\\\"]\\ndba2 = graphs[labels == \\\"DBA2\\\"]\\n\\nconnectomes = [btbr, b6, cast, dba2]\";\n",
       "                var nbb_formatted_code = \"# Split the set of graphs by genotype\\nbtbr = graphs[labels == \\\"BTBR\\\"]\\nb6 = graphs[labels == \\\"B6\\\"]\\ncast = graphs[labels == \\\"CAST\\\"]\\ndba2 = graphs[labels == \\\"DBA2\\\"]\\n\\nconnectomes = [btbr, b6, cast, dba2]\";\n",
       "                var nbb_cells = Jupyter.notebook.get_cells();\n",
       "                for (var i = 0; i < nbb_cells.length; ++i) {\n",
       "                    if (nbb_cells[i].input_prompt_number == nbb_cell_id) {\n",
       "                        if (nbb_cells[i].get_text() == nbb_unformatted_code) {\n",
       "                             nbb_cells[i].set_text(nbb_formatted_code);\n",
       "                        }\n",
       "                        break;\n",
       "                    }\n",
       "                }\n",
       "            }, 500);\n",
       "            "
      ],
      "text/plain": [
       "<IPython.core.display.Javascript object>"
      ]
     },
     "metadata": {},
     "output_type": "display_data"
    }
   ],
   "source": [
    "# Split the set of graphs by genotype\n",
    "btbr = graphs[labels == \"BTBR\"]\n",
    "b6 = graphs[labels == \"B6\"]\n",
    "cast = graphs[labels == \"CAST\"]\n",
    "dba2 = graphs[labels == \"DBA2\"]\n",
    "\n",
    "connectomes = [btbr, b6, cast, dba2]"
   ]
  },
  {
   "cell_type": "code",
   "execution_count": 6,
   "metadata": {},
   "outputs": [
    {
     "data": {
      "application/javascript": [
       "\n",
       "            setTimeout(function() {\n",
       "                var nbb_cell_id = 6;\n",
       "                var nbb_unformatted_code = \"# Make iterator for traversing the upper triangle of the connectome\\nindices = zip(*np.triu_indices(n_vertices, 1))\";\n",
       "                var nbb_formatted_code = \"# Make iterator for traversing the upper triangle of the connectome\\nindices = zip(*np.triu_indices(n_vertices, 1))\";\n",
       "                var nbb_cells = Jupyter.notebook.get_cells();\n",
       "                for (var i = 0; i < nbb_cells.length; ++i) {\n",
       "                    if (nbb_cells[i].input_prompt_number == nbb_cell_id) {\n",
       "                        if (nbb_cells[i].get_text() == nbb_unformatted_code) {\n",
       "                             nbb_cells[i].set_text(nbb_formatted_code);\n",
       "                        }\n",
       "                        break;\n",
       "                    }\n",
       "                }\n",
       "            }, 500);\n",
       "            "
      ],
      "text/plain": [
       "<IPython.core.display.Javascript object>"
      ]
     },
     "metadata": {},
     "output_type": "display_data"
    }
   ],
   "source": [
    "# Make iterator for traversing the upper triangle of the connectome\n",
    "indices = zip(*np.triu_indices(n_vertices, 1))"
   ]
  },
  {
   "cell_type": "code",
   "execution_count": 7,
   "metadata": {},
   "outputs": [
    {
     "data": {
      "application/javascript": [
       "\n",
       "            setTimeout(function() {\n",
       "                var nbb_cell_id = 7;\n",
       "                var nbb_unformatted_code = \"edge_pvals = []\\n\\nfor roi_i, roi_j in indices:\\n\\n    # Get the (i,j)-th edge for each connectome\\n    samples = [genotype[:, roi_i, roi_j] for genotype in connectomes]\\n\\n    # Calculate the p-value for the (i,j)-th edge\\n    try:\\n        statistic, pvalue = KSample(\\\"Dcorr\\\").test(*samples)\\n    except ValueError:\\n        # A ValueError is thrown when any of the samples have equal edge\\n        # weights (i.e. one of the inputs has 0 variance)\\n        statistic = np.nan\\n        pvalue = 1\\n\\n    edge_pvals.append([roi_i + 1, roi_j + 1, statistic, pvalue])\";\n",
       "                var nbb_formatted_code = \"edge_pvals = []\\n\\nfor roi_i, roi_j in indices:\\n\\n    # Get the (i,j)-th edge for each connectome\\n    samples = [genotype[:, roi_i, roi_j] for genotype in connectomes]\\n\\n    # Calculate the p-value for the (i,j)-th edge\\n    try:\\n        statistic, pvalue = KSample(\\\"Dcorr\\\").test(*samples)\\n    except ValueError:\\n        # A ValueError is thrown when any of the samples have equal edge\\n        # weights (i.e. one of the inputs has 0 variance)\\n        statistic = np.nan\\n        pvalue = 1\\n\\n    edge_pvals.append([roi_i + 1, roi_j + 1, statistic, pvalue])\";\n",
       "                var nbb_cells = Jupyter.notebook.get_cells();\n",
       "                for (var i = 0; i < nbb_cells.length; ++i) {\n",
       "                    if (nbb_cells[i].input_prompt_number == nbb_cell_id) {\n",
       "                        if (nbb_cells[i].get_text() == nbb_unformatted_code) {\n",
       "                             nbb_cells[i].set_text(nbb_formatted_code);\n",
       "                        }\n",
       "                        break;\n",
       "                    }\n",
       "                }\n",
       "            }, 500);\n",
       "            "
      ],
      "text/plain": [
       "<IPython.core.display.Javascript object>"
      ]
     },
     "metadata": {},
     "output_type": "display_data"
    }
   ],
   "source": [
    "edge_pvals = []\n",
    "\n",
    "for roi_i, roi_j in indices:\n",
    "\n",
    "    # Get the (i,j)-th edge for each connectome\n",
    "    samples = [genotype[:, roi_i, roi_j] for genotype in connectomes]\n",
    "\n",
    "    # Calculate the p-value for the (i,j)-th edge\n",
    "    try:\n",
    "        statistic, pvalue = KSample(\"Dcorr\").test(*samples)\n",
    "    except ValueError:\n",
    "        # A ValueError is thrown when any of the samples have equal edge\n",
    "        # weights (i.e. one of the inputs has 0 variance)\n",
    "        statistic = np.nan\n",
    "        pvalue = 1\n",
    "\n",
    "    edge_pvals.append([roi_i + 1, roi_j + 1, statistic, pvalue])"
   ]
  },
  {
   "cell_type": "code",
   "execution_count": 8,
   "metadata": {},
   "outputs": [
    {
     "data": {
      "text/html": [
       "<div>\n",
       "<style scoped>\n",
       "    .dataframe tbody tr th:only-of-type {\n",
       "        vertical-align: middle;\n",
       "    }\n",
       "\n",
       "    .dataframe tbody tr th {\n",
       "        vertical-align: top;\n",
       "    }\n",
       "\n",
       "    .dataframe thead th {\n",
       "        text-align: right;\n",
       "    }\n",
       "</style>\n",
       "<table border=\"1\" class=\"dataframe\">\n",
       "  <thead>\n",
       "    <tr style=\"text-align: right;\">\n",
       "      <th></th>\n",
       "      <th>ROI_1</th>\n",
       "      <th>ROI_2</th>\n",
       "      <th>stat</th>\n",
       "      <th>pvalue</th>\n",
       "      <th>holm_pvalue</th>\n",
       "      <th>significant</th>\n",
       "    </tr>\n",
       "  </thead>\n",
       "  <tbody>\n",
       "    <tr>\n",
       "      <th>0</th>\n",
       "      <td>121</td>\n",
       "      <td>230</td>\n",
       "      <td>0.717036</td>\n",
       "      <td>9.911903e-07</td>\n",
       "      <td>0.054462</td>\n",
       "      <td>False</td>\n",
       "    </tr>\n",
       "    <tr>\n",
       "      <th>1</th>\n",
       "      <td>121</td>\n",
       "      <td>293</td>\n",
       "      <td>0.699473</td>\n",
       "      <td>1.327371e-06</td>\n",
       "      <td>0.072932</td>\n",
       "      <td>False</td>\n",
       "    </tr>\n",
       "    <tr>\n",
       "      <th>2</th>\n",
       "      <td>121</td>\n",
       "      <td>244</td>\n",
       "      <td>0.698197</td>\n",
       "      <td>1.355858e-06</td>\n",
       "      <td>0.074496</td>\n",
       "      <td>False</td>\n",
       "    </tr>\n",
       "    <tr>\n",
       "      <th>3</th>\n",
       "      <td>121</td>\n",
       "      <td>243</td>\n",
       "      <td>0.685735</td>\n",
       "      <td>1.668308e-06</td>\n",
       "      <td>0.091662</td>\n",
       "      <td>False</td>\n",
       "    </tr>\n",
       "    <tr>\n",
       "      <th>4</th>\n",
       "      <td>228</td>\n",
       "      <td>287</td>\n",
       "      <td>0.670809</td>\n",
       "      <td>2.139082e-06</td>\n",
       "      <td>0.117525</td>\n",
       "      <td>False</td>\n",
       "    </tr>\n",
       "  </tbody>\n",
       "</table>\n",
       "</div>"
      ],
      "text/plain": [
       "   ROI_1  ROI_2      stat        pvalue  holm_pvalue  significant\n",
       "0    121    230  0.717036  9.911903e-07     0.054462        False\n",
       "1    121    293  0.699473  1.327371e-06     0.072932        False\n",
       "2    121    244  0.698197  1.355858e-06     0.074496        False\n",
       "3    121    243  0.685735  1.668308e-06     0.091662        False\n",
       "4    228    287  0.670809  2.139082e-06     0.117525        False"
      ]
     },
     "execution_count": 8,
     "metadata": {},
     "output_type": "execute_result"
    },
    {
     "data": {
      "application/javascript": [
       "\n",
       "            setTimeout(function() {\n",
       "                var nbb_cell_id = 8;\n",
       "                var nbb_unformatted_code = \"# Convert the nested list to a dataframe\\nsignal_edges = pd.DataFrame(edge_pvals, columns=[\\\"ROI_1\\\", \\\"ROI_2\\\", \\\"stat\\\", \\\"pvalue\\\"])\\nsignal_edges.sort_values(by=\\\"pvalue\\\", inplace=True, ignore_index=True)\\n\\n# Correct p-values\\nreject, holm_pvalue, _, _ = multipletests(\\n    signal_edges[\\\"pvalue\\\"], alpha=0.05, method=\\\"holm\\\"\\n)\\nsignal_edges[\\\"holm_pvalue\\\"] = holm_pvalue\\nsignal_edges[\\\"significant\\\"] = reject\\nsignal_edges.sort_values(by=\\\"holm_pvalue\\\", inplace=True, ignore_index=True)\\nsignal_edges.to_csv(\\\"../results/signal_edges.csv\\\", index=False)\\nsignal_edges.head()\";\n",
       "                var nbb_formatted_code = \"# Convert the nested list to a dataframe\\nsignal_edges = pd.DataFrame(edge_pvals, columns=[\\\"ROI_1\\\", \\\"ROI_2\\\", \\\"stat\\\", \\\"pvalue\\\"])\\nsignal_edges.sort_values(by=\\\"pvalue\\\", inplace=True, ignore_index=True)\\n\\n# Correct p-values\\nreject, holm_pvalue, _, _ = multipletests(\\n    signal_edges[\\\"pvalue\\\"], alpha=0.05, method=\\\"holm\\\"\\n)\\nsignal_edges[\\\"holm_pvalue\\\"] = holm_pvalue\\nsignal_edges[\\\"significant\\\"] = reject\\nsignal_edges.sort_values(by=\\\"holm_pvalue\\\", inplace=True, ignore_index=True)\\nsignal_edges.to_csv(\\\"../results/signal_edges.csv\\\", index=False)\\nsignal_edges.head()\";\n",
       "                var nbb_cells = Jupyter.notebook.get_cells();\n",
       "                for (var i = 0; i < nbb_cells.length; ++i) {\n",
       "                    if (nbb_cells[i].input_prompt_number == nbb_cell_id) {\n",
       "                        if (nbb_cells[i].get_text() == nbb_unformatted_code) {\n",
       "                             nbb_cells[i].set_text(nbb_formatted_code);\n",
       "                        }\n",
       "                        break;\n",
       "                    }\n",
       "                }\n",
       "            }, 500);\n",
       "            "
      ],
      "text/plain": [
       "<IPython.core.display.Javascript object>"
      ]
     },
     "metadata": {},
     "output_type": "display_data"
    }
   ],
   "source": [
    "# Convert the nested list to a dataframe\n",
    "signal_edges = pd.DataFrame(edge_pvals, columns=[\"ROI_1\", \"ROI_2\", \"stat\", \"pvalue\"])\n",
    "signal_edges.sort_values(by=\"pvalue\", inplace=True, ignore_index=True)\n",
    "\n",
    "# Correct p-values\n",
    "reject, holm_pvalue, _, _ = multipletests(\n",
    "    signal_edges[\"pvalue\"], alpha=0.05, method=\"holm\"\n",
    ")\n",
    "signal_edges[\"holm_pvalue\"] = holm_pvalue\n",
    "signal_edges[\"significant\"] = reject\n",
    "signal_edges.sort_values(by=\"holm_pvalue\", inplace=True, ignore_index=True)\n",
    "signal_edges.to_csv(\"../results/signal_edges.csv\", index=False)\n",
    "signal_edges.head()"
   ]
  },
  {
   "cell_type": "code",
   "execution_count": 9,
   "metadata": {},
   "outputs": [
    {
     "data": {
      "application/javascript": [
       "\n",
       "            setTimeout(function() {\n",
       "                var nbb_cell_id = 9;\n",
       "                var nbb_unformatted_code = \"def lookup_roi_name(roi):\\n    roi -= 1\\n    hemisphere = \\\"R\\\" if roi // 166 else \\\"L\\\"\\n    roi = roi % 166\\n    structure = mice.atlas[\\\"Structure\\\"].values[roi]\\n    structure = \\\" \\\".join(structure.split(\\\"_\\\"))\\n    return f\\\"{structure} ({hemisphere})\\\"\";\n",
       "                var nbb_formatted_code = \"def lookup_roi_name(roi):\\n    roi -= 1\\n    hemisphere = \\\"R\\\" if roi // 166 else \\\"L\\\"\\n    roi = roi % 166\\n    structure = mice.atlas[\\\"Structure\\\"].values[roi]\\n    structure = \\\" \\\".join(structure.split(\\\"_\\\"))\\n    return f\\\"{structure} ({hemisphere})\\\"\";\n",
       "                var nbb_cells = Jupyter.notebook.get_cells();\n",
       "                for (var i = 0; i < nbb_cells.length; ++i) {\n",
       "                    if (nbb_cells[i].input_prompt_number == nbb_cell_id) {\n",
       "                        if (nbb_cells[i].get_text() == nbb_unformatted_code) {\n",
       "                             nbb_cells[i].set_text(nbb_formatted_code);\n",
       "                        }\n",
       "                        break;\n",
       "                    }\n",
       "                }\n",
       "            }, 500);\n",
       "            "
      ],
      "text/plain": [
       "<IPython.core.display.Javascript object>"
      ]
     },
     "metadata": {},
     "output_type": "display_data"
    }
   ],
   "source": [
    "def lookup_roi_name(roi):\n",
    "    roi -= 1\n",
    "    hemisphere = \"R\" if roi // 166 else \"L\"\n",
    "    roi = roi % 166\n",
    "    structure = mice.atlas[\"Structure\"].values[roi]\n",
    "    structure = \" \".join(structure.split(\"_\"))\n",
    "    return f\"{structure} ({hemisphere})\""
   ]
  },
  {
   "cell_type": "code",
   "execution_count": 10,
   "metadata": {},
   "outputs": [
    {
     "data": {
      "text/html": [
       "<div>\n",
       "<style scoped>\n",
       "    .dataframe tbody tr th:only-of-type {\n",
       "        vertical-align: middle;\n",
       "    }\n",
       "\n",
       "    .dataframe tbody tr th {\n",
       "        vertical-align: top;\n",
       "    }\n",
       "\n",
       "    .dataframe thead th {\n",
       "        text-align: right;\n",
       "    }\n",
       "</style>\n",
       "<table border=\"1\" class=\"dataframe\">\n",
       "  <thead>\n",
       "    <tr style=\"text-align: right;\">\n",
       "      <th></th>\n",
       "      <th>ROI_1</th>\n",
       "      <th>ROI_2</th>\n",
       "      <th>stat</th>\n",
       "      <th>pvalue</th>\n",
       "      <th>holm_pvalue</th>\n",
       "      <th>significant</th>\n",
       "    </tr>\n",
       "  </thead>\n",
       "  <tbody>\n",
       "    <tr>\n",
       "      <th>0</th>\n",
       "      <td>Corpus Callosum (L)</td>\n",
       "      <td>Striatum (R)</td>\n",
       "      <td>0.717036</td>\n",
       "      <td>9.911903e-07</td>\n",
       "      <td>0.054462</td>\n",
       "      <td>False</td>\n",
       "    </tr>\n",
       "    <tr>\n",
       "      <th>1</th>\n",
       "      <td>Corpus Callosum (L)</td>\n",
       "      <td>Internal Capsule (R)</td>\n",
       "      <td>0.699473</td>\n",
       "      <td>1.327371e-06</td>\n",
       "      <td>0.072932</td>\n",
       "      <td>False</td>\n",
       "    </tr>\n",
       "    <tr>\n",
       "      <th>2</th>\n",
       "      <td>Corpus Callosum (L)</td>\n",
       "      <td>Reticular Nucleus of Thalamus (R)</td>\n",
       "      <td>0.698197</td>\n",
       "      <td>1.355858e-06</td>\n",
       "      <td>0.074496</td>\n",
       "      <td>False</td>\n",
       "    </tr>\n",
       "    <tr>\n",
       "      <th>3</th>\n",
       "      <td>Corpus Callosum (L)</td>\n",
       "      <td>Zona Incerta (R)</td>\n",
       "      <td>0.685735</td>\n",
       "      <td>1.668308e-06</td>\n",
       "      <td>0.091662</td>\n",
       "      <td>False</td>\n",
       "    </tr>\n",
       "    <tr>\n",
       "      <th>4</th>\n",
       "      <td>Septum (R)</td>\n",
       "      <td>Corpus Callosum (R)</td>\n",
       "      <td>0.670809</td>\n",
       "      <td>2.139082e-06</td>\n",
       "      <td>0.117525</td>\n",
       "      <td>False</td>\n",
       "    </tr>\n",
       "    <tr>\n",
       "      <th>5</th>\n",
       "      <td>Lateral Ventricle (L)</td>\n",
       "      <td>Striatum (R)</td>\n",
       "      <td>0.667327</td>\n",
       "      <td>2.266866e-06</td>\n",
       "      <td>0.124544</td>\n",
       "      <td>False</td>\n",
       "    </tr>\n",
       "    <tr>\n",
       "      <th>6</th>\n",
       "      <td>Striatum (L)</td>\n",
       "      <td>Striatum (R)</td>\n",
       "      <td>0.663875</td>\n",
       "      <td>2.401064e-06</td>\n",
       "      <td>0.131914</td>\n",
       "      <td>False</td>\n",
       "    </tr>\n",
       "    <tr>\n",
       "      <th>7</th>\n",
       "      <td>Corpus Callosum (L)</td>\n",
       "      <td>Ventral Thalamic Nuclei (R)</td>\n",
       "      <td>0.663380</td>\n",
       "      <td>2.420987e-06</td>\n",
       "      <td>0.133007</td>\n",
       "      <td>False</td>\n",
       "    </tr>\n",
       "    <tr>\n",
       "      <th>8</th>\n",
       "      <td>Hippocampus (L)</td>\n",
       "      <td>Middle Cerebellar Peduncle (L)</td>\n",
       "      <td>0.658415</td>\n",
       "      <td>2.629842e-06</td>\n",
       "      <td>0.144478</td>\n",
       "      <td>False</td>\n",
       "    </tr>\n",
       "    <tr>\n",
       "      <th>9</th>\n",
       "      <td>Caudomedial Entorhinal Cortex (R)</td>\n",
       "      <td>Ventral Hippocampal Commissure (R)</td>\n",
       "      <td>0.655984</td>\n",
       "      <td>2.738604e-06</td>\n",
       "      <td>0.150451</td>\n",
       "      <td>False</td>\n",
       "    </tr>\n",
       "    <tr>\n",
       "      <th>10</th>\n",
       "      <td>Corpus Callosum (L)</td>\n",
       "      <td>Midbrain Reticular Nucleus (R)</td>\n",
       "      <td>0.652512</td>\n",
       "      <td>2.901853e-06</td>\n",
       "      <td>0.159416</td>\n",
       "      <td>False</td>\n",
       "    </tr>\n",
       "    <tr>\n",
       "      <th>11</th>\n",
       "      <td>Midbrain Reticular Nucleus (L)</td>\n",
       "      <td>Superior Cerebellar Peduncle (L)</td>\n",
       "      <td>0.647961</td>\n",
       "      <td>3.130693e-06</td>\n",
       "      <td>0.171985</td>\n",
       "      <td>False</td>\n",
       "    </tr>\n",
       "    <tr>\n",
       "      <th>12</th>\n",
       "      <td>Corpus Callosum (L)</td>\n",
       "      <td>Corpus Callosum (R)</td>\n",
       "      <td>0.645608</td>\n",
       "      <td>3.255997e-06</td>\n",
       "      <td>0.178865</td>\n",
       "      <td>False</td>\n",
       "    </tr>\n",
       "    <tr>\n",
       "      <th>13</th>\n",
       "      <td>Spinal Trigeminal Nerve (L)</td>\n",
       "      <td>Middle Cerebellar Peduncle (L)</td>\n",
       "      <td>0.645284</td>\n",
       "      <td>3.273650e-06</td>\n",
       "      <td>0.179831</td>\n",
       "      <td>False</td>\n",
       "    </tr>\n",
       "    <tr>\n",
       "      <th>14</th>\n",
       "      <td>Secondary Visual CortexLateral Area (L)</td>\n",
       "      <td>Striatum (R)</td>\n",
       "      <td>0.641368</td>\n",
       "      <td>3.494704e-06</td>\n",
       "      <td>0.191971</td>\n",
       "      <td>False</td>\n",
       "    </tr>\n",
       "    <tr>\n",
       "      <th>15</th>\n",
       "      <td>Globus Pallidus (R)</td>\n",
       "      <td>Midbrain Reticular Nucleus (R)</td>\n",
       "      <td>0.631761</td>\n",
       "      <td>4.102502e-06</td>\n",
       "      <td>0.225355</td>\n",
       "      <td>False</td>\n",
       "    </tr>\n",
       "    <tr>\n",
       "      <th>16</th>\n",
       "      <td>Striatum (L)</td>\n",
       "      <td>Corpus Callosum (R)</td>\n",
       "      <td>0.631710</td>\n",
       "      <td>4.105987e-06</td>\n",
       "      <td>0.225542</td>\n",
       "      <td>False</td>\n",
       "    </tr>\n",
       "    <tr>\n",
       "      <th>17</th>\n",
       "      <td>Primary Somatosensory Cortex Hindlimb Region (L)</td>\n",
       "      <td>Secondary Visual Cortex Mediomedial Area (L)</td>\n",
       "      <td>0.628985</td>\n",
       "      <td>4.297134e-06</td>\n",
       "      <td>0.236037</td>\n",
       "      <td>False</td>\n",
       "    </tr>\n",
       "    <tr>\n",
       "      <th>18</th>\n",
       "      <td>Corpus Callosum (L)</td>\n",
       "      <td>Primary Somatosensory Cortex Jaw Region (R)</td>\n",
       "      <td>0.628365</td>\n",
       "      <td>4.341833e-06</td>\n",
       "      <td>0.238488</td>\n",
       "      <td>False</td>\n",
       "    </tr>\n",
       "    <tr>\n",
       "      <th>19</th>\n",
       "      <td>Corpus Callosum (L)</td>\n",
       "      <td>Ventral Orbital Cortex (R)</td>\n",
       "      <td>0.627970</td>\n",
       "      <td>4.370614e-06</td>\n",
       "      <td>0.240065</td>\n",
       "      <td>False</td>\n",
       "    </tr>\n",
       "  </tbody>\n",
       "</table>\n",
       "</div>"
      ],
      "text/plain": [
       "                                               ROI_1  \\\n",
       "0                                Corpus Callosum (L)   \n",
       "1                                Corpus Callosum (L)   \n",
       "2                                Corpus Callosum (L)   \n",
       "3                                Corpus Callosum (L)   \n",
       "4                                         Septum (R)   \n",
       "5                              Lateral Ventricle (L)   \n",
       "6                                       Striatum (L)   \n",
       "7                                Corpus Callosum (L)   \n",
       "8                                    Hippocampus (L)   \n",
       "9                  Caudomedial Entorhinal Cortex (R)   \n",
       "10                               Corpus Callosum (L)   \n",
       "11                    Midbrain Reticular Nucleus (L)   \n",
       "12                               Corpus Callosum (L)   \n",
       "13                       Spinal Trigeminal Nerve (L)   \n",
       "14           Secondary Visual CortexLateral Area (L)   \n",
       "15                               Globus Pallidus (R)   \n",
       "16                                      Striatum (L)   \n",
       "17  Primary Somatosensory Cortex Hindlimb Region (L)   \n",
       "18                               Corpus Callosum (L)   \n",
       "19                               Corpus Callosum (L)   \n",
       "\n",
       "                                           ROI_2      stat        pvalue  \\\n",
       "0                                   Striatum (R)  0.717036  9.911903e-07   \n",
       "1                           Internal Capsule (R)  0.699473  1.327371e-06   \n",
       "2              Reticular Nucleus of Thalamus (R)  0.698197  1.355858e-06   \n",
       "3                               Zona Incerta (R)  0.685735  1.668308e-06   \n",
       "4                            Corpus Callosum (R)  0.670809  2.139082e-06   \n",
       "5                                   Striatum (R)  0.667327  2.266866e-06   \n",
       "6                                   Striatum (R)  0.663875  2.401064e-06   \n",
       "7                    Ventral Thalamic Nuclei (R)  0.663380  2.420987e-06   \n",
       "8                 Middle Cerebellar Peduncle (L)  0.658415  2.629842e-06   \n",
       "9             Ventral Hippocampal Commissure (R)  0.655984  2.738604e-06   \n",
       "10                Midbrain Reticular Nucleus (R)  0.652512  2.901853e-06   \n",
       "11              Superior Cerebellar Peduncle (L)  0.647961  3.130693e-06   \n",
       "12                           Corpus Callosum (R)  0.645608  3.255997e-06   \n",
       "13                Middle Cerebellar Peduncle (L)  0.645284  3.273650e-06   \n",
       "14                                  Striatum (R)  0.641368  3.494704e-06   \n",
       "15                Midbrain Reticular Nucleus (R)  0.631761  4.102502e-06   \n",
       "16                           Corpus Callosum (R)  0.631710  4.105987e-06   \n",
       "17  Secondary Visual Cortex Mediomedial Area (L)  0.628985  4.297134e-06   \n",
       "18   Primary Somatosensory Cortex Jaw Region (R)  0.628365  4.341833e-06   \n",
       "19                    Ventral Orbital Cortex (R)  0.627970  4.370614e-06   \n",
       "\n",
       "    holm_pvalue  significant  \n",
       "0      0.054462        False  \n",
       "1      0.072932        False  \n",
       "2      0.074496        False  \n",
       "3      0.091662        False  \n",
       "4      0.117525        False  \n",
       "5      0.124544        False  \n",
       "6      0.131914        False  \n",
       "7      0.133007        False  \n",
       "8      0.144478        False  \n",
       "9      0.150451        False  \n",
       "10     0.159416        False  \n",
       "11     0.171985        False  \n",
       "12     0.178865        False  \n",
       "13     0.179831        False  \n",
       "14     0.191971        False  \n",
       "15     0.225355        False  \n",
       "16     0.225542        False  \n",
       "17     0.236037        False  \n",
       "18     0.238488        False  \n",
       "19     0.240065        False  "
      ]
     },
     "execution_count": 10,
     "metadata": {},
     "output_type": "execute_result"
    },
    {
     "data": {
      "application/javascript": [
       "\n",
       "            setTimeout(function() {\n",
       "                var nbb_cell_id = 10;\n",
       "                var nbb_unformatted_code = \"# Get the top 20 strongest signal edges\\nstrong_signal_edges = signal_edges.head(20)\\nstrong_signal_edges[\\\"ROI_1\\\"] = strong_signal_edges[\\\"ROI_1\\\"].apply(lookup_roi_name)\\nstrong_signal_edges[\\\"ROI_2\\\"] = strong_signal_edges[\\\"ROI_2\\\"].apply(lookup_roi_name)\\nstrong_signal_edges\";\n",
       "                var nbb_formatted_code = \"# Get the top 20 strongest signal edges\\nstrong_signal_edges = signal_edges.head(20)\\nstrong_signal_edges[\\\"ROI_1\\\"] = strong_signal_edges[\\\"ROI_1\\\"].apply(lookup_roi_name)\\nstrong_signal_edges[\\\"ROI_2\\\"] = strong_signal_edges[\\\"ROI_2\\\"].apply(lookup_roi_name)\\nstrong_signal_edges\";\n",
       "                var nbb_cells = Jupyter.notebook.get_cells();\n",
       "                for (var i = 0; i < nbb_cells.length; ++i) {\n",
       "                    if (nbb_cells[i].input_prompt_number == nbb_cell_id) {\n",
       "                        if (nbb_cells[i].get_text() == nbb_unformatted_code) {\n",
       "                             nbb_cells[i].set_text(nbb_formatted_code);\n",
       "                        }\n",
       "                        break;\n",
       "                    }\n",
       "                }\n",
       "            }, 500);\n",
       "            "
      ],
      "text/plain": [
       "<IPython.core.display.Javascript object>"
      ]
     },
     "metadata": {},
     "output_type": "display_data"
    }
   ],
   "source": [
    "# Get the top 20 strongest signal edges\n",
    "strong_signal_edges = signal_edges.head(20)\n",
    "strong_signal_edges[\"ROI_1\"] = strong_signal_edges[\"ROI_1\"].apply(lookup_roi_name)\n",
    "strong_signal_edges[\"ROI_2\"] = strong_signal_edges[\"ROI_2\"].apply(lookup_roi_name)\n",
    "strong_signal_edges"
   ]
  },
  {
   "cell_type": "code",
   "execution_count": null,
   "metadata": {},
   "outputs": [],
   "source": [
    "def stripplot(df, data_column):\n",
    "\n",
    "    kwargs = {\n",
    "        \"alpha\": 0.75,\n",
    "        \"edgecolor\": None,\n",
    "        \"linewidth\": 0,\n",
    "        \"marker\": \"o\",\n",
    "        \"palette\": [\"#e7298a\", \"#1b9e77\", \"#d95f02\", \"#7570b3\"],\n",
    "    }\n",
    "\n",
    "    fig, ax = plt.subplots(figsize=(2.5, 2.5), dpi=150)\n",
    "\n",
    "    g = sns.stripplot(\n",
    "        x=\"Strain\",\n",
    "        y=data_column,\n",
    "        data=df,\n",
    "        jitter=True,\n",
    "        orient=\"v\",\n",
    "        ax=ax,\n",
    "        **kwargs,\n",
    "    )\n",
    "\n",
    "    return g"
   ]
  },
  {
   "cell_type": "code",
   "execution_count": 11,
   "metadata": {},
   "outputs": [
    {
     "data": {
      "image/png": "[encoded data removed]",
      "text/plain": [
       "<Figure size 375x375 with 1 Axes>"
      ]
     },
     "metadata": {
      "needs_background": "light"
     },
     "output_type": "display_data"
    },
    {
     "data": {
      "application/javascript": [
       "\n",
       "            setTimeout(function() {\n",
       "                var nbb_cell_id = 11;\n",
       "                var nbb_unformatted_code = \"edgeweight = graphs[:, 121 - 1, 230 - 1]\\nedgeweight = pd.DataFrame({\\\"Edgeweight\\\": edgeweight, \\\"Strain\\\": labels})\\ng = stripplot(edgeweight, \\\"Edgeweight\\\")\\ng.ticklabel_format(style=\\\"sci\\\", scilimits=(0, 0), axis=\\\"y\\\")\\nplt.show()\";\n",
       "                var nbb_formatted_code = \"edgeweight = graphs[:, 121 - 1, 230 - 1]\\nedgeweight = pd.DataFrame({\\\"Edgeweight\\\": edgeweight, \\\"Strain\\\": labels})\\ng = stripplot(edgeweight, \\\"Edgeweight\\\")\\ng.ticklabel_format(style=\\\"sci\\\", scilimits=(0, 0), axis=\\\"y\\\")\\nplt.show()\";\n",
       "                var nbb_cells = Jupyter.notebook.get_cells();\n",
       "                for (var i = 0; i < nbb_cells.length; ++i) {\n",
       "                    if (nbb_cells[i].input_prompt_number == nbb_cell_id) {\n",
       "                        if (nbb_cells[i].get_text() == nbb_unformatted_code) {\n",
       "                             nbb_cells[i].set_text(nbb_formatted_code);\n",
       "                        }\n",
       "                        break;\n",
       "                    }\n",
       "                }\n",
       "            }, 500);\n",
       "            "
      ],
      "text/plain": [
       "<IPython.core.display.Javascript object>"
      ]
     },
     "metadata": {},
     "output_type": "display_data"
    }
   ],
   "source": [
    "edgeweight = graphs[:, 121 - 1, 230 - 1]\n",
    "edgeweight = pd.DataFrame({\"Edgeweight\": edgeweight, \"Strain\": labels})\n",
    "g = stripplot(edgeweight, \"Edgeweight\")\n",
    "g.ticklabel_format(style=\"sci\", scilimits=(0, 0), axis=\"y\")\n",
    "plt.show()"
   ]
  },
  {
   "cell_type": "markdown",
   "metadata": {},
   "source": [
    "## Identifying Signal Vertices"
   ]
  },
  {
   "cell_type": "code",
   "execution_count": 12,
   "metadata": {},
   "outputs": [
    {
     "data": {
      "application/javascript": [
       "\n",
       "            setTimeout(function() {\n",
       "                var nbb_cell_id = 12;\n",
       "                var nbb_unformatted_code = \"from itertools import product\\n\\nfrom graspologic.embed import OmnibusEmbed\";\n",
       "                var nbb_formatted_code = \"from itertools import product\\n\\nfrom graspologic.embed import OmnibusEmbed\";\n",
       "                var nbb_cells = Jupyter.notebook.get_cells();\n",
       "                for (var i = 0; i < nbb_cells.length; ++i) {\n",
       "                    if (nbb_cells[i].input_prompt_number == nbb_cell_id) {\n",
       "                        if (nbb_cells[i].get_text() == nbb_unformatted_code) {\n",
       "                             nbb_cells[i].set_text(nbb_formatted_code);\n",
       "                        }\n",
       "                        break;\n",
       "                    }\n",
       "                }\n",
       "            }, 500);\n",
       "            "
      ],
      "text/plain": [
       "<IPython.core.display.Javascript object>"
      ]
     },
     "metadata": {},
     "output_type": "display_data"
    }
   ],
   "source": [
    "from itertools import product\n",
    "\n",
    "from graspologic.embed import OmnibusEmbed"
   ]
  },
  {
   "cell_type": "code",
   "execution_count": 13,
   "metadata": {},
   "outputs": [
    {
     "name": "stdout",
     "output_type": "stream",
     "text": [
      "Omnibus embedding shape is (10624, 5)\n"
     ]
    },
    {
     "data": {
      "text/html": [
       "<div>\n",
       "<style scoped>\n",
       "    .dataframe tbody tr th:only-of-type {\n",
       "        vertical-align: middle;\n",
       "    }\n",
       "\n",
       "    .dataframe tbody tr th {\n",
       "        vertical-align: top;\n",
       "    }\n",
       "\n",
       "    .dataframe thead th {\n",
       "        text-align: right;\n",
       "    }\n",
       "</style>\n",
       "<table border=\"1\" class=\"dataframe\">\n",
       "  <thead>\n",
       "    <tr style=\"text-align: right;\">\n",
       "      <th></th>\n",
       "      <th>omni_1</th>\n",
       "      <th>omni_2</th>\n",
       "      <th>omni_3</th>\n",
       "      <th>omni_4</th>\n",
       "      <th>omni_5</th>\n",
       "    </tr>\n",
       "  </thead>\n",
       "  <tbody>\n",
       "    <tr>\n",
       "      <th>0</th>\n",
       "      <td>15.563488</td>\n",
       "      <td>-4.677256</td>\n",
       "      <td>7.001869</td>\n",
       "      <td>20.646541</td>\n",
       "      <td>5.449646</td>\n",
       "    </tr>\n",
       "    <tr>\n",
       "      <th>1</th>\n",
       "      <td>10.396550</td>\n",
       "      <td>-3.009482</td>\n",
       "      <td>1.061926</td>\n",
       "      <td>18.479977</td>\n",
       "      <td>1.820983</td>\n",
       "    </tr>\n",
       "    <tr>\n",
       "      <th>2</th>\n",
       "      <td>3.265551</td>\n",
       "      <td>-2.216455</td>\n",
       "      <td>-4.954120</td>\n",
       "      <td>10.745717</td>\n",
       "      <td>-0.430063</td>\n",
       "    </tr>\n",
       "    <tr>\n",
       "      <th>3</th>\n",
       "      <td>0.877404</td>\n",
       "      <td>-0.722453</td>\n",
       "      <td>-2.099711</td>\n",
       "      <td>3.832646</td>\n",
       "      <td>-0.301351</td>\n",
       "    </tr>\n",
       "    <tr>\n",
       "      <th>4</th>\n",
       "      <td>14.715205</td>\n",
       "      <td>-2.565321</td>\n",
       "      <td>3.161270</td>\n",
       "      <td>19.421104</td>\n",
       "      <td>2.048714</td>\n",
       "    </tr>\n",
       "  </tbody>\n",
       "</table>\n",
       "</div>"
      ],
      "text/plain": [
       "      omni_1    omni_2    omni_3     omni_4    omni_5\n",
       "0  15.563488 -4.677256  7.001869  20.646541  5.449646\n",
       "1  10.396550 -3.009482  1.061926  18.479977  1.820983\n",
       "2   3.265551 -2.216455 -4.954120  10.745717 -0.430063\n",
       "3   0.877404 -0.722453 -2.099711   3.832646 -0.301351\n",
       "4  14.715205 -2.565321  3.161270  19.421104  2.048714"
      ]
     },
     "execution_count": 13,
     "metadata": {},
     "output_type": "execute_result"
    },
    {
     "data": {
      "application/javascript": [
       "\n",
       "            setTimeout(function() {\n",
       "                var nbb_cell_id = 13;\n",
       "                var nbb_unformatted_code = \"# Jointly embed graphs using OMNI\\nembedder = OmnibusEmbed()\\nomni_embedding = embedder.fit_transform(graphs)\\nomni_embedding = omni_embedding.reshape(-1, omni_embedding.shape[-1])\\nprint(f\\\"Omnibus embedding shape is {omni_embedding.shape}\\\")\\n\\n# Convert array to a dataframe\\nomni_embedding = pd.DataFrame(\\n    omni_embedding, columns=[f\\\"omni_{i + 1}\\\" for i in range(omni_embedding.shape[-1])]\\n).astype(np.float64)\\nomni_embedding.head()\";\n",
       "                var nbb_formatted_code = \"# Jointly embed graphs using OMNI\\nembedder = OmnibusEmbed()\\nomni_embedding = embedder.fit_transform(graphs)\\nomni_embedding = omni_embedding.reshape(-1, omni_embedding.shape[-1])\\nprint(f\\\"Omnibus embedding shape is {omni_embedding.shape}\\\")\\n\\n# Convert array to a dataframe\\nomni_embedding = pd.DataFrame(\\n    omni_embedding, columns=[f\\\"omni_{i + 1}\\\" for i in range(omni_embedding.shape[-1])]\\n).astype(np.float64)\\nomni_embedding.head()\";\n",
       "                var nbb_cells = Jupyter.notebook.get_cells();\n",
       "                for (var i = 0; i < nbb_cells.length; ++i) {\n",
       "                    if (nbb_cells[i].input_prompt_number == nbb_cell_id) {\n",
       "                        if (nbb_cells[i].get_text() == nbb_unformatted_code) {\n",
       "                             nbb_cells[i].set_text(nbb_formatted_code);\n",
       "                        }\n",
       "                        break;\n",
       "                    }\n",
       "                }\n",
       "            }, 500);\n",
       "            "
      ],
      "text/plain": [
       "<IPython.core.display.Javascript object>"
      ]
     },
     "metadata": {},
     "output_type": "display_data"
    }
   ],
   "source": [
    "# Jointly embed graphs using OMNI\n",
    "embedder = OmnibusEmbed()\n",
    "omni_embedding = embedder.fit_transform(graphs)\n",
    "omni_embedding = omni_embedding.reshape(-1, omni_embedding.shape[-1])\n",
    "print(f\"Omnibus embedding shape is {omni_embedding.shape}\")\n",
    "\n",
    "# Convert array to a dataframe\n",
    "omni_embedding = pd.DataFrame(\n",
    "    omni_embedding, columns=[f\"omni_{i + 1}\" for i in range(omni_embedding.shape[-1])]\n",
    ").astype(np.float64)\n",
    "omni_embedding.head()"
   ]
  },
  {
   "cell_type": "code",
   "execution_count": 14,
   "metadata": {},
   "outputs": [
    {
     "data": {
      "text/html": [
       "<div>\n",
       "<style scoped>\n",
       "    .dataframe tbody tr th:only-of-type {\n",
       "        vertical-align: middle;\n",
       "    }\n",
       "\n",
       "    .dataframe tbody tr th {\n",
       "        vertical-align: top;\n",
       "    }\n",
       "\n",
       "    .dataframe thead th {\n",
       "        text-align: right;\n",
       "    }\n",
       "</style>\n",
       "<table border=\"1\" class=\"dataframe\">\n",
       "  <thead>\n",
       "    <tr style=\"text-align: right;\">\n",
       "      <th></th>\n",
       "      <th>omni_1</th>\n",
       "      <th>omni_2</th>\n",
       "      <th>omni_3</th>\n",
       "      <th>omni_4</th>\n",
       "      <th>omni_5</th>\n",
       "      <th>participant_id</th>\n",
       "      <th>ROI</th>\n",
       "      <th>genotype</th>\n",
       "    </tr>\n",
       "  </thead>\n",
       "  <tbody>\n",
       "    <tr>\n",
       "      <th>0</th>\n",
       "      <td>15.563488</td>\n",
       "      <td>-4.677256</td>\n",
       "      <td>7.001869</td>\n",
       "      <td>20.646541</td>\n",
       "      <td>5.449646</td>\n",
       "      <td>54776</td>\n",
       "      <td>1</td>\n",
       "      <td>BTBR</td>\n",
       "    </tr>\n",
       "    <tr>\n",
       "      <th>1</th>\n",
       "      <td>10.396550</td>\n",
       "      <td>-3.009482</td>\n",
       "      <td>1.061926</td>\n",
       "      <td>18.479977</td>\n",
       "      <td>1.820983</td>\n",
       "      <td>54776</td>\n",
       "      <td>2</td>\n",
       "      <td>BTBR</td>\n",
       "    </tr>\n",
       "    <tr>\n",
       "      <th>2</th>\n",
       "      <td>3.265551</td>\n",
       "      <td>-2.216455</td>\n",
       "      <td>-4.954120</td>\n",
       "      <td>10.745717</td>\n",
       "      <td>-0.430063</td>\n",
       "      <td>54776</td>\n",
       "      <td>3</td>\n",
       "      <td>BTBR</td>\n",
       "    </tr>\n",
       "    <tr>\n",
       "      <th>3</th>\n",
       "      <td>0.877404</td>\n",
       "      <td>-0.722453</td>\n",
       "      <td>-2.099711</td>\n",
       "      <td>3.832646</td>\n",
       "      <td>-0.301351</td>\n",
       "      <td>54776</td>\n",
       "      <td>4</td>\n",
       "      <td>BTBR</td>\n",
       "    </tr>\n",
       "    <tr>\n",
       "      <th>4</th>\n",
       "      <td>14.715205</td>\n",
       "      <td>-2.565321</td>\n",
       "      <td>3.161270</td>\n",
       "      <td>19.421104</td>\n",
       "      <td>2.048714</td>\n",
       "      <td>54776</td>\n",
       "      <td>5</td>\n",
       "      <td>BTBR</td>\n",
       "    </tr>\n",
       "  </tbody>\n",
       "</table>\n",
       "</div>"
      ],
      "text/plain": [
       "      omni_1    omni_2    omni_3     omni_4    omni_5 participant_id  ROI  \\\n",
       "0  15.563488 -4.677256  7.001869  20.646541  5.449646          54776    1   \n",
       "1  10.396550 -3.009482  1.061926  18.479977  1.820983          54776    2   \n",
       "2   3.265551 -2.216455 -4.954120  10.745717 -0.430063          54776    3   \n",
       "3   0.877404 -0.722453 -2.099711   3.832646 -0.301351          54776    4   \n",
       "4  14.715205 -2.565321  3.161270  19.421104  2.048714          54776    5   \n",
       "\n",
       "  genotype  \n",
       "0     BTBR  \n",
       "1     BTBR  \n",
       "2     BTBR  \n",
       "3     BTBR  \n",
       "4     BTBR  "
      ]
     },
     "execution_count": 14,
     "metadata": {},
     "output_type": "execute_result"
    },
    {
     "data": {
      "application/javascript": [
       "\n",
       "            setTimeout(function() {\n",
       "                var nbb_cell_id = 14;\n",
       "                var nbb_unformatted_code = \"# Construct identifiers for each embedded vertex\\nleft = mice.atlas[\\\"ROI\\\"].unique()\\nright = left + 166\\nrois = np.append(left, right)\\n\\nparticipants = mice.participants[\\\"participant_id\\\"]\\nparticipants = participants.apply(lambda x: x.split(\\\"-\\\")[1])\\n\\nidentifiers = np.array(list(product(participants, rois))).reshape(-1, 2)\\nidentifiers = pd.DataFrame(identifiers, columns=[\\\"participant_id\\\", \\\"ROI\\\"])\\nidentifiers[\\\"ROI\\\"] = identifiers[\\\"ROI\\\"].astype(np.int64)\\nidentifiers[\\\"genotype\\\"] = np.array([[strain] * 332 for strain in labels]).reshape(-1)\\n\\nomni = pd.concat([omni_embedding, identifiers], axis=1)\\nomni.head()\";\n",
       "                var nbb_formatted_code = \"# Construct identifiers for each embedded vertex\\nleft = mice.atlas[\\\"ROI\\\"].unique()\\nright = left + 166\\nrois = np.append(left, right)\\n\\nparticipants = mice.participants[\\\"participant_id\\\"]\\nparticipants = participants.apply(lambda x: x.split(\\\"-\\\")[1])\\n\\nidentifiers = np.array(list(product(participants, rois))).reshape(-1, 2)\\nidentifiers = pd.DataFrame(identifiers, columns=[\\\"participant_id\\\", \\\"ROI\\\"])\\nidentifiers[\\\"ROI\\\"] = identifiers[\\\"ROI\\\"].astype(np.int64)\\nidentifiers[\\\"genotype\\\"] = np.array([[strain] * 332 for strain in labels]).reshape(-1)\\n\\nomni = pd.concat([omni_embedding, identifiers], axis=1)\\nomni.head()\";\n",
       "                var nbb_cells = Jupyter.notebook.get_cells();\n",
       "                for (var i = 0; i < nbb_cells.length; ++i) {\n",
       "                    if (nbb_cells[i].input_prompt_number == nbb_cell_id) {\n",
       "                        if (nbb_cells[i].get_text() == nbb_unformatted_code) {\n",
       "                             nbb_cells[i].set_text(nbb_formatted_code);\n",
       "                        }\n",
       "                        break;\n",
       "                    }\n",
       "                }\n",
       "            }, 500);\n",
       "            "
      ],
      "text/plain": [
       "<IPython.core.display.Javascript object>"
      ]
     },
     "metadata": {},
     "output_type": "display_data"
    }
   ],
   "source": [
    "# Construct identifiers for each embedded vertex\n",
    "left = mice.atlas[\"ROI\"].unique()\n",
    "right = left + 166\n",
    "rois = np.append(left, right)\n",
    "\n",
    "participants = mice.participants[\"participant_id\"]\n",
    "participants = participants.apply(lambda x: x.split(\"-\")[1])\n",
    "\n",
    "identifiers = np.array(list(product(participants, rois))).reshape(-1, 2)\n",
    "identifiers = pd.DataFrame(identifiers, columns=[\"participant_id\", \"ROI\"])\n",
    "identifiers[\"ROI\"] = identifiers[\"ROI\"].astype(np.int64)\n",
    "identifiers[\"genotype\"] = np.array([[strain] * 332 for strain in labels]).reshape(-1)\n",
    "\n",
    "omni = pd.concat([omni_embedding, identifiers], axis=1)\n",
    "omni.head()"
   ]
  },
  {
   "cell_type": "code",
   "execution_count": 15,
   "metadata": {},
   "outputs": [
    {
     "data": {
      "application/javascript": [
       "\n",
       "            setTimeout(function() {\n",
       "                var nbb_cell_id = 15;\n",
       "                var nbb_unformatted_code = \"%%R -i omni -i n_vertices -o signal_vertices\\n\\nsuppressPackageStartupMessages(require(tidyverse))\\n\\ncol1 <- which(grepl(\\\"omni\\\", names(omni))) # column indices for the embeddings\\ncol2 <- which(grepl(\\\"genotype\\\", names(omni))) # column index for the genotype\\n\\nembedding <- colnames(omni)[col1]\\ngenotype <- colnames(omni)[col2]\\nform <- paste0(\\\"cbind(\\\", paste(embedding, collapse=\\\", \\\"), \\\") ~ \\\", genotype)\\n\\npvec <- rep(0, n_vertices)\\npillai <- rep(0, n_vertices)\\nF <- rep(0, n_vertices)\\nnum.df <- rep(0, n_vertices)\\nden.df <- rep(0, n_vertices)\\n\\nfor (i in 1 : n_vertices) {\\n    omni.v <- omni[which(omni$ROI == i), ]\\n    ans <- manova(as.formula(form), data=omni.v)\\n    pvec[i] <- summary(ans)$stats[1, \\\"Pr(>F)\\\"]\\n    pillai[i] <- summary(ans)$stats[1, \\\"Pillai\\\"]\\n    F[i] <- summary(ans)$stats[1, \\\"approx F\\\"]\\n    num.df[i] <- summary(ans)$stats[1, \\\"num Df\\\"]\\n    den.df[i] <- summary(ans)$stats[1, \\\"den Df\\\"]\\n}\\n\\nsignal_vertices <- data.frame(ROI=unique(omni$ROI), pillai=pillai, F=F, num.df=num.df, den.df=den.df, pvalue=pvec)\";\n",
       "                var nbb_formatted_code = \"%%R -i omni -i n_vertices -o signal_vertices\\n\\nsuppressPackageStartupMessages(require(tidyverse))\\n\\ncol1 <- which(grepl(\\\"omni\\\", names(omni))) # column indices for the embeddings\\ncol2 <- which(grepl(\\\"genotype\\\", names(omni))) # column index for the genotype\\n\\nembedding <- colnames(omni)[col1]\\ngenotype <- colnames(omni)[col2]\\nform <- paste0(\\\"cbind(\\\", paste(embedding, collapse=\\\", \\\"), \\\") ~ \\\", genotype)\\n\\npvec <- rep(0, n_vertices)\\npillai <- rep(0, n_vertices)\\nF <- rep(0, n_vertices)\\nnum.df <- rep(0, n_vertices)\\nden.df <- rep(0, n_vertices)\\n\\nfor (i in 1 : n_vertices) {\\n    omni.v <- omni[which(omni$ROI == i), ]\\n    ans <- manova(as.formula(form), data=omni.v)\\n    pvec[i] <- summary(ans)$stats[1, \\\"Pr(>F)\\\"]\\n    pillai[i] <- summary(ans)$stats[1, \\\"Pillai\\\"]\\n    F[i] <- summary(ans)$stats[1, \\\"approx F\\\"]\\n    num.df[i] <- summary(ans)$stats[1, \\\"num Df\\\"]\\n    den.df[i] <- summary(ans)$stats[1, \\\"den Df\\\"]\\n}\\n\\nsignal_vertices <- data.frame(ROI=unique(omni$ROI), pillai=pillai, F=F, num.df=num.df, den.df=den.df, pvalue=pvec)\";\n",
       "                var nbb_cells = Jupyter.notebook.get_cells();\n",
       "                for (var i = 0; i < nbb_cells.length; ++i) {\n",
       "                    if (nbb_cells[i].input_prompt_number == nbb_cell_id) {\n",
       "                        if (nbb_cells[i].get_text() == nbb_unformatted_code) {\n",
       "                             nbb_cells[i].set_text(nbb_formatted_code);\n",
       "                        }\n",
       "                        break;\n",
       "                    }\n",
       "                }\n",
       "            }, 500);\n",
       "            "
      ],
      "text/plain": [
       "<IPython.core.display.Javascript object>"
      ]
     },
     "metadata": {},
     "output_type": "display_data"
    }
   ],
   "source": [
    "%%R -i omni -i n_vertices -o signal_vertices\n",
    "\n",
    "suppressPackageStartupMessages(require(tidyverse))\n",
    "\n",
    "col1 <- which(grepl(\"omni\", names(omni))) # column indices for the embeddings\n",
    "col2 <- which(grepl(\"genotype\", names(omni))) # column index for the genotype\n",
    "\n",
    "embedding <- colnames(omni)[col1]\n",
    "genotype <- colnames(omni)[col2]\n",
    "form <- paste0(\"cbind(\", paste(embedding, collapse=\", \"), \") ~ \", genotype)\n",
    "\n",
    "pvec <- rep(0, n_vertices)\n",
    "pillai <- rep(0, n_vertices)\n",
    "F <- rep(0, n_vertices)\n",
    "num.df <- rep(0, n_vertices)\n",
    "den.df <- rep(0, n_vertices)\n",
    "\n",
    "for (i in 1 : n_vertices) {\n",
    "    omni.v <- omni[which(omni$ROI == i), ]\n",
    "    ans <- manova(as.formula(form), data=omni.v)\n",
    "    pvec[i] <- summary(ans)$stats[1, \"Pr(>F)\"]\n",
    "    pillai[i] <- summary(ans)$stats[1, \"Pillai\"]\n",
    "    F[i] <- summary(ans)$stats[1, \"approx F\"]\n",
    "    num.df[i] <- summary(ans)$stats[1, \"num Df\"]\n",
    "    den.df[i] <- summary(ans)$stats[1, \"den Df\"]\n",
    "}\n",
    "\n",
    "signal_vertices <- data.frame(ROI=unique(omni$ROI), pillai=pillai, F=F, num.df=num.df, den.df=den.df, pvalue=pvec)"
   ]
  },
  {
   "cell_type": "code",
   "execution_count": 16,
   "metadata": {},
   "outputs": [
    {
     "data": {
      "application/javascript": [
       "\n",
       "            setTimeout(function() {\n",
       "                var nbb_cell_id = 16;\n",
       "                var nbb_unformatted_code = \"# Correct p-values\\nsignal_vertices.sort_values(by=\\\"pvalue\\\", inplace=True, ignore_index=True)\\nreject, holm_pvalue, _, _ = multipletests(\\n    signal_vertices[\\\"pvalue\\\"], alpha=0.05, method=\\\"holm\\\"\\n)\\nsignal_vertices[\\\"holm_pvalue\\\"] = holm_pvalue\\nsignal_vertices[\\\"significant\\\"] = reject\\nsignal_vertices.sort_values(by=\\\"holm_pvalue\\\", inplace=True, ignore_index=True)\\nsignal_vertices.to_csv(\\\"../results/signal_vertices.csv\\\", index=False)\";\n",
       "                var nbb_formatted_code = \"# Correct p-values\\nsignal_vertices.sort_values(by=\\\"pvalue\\\", inplace=True, ignore_index=True)\\nreject, holm_pvalue, _, _ = multipletests(\\n    signal_vertices[\\\"pvalue\\\"], alpha=0.05, method=\\\"holm\\\"\\n)\\nsignal_vertices[\\\"holm_pvalue\\\"] = holm_pvalue\\nsignal_vertices[\\\"significant\\\"] = reject\\nsignal_vertices.sort_values(by=\\\"holm_pvalue\\\", inplace=True, ignore_index=True)\\nsignal_vertices.to_csv(\\\"../results/signal_vertices.csv\\\", index=False)\";\n",
       "                var nbb_cells = Jupyter.notebook.get_cells();\n",
       "                for (var i = 0; i < nbb_cells.length; ++i) {\n",
       "                    if (nbb_cells[i].input_prompt_number == nbb_cell_id) {\n",
       "                        if (nbb_cells[i].get_text() == nbb_unformatted_code) {\n",
       "                             nbb_cells[i].set_text(nbb_formatted_code);\n",
       "                        }\n",
       "                        break;\n",
       "                    }\n",
       "                }\n",
       "            }, 500);\n",
       "            "
      ],
      "text/plain": [
       "<IPython.core.display.Javascript object>"
      ]
     },
     "metadata": {},
     "output_type": "display_data"
    }
   ],
   "source": [
    "# Correct p-values\n",
    "signal_vertices.sort_values(by=\"pvalue\", inplace=True, ignore_index=True)\n",
    "reject, holm_pvalue, _, _ = multipletests(\n",
    "    signal_vertices[\"pvalue\"], alpha=0.05, method=\"holm\"\n",
    ")\n",
    "signal_vertices[\"holm_pvalue\"] = holm_pvalue\n",
    "signal_vertices[\"significant\"] = reject\n",
    "signal_vertices.sort_values(by=\"holm_pvalue\", inplace=True, ignore_index=True)\n",
    "signal_vertices.to_csv(\"../results/signal_vertices.csv\", index=False)"
   ]
  },
  {
   "cell_type": "code",
   "execution_count": 17,
   "metadata": {},
   "outputs": [
    {
     "data": {
      "text/html": [
       "<div>\n",
       "<style scoped>\n",
       "    .dataframe tbody tr th:only-of-type {\n",
       "        vertical-align: middle;\n",
       "    }\n",
       "\n",
       "    .dataframe tbody tr th {\n",
       "        vertical-align: top;\n",
       "    }\n",
       "\n",
       "    .dataframe thead th {\n",
       "        text-align: right;\n",
       "    }\n",
       "</style>\n",
       "<table border=\"1\" class=\"dataframe\">\n",
       "  <thead>\n",
       "    <tr style=\"text-align: right;\">\n",
       "      <th></th>\n",
       "      <th>ROI</th>\n",
       "      <th>pillai</th>\n",
       "      <th>F</th>\n",
       "      <th>num.df</th>\n",
       "      <th>den.df</th>\n",
       "      <th>pvalue</th>\n",
       "      <th>holm_pvalue</th>\n",
       "      <th>significant</th>\n",
       "    </tr>\n",
       "  </thead>\n",
       "  <tbody>\n",
       "    <tr>\n",
       "      <th>0</th>\n",
       "      <td>Corpus Callosum (L)</td>\n",
       "      <td>2.590783</td>\n",
       "      <td>32.921621</td>\n",
       "      <td>15.0</td>\n",
       "      <td>78.0</td>\n",
       "      <td>1.520529e-27</td>\n",
       "      <td>5.048155e-25</td>\n",
       "      <td>True</td>\n",
       "    </tr>\n",
       "    <tr>\n",
       "      <th>1</th>\n",
       "      <td>Corpus Callosum (R)</td>\n",
       "      <td>2.556235</td>\n",
       "      <td>29.953756</td>\n",
       "      <td>15.0</td>\n",
       "      <td>78.0</td>\n",
       "      <td>3.296150e-26</td>\n",
       "      <td>1.091026e-23</td>\n",
       "      <td>True</td>\n",
       "    </tr>\n",
       "    <tr>\n",
       "      <th>2</th>\n",
       "      <td>Fimbria (L)</td>\n",
       "      <td>2.439725</td>\n",
       "      <td>22.643468</td>\n",
       "      <td>15.0</td>\n",
       "      <td>78.0</td>\n",
       "      <td>2.182959e-22</td>\n",
       "      <td>7.203765e-20</td>\n",
       "      <td>True</td>\n",
       "    </tr>\n",
       "    <tr>\n",
       "      <th>3</th>\n",
       "      <td>Secondary Motor Cortex (L)</td>\n",
       "      <td>2.437955</td>\n",
       "      <td>22.555776</td>\n",
       "      <td>15.0</td>\n",
       "      <td>78.0</td>\n",
       "      <td>2.457477e-22</td>\n",
       "      <td>8.085099e-20</td>\n",
       "      <td>True</td>\n",
       "    </tr>\n",
       "    <tr>\n",
       "      <th>4</th>\n",
       "      <td>Midbrain Reticular Nucleus (R)</td>\n",
       "      <td>2.429781</td>\n",
       "      <td>22.157914</td>\n",
       "      <td>15.0</td>\n",
       "      <td>78.0</td>\n",
       "      <td>4.225264e-22</td>\n",
       "      <td>1.385887e-19</td>\n",
       "      <td>True</td>\n",
       "    </tr>\n",
       "    <tr>\n",
       "      <th>5</th>\n",
       "      <td>Substantia Nigra (R)</td>\n",
       "      <td>2.305210</td>\n",
       "      <td>17.252828</td>\n",
       "      <td>15.0</td>\n",
       "      <td>78.0</td>\n",
       "      <td>6.742089e-19</td>\n",
       "      <td>2.204663e-16</td>\n",
       "      <td>True</td>\n",
       "    </tr>\n",
       "    <tr>\n",
       "      <th>6</th>\n",
       "      <td>Internal Capsule (R)</td>\n",
       "      <td>2.304472</td>\n",
       "      <td>17.229000</td>\n",
       "      <td>15.0</td>\n",
       "      <td>78.0</td>\n",
       "      <td>7.013029e-19</td>\n",
       "      <td>2.286247e-16</td>\n",
       "      <td>True</td>\n",
       "    </tr>\n",
       "    <tr>\n",
       "      <th>7</th>\n",
       "      <td>Secondary Motor Cortex (R)</td>\n",
       "      <td>2.296842</td>\n",
       "      <td>16.985630</td>\n",
       "      <td>15.0</td>\n",
       "      <td>78.0</td>\n",
       "      <td>1.051105e-18</td>\n",
       "      <td>3.416093e-16</td>\n",
       "      <td>True</td>\n",
       "    </tr>\n",
       "    <tr>\n",
       "      <th>8</th>\n",
       "      <td>Cerebral Peduncle (R)</td>\n",
       "      <td>2.246784</td>\n",
       "      <td>15.511181</td>\n",
       "      <td>15.0</td>\n",
       "      <td>78.0</td>\n",
       "      <td>1.337752e-17</td>\n",
       "      <td>4.334318e-15</td>\n",
       "      <td>True</td>\n",
       "    </tr>\n",
       "    <tr>\n",
       "      <th>9</th>\n",
       "      <td>Internal Capsule (L)</td>\n",
       "      <td>2.237649</td>\n",
       "      <td>15.263002</td>\n",
       "      <td>15.0</td>\n",
       "      <td>78.0</td>\n",
       "      <td>2.086693e-17</td>\n",
       "      <td>6.740018e-15</td>\n",
       "      <td>True</td>\n",
       "    </tr>\n",
       "  </tbody>\n",
       "</table>\n",
       "</div>"
      ],
      "text/plain": [
       "                              ROI    pillai          F  num.df  den.df  \\\n",
       "0             Corpus Callosum (L)  2.590783  32.921621    15.0    78.0   \n",
       "1             Corpus Callosum (R)  2.556235  29.953756    15.0    78.0   \n",
       "2                     Fimbria (L)  2.439725  22.643468    15.0    78.0   \n",
       "3      Secondary Motor Cortex (L)  2.437955  22.555776    15.0    78.0   \n",
       "4  Midbrain Reticular Nucleus (R)  2.429781  22.157914    15.0    78.0   \n",
       "5            Substantia Nigra (R)  2.305210  17.252828    15.0    78.0   \n",
       "6            Internal Capsule (R)  2.304472  17.229000    15.0    78.0   \n",
       "7      Secondary Motor Cortex (R)  2.296842  16.985630    15.0    78.0   \n",
       "8           Cerebral Peduncle (R)  2.246784  15.511181    15.0    78.0   \n",
       "9            Internal Capsule (L)  2.237649  15.263002    15.0    78.0   \n",
       "\n",
       "         pvalue   holm_pvalue  significant  \n",
       "0  1.520529e-27  5.048155e-25         True  \n",
       "1  3.296150e-26  1.091026e-23         True  \n",
       "2  2.182959e-22  7.203765e-20         True  \n",
       "3  2.457477e-22  8.085099e-20         True  \n",
       "4  4.225264e-22  1.385887e-19         True  \n",
       "5  6.742089e-19  2.204663e-16         True  \n",
       "6  7.013029e-19  2.286247e-16         True  \n",
       "7  1.051105e-18  3.416093e-16         True  \n",
       "8  1.337752e-17  4.334318e-15         True  \n",
       "9  2.086693e-17  6.740018e-15         True  "
      ]
     },
     "execution_count": 17,
     "metadata": {},
     "output_type": "execute_result"
    },
    {
     "data": {
      "application/javascript": [
       "\n",
       "            setTimeout(function() {\n",
       "                var nbb_cell_id = 17;\n",
       "                var nbb_unformatted_code = \"# Get the top 10 strongest signal edges\\nstrong_signal_vertices = signal_vertices.head(10)\\nstrong_signal_vertices[\\\"ROI\\\"] = strong_signal_vertices[\\\"ROI\\\"].apply(lookup_roi_name)\\nstrong_signal_vertices\";\n",
       "                var nbb_formatted_code = \"# Get the top 10 strongest signal edges\\nstrong_signal_vertices = signal_vertices.head(10)\\nstrong_signal_vertices[\\\"ROI\\\"] = strong_signal_vertices[\\\"ROI\\\"].apply(lookup_roi_name)\\nstrong_signal_vertices\";\n",
       "                var nbb_cells = Jupyter.notebook.get_cells();\n",
       "                for (var i = 0; i < nbb_cells.length; ++i) {\n",
       "                    if (nbb_cells[i].input_prompt_number == nbb_cell_id) {\n",
       "                        if (nbb_cells[i].get_text() == nbb_unformatted_code) {\n",
       "                             nbb_cells[i].set_text(nbb_formatted_code);\n",
       "                        }\n",
       "                        break;\n",
       "                    }\n",
       "                }\n",
       "            }, 500);\n",
       "            "
      ],
      "text/plain": [
       "<IPython.core.display.Javascript object>"
      ]
     },
     "metadata": {},
     "output_type": "display_data"
    }
   ],
   "source": [
    "# Get the top 10 strongest signal edges\n",
    "strong_signal_vertices = signal_vertices.head(10)\n",
    "strong_signal_vertices[\"ROI\"] = strong_signal_vertices[\"ROI\"].apply(lookup_roi_name)\n",
    "strong_signal_vertices"
   ]
  },
  {
   "cell_type": "code",
   "execution_count": 18,
   "metadata": {},
   "outputs": [
    {
     "data": {
      "image/png": "[encoded data removed]",
      "text/plain": [
       "<Figure size 375x375 with 1 Axes>"
      ]
     },
     "metadata": {
      "needs_background": "light"
     },
     "output_type": "display_data"
    },
    {
     "data": {
      "application/javascript": [
       "\n",
       "            setTimeout(function() {\n",
       "                var nbb_cell_id = 18;\n",
       "                var nbb_unformatted_code = \"left_cc = omni.query(\\\"ROI == 121\\\")[[\\\"omni_1\\\", \\\"genotype\\\"]]\\nleft_cc.columns = [\\\"Embedding Dim. 1\\\", \\\"Strain\\\"]\\ng = stripplot(left_cc, \\\"Embedding Dim. 1\\\")\\nplt.show()\";\n",
       "                var nbb_formatted_code = \"left_cc = omni.query(\\\"ROI == 121\\\")[[\\\"omni_1\\\", \\\"genotype\\\"]]\\nleft_cc.columns = [\\\"Embedding Dim. 1\\\", \\\"Strain\\\"]\\ng = stripplot(left_cc, \\\"Embedding Dim. 1\\\")\\nplt.show()\";\n",
       "                var nbb_cells = Jupyter.notebook.get_cells();\n",
       "                for (var i = 0; i < nbb_cells.length; ++i) {\n",
       "                    if (nbb_cells[i].input_prompt_number == nbb_cell_id) {\n",
       "                        if (nbb_cells[i].get_text() == nbb_unformatted_code) {\n",
       "                             nbb_cells[i].set_text(nbb_formatted_code);\n",
       "                        }\n",
       "                        break;\n",
       "                    }\n",
       "                }\n",
       "            }, 500);\n",
       "            "
      ],
      "text/plain": [
       "<IPython.core.display.Javascript object>"
      ]
     },
     "metadata": {},
     "output_type": "display_data"
    }
   ],
   "source": [
    "left_cc = omni.query(\"ROI == 121\")[[\"omni_1\", \"genotype\"]]\n",
    "left_cc.columns = [\"Embedding Dim. 1\", \"Strain\"]\n",
    "g = stripplot(left_cc, \"Embedding Dim. 1\")\n",
    "plt.show()"
   ]
  },
  {
   "cell_type": "markdown",
   "metadata": {},
   "source": [
    "## Identifying signal communities"
   ]
  },
  {
   "cell_type": "code",
   "execution_count": 19,
   "metadata": {},
   "outputs": [
    {
     "data": {
      "application/javascript": [
       "\n",
       "            setTimeout(function() {\n",
       "                var nbb_cell_id = 19;\n",
       "                var nbb_unformatted_code = \"from collections import namedtuple\\nfrom itertools import combinations_with_replacement\\n\\nPoint = namedtuple(\\\"Point\\\", [\\\"x\\\", \\\"y\\\"])\";\n",
       "                var nbb_formatted_code = \"from collections import namedtuple\\nfrom itertools import combinations_with_replacement\\n\\nPoint = namedtuple(\\\"Point\\\", [\\\"x\\\", \\\"y\\\"])\";\n",
       "                var nbb_cells = Jupyter.notebook.get_cells();\n",
       "                for (var i = 0; i < nbb_cells.length; ++i) {\n",
       "                    if (nbb_cells[i].input_prompt_number == nbb_cell_id) {\n",
       "                        if (nbb_cells[i].get_text() == nbb_unformatted_code) {\n",
       "                             nbb_cells[i].set_text(nbb_formatted_code);\n",
       "                        }\n",
       "                        break;\n",
       "                    }\n",
       "                }\n",
       "            }, 500);\n",
       "            "
      ],
      "text/plain": [
       "<IPython.core.display.Javascript object>"
      ]
     },
     "metadata": {},
     "output_type": "display_data"
    }
   ],
   "source": [
    "from collections import namedtuple\n",
    "from itertools import combinations_with_replacement\n",
    "\n",
    "Point = namedtuple(\"Point\", [\"x\", \"y\"])"
   ]
  },
  {
   "cell_type": "code",
   "execution_count": 20,
   "metadata": {},
   "outputs": [
    {
     "data": {
      "application/javascript": [
       "\n",
       "            setTimeout(function() {\n",
       "                var nbb_cell_id = 20;\n",
       "                var nbb_unformatted_code = \"def _get_point(community, hemisphere):\\n    \\\"\\\"\\\"Make points from database queries.\\\"\\\"\\\"\\n    expr = f\\\"block == '{community}' and hemisphere == '{hemisphere}'\\\"\\n    point = Point(*mice.blocks.query(expr).values[0][2:])\\n    return point\";\n",
       "                var nbb_formatted_code = \"def _get_point(community, hemisphere):\\n    \\\"\\\"\\\"Make points from database queries.\\\"\\\"\\\"\\n    expr = f\\\"block == '{community}' and hemisphere == '{hemisphere}'\\\"\\n    point = Point(*mice.blocks.query(expr).values[0][2:])\\n    return point\";\n",
       "                var nbb_cells = Jupyter.notebook.get_cells();\n",
       "                for (var i = 0; i < nbb_cells.length; ++i) {\n",
       "                    if (nbb_cells[i].input_prompt_number == nbb_cell_id) {\n",
       "                        if (nbb_cells[i].get_text() == nbb_unformatted_code) {\n",
       "                             nbb_cells[i].set_text(nbb_formatted_code);\n",
       "                        }\n",
       "                        break;\n",
       "                    }\n",
       "                }\n",
       "            }, 500);\n",
       "            "
      ],
      "text/plain": [
       "<IPython.core.display.Javascript object>"
      ]
     },
     "metadata": {},
     "output_type": "display_data"
    }
   ],
   "source": [
    "def _get_point(community, hemisphere):\n",
    "    \"\"\"Make points from database queries.\"\"\"\n",
    "    expr = f\"block == '{community}' and hemisphere == '{hemisphere}'\"\n",
    "    point = Point(*mice.blocks.query(expr).values[0][2:])\n",
    "    return point"
   ]
  },
  {
   "cell_type": "code",
   "execution_count": 21,
   "metadata": {},
   "outputs": [
    {
     "data": {
      "application/javascript": [
       "\n",
       "            setTimeout(function() {\n",
       "                var nbb_cell_id = 21;\n",
       "                var nbb_unformatted_code = \"def _get_edges(point_1, point_2, sample):\\n    return sample[:, point_1.x : point_1.y, point_2.x : point_2.y].reshape(8, -1)\";\n",
       "                var nbb_formatted_code = \"def _get_edges(point_1, point_2, sample):\\n    return sample[:, point_1.x : point_1.y, point_2.x : point_2.y].reshape(8, -1)\";\n",
       "                var nbb_cells = Jupyter.notebook.get_cells();\n",
       "                for (var i = 0; i < nbb_cells.length; ++i) {\n",
       "                    if (nbb_cells[i].input_prompt_number == nbb_cell_id) {\n",
       "                        if (nbb_cells[i].get_text() == nbb_unformatted_code) {\n",
       "                             nbb_cells[i].set_text(nbb_formatted_code);\n",
       "                        }\n",
       "                        break;\n",
       "                    }\n",
       "                }\n",
       "            }, 500);\n",
       "            "
      ],
      "text/plain": [
       "<IPython.core.display.Javascript object>"
      ]
     },
     "metadata": {},
     "output_type": "display_data"
    }
   ],
   "source": [
    "def _get_edges(point_1, point_2, sample):\n",
    "    return sample[:, point_1.x : point_1.y, point_2.x : point_2.y].reshape(8, -1)"
   ]
  },
  {
   "cell_type": "code",
   "execution_count": 22,
   "metadata": {},
   "outputs": [
    {
     "data": {
      "application/javascript": [
       "\n",
       "            setTimeout(function() {\n",
       "                var nbb_cell_id = 22;\n",
       "                var nbb_unformatted_code = \"def _get_community_name(block, hemisphere):\\n    block = \\\" \\\".join([struct.capitalize() for struct in block.split(\\\"_\\\")])\\n    return f\\\"{block} ({hemisphere})\\\"\";\n",
       "                var nbb_formatted_code = \"def _get_community_name(block, hemisphere):\\n    block = \\\" \\\".join([struct.capitalize() for struct in block.split(\\\"_\\\")])\\n    return f\\\"{block} ({hemisphere})\\\"\";\n",
       "                var nbb_cells = Jupyter.notebook.get_cells();\n",
       "                for (var i = 0; i < nbb_cells.length; ++i) {\n",
       "                    if (nbb_cells[i].input_prompt_number == nbb_cell_id) {\n",
       "                        if (nbb_cells[i].get_text() == nbb_unformatted_code) {\n",
       "                             nbb_cells[i].set_text(nbb_formatted_code);\n",
       "                        }\n",
       "                        break;\n",
       "                    }\n",
       "                }\n",
       "            }, 500);\n",
       "            "
      ],
      "text/plain": [
       "<IPython.core.display.Javascript object>"
      ]
     },
     "metadata": {},
     "output_type": "display_data"
    }
   ],
   "source": [
    "def _get_community_name(block, hemisphere):\n",
    "    block = \" \".join([struct.capitalize() for struct in block.split(\"_\")])\n",
    "    return f\"{block} ({hemisphere})\""
   ]
  },
  {
   "cell_type": "code",
   "execution_count": 23,
   "metadata": {},
   "outputs": [
    {
     "data": {
      "application/javascript": [
       "\n",
       "            setTimeout(function() {\n",
       "                var nbb_cell_id = 23;\n",
       "                var nbb_unformatted_code = \"signal_communities = []\\n\\nfor (_, community_1), (_, community_2) in combinations_with_replacement(\\n    mice.blocks.iterrows(), r=2\\n):\\n\\n    point_1 = _get_point(community_1.block, community_1.hemisphere)\\n    point_2 = _get_point(community_2.block, community_2.hemisphere)\\n\\n    community_1 = _get_community_name(community_1.block, community_1.hemisphere)\\n    community_2 = _get_community_name(community_2.block, community_2.hemisphere)\\n\\n    edges = [_get_edges(point_1, point_2, sample) for sample in connectomes]\\n\\n    try:\\n        stat, pvalue = KSample(\\\"Dcorr\\\").test(*edges)\\n    except ValueError as e:\\n        print(e)\\n        stat, pvalue = np.nan, 1\\n\\n    signal_communities.append([community_1, community_2, stat, pvalue])\";\n",
       "                var nbb_formatted_code = \"signal_communities = []\\n\\nfor (_, community_1), (_, community_2) in combinations_with_replacement(\\n    mice.blocks.iterrows(), r=2\\n):\\n\\n    point_1 = _get_point(community_1.block, community_1.hemisphere)\\n    point_2 = _get_point(community_2.block, community_2.hemisphere)\\n\\n    community_1 = _get_community_name(community_1.block, community_1.hemisphere)\\n    community_2 = _get_community_name(community_2.block, community_2.hemisphere)\\n\\n    edges = [_get_edges(point_1, point_2, sample) for sample in connectomes]\\n\\n    try:\\n        stat, pvalue = KSample(\\\"Dcorr\\\").test(*edges)\\n    except ValueError as e:\\n        print(e)\\n        stat, pvalue = np.nan, 1\\n\\n    signal_communities.append([community_1, community_2, stat, pvalue])\";\n",
       "                var nbb_cells = Jupyter.notebook.get_cells();\n",
       "                for (var i = 0; i < nbb_cells.length; ++i) {\n",
       "                    if (nbb_cells[i].input_prompt_number == nbb_cell_id) {\n",
       "                        if (nbb_cells[i].get_text() == nbb_unformatted_code) {\n",
       "                             nbb_cells[i].set_text(nbb_formatted_code);\n",
       "                        }\n",
       "                        break;\n",
       "                    }\n",
       "                }\n",
       "            }, 500);\n",
       "            "
      ],
      "text/plain": [
       "<IPython.core.display.Javascript object>"
      ]
     },
     "metadata": {},
     "output_type": "display_data"
    }
   ],
   "source": [
    "signal_communities = []\n",
    "\n",
    "for (_, community_1), (_, community_2) in combinations_with_replacement(\n",
    "    mice.blocks.iterrows(), r=2\n",
    "):\n",
    "\n",
    "    point_1 = _get_point(community_1.block, community_1.hemisphere)\n",
    "    point_2 = _get_point(community_2.block, community_2.hemisphere)\n",
    "\n",
    "    community_1 = _get_community_name(community_1.block, community_1.hemisphere)\n",
    "    community_2 = _get_community_name(community_2.block, community_2.hemisphere)\n",
    "\n",
    "    edges = [_get_edges(point_1, point_2, sample) for sample in connectomes]\n",
    "\n",
    "    try:\n",
    "        stat, pvalue = KSample(\"Dcorr\").test(*edges)\n",
    "    except ValueError as e:\n",
    "        print(e)\n",
    "        stat, pvalue = np.nan, 1\n",
    "\n",
    "    signal_communities.append([community_1, community_2, stat, pvalue])"
   ]
  },
  {
   "cell_type": "code",
   "execution_count": 24,
   "metadata": {},
   "outputs": [
    {
     "data": {
      "text/html": [
       "<div>\n",
       "<style scoped>\n",
       "    .dataframe tbody tr th:only-of-type {\n",
       "        vertical-align: middle;\n",
       "    }\n",
       "\n",
       "    .dataframe tbody tr th {\n",
       "        vertical-align: top;\n",
       "    }\n",
       "\n",
       "    .dataframe thead th {\n",
       "        text-align: right;\n",
       "    }\n",
       "</style>\n",
       "<table border=\"1\" class=\"dataframe\">\n",
       "  <thead>\n",
       "    <tr style=\"text-align: right;\">\n",
       "      <th></th>\n",
       "      <th>Community 1</th>\n",
       "      <th>Community 2</th>\n",
       "      <th>statistic</th>\n",
       "      <th>pvalue</th>\n",
       "      <th>holm_pvalue</th>\n",
       "      <th>significant</th>\n",
       "    </tr>\n",
       "  </thead>\n",
       "  <tbody>\n",
       "    <tr>\n",
       "      <th>104</th>\n",
       "      <td>White Matter (R)</td>\n",
       "      <td>White Matter (R)</td>\n",
       "      <td>0.887936</td>\n",
       "      <td>5.845560e-08</td>\n",
       "      <td>0.000006</td>\n",
       "      <td>True</td>\n",
       "    </tr>\n",
       "    <tr>\n",
       "      <th>103</th>\n",
       "      <td>Hindbrain (R)</td>\n",
       "      <td>White Matter (R)</td>\n",
       "      <td>0.872292</td>\n",
       "      <td>7.568970e-08</td>\n",
       "      <td>0.000008</td>\n",
       "      <td>True</td>\n",
       "    </tr>\n",
       "    <tr>\n",
       "      <th>69</th>\n",
       "      <td>White Matter (L)</td>\n",
       "      <td>White Matter (L)</td>\n",
       "      <td>0.870605</td>\n",
       "      <td>7.782855e-08</td>\n",
       "      <td>0.000008</td>\n",
       "      <td>True</td>\n",
       "    </tr>\n",
       "    <tr>\n",
       "      <th>94</th>\n",
       "      <td>Subpallium (R)</td>\n",
       "      <td>White Matter (R)</td>\n",
       "      <td>0.852299</td>\n",
       "      <td>1.053251e-07</td>\n",
       "      <td>0.000011</td>\n",
       "      <td>True</td>\n",
       "    </tr>\n",
       "    <tr>\n",
       "      <th>61</th>\n",
       "      <td>Hindbrain (L)</td>\n",
       "      <td>White Matter (L)</td>\n",
       "      <td>0.848059</td>\n",
       "      <td>1.129719e-07</td>\n",
       "      <td>0.000011</td>\n",
       "      <td>True</td>\n",
       "    </tr>\n",
       "  </tbody>\n",
       "</table>\n",
       "</div>"
      ],
      "text/plain": [
       "          Community 1       Community 2  statistic        pvalue  holm_pvalue  \\\n",
       "104  White Matter (R)  White Matter (R)   0.887936  5.845560e-08     0.000006   \n",
       "103     Hindbrain (R)  White Matter (R)   0.872292  7.568970e-08     0.000008   \n",
       "69   White Matter (L)  White Matter (L)   0.870605  7.782855e-08     0.000008   \n",
       "94     Subpallium (R)  White Matter (R)   0.852299  1.053251e-07     0.000011   \n",
       "61      Hindbrain (L)  White Matter (L)   0.848059  1.129719e-07     0.000011   \n",
       "\n",
       "     significant  \n",
       "104         True  \n",
       "103         True  \n",
       "69          True  \n",
       "94          True  \n",
       "61          True  "
      ]
     },
     "execution_count": 24,
     "metadata": {},
     "output_type": "execute_result"
    },
    {
     "data": {
      "application/javascript": [
       "\n",
       "            setTimeout(function() {\n",
       "                var nbb_cell_id = 24;\n",
       "                var nbb_unformatted_code = \"signal_communities = pd.DataFrame(\\n    signal_communities, columns=[\\\"Community 1\\\", \\\"Community 2\\\", \\\"statistic\\\", \\\"pvalue\\\"]\\n)\\n\\n# Correct p-values\\nsignal_communities = signal_communities.sort_values([\\\"pvalue\\\"])\\nreject, holm_pvalue, _, _ = multipletests(\\n    signal_communities[\\\"pvalue\\\"], alpha=0.05, method=\\\"holm\\\"\\n)\\nsignal_communities[\\\"holm_pvalue\\\"] = holm_pvalue\\nsignal_communities[\\\"significant\\\"] = reject\\nsignal_communities.head()\";\n",
       "                var nbb_formatted_code = \"signal_communities = pd.DataFrame(\\n    signal_communities, columns=[\\\"Community 1\\\", \\\"Community 2\\\", \\\"statistic\\\", \\\"pvalue\\\"]\\n)\\n\\n# Correct p-values\\nsignal_communities = signal_communities.sort_values([\\\"pvalue\\\"])\\nreject, holm_pvalue, _, _ = multipletests(\\n    signal_communities[\\\"pvalue\\\"], alpha=0.05, method=\\\"holm\\\"\\n)\\nsignal_communities[\\\"holm_pvalue\\\"] = holm_pvalue\\nsignal_communities[\\\"significant\\\"] = reject\\nsignal_communities.head()\";\n",
       "                var nbb_cells = Jupyter.notebook.get_cells();\n",
       "                for (var i = 0; i < nbb_cells.length; ++i) {\n",
       "                    if (nbb_cells[i].input_prompt_number == nbb_cell_id) {\n",
       "                        if (nbb_cells[i].get_text() == nbb_unformatted_code) {\n",
       "                             nbb_cells[i].set_text(nbb_formatted_code);\n",
       "                        }\n",
       "                        break;\n",
       "                    }\n",
       "                }\n",
       "            }, 500);\n",
       "            "
      ],
      "text/plain": [
       "<IPython.core.display.Javascript object>"
      ]
     },
     "metadata": {},
     "output_type": "display_data"
    }
   ],
   "source": [
    "signal_communities = pd.DataFrame(\n",
    "    signal_communities, columns=[\"Community 1\", \"Community 2\", \"statistic\", \"pvalue\"]\n",
    ")\n",
    "\n",
    "# Correct p-values\n",
    "signal_communities = signal_communities.sort_values([\"pvalue\"])\n",
    "reject, holm_pvalue, _, _ = multipletests(\n",
    "    signal_communities[\"pvalue\"], alpha=0.05, method=\"holm\"\n",
    ")\n",
    "signal_communities[\"holm_pvalue\"] = holm_pvalue\n",
    "signal_communities[\"significant\"] = reject\n",
    "signal_communities.head()"
   ]
  },
  {
   "cell_type": "code",
   "execution_count": 25,
   "metadata": {},
   "outputs": [
    {
     "data": {
      "application/javascript": [
       "\n",
       "            setTimeout(function() {\n",
       "                var nbb_cell_id = 25;\n",
       "                var nbb_unformatted_code = \"signal_communities.to_csv(\\\"../results/signal_communities.csv\\\", index=False)\";\n",
       "                var nbb_formatted_code = \"signal_communities.to_csv(\\\"../results/signal_communities.csv\\\", index=False)\";\n",
       "                var nbb_cells = Jupyter.notebook.get_cells();\n",
       "                for (var i = 0; i < nbb_cells.length; ++i) {\n",
       "                    if (nbb_cells[i].input_prompt_number == nbb_cell_id) {\n",
       "                        if (nbb_cells[i].get_text() == nbb_unformatted_code) {\n",
       "                             nbb_cells[i].set_text(nbb_formatted_code);\n",
       "                        }\n",
       "                        break;\n",
       "                    }\n",
       "                }\n",
       "            }, 500);\n",
       "            "
      ],
      "text/plain": [
       "<IPython.core.display.Javascript object>"
      ]
     },
     "metadata": {},
     "output_type": "display_data"
    }
   ],
   "source": [
    "signal_communities.to_csv(\"../results/signal_communities.csv\", index=False)"
   ]
  },
  {
   "cell_type": "code",
   "execution_count": 26,
   "metadata": {},
   "outputs": [
    {
     "data": {
      "image/png": "[encoded data removed]",
      "text/plain": [
       "<Figure size 375x375 with 1 Axes>"
      ]
     },
     "metadata": {
      "needs_background": "light"
     },
     "output_type": "display_data"
    },
    {
     "data": {
      "application/javascript": [
       "\n",
       "            setTimeout(function() {\n",
       "                var nbb_cell_id = 26;\n",
       "                var nbb_unformatted_code = \"wm_r = _get_point(\\\"white_matter\\\", \\\"R\\\")\\nwm_r_edgeweight = graphs[:, wm_r.x : wm_r.y, wm_r.x : wm_r.y].reshape(32, -1)\\nwm_r_mean = wm_r_edgeweight.mean(axis=1)\\n\\navg_connectivity = pd.DataFrame({\\\"Mean Edgeweight\\\": wm_r_mean, \\\"Strain\\\": labels})\\ng = stripplot(avg_connectivity, \\\"Mean Edgeweight\\\")\\nplt.show()\";\n",
       "                var nbb_formatted_code = \"wm_r = _get_point(\\\"white_matter\\\", \\\"R\\\")\\nwm_r_edgeweight = graphs[:, wm_r.x : wm_r.y, wm_r.x : wm_r.y].reshape(32, -1)\\nwm_r_mean = wm_r_edgeweight.mean(axis=1)\\n\\navg_connectivity = pd.DataFrame({\\\"Mean Edgeweight\\\": wm_r_mean, \\\"Strain\\\": labels})\\ng = stripplot(avg_connectivity, \\\"Mean Edgeweight\\\")\\nplt.show()\";\n",
       "                var nbb_cells = Jupyter.notebook.get_cells();\n",
       "                for (var i = 0; i < nbb_cells.length; ++i) {\n",
       "                    if (nbb_cells[i].input_prompt_number == nbb_cell_id) {\n",
       "                        if (nbb_cells[i].get_text() == nbb_unformatted_code) {\n",
       "                             nbb_cells[i].set_text(nbb_formatted_code);\n",
       "                        }\n",
       "                        break;\n",
       "                    }\n",
       "                }\n",
       "            }, 500);\n",
       "            "
      ],
      "text/plain": [
       "<IPython.core.display.Javascript object>"
      ]
     },
     "metadata": {},
     "output_type": "display_data"
    }
   ],
   "source": [
    "wm_r = _get_point(\"white_matter\", \"R\")\n",
    "wm_r_edgeweight = graphs[:, wm_r.x : wm_r.y, wm_r.x : wm_r.y].reshape(32, -1)\n",
    "wm_r_mean = wm_r_edgeweight.mean(axis=1)\n",
    "\n",
    "avg_connectivity = pd.DataFrame({\"Mean Edgeweight\": wm_r_mean, \"Strain\": labels})\n",
    "g = stripplot(avg_connectivity, \"Mean Edgeweight\")\n",
    "plt.show()"
   ]
  },
  {
   "cell_type": "code",
   "execution_count": null,
   "metadata": {},
   "outputs": [],
   "source": []
  }
 ],
 "metadata": {
  "kernelspec": {
   "display_name": "Python [conda env:mcc]",
   "language": "python",
   "name": "conda-env-mcc-py"
  },
  "language_info": {
   "codemirror_mode": {
    "name": "ipython",
    "version": 3
   },
   "file_extension": ".py",
   "mimetype": "text/x-python",
   "name": "python",
   "nbconvert_exporter": "python",
   "pygments_lexer": "ipython3",
   "version": "3.8.6"
  },
  "varInspector": {
   "cols": {
    "lenName": 16,
    "lenType": 16,
    "lenVar": 40
   },
   "kernels_config": {
    "python": {
     "delete_cmd_postfix": "",
     "delete_cmd_prefix": "del ",
     "library": "var_list.py",
     "varRefreshCmd": "print(var_dic_list())"
    },
    "r": {
     "delete_cmd_postfix": ") ",
     "delete_cmd_prefix": "rm(",
     "library": "var_list.r",
     "varRefreshCmd": "cat(var_dic_list()) "
    }
   },
   "types_to_exclude": [
    "module",
    "function",
    "builtin_function_or_method",
    "instance",
    "_Feature"
   ],
   "window_display": false
  }
 },
 "nbformat": 4,
 "nbformat_minor": 4
}