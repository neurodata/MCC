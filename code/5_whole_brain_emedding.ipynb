{
 "cells": [
  {
   "cell_type": "markdown",
   "metadata": {},
   "source": [
    "# Whole-brain embeddings of all mouse connectomes in a low-dimensional space\n",
    "\n",
    "This notebook replicates Figure 5 from _Multiscale Comparative Connectomcis_.\n",
    "\n",
    "![Fig5](figures/5_whole_brain_embedding.jpg)"
   ]
  },
  {
   "cell_type": "code",
   "execution_count": 1,
   "metadata": {
    "tags": []
   },
   "outputs": [],
   "source": [
    "%load_ext nb_black\n",
    "%load_ext rpy2.ipython"
   ]
  },
  {
   "cell_type": "code",
   "execution_count": 2,
   "metadata": {},
   "outputs": [],
   "source": [
    "import matplotlib.pyplot as plt\n",
    "import numpy as np\n",
    "import seaborn as sns\n",
    "from graspologic.embed import ClassicalMDS, OmnibusEmbed\n",
    "from graspologic.datasets import load_mice\n",
    "\n",
    "%matplotlib inline"
   ]
  },
  {
   "cell_type": "code",
   "execution_count": 3,
   "metadata": {},
   "outputs": [],
   "source": [
    "# Load the full mouse dataset\n",
    "mice = load_mice()\n",
    "\n",
    "# Stack all adjacency matrices in a 3D numpy array\n",
    "graphs = np.array(mice.graphs)\n",
    "\n",
    "# Sort the connectomes and genotype labels so BTBR is first\n",
    "label_indices = np.argsort(mice.labels).reshape(4, 8)\n",
    "label_indices = label_indices[[1, 0, 2, 3]].reshape(-1)\n",
    "\n",
    "labels = mice.labels[label_indices]\n",
    "graphs = graphs[label_indices]"
   ]
  },
  {
   "cell_type": "markdown",
   "metadata": {},
   "source": [
    "First, `omni` is used to map each vertex in each connectome to a $d$-dimensional vector.\n",
    "That is, ever graph is mapped to a $n \\times d$ matrix, where $n=332$ is the number of vertices in each connectome.\n",
    "\n",
    "Next, classical multidimensinal scaling (`cMDS`) is used to further embed each connectome representation in a 2-dimensional space.\n",
    "This is accomplished via an eigendecomposition of a the dissimilarity matrix constructed from pairwise dissimilarity of each connectome embedding."
   ]
  },
  {
   "cell_type": "code",
   "execution_count": 4,
   "metadata": {},
   "outputs": [],
   "source": [
    "# Jointly embed graphs using OMNI\n",
    "embedder = OmnibusEmbed()\n",
    "omni_embedding = embedder.fit_transform(graphs)\n",
    "print(f\"Omnibus embedding shape is {omni_embedding.shape}\")\n",
    "\n",
    "# Further reduce dimensionality with cMDS\n",
    "cmds = ClassicalMDS(2)\n",
    "cmds_embedding = cmds.fit_transform(omni_embedding)\n",
    "print(f\"cMDS embedding shape is {cmds_embedding.shape}\")"
   ]
  },
  {
   "cell_type": "code",
   "execution_count": 5,
   "metadata": {},
   "outputs": [],
   "source": [
    "# Normalize the dissimilarity matrix calculated by cMDS\n",
    "dis_mat = cmds.dissimilarity_matrix_\n",
    "normalized_dissimilarity_matrix = dis_mat / np.max(dis_mat)"
   ]
  },
  {
   "cell_type": "markdown",
   "metadata": {},
   "source": [
    "Visualize the dissimilarity"
   ]
  },
  {
   "cell_type": "code",
   "execution_count": 6,
   "metadata": {},
   "outputs": [],
   "source": [
    "%%R -i normalized_dissimilarity_matrix\n",
    "\n",
    "# Read data and make genotype labels\n",
    "genotype <- c(rep(\"BTBR\", 8), rep(\"B6\", 8), rep(\"CAST\", 8), rep(\"DBA2\", 8))\n",
    "genotype <- factor(genotype, levels = unique(genotype))\n",
    "dissimilarity <- as.matrix(normalized_dissimilarity_matrix)\n",
    "colnames(dissimilarity) <- genotype\n",
    "rownames(dissimilarity) <- genotype"
   ]
  },
  {
   "cell_type": "code",
   "execution_count": 7,
   "metadata": {},
   "outputs": [],
   "source": [
    "%%R -w 5 -h 3 --units in -r 150\n",
    "\n",
    "suppressPackageStartupMessages(library(ComplexHeatmap))\n",
    "suppressPackageStartupMessages(library(circlize))\n",
    "\n",
    "# Set plot dimensions\n",
    "width <- unit(2.5, \"in\")\n",
    "\n",
    "# Make the colorbar\n",
    "col_fun <- colorRamp2(c(0, 1), c('white', 'black'), transparency = 0)\n",
    "colorbar <- Legend(col_fun = col_fun, \n",
    "                   title = \"Normalized Frobenius Norm\", \n",
    "                   legend_width = width, \n",
    "                   direction = \"horizontal\")\n",
    "\n",
    "# Make heatmap\n",
    "ha = HeatmapAnnotation(foo = anno_block(gp = gpar(fill = c(\"#e7298a\", \"#1b9e77\", \"#d95f02\", \"#7570b3\"), col = 0),\n",
    "                                        labels = unique(genotype),\n",
    "                                        labels_gp = gpar(col = \"white\", fontsize = 10)),\n",
    "                       height = unit(5, \"mm\"))\n",
    "ra = rowAnnotation(foo = anno_block(gp = gpar(fill = c(\"#e7298a\", \"#1b9e77\", \"#d95f02\", \"#7570b3\"), col = 0),\n",
    "                                    labels = unique(genotype),\n",
    "                                    labels_gp = gpar(col = \"white\", fontsize = 10)),\n",
    "                   width = unit(5, \"mm\"))\n",
    "ht <- Heatmap(\n",
    "  matrix = dissimilarity,\n",
    "  name = \"Normalized Frobenius Norm\",\n",
    "  col = col_fun,\n",
    "  border = TRUE,\n",
    "  column_title = NULL,\n",
    "  cluster_columns = FALSE, cluster_column_slices = FALSE, show_column_names = FALSE,\n",
    "  cluster_rows = FALSE, cluster_row_slices = FALSE, show_row_names = FALSE, row_title = NULL,\n",
    "  column_split = genotype, row_split = genotype,\n",
    "  top_annotation = ha,\n",
    "  left_annotation = ra,\n",
    "  width = width, height = width\n",
    ")\n",
    "draw(ht, show_heatmap_legend = TRUE)"
   ]
  },
  {
   "cell_type": "markdown",
   "metadata": {},
   "source": [
    "Plot 2D embedding of all graphs.\n",
    "Note how distict the BTBR mice are from all others."
   ]
  },
  {
   "cell_type": "code",
   "execution_count": 8,
   "metadata": {},
   "outputs": [],
   "source": [
    "%%R -w 4 -h 3 --units in -r 150\n",
    "\n",
    "library(ggplot2)\n",
    "library(grid)\n",
    "\n",
    "# Embed using cMDS with BTBR\n",
    "fit <- cmdscale(dissimilarity, k = 2, eig = TRUE)\n",
    "w.btbr <- as.data.frame(fit$points)\n",
    "w.btbr$genotype <- genotype\n",
    "w.var.1 <- fit$eig[1] / sum(fit$eig) * 100\n",
    "w.var.2 <- fit$eig[2] / sum(fit$eig) * 100\n",
    "\n",
    "ggplot(w.btbr, aes(x=V1, y=V2, color=genotype)) + \n",
    "  geom_point(alpha=0.75) + \n",
    "  theme_classic() +\n",
    "  scale_color_manual(values=c(\"#e7298a\", \"#1b9e77\", \"#d95f02\", \"#7570b3\")) +\n",
    "  xlab(sprintf(\"Coordinate 1 [%.0f%% Variance]\", w.var.1)) +\n",
    "  ylab(sprintf(\"Coordinate 2 [%.0f%% Variance]\", w.var.2)) +\n",
    "  guides(color=guide_legend(title=\"Genotype\", title.theme = element_text(face = \"bold\", size = 10), ncol=1))"
   ]
  },
  {
   "cell_type": "markdown",
   "metadata": {},
   "source": [
    "Plot 2D embedding of all graphs except for BTBR.\n",
    "Note that even the control strains are highly separable."
   ]
  },
  {
   "cell_type": "code",
   "execution_count": 9,
   "metadata": {},
   "outputs": [],
   "source": [
    "%%R -w 4 -h 3 --units in -r 150\n",
    "\n",
    "# Embed using cMDS without BTBR\n",
    "wo.btbr <- dissimilarity[-which(rownames(dissimilarity) == \"BTBR\"), -which(colnames(dissimilarity) == \"BTBR\")]\n",
    "fit <- cmdscale(wo.btbr, k = 2, eig = TRUE)\n",
    "wo.btbr <- as.data.frame(fit$points)\n",
    "wo.btbr$genotype <- genotype[-which(genotype == \"BTBR\")]\n",
    "wo.var.1 <- fit$eig[1] / sum(fit$eig) * 100\n",
    "wo.var.2 <- fit$eig[2] / sum(fit$eig) * 100\n",
    "\n",
    "ggplot(wo.btbr, aes(x=V1, y=V2, color=genotype)) + \n",
    "  geom_point(alpha=0.75) + \n",
    "  theme_classic() +\n",
    "  scale_color_manual(values=c(\"#1b9e77\", \"#d95f02\", \"#7570b3\")) +\n",
    "  xlab(sprintf(\"Coordinate 1 [%.0f%% Variance]\", wo.var.1)) +\n",
    "  ylab(sprintf(\"Coordinate 2 [%.0f%% Variance]\", wo.var.2)) +\n",
    "  guides(color=guide_legend(title=\"Genotype\", title.theme = element_text(face = \"bold\", size = 10), ncol=1))"
   ]
  },
  {
   "cell_type": "markdown",
   "metadata": {},
   "source": [
    "## Interstrain versus intrastrain dissimilarity\n",
    "\n",
    "Quantify the dissimilarity amongst different groups of mice."
   ]
  },
  {
   "cell_type": "code",
   "execution_count": 10,
   "metadata": {},
   "outputs": [],
   "source": [
    "# Block matrices for building masks of the dissimilarity matrix\n",
    "a = np.ones((8, 8))\n",
    "b = np.zeros((8, 8))"
   ]
  },
  {
   "cell_type": "code",
   "execution_count": 11,
   "metadata": {},
   "outputs": [],
   "source": [
    "# All strains: interstrain versus intrastrain\n",
    "mask = np.block([[a, b, b, b], [b, a, b, b], [b, b, a, b], [b, b, b, a]])\n",
    "mask = mask == 1\n",
    "\n",
    "avg_intra_dis = np.mean(normalized_dissimilarity_matrix[mask])\n",
    "print(f\"Average intrastrain dissimilarity is {avg_intra_dis:.1%}.\")\n",
    "\n",
    "avg_inter_dis = np.mean(normalized_dissimilarity_matrix[~mask])\n",
    "print(f\"Average interstrain dissimilarity is {avg_inter_dis:.1%}.\")"
   ]
  },
  {
   "cell_type": "code",
   "execution_count": 12,
   "metadata": {},
   "outputs": [],
   "source": [
    "# Interstrain dissimilarity of BTBR versus controls\n",
    "mask = np.block([[b, a, a, a], [b, b, b, b], [b, b, b, b], [b, b, b, b]]) == 1\n",
    "avg_btbr_dis = np.mean(normalized_dissimilarity_matrix[mask])\n",
    "print(f\"BTBR is on average {avg_btbr_dis:.1%} dissimilar to B6, CAST, and DBA2.\")\n",
    "\n",
    "# Interstrain dissimilarity between control strains\n",
    "mask = np.block([[b, b, b, b], [b, b, a, a], [b, a, b, a], [b, a, a, b]]) == 1\n",
    "avg_nonbtbr_dis = np.mean(normalized_dissimilarity_matrix[mask])\n",
    "print(f\"Average dissimilarity between B6, CAST, and DBA2 is {avg_nonbtbr_dis:.1%}.\")"
   ]
  },
  {
   "cell_type": "code",
   "execution_count": null,
   "metadata": {},
   "outputs": [],
   "source": []
  }
 ],
 "metadata": {
  "kernelspec": {
   "display_name": "Python [conda env:mcc]",
   "language": "python",
   "name": "conda-env-mcc-py"
  },
  "language_info": {},
  "varInspector": {
   "cols": {
    "lenName": 16,
    "lenType": 16,
    "lenVar": 40
   },
   "kernels_config": {
    "python": {
     "delete_cmd_postfix": "",
     "delete_cmd_prefix": "del ",
     "library": "var_list.py",
     "varRefreshCmd": "print(var_dic_list())"
    },
    "r": {
     "delete_cmd_postfix": ") ",
     "delete_cmd_prefix": "rm(",
     "library": "var_list.r",
     "varRefreshCmd": "cat(var_dic_list()) "
    }
   },
   "types_to_exclude": [
    "module",
    "function",
    "builtin_function_or_method",
    "instance",
    "_Feature"
   ],
   "window_display": false
  }
 },
 "nbformat": 4,
 "nbformat_minor": 2
}