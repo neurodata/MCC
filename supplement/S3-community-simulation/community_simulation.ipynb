{
 "cells": [
  {
   "cell_type": "code",
   "execution_count": null,
   "metadata": {},
   "outputs": [],
   "source": [
    "import csv\n",
    "from itertools import product\n",
    "\n",
    "import matplotlib.pyplot as plt\n",
    "import numpy as np\n",
    "import pandas as pd\n",
    "import seaborn as sns\n",
    "from hyppo.ksample import KSample\n",
    "from scipy.stats import truncnorm\n",
    "from skimage.filters import threshold_otsu\n",
    "from tqdm import tqdm"
   ]
  },
  {
   "cell_type": "code",
   "execution_count": null,
   "metadata": {},
   "outputs": [],
   "source": [
    "def test(samples, labels, binarize, average):\n",
    "\n",
    "    if binarize:\n",
    "        threshold = threshold_otsu(samples)\n",
    "        samples = samples > threshold\n",
    "\n",
    "    samples = [samples[labels == group, :] for group in np.unique(labels)]\n",
    "\n",
    "    if average:\n",
    "        samples = [np.mean(sample, axis=1) for sample in samples]\n",
    "\n",
    "    # Run MGC\n",
    "    try:\n",
    "        stat, pvalue, *_ = KSample(\"Dcorr\").test(*samples, reps=10000, workers=-1)\n",
    "    except ValueError:\n",
    "        stat, pvalue = np.nan, 1\n",
    "    return stat, pvalue"
   ]
  },
  {
   "cell_type": "code",
   "execution_count": null,
   "metadata": {},
   "outputs": [],
   "source": [
    "def twin_truncnorm(mu_1, sigma_1, mu_2, sigma_2, n_subjects, n_vertices=10):\n",
    "\n",
    "    # Initialize distributions\n",
    "    upper = 1\n",
    "    lower = -1\n",
    "    x1 = truncnorm(\n",
    "        (lower - mu_1) / sigma_1, (upper - mu_1) / sigma_1, loc=mu_1, scale=sigma_1\n",
    "    )\n",
    "    x2 = truncnorm(\n",
    "        (lower - mu_2) / sigma_2, (upper - mu_2) / sigma_2, loc=mu_2, scale=sigma_2\n",
    "    )\n",
    "\n",
    "    # Sample distributions\n",
    "    samples = []\n",
    "    labels = []\n",
    "    for label in range(2):\n",
    "        for _ in range(int(n_subjects)):\n",
    "            labels.append(label)\n",
    "            if label == 0:\n",
    "                samples.append(x1.rvs(n_vertices))\n",
    "            if label == 1:\n",
    "                samples.append(x2.rvs(n_vertices))\n",
    "\n",
    "    return np.array(samples), np.array(labels)"
   ]
  },
  {
   "cell_type": "code",
   "execution_count": null,
   "metadata": {},
   "outputs": [],
   "source": [
    "def main(binarize, average, f, dist_params, n_subjects):\n",
    "    samples, labels = twin_truncnorm(n_subjects=n_subjects, **dist_params[f])\n",
    "    stat, pvalue = test(samples, labels, binarize, average)\n",
    "\n",
    "    n_groups = len(np.unique(labels))\n",
    "    sample_size = n_groups * n_subjects\n",
    "\n",
    "    return (\n",
    "        sample_size,\n",
    "        stat,\n",
    "        pvalue,\n",
    "    )"
   ]
  },
  {
   "cell_type": "code",
   "execution_count": null,
   "metadata": {},
   "outputs": [],
   "source": [
    "dist_params = {\n",
    "    \"equal\": dict(mu_1=0, sigma_1=0.25, mu_2=0, sigma_2=0.25),\n",
    "    \"same_mean\": dict(mu_1=0, sigma_1=0.25, mu_2=0, sigma_2=0.5),\n",
    "    \"diff_mean\": dict(mu_1=-0.075, sigma_1=0.25, mu_2=0.075, sigma_2=0.25),\n",
    "}"
   ]
  },
  {
   "cell_type": "code",
   "execution_count": null,
   "metadata": {},
   "outputs": [],
   "source": [
    "binarize = [True, False]\n",
    "average = [True, False]\n",
    "n_subjects = np.linspace(5, 50, 10)\n",
    "functions = list(dist_params.keys())\n",
    "\n",
    "n_iterations = range(50)\n",
    "parameters = product(binarize, average, n_subjects, functions, n_iterations)\n",
    "\n",
    "out = []\n",
    "for binarize_, average_, n_subjects_, f, _ in tqdm(list(parameters)):\n",
    "    sample_size, stat, pvalue = main(binarize_, average_, f, dist_params, n_subjects_)\n",
    "    out.append([binarize_, average_, f, sample_size, stat, pvalue])"
   ]
  },
  {
   "cell_type": "code",
   "execution_count": null,
   "metadata": {},
   "outputs": [],
   "source": [
    "filename = \"../../results/community_simulation.csv\"\n",
    "columns = [\"binarize\", \"average\", \"distribution\", \"sample_size\", \"stat\", \"pvalue\"]\n",
    "\n",
    "with open(filename, \"w\") as outfile:\n",
    "    writer = csv.writer(outfile)\n",
    "    writer.writerow(columns)\n",
    "    writer.writerows(out)"
   ]
  },
  {
   "cell_type": "code",
   "execution_count": null,
   "metadata": {},
   "outputs": [],
   "source": [
    "def get_method_name(row):\n",
    "    if row.average:\n",
    "        if row.binarize:\n",
    "            return \"Average Connectivity\"\n",
    "        else:\n",
    "            return \"Average Edge Weight\"\n",
    "    else:\n",
    "        if row.binarize:\n",
    "            return \"Multivariate Binary\"\n",
    "        else:\n",
    "            return \"Multivariate Weighted\""
   ]
  },
  {
   "cell_type": "code",
   "execution_count": null,
   "metadata": {},
   "outputs": [],
   "source": [
    "df = pd.read_csv(\"../../results/block_simulation_dcorr.csv\")\n",
    "df[\"method\"] = df.apply(get_method_name, axis=\"columns\")\n",
    "df = df.drop([\"binarize\", \"average\"], axis=\"columns\")\n",
    "df[\"reject\"] = df[\"pvalue\"] < 0.05\n",
    "df.head()"
   ]
  },
  {
   "cell_type": "code",
   "execution_count": null,
   "metadata": {},
   "outputs": [],
   "source": [
    "fig, axs = plt.subplots(ncols=3, sharex=True, sharey=False, figsize=(8, 3.5))\n",
    "\n",
    "sns.lineplot(\n",
    "    data=df.query(\"distribution == 'equal'\"),\n",
    "    x=\"sample_size\",\n",
    "    y=\"reject\",\n",
    "    hue=\"method\",\n",
    "    legend=False,\n",
    "    ax=axs[0],\n",
    ")\n",
    "axs[0].set_box_aspect(1)\n",
    "axs[0].set(\n",
    "    xlabel=\"Sample Size\",\n",
    "    ylabel=\"False Positive Rate\",\n",
    "    title=\"Same Distribution\",\n",
    "    ylim=(-0.05, 1.05),\n",
    ")\n",
    "\n",
    "sns.lineplot(\n",
    "    data=df.query(\"distribution == 'same_mean'\"),\n",
    "    x=\"sample_size\",\n",
    "    y=\"reject\",\n",
    "    hue=\"method\",\n",
    "    legend=True,\n",
    "    ax=axs[1],\n",
    ")\n",
    "axs[1].set_box_aspect(1)\n",
    "axs[1].set(\n",
    "    xlabel=\"Sample Size\",\n",
    "    ylabel=\"True Positive Rate\",\n",
    "    title=\"Same Mean\",\n",
    "    ylim=(-0.05, 1.05),\n",
    ")\n",
    "\n",
    "sns.lineplot(\n",
    "    data=df.query(\"distribution == 'diff_mean'\"),\n",
    "    x=\"sample_size\",\n",
    "    y=\"reject\",\n",
    "    hue=\"method\",\n",
    "    legend=False,\n",
    "    ax=axs[2],\n",
    ")\n",
    "axs[2].set_box_aspect(1)\n",
    "axs[2].set(\n",
    "    xlabel=\"Sample Size\",\n",
    "    ylabel=\"True Positive Rate\",\n",
    "    title=\"Different Mean\",\n",
    "    ylim=(-0.05, 1.05),\n",
    ")\n",
    "\n",
    "plt.tight_layout()\n",
    "axs[1].legend(\n",
    "    loc=\"upper center\",\n",
    "    bbox_to_anchor=(0.5, -0.25),\n",
    "    fancybox=True,\n",
    "    shadow=True,\n",
    "    ncol=2,\n",
    ")\n",
    "plt.show()"
   ]
  },
  {
   "cell_type": "code",
   "execution_count": null,
   "metadata": {},
   "outputs": [],
   "source": []
  }
 ],
 "metadata": {
  "kernelspec": {
   "display_name": "Python [conda env:mcc]",
   "language": "python",
   "name": "conda-env-mcc-py"
  },
  "language_info": {
   "codemirror_mode": {
    "name": "ipython",
    "version": 3
   },
   "file_extension": ".py",
   "mimetype": "text/x-python",
   "name": "python",
   "nbconvert_exporter": "python",
   "pygments_lexer": "ipython3",
   "version": "3.8.6"
  },
  "varInspector": {
   "cols": {
    "lenName": 16,
    "lenType": 16,
    "lenVar": 40
   },
   "kernels_config": {
    "python": {
     "delete_cmd_postfix": "",
     "delete_cmd_prefix": "del ",
     "library": "var_list.py",
     "varRefreshCmd": "print(var_dic_list())"
    },
    "r": {
     "delete_cmd_postfix": ") ",
     "delete_cmd_prefix": "rm(",
     "library": "var_list.r",
     "varRefreshCmd": "cat(var_dic_list()) "
    }
   },
   "types_to_exclude": [
    "module",
    "function",
    "builtin_function_or_method",
    "instance",
    "_Feature"
   ],
   "window_display": false
  }
 },
 "nbformat": 4,
 "nbformat_minor": 4
}
