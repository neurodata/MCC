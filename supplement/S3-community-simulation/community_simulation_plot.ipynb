{
 "cells": [
  {
   "cell_type": "code",
   "execution_count": null,
   "metadata": {},
   "outputs": [],
   "source": [
    "import matplotlib.pyplot as plt\n",
    "import pandas as pd\n",
    "import seaborn as sns"
   ]
  },
  {
   "cell_type": "code",
   "execution_count": null,
   "metadata": {},
   "outputs": [],
   "source": [
    "df = pd.read_csv(\"../../results/block_simulation_dcorr.csv\")\n",
    "df[\"method\"] = df.apply(get_method_name, axis=\"columns\")\n",
    "df = df.drop([\"binarize\", \"average\"], axis=\"columns\")\n",
    "df[\"reject\"] = df[\"pvalue\"] < 0.05\n",
    "df.head()"
   ]
  },
  {
   "cell_type": "code",
   "execution_count": null,
   "metadata": {},
   "outputs": [],
   "source": [
    "fig, axs = plt.subplots(ncols=3, sharex=True, sharey=False, figsize=(8, 3.5))\n",
    "\n",
    "sns.lineplot(\n",
    "    data=df.query(\"distribution == 'equal'\"),\n",
    "    x=\"sample_size\",\n",
    "    y=\"reject\",\n",
    "    hue=\"method\",\n",
    "    legend=False,\n",
    "    ax=axs[0],\n",
    ")\n",
    "axs[0].set_box_aspect(1)\n",
    "axs[0].set(\n",
    "    xlabel=\"Sample Size\",\n",
    "    ylabel=\"False Positive Rate\",\n",
    "    title=\"Same Distribution\",\n",
    "    ylim=(-0.05, 1.05),\n",
    ")\n",
    "\n",
    "sns.lineplot(\n",
    "    data=df.query(\"distribution == 'same_mean'\"),\n",
    "    x=\"sample_size\",\n",
    "    y=\"reject\",\n",
    "    hue=\"method\",\n",
    "    legend=True,\n",
    "    ax=axs[1],\n",
    ")\n",
    "axs[1].set_box_aspect(1)\n",
    "axs[1].set(\n",
    "    xlabel=\"Sample Size\",\n",
    "    ylabel=\"True Positive Rate\",\n",
    "    title=\"Same Mean\",\n",
    "    ylim=(-0.05, 1.05),\n",
    ")\n",
    "\n",
    "sns.lineplot(\n",
    "    data=df.query(\"distribution == 'diff_mean'\"),\n",
    "    x=\"sample_size\",\n",
    "    y=\"reject\",\n",
    "    hue=\"method\",\n",
    "    legend=False,\n",
    "    ax=axs[2],\n",
    ")\n",
    "axs[2].set_box_aspect(1)\n",
    "axs[2].set(\n",
    "    xlabel=\"Sample Size\",\n",
    "    ylabel=\"True Positive Rate\",\n",
    "    title=\"Different Mean\",\n",
    "    ylim=(-0.05, 1.05),\n",
    ")\n",
    "\n",
    "plt.tight_layout()\n",
    "axs[1].legend(\n",
    "    loc=\"upper center\",\n",
    "    bbox_to_anchor=(0.5, -0.25),\n",
    "    fancybox=True,\n",
    "    shadow=True,\n",
    "    ncol=2,\n",
    ")\n",
    "plt.show()"
   ]
  },
  {
   "cell_type": "code",
   "execution_count": null,
   "metadata": {},
   "outputs": [],
   "source": []
  }
 ],
 "metadata": {
  "kernelspec": {
   "display_name": "Python [conda env:mcc]",
   "language": "python",
   "name": "conda-env-mcc-py"
  },
  "language_info": {
   "codemirror_mode": {
    "name": "ipython",
    "version": 3
   },
   "file_extension": ".py",
   "mimetype": "text/x-python",
   "name": "python",
   "nbconvert_exporter": "python",
   "pygments_lexer": "ipython3",
   "version": "3.8.6"
  },
  "varInspector": {
   "cols": {
    "lenName": 16,
    "lenType": 16,
    "lenVar": 40
   },
   "kernels_config": {
    "python": {
     "delete_cmd_postfix": "",
     "delete_cmd_prefix": "del ",
     "library": "var_list.py",
     "varRefreshCmd": "print(var_dic_list())"
    },
    "r": {
     "delete_cmd_postfix": ") ",
     "delete_cmd_prefix": "rm(",
     "library": "var_list.r",
     "varRefreshCmd": "cat(var_dic_list()) "
    }
   },
   "types_to_exclude": [
    "module",
    "function",
    "builtin_function_or_method",
    "instance",
    "_Feature"
   ],
   "window_display": false
  }
 },
 "nbformat": 4,
 "nbformat_minor": 4
}