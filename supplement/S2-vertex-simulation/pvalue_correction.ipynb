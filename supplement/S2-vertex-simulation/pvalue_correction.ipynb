{
 "cells": [
  {
   "cell_type": "code",
   "execution_count": null,
   "metadata": {},
   "outputs": [],
   "source": [
    "import csv\n",
    "from itertools import product\n",
    "\n",
    "import numpy as np\n",
    "import pandas as pd\n",
    "import rpy2.robjects as ro\n",
    "from graspologic.embed import OmnibusEmbed\n",
    "from joblib import Parallel, delayed\n",
    "from rpy2.robjects import pandas2ri\n",
    "from rpy2.robjects.conversion import localconverter\n",
    "from statsmodels.stats.multitest import multipletests\n",
    "from tqdm import tqdm\n",
    "\n",
    "from generate import generate_graphs_1, generate_graphs_4"
   ]
  },
  {
   "cell_type": "code",
   "execution_count": null,
   "metadata": {},
   "outputs": [],
   "source": [
    "# Bind the MANOVA o OMNI function in R to a Python object\n",
    "ro.r(\"\"\"\n",
    "\n",
    "    r_manova <- function(omni, n_vertices) {\n",
    "        col1 <- which(grepl(\"omni\", names(omni))) # column indices for the embeddings\n",
    "        col2 <- which(grepl(\"genotype\", names(omni))) # column index for the genotype\n",
    "\n",
    "        embedding <- colnames(omni)[col1]\n",
    "        genotype <- colnames(omni)[col2]\n",
    "        form <- paste0(\"cbind(\", paste(embedding, collapse=\", \"), \") ~ \", genotype)\n",
    "\n",
    "        pvec <- rep(0, n_vertices)\n",
    "        pillai <- rep(0, n_vertices)\n",
    "\n",
    "        for (i in 1 : n_vertices) {\n",
    "            omni.v <- omni[which(omni$ROI == i), ]\n",
    "            ans <- manova(as.formula(form), data=omni.v)\n",
    "            pvec[i] <- summary(ans)$stats[1, \"Pr(>F)\"]\n",
    "        }\n",
    "\n",
    "        signal_vertices <- data.frame(ROI=unique(omni$ROI), pvalue=pvec)\n",
    "        return(signal_vertices)\n",
    "\n",
    "    }\n",
    "\"\"\")\n",
    "\n",
    "r_manova = ro.r['r_manova']"
   ]
  },
  {
   "cell_type": "code",
   "execution_count": null,
   "metadata": {},
   "outputs": [],
   "source": [
    "def embed(X, Y):\n",
    "\n",
    "    graphs = np.vstack([X, Y])\n",
    "    n_vertices = graphs.shape[1]\n",
    "    labels = np.concatenate([np.zeros(len(X)), np.ones(len(Y))]).astype(int)\n",
    "\n",
    "    # Jointly embed graphs using OMNI\n",
    "    embedder = OmnibusEmbed()\n",
    "    omni_embedding = embedder.fit_transform(graphs)\n",
    "    omni_embedding = omni_embedding.reshape(-1, embedder.n_components_)\n",
    "\n",
    "    # Convert array to a dataframe\n",
    "    omni_embedding = pd.DataFrame(omni_embedding, columns=[f\"omni_{i + 1}\" for i in range(embedder.n_components_)]).astype(np.float64)\n",
    "\n",
    "    # Construct identifiers for each embedded vertex\n",
    "    rois = np.arange(n_vertices) + 1\n",
    "    participants = np.arange(len(graphs)) + 1\n",
    "\n",
    "    identifiers = np.array(list(product(participants, rois))).reshape(-1, 2)\n",
    "    identifiers = pd.DataFrame(identifiers, columns=[\"participant_id\", \"ROI\"])\n",
    "    identifiers[\"ROI\"] = identifiers[\"ROI\"].astype(np.int64)\n",
    "    identifiers[\"genotype\"] = np.array([[str(strain)] * n_vertices for strain in labels]).reshape(-1)\n",
    "\n",
    "    omni = pd.concat([omni_embedding, identifiers], axis=1)\n",
    "    omni.head()\n",
    "\n",
    "    return omni\n",
    "\n",
    "\n",
    "def correct(pvalues, methods, alpha=0.05):\n",
    "    for method in methods:\n",
    "        pvalues[method] = multipletests(pvalues[\"pvalue\"], method=method, alpha=alpha)[1]\n",
    "\n",
    "\n",
    "def fdr(pvalues, methods, alpha=0.05):\n",
    "    true_disc = (pvalues.query(\"signal\")[methods] < alpha).values.sum(axis=0)\n",
    "    false_disc = (pvalues.query(\"not signal\")[methods] < alpha).values.sum(axis=0)\n",
    "    return np.array([true_disc, false_disc]).T.reshape(-1)\n",
    "\n",
    "\n",
    "def test(X, Y, n_vertices, labels, methods=[\"bonferroni\", \"holm\", \"fdr_bh\", \"fdr_by\"]):\n",
    "\n",
    "    omni = embed(X, Y)\n",
    "    \n",
    "    with localconverter(ro.default_converter + pandas2ri.converter):\n",
    "        pvalues = r_manova(ro.conversion.py2rpy(omni), int(n_vertices))\n",
    "    pvalues[\"signal\"] = labels\n",
    "\n",
    "    correct(pvalues, methods)\n",
    "    discoveries = fdr(pvalues, methods=methods)\n",
    "\n",
    "    return pvalues, discoveries"
   ]
  },
  {
   "cell_type": "code",
   "execution_count": null,
   "metadata": {},
   "outputs": [],
   "source": [
    "def experiment(\n",
    "    filename, sample_size, block_1, block_2, p, effect_size, second_angle, generate_func, reps=100\n",
    "):\n",
    "\n",
    "    m_per_pop = sample_size // 2\n",
    "    block_size = np.array([block_1, block_2])\n",
    "    n_vertices = block_1 + block_2\n",
    "    labels = np.array([False] * block_1 + [True] * block_2)\n",
    "\n",
    "    def worker(i):\n",
    "\n",
    "        X, Y = generate_func(\n",
    "            p, effect_size, block_size, m_per_pop, second_angle=second_angle\n",
    "        )\n",
    "        \n",
    "        pvalues, discoveries = test(X, Y, n_vertices, labels)\n",
    "        pvalues.to_csv(f\"results/correction/{block_2}-{generate_func.__name__}-{i}.csv\")\n",
    "\n",
    "        discoveries = np.append(discoveries, [block_2, generate_func.__name__])\n",
    "\n",
    "        # Write to csv\n",
    "        with open(filename, \"a\") as outfile:\n",
    "            writer = csv.writer(outfile)\n",
    "            writer.writerow(discoveries)\n",
    "\n",
    "    Parallel(-1)(delayed(worker)(i) for i in tqdm(range(reps)))\n"
   ]
  },
  {
   "cell_type": "markdown",
   "metadata": {},
   "source": [
    "## Experiment"
   ]
  },
  {
   "cell_type": "code",
   "execution_count": null,
   "metadata": {},
   "outputs": [],
   "source": [
    "# %% Simulation parameters\n",
    "n_nodes = 50\n",
    "block_2s = np.array([5, 10, 15, 20, 25])\n",
    "block_1s = n_nodes - block_2s\n",
    "block_sizes = list(zip(block_1s, block_2s))\n",
    "effect_size = 0.5\n",
    "second_angle = 70.0\n",
    "sample_size = 200\n",
    "p = 0.25\n",
    "\n",
    "generate_funcs = [generate_graphs_1, generate_graphs_4]\n",
    "\n",
    "args = [\n",
    "    dict(\n",
    "        sample_size=sample_size,\n",
    "        block_1=block_1,\n",
    "        block_2=block_2,\n",
    "        p=p,\n",
    "        effect_size=effect_size,\n",
    "        second_angle=second_angle,\n",
    "        generate_func=generate_func,\n",
    "    )\n",
    "    for (block_1, block_2), generate_func in product(block_sizes, generate_funcs)\n",
    "]"
   ]
  },
  {
   "cell_type": "code",
   "execution_count": null,
   "metadata": {},
   "outputs": [],
   "source": [
    "filename = \"results/correction/correction.csv\"\n",
    "columns = [method + truth for method in methods for truth in [\"_true\", \"_false\"]] + [\"block_2\", \"generate_func\"]\n",
    "with open(filename, \"w\") as outfile:\n",
    "    writer = csv.writer(outfile)\n",
    "    writer.writerow(columns)\n",
    "\n",
    "for arg in args:\n",
    "    experiment(**arg, filename=filename)"
   ]
  },
  {
   "cell_type": "markdown",
   "metadata": {},
   "source": [
    "## Prototyping"
   ]
  },
  {
   "cell_type": "code",
   "execution_count": null,
   "metadata": {},
   "outputs": [],
   "source": [
    "X, Y = args[0][\"generate_func\"](0.25, 0.4, [25, 25], 100, second_angle=70.0)"
   ]
  },
  {
   "cell_type": "code",
   "execution_count": null,
   "metadata": {},
   "outputs": [],
   "source": [
    "omni =  embed(X, Y)\n",
    "omni.head()"
   ]
  },
  {
   "cell_type": "code",
   "execution_count": null,
   "metadata": {},
   "outputs": [],
   "source": [
    "with localconverter(ro.default_converter + pandas2ri.converter):\n",
    "    pvalues = r_manova(ro.conversion.py2rpy(omni), 50)\n",
    "pvalues[\"signal\"] = [False] * 25 + [True] * 25\n",
    "pvalues.head()"
   ]
  },
  {
   "cell_type": "code",
   "execution_count": null,
   "metadata": {},
   "outputs": [],
   "source": [
    "methods=[\"bonferroni\", \"holm\", \"fdr_bh\", \"fdr_by\"]\n",
    "correct(pvalues, methods)\n",
    "pvalues.head()"
   ]
  },
  {
   "cell_type": "code",
   "execution_count": null,
   "metadata": {},
   "outputs": [],
   "source": [
    "discoveries = fdr(pvalues, methods=methods)\n",
    "discoveries"
   ]
  },
  {
   "cell_type": "code",
   "execution_count": null,
   "metadata": {},
   "outputs": [],
   "source": [
    "test(X, Y, 50, np.array([False] * 25 + [True] * 25))"
   ]
  },
  {
   "cell_type": "code",
   "execution_count": null,
   "metadata": {},
   "outputs": [],
   "source": []
  }
 ],
 "metadata": {
  "interpreter": {
   "hash": "f7d1a86b99aa782d7addb2e8c27fc49aecca6fdd2163e6941aa9b0be0b9188df"
  },
  "kernelspec": {
   "display_name": "Python 3.8.12 64-bit ('mcc': conda)",
   "language": "python",
   "name": "python3"
  },
  "language_info": {
   "codemirror_mode": {
    "name": "ipython",
    "version": 3
   },
   "file_extension": ".py",
   "mimetype": "text/x-python",
   "name": "python",
   "nbconvert_exporter": "python",
   "pygments_lexer": "ipython3",
   "version": "3.8.12"
  },
  "orig_nbformat": 4
 },
 "nbformat": 4,
 "nbformat_minor": 2
}
