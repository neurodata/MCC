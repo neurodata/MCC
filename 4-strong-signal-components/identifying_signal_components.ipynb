{
 "cells": [
  {
   "cell_type": "code",
   "execution_count": 1,
   "metadata": {},
   "outputs": [
    {
     "data": {
      "application/javascript": [
       "\n",
       "            setTimeout(function() {\n",
       "                var nbb_cell_id = 1;\n",
       "                var nbb_unformatted_code = \"%load_ext nb_black\\n%load_ext rpy2.ipython\";\n",
       "                var nbb_formatted_code = \"%load_ext nb_black\\n%load_ext rpy2.ipython\";\n",
       "                var nbb_cells = Jupyter.notebook.get_cells();\n",
       "                for (var i = 0; i < nbb_cells.length; ++i) {\n",
       "                    if (nbb_cells[i].input_prompt_number == nbb_cell_id) {\n",
       "                        if (nbb_cells[i].get_text() == nbb_unformatted_code) {\n",
       "                             nbb_cells[i].set_text(nbb_formatted_code);\n",
       "                        }\n",
       "                        break;\n",
       "                    }\n",
       "                }\n",
       "            }, 500);\n",
       "            "
      ],
      "text/plain": [
       "<IPython.core.display.Javascript object>"
      ]
     },
     "metadata": {},
     "output_type": "display_data"
    }
   ],
   "source": [
    "%load_ext nb_black\n",
    "%load_ext rpy2.ipython"
   ]
  },
  {
   "cell_type": "code",
   "execution_count": 2,
   "metadata": {},
   "outputs": [
    {
     "data": {
      "application/javascript": [
       "\n",
       "            setTimeout(function() {\n",
       "                var nbb_cell_id = 2;\n",
       "                var nbb_unformatted_code = \"import matplotlib.pyplot as plt\\nimport numpy as np\\nimport pandas as pd\\nimport seaborn as sns\\nfrom graspologic.datasets import load_mice\\nfrom statsmodels.stats.multitest import multipletests\";\n",
       "                var nbb_formatted_code = \"import matplotlib.pyplot as plt\\nimport numpy as np\\nimport pandas as pd\\nimport seaborn as sns\\nfrom graspologic.datasets import load_mice\\nfrom statsmodels.stats.multitest import multipletests\";\n",
       "                var nbb_cells = Jupyter.notebook.get_cells();\n",
       "                for (var i = 0; i < nbb_cells.length; ++i) {\n",
       "                    if (nbb_cells[i].input_prompt_number == nbb_cell_id) {\n",
       "                        if (nbb_cells[i].get_text() == nbb_unformatted_code) {\n",
       "                             nbb_cells[i].set_text(nbb_formatted_code);\n",
       "                        }\n",
       "                        break;\n",
       "                    }\n",
       "                }\n",
       "            }, 500);\n",
       "            "
      ],
      "text/plain": [
       "<IPython.core.display.Javascript object>"
      ]
     },
     "metadata": {},
     "output_type": "display_data"
    }
   ],
   "source": [
    "import matplotlib.pyplot as plt\n",
    "import numpy as np\n",
    "import pandas as pd\n",
    "import seaborn as sns\n",
    "from graspologic.datasets import load_mice\n",
    "from statsmodels.stats.multitest import multipletests"
   ]
  },
  {
   "cell_type": "code",
   "execution_count": 3,
   "metadata": {},
   "outputs": [
    {
     "data": {
      "application/javascript": [
       "\n",
       "            setTimeout(function() {\n",
       "                var nbb_cell_id = 3;\n",
       "                var nbb_unformatted_code = \"# Load the full mouse dataset\\nmice = load_mice()\\n\\n# Stack all adjacency matrices in a 3D numpy array\\ngraphs = np.array(mice.graphs)\\n\\n# Get sample parameters\\nn_subjects = mice.meta[\\\"n_subjects\\\"]\\nn_vertices = mice.meta[\\\"n_vertices\\\"]\";\n",
       "                var nbb_formatted_code = \"# Load the full mouse dataset\\nmice = load_mice()\\n\\n# Stack all adjacency matrices in a 3D numpy array\\ngraphs = np.array(mice.graphs)\\n\\n# Get sample parameters\\nn_subjects = mice.meta[\\\"n_subjects\\\"]\\nn_vertices = mice.meta[\\\"n_vertices\\\"]\";\n",
       "                var nbb_cells = Jupyter.notebook.get_cells();\n",
       "                for (var i = 0; i < nbb_cells.length; ++i) {\n",
       "                    if (nbb_cells[i].input_prompt_number == nbb_cell_id) {\n",
       "                        if (nbb_cells[i].get_text() == nbb_unformatted_code) {\n",
       "                             nbb_cells[i].set_text(nbb_formatted_code);\n",
       "                        }\n",
       "                        break;\n",
       "                    }\n",
       "                }\n",
       "            }, 500);\n",
       "            "
      ],
      "text/plain": [
       "<IPython.core.display.Javascript object>"
      ]
     },
     "metadata": {},
     "output_type": "display_data"
    }
   ],
   "source": [
    "# Load the full mouse dataset\n",
    "mice = load_mice()\n",
    "\n",
    "# Stack all adjacency matrices in a 3D numpy array\n",
    "graphs = np.array(mice.graphs)\n",
    "\n",
    "# Get sample parameters\n",
    "n_subjects = mice.meta[\"n_subjects\"]\n",
    "n_vertices = mice.meta[\"n_vertices\"]"
   ]
  },
  {
   "cell_type": "markdown",
   "metadata": {},
   "source": [
    "## Identifying Signal Edges"
   ]
  },
  {
   "cell_type": "code",
   "execution_count": 4,
   "metadata": {},
   "outputs": [
    {
     "data": {
      "application/javascript": [
       "\n",
       "            setTimeout(function() {\n",
       "                var nbb_cell_id = 4;\n",
       "                var nbb_unformatted_code = \"from hyppo.ksample import KSample\";\n",
       "                var nbb_formatted_code = \"from hyppo.ksample import KSample\";\n",
       "                var nbb_cells = Jupyter.notebook.get_cells();\n",
       "                for (var i = 0; i < nbb_cells.length; ++i) {\n",
       "                    if (nbb_cells[i].input_prompt_number == nbb_cell_id) {\n",
       "                        if (nbb_cells[i].get_text() == nbb_unformatted_code) {\n",
       "                             nbb_cells[i].set_text(nbb_formatted_code);\n",
       "                        }\n",
       "                        break;\n",
       "                    }\n",
       "                }\n",
       "            }, 500);\n",
       "            "
      ],
      "text/plain": [
       "<IPython.core.display.Javascript object>"
      ]
     },
     "metadata": {},
     "output_type": "display_data"
    }
   ],
   "source": [
    "from hyppo.ksample import KSample"
   ]
  },
  {
   "cell_type": "code",
   "execution_count": 5,
   "metadata": {},
   "outputs": [
    {
     "data": {
      "application/javascript": [
       "\n",
       "            setTimeout(function() {\n",
       "                var nbb_cell_id = 5;\n",
       "                var nbb_unformatted_code = \"# Split the set of graphs by genotype\\nbtbr = graphs[mice.labels == \\\"BTBR\\\"]\\nb6 = graphs[mice.labels == \\\"B6\\\"]\\ncast = graphs[mice.labels == \\\"CAST\\\"]\\ndba2 = graphs[mice.labels == \\\"DBA2\\\"]\\n\\nconnectomes = [btbr, b6, cast, dba2]\";\n",
       "                var nbb_formatted_code = \"# Split the set of graphs by genotype\\nbtbr = graphs[mice.labels == \\\"BTBR\\\"]\\nb6 = graphs[mice.labels == \\\"B6\\\"]\\ncast = graphs[mice.labels == \\\"CAST\\\"]\\ndba2 = graphs[mice.labels == \\\"DBA2\\\"]\\n\\nconnectomes = [btbr, b6, cast, dba2]\";\n",
       "                var nbb_cells = Jupyter.notebook.get_cells();\n",
       "                for (var i = 0; i < nbb_cells.length; ++i) {\n",
       "                    if (nbb_cells[i].input_prompt_number == nbb_cell_id) {\n",
       "                        if (nbb_cells[i].get_text() == nbb_unformatted_code) {\n",
       "                             nbb_cells[i].set_text(nbb_formatted_code);\n",
       "                        }\n",
       "                        break;\n",
       "                    }\n",
       "                }\n",
       "            }, 500);\n",
       "            "
      ],
      "text/plain": [
       "<IPython.core.display.Javascript object>"
      ]
     },
     "metadata": {},
     "output_type": "display_data"
    }
   ],
   "source": [
    "# Split the set of graphs by genotype\n",
    "btbr = graphs[mice.labels == \"BTBR\"]\n",
    "b6 = graphs[mice.labels == \"B6\"]\n",
    "cast = graphs[mice.labels == \"CAST\"]\n",
    "dba2 = graphs[mice.labels == \"DBA2\"]\n",
    "\n",
    "connectomes = [btbr, b6, cast, dba2]"
   ]
  },
  {
   "cell_type": "code",
   "execution_count": 6,
   "metadata": {},
   "outputs": [
    {
     "data": {
      "application/javascript": [
       "\n",
       "            setTimeout(function() {\n",
       "                var nbb_cell_id = 6;\n",
       "                var nbb_unformatted_code = \"# Make iterator for traversing the upper triangle of the connectome\\nindices = zip(*np.triu_indices(n_vertices, 1))\";\n",
       "                var nbb_formatted_code = \"# Make iterator for traversing the upper triangle of the connectome\\nindices = zip(*np.triu_indices(n_vertices, 1))\";\n",
       "                var nbb_cells = Jupyter.notebook.get_cells();\n",
       "                for (var i = 0; i < nbb_cells.length; ++i) {\n",
       "                    if (nbb_cells[i].input_prompt_number == nbb_cell_id) {\n",
       "                        if (nbb_cells[i].get_text() == nbb_unformatted_code) {\n",
       "                             nbb_cells[i].set_text(nbb_formatted_code);\n",
       "                        }\n",
       "                        break;\n",
       "                    }\n",
       "                }\n",
       "            }, 500);\n",
       "            "
      ],
      "text/plain": [
       "<IPython.core.display.Javascript object>"
      ]
     },
     "metadata": {},
     "output_type": "display_data"
    }
   ],
   "source": [
    "# Make iterator for traversing the upper triangle of the connectome\n",
    "indices = zip(*np.triu_indices(n_vertices, 1))"
   ]
  },
  {
   "cell_type": "code",
   "execution_count": 7,
   "metadata": {},
   "outputs": [
    {
     "data": {
      "application/javascript": [
       "\n",
       "            setTimeout(function() {\n",
       "                var nbb_cell_id = 7;\n",
       "                var nbb_unformatted_code = \"edge_pvals = []\\n\\nfor roi_i, roi_j in indices:\\n\\n    # Get the (i,j)-th edge for each connectome\\n    samples = [genotype[:, roi_i, roi_j] for genotype in connectomes]\\n\\n    # Calculate the p-value for the (i,j)-th edge\\n    try:\\n        statistic, pvalue = KSample(\\\"Dcorr\\\").test(*samples)\\n    except ValueError:\\n        # A ValueError is thrown when any of the samples have equal edge\\n        # weights (i.e. one of the inputs has 0 variance)\\n        statistic = np.nan\\n        pvalue = 1\\n\\n    edge_pvals.append([roi_i + 1, roi_j + 1, statistic, pvalue])\";\n",
       "                var nbb_formatted_code = \"edge_pvals = []\\n\\nfor roi_i, roi_j in indices:\\n\\n    # Get the (i,j)-th edge for each connectome\\n    samples = [genotype[:, roi_i, roi_j] for genotype in connectomes]\\n\\n    # Calculate the p-value for the (i,j)-th edge\\n    try:\\n        statistic, pvalue = KSample(\\\"Dcorr\\\").test(*samples)\\n    except ValueError:\\n        # A ValueError is thrown when any of the samples have equal edge\\n        # weights (i.e. one of the inputs has 0 variance)\\n        statistic = np.nan\\n        pvalue = 1\\n\\n    edge_pvals.append([roi_i + 1, roi_j + 1, statistic, pvalue])\";\n",
       "                var nbb_cells = Jupyter.notebook.get_cells();\n",
       "                for (var i = 0; i < nbb_cells.length; ++i) {\n",
       "                    if (nbb_cells[i].input_prompt_number == nbb_cell_id) {\n",
       "                        if (nbb_cells[i].get_text() == nbb_unformatted_code) {\n",
       "                             nbb_cells[i].set_text(nbb_formatted_code);\n",
       "                        }\n",
       "                        break;\n",
       "                    }\n",
       "                }\n",
       "            }, 500);\n",
       "            "
      ],
      "text/plain": [
       "<IPython.core.display.Javascript object>"
      ]
     },
     "metadata": {},
     "output_type": "display_data"
    }
   ],
   "source": [
    "edge_pvals = []\n",
    "\n",
    "for roi_i, roi_j in indices:\n",
    "\n",
    "    # Get the (i,j)-th edge for each connectome\n",
    "    samples = [genotype[:, roi_i, roi_j] for genotype in connectomes]\n",
    "\n",
    "    # Calculate the p-value for the (i,j)-th edge\n",
    "    try:\n",
    "        statistic, pvalue = KSample(\"Dcorr\").test(*samples)\n",
    "    except ValueError:\n",
    "        # A ValueError is thrown when any of the samples have equal edge\n",
    "        # weights (i.e. one of the inputs has 0 variance)\n",
    "        statistic = np.nan\n",
    "        pvalue = 1\n",
    "\n",
    "    edge_pvals.append([roi_i + 1, roi_j + 1, statistic, pvalue])"
   ]
  },
  {
   "cell_type": "code",
   "execution_count": 8,
   "metadata": {},
   "outputs": [
    {
     "data": {
      "text/html": [
       "<div>\n",
       "<style scoped>\n",
       "    .dataframe tbody tr th:only-of-type {\n",
       "        vertical-align: middle;\n",
       "    }\n",
       "\n",
       "    .dataframe tbody tr th {\n",
       "        vertical-align: top;\n",
       "    }\n",
       "\n",
       "    .dataframe thead th {\n",
       "        text-align: right;\n",
       "    }\n",
       "</style>\n",
       "<table border=\"1\" class=\"dataframe\">\n",
       "  <thead>\n",
       "    <tr style=\"text-align: right;\">\n",
       "      <th></th>\n",
       "      <th>ROI_1</th>\n",
       "      <th>ROI_2</th>\n",
       "      <th>stat</th>\n",
       "      <th>pvalue</th>\n",
       "      <th>holm_pvalue</th>\n",
       "      <th>significant</th>\n",
       "    </tr>\n",
       "  </thead>\n",
       "  <tbody>\n",
       "    <tr>\n",
       "      <th>0</th>\n",
       "      <td>121</td>\n",
       "      <td>230</td>\n",
       "      <td>0.717036</td>\n",
       "      <td>9.911903e-07</td>\n",
       "      <td>0.054462</td>\n",
       "      <td>False</td>\n",
       "    </tr>\n",
       "    <tr>\n",
       "      <th>1</th>\n",
       "      <td>121</td>\n",
       "      <td>293</td>\n",
       "      <td>0.699473</td>\n",
       "      <td>1.327371e-06</td>\n",
       "      <td>0.072932</td>\n",
       "      <td>False</td>\n",
       "    </tr>\n",
       "    <tr>\n",
       "      <th>2</th>\n",
       "      <td>121</td>\n",
       "      <td>244</td>\n",
       "      <td>0.698197</td>\n",
       "      <td>1.355858e-06</td>\n",
       "      <td>0.074496</td>\n",
       "      <td>False</td>\n",
       "    </tr>\n",
       "    <tr>\n",
       "      <th>3</th>\n",
       "      <td>121</td>\n",
       "      <td>243</td>\n",
       "      <td>0.685735</td>\n",
       "      <td>1.668308e-06</td>\n",
       "      <td>0.091662</td>\n",
       "      <td>False</td>\n",
       "    </tr>\n",
       "    <tr>\n",
       "      <th>4</th>\n",
       "      <td>228</td>\n",
       "      <td>287</td>\n",
       "      <td>0.670809</td>\n",
       "      <td>2.139082e-06</td>\n",
       "      <td>0.117525</td>\n",
       "      <td>False</td>\n",
       "    </tr>\n",
       "  </tbody>\n",
       "</table>\n",
       "</div>"
      ],
      "text/plain": [
       "   ROI_1  ROI_2      stat        pvalue  holm_pvalue  significant\n",
       "0    121    230  0.717036  9.911903e-07     0.054462        False\n",
       "1    121    293  0.699473  1.327371e-06     0.072932        False\n",
       "2    121    244  0.698197  1.355858e-06     0.074496        False\n",
       "3    121    243  0.685735  1.668308e-06     0.091662        False\n",
       "4    228    287  0.670809  2.139082e-06     0.117525        False"
      ]
     },
     "execution_count": 8,
     "metadata": {},
     "output_type": "execute_result"
    },
    {
     "data": {
      "application/javascript": [
       "\n",
       "            setTimeout(function() {\n",
       "                var nbb_cell_id = 8;\n",
       "                var nbb_unformatted_code = \"# Convert the nested list to a dataframe\\nsignal_edges = pd.DataFrame(edge_pvals, columns=[\\\"ROI_1\\\", \\\"ROI_2\\\", \\\"stat\\\", \\\"pvalue\\\"])\\nsignal_edges.sort_values(by=\\\"pvalue\\\", inplace=True, ignore_index=True)\\n\\n# Correct p-values\\nreject, holm_pvalue, _, _ = multipletests(\\n    signal_edges[\\\"pvalue\\\"], alpha=0.05, method=\\\"holm\\\"\\n)\\nsignal_edges[\\\"holm_pvalue\\\"] = holm_pvalue\\nsignal_edges[\\\"significant\\\"] = reject\\nsignal_edges.sort_values(by=\\\"holm_pvalue\\\", inplace=True, ignore_index=True)\\nsignal_edges.to_csv(\\\"../results/signal_edges.csv\\\", index=False)\\nsignal_edges.head()\";\n",
       "                var nbb_formatted_code = \"# Convert the nested list to a dataframe\\nsignal_edges = pd.DataFrame(edge_pvals, columns=[\\\"ROI_1\\\", \\\"ROI_2\\\", \\\"stat\\\", \\\"pvalue\\\"])\\nsignal_edges.sort_values(by=\\\"pvalue\\\", inplace=True, ignore_index=True)\\n\\n# Correct p-values\\nreject, holm_pvalue, _, _ = multipletests(\\n    signal_edges[\\\"pvalue\\\"], alpha=0.05, method=\\\"holm\\\"\\n)\\nsignal_edges[\\\"holm_pvalue\\\"] = holm_pvalue\\nsignal_edges[\\\"significant\\\"] = reject\\nsignal_edges.sort_values(by=\\\"holm_pvalue\\\", inplace=True, ignore_index=True)\\nsignal_edges.to_csv(\\\"../results/signal_edges.csv\\\", index=False)\\nsignal_edges.head()\";\n",
       "                var nbb_cells = Jupyter.notebook.get_cells();\n",
       "                for (var i = 0; i < nbb_cells.length; ++i) {\n",
       "                    if (nbb_cells[i].input_prompt_number == nbb_cell_id) {\n",
       "                        if (nbb_cells[i].get_text() == nbb_unformatted_code) {\n",
       "                             nbb_cells[i].set_text(nbb_formatted_code);\n",
       "                        }\n",
       "                        break;\n",
       "                    }\n",
       "                }\n",
       "            }, 500);\n",
       "            "
      ],
      "text/plain": [
       "<IPython.core.display.Javascript object>"
      ]
     },
     "metadata": {},
     "output_type": "display_data"
    }
   ],
   "source": [
    "# Convert the nested list to a dataframe\n",
    "signal_edges = pd.DataFrame(edge_pvals, columns=[\"ROI_1\", \"ROI_2\", \"stat\", \"pvalue\"])\n",
    "signal_edges.sort_values(by=\"pvalue\", inplace=True, ignore_index=True)\n",
    "\n",
    "# Correct p-values\n",
    "reject, holm_pvalue, _, _ = multipletests(\n",
    "    signal_edges[\"pvalue\"], alpha=0.05, method=\"holm\"\n",
    ")\n",
    "signal_edges[\"holm_pvalue\"] = holm_pvalue\n",
    "signal_edges[\"significant\"] = reject\n",
    "signal_edges.sort_values(by=\"holm_pvalue\", inplace=True, ignore_index=True)\n",
    "signal_edges.to_csv(\"../results/signal_edges.csv\", index=False)\n",
    "signal_edges.head()"
   ]
  },
  {
   "cell_type": "code",
   "execution_count": 9,
   "metadata": {},
   "outputs": [
    {
     "data": {
      "application/javascript": [
       "\n",
       "            setTimeout(function() {\n",
       "                var nbb_cell_id = 9;\n",
       "                var nbb_unformatted_code = \"def lookup_roi_name(roi):\\n    roi -= 1\\n    hemisphere = \\\"R\\\" if roi // 166 else \\\"L\\\"\\n    roi = roi % 166\\n    structure = mice.atlas[\\\"Structure\\\"].values[roi]\\n    structure = \\\" \\\".join(structure.split(\\\"_\\\"))\\n    return f\\\"{structure} ({hemisphere})\\\"\";\n",
       "                var nbb_formatted_code = \"def lookup_roi_name(roi):\\n    roi -= 1\\n    hemisphere = \\\"R\\\" if roi // 166 else \\\"L\\\"\\n    roi = roi % 166\\n    structure = mice.atlas[\\\"Structure\\\"].values[roi]\\n    structure = \\\" \\\".join(structure.split(\\\"_\\\"))\\n    return f\\\"{structure} ({hemisphere})\\\"\";\n",
       "                var nbb_cells = Jupyter.notebook.get_cells();\n",
       "                for (var i = 0; i < nbb_cells.length; ++i) {\n",
       "                    if (nbb_cells[i].input_prompt_number == nbb_cell_id) {\n",
       "                        if (nbb_cells[i].get_text() == nbb_unformatted_code) {\n",
       "                             nbb_cells[i].set_text(nbb_formatted_code);\n",
       "                        }\n",
       "                        break;\n",
       "                    }\n",
       "                }\n",
       "            }, 500);\n",
       "            "
      ],
      "text/plain": [
       "<IPython.core.display.Javascript object>"
      ]
     },
     "metadata": {},
     "output_type": "display_data"
    }
   ],
   "source": [
    "def lookup_roi_name(roi):\n",
    "    roi -= 1\n",
    "    hemisphere = \"R\" if roi // 166 else \"L\"\n",
    "    roi = roi % 166\n",
    "    structure = mice.atlas[\"Structure\"].values[roi]\n",
    "    structure = \" \".join(structure.split(\"_\"))\n",
    "    return f\"{structure} ({hemisphere})\""
   ]
  },
  {
   "cell_type": "code",
   "execution_count": 10,
   "metadata": {},
   "outputs": [
    {
     "data": {
      "text/html": [
       "<div>\n",
       "<style scoped>\n",
       "    .dataframe tbody tr th:only-of-type {\n",
       "        vertical-align: middle;\n",
       "    }\n",
       "\n",
       "    .dataframe tbody tr th {\n",
       "        vertical-align: top;\n",
       "    }\n",
       "\n",
       "    .dataframe thead th {\n",
       "        text-align: right;\n",
       "    }\n",
       "</style>\n",
       "<table border=\"1\" class=\"dataframe\">\n",
       "  <thead>\n",
       "    <tr style=\"text-align: right;\">\n",
       "      <th></th>\n",
       "      <th>ROI_1</th>\n",
       "      <th>ROI_2</th>\n",
       "      <th>stat</th>\n",
       "      <th>pvalue</th>\n",
       "      <th>holm_pvalue</th>\n",
       "      <th>significant</th>\n",
       "    </tr>\n",
       "  </thead>\n",
       "  <tbody>\n",
       "    <tr>\n",
       "      <th>0</th>\n",
       "      <td>Corpus Callosum (L)</td>\n",
       "      <td>Striatum (R)</td>\n",
       "      <td>0.717036</td>\n",
       "      <td>9.911903e-07</td>\n",
       "      <td>0.054462</td>\n",
       "      <td>False</td>\n",
       "    </tr>\n",
       "    <tr>\n",
       "      <th>1</th>\n",
       "      <td>Corpus Callosum (L)</td>\n",
       "      <td>Internal Capsule (R)</td>\n",
       "      <td>0.699473</td>\n",
       "      <td>1.327371e-06</td>\n",
       "      <td>0.072932</td>\n",
       "      <td>False</td>\n",
       "    </tr>\n",
       "    <tr>\n",
       "      <th>2</th>\n",
       "      <td>Corpus Callosum (L)</td>\n",
       "      <td>Reticular Nucleus of Thalamus (R)</td>\n",
       "      <td>0.698197</td>\n",
       "      <td>1.355858e-06</td>\n",
       "      <td>0.074496</td>\n",
       "      <td>False</td>\n",
       "    </tr>\n",
       "    <tr>\n",
       "      <th>3</th>\n",
       "      <td>Corpus Callosum (L)</td>\n",
       "      <td>Zona Incerta (R)</td>\n",
       "      <td>0.685735</td>\n",
       "      <td>1.668308e-06</td>\n",
       "      <td>0.091662</td>\n",
       "      <td>False</td>\n",
       "    </tr>\n",
       "    <tr>\n",
       "      <th>4</th>\n",
       "      <td>Septum (R)</td>\n",
       "      <td>Corpus Callosum (R)</td>\n",
       "      <td>0.670809</td>\n",
       "      <td>2.139082e-06</td>\n",
       "      <td>0.117525</td>\n",
       "      <td>False</td>\n",
       "    </tr>\n",
       "    <tr>\n",
       "      <th>5</th>\n",
       "      <td>Lateral Ventricle (L)</td>\n",
       "      <td>Striatum (R)</td>\n",
       "      <td>0.667327</td>\n",
       "      <td>2.266866e-06</td>\n",
       "      <td>0.124544</td>\n",
       "      <td>False</td>\n",
       "    </tr>\n",
       "    <tr>\n",
       "      <th>6</th>\n",
       "      <td>Striatum (L)</td>\n",
       "      <td>Striatum (R)</td>\n",
       "      <td>0.663875</td>\n",
       "      <td>2.401064e-06</td>\n",
       "      <td>0.131914</td>\n",
       "      <td>False</td>\n",
       "    </tr>\n",
       "    <tr>\n",
       "      <th>7</th>\n",
       "      <td>Corpus Callosum (L)</td>\n",
       "      <td>Ventral Thalamic Nuclei (R)</td>\n",
       "      <td>0.663380</td>\n",
       "      <td>2.420987e-06</td>\n",
       "      <td>0.133007</td>\n",
       "      <td>False</td>\n",
       "    </tr>\n",
       "    <tr>\n",
       "      <th>8</th>\n",
       "      <td>Hippocampus (L)</td>\n",
       "      <td>Middle Cerebellar Peduncle (L)</td>\n",
       "      <td>0.658415</td>\n",
       "      <td>2.629842e-06</td>\n",
       "      <td>0.144478</td>\n",
       "      <td>False</td>\n",
       "    </tr>\n",
       "    <tr>\n",
       "      <th>9</th>\n",
       "      <td>Caudomedial Entorhinal Cortex (R)</td>\n",
       "      <td>Ventral Hippocampal Commissure (R)</td>\n",
       "      <td>0.655984</td>\n",
       "      <td>2.738604e-06</td>\n",
       "      <td>0.150451</td>\n",
       "      <td>False</td>\n",
       "    </tr>\n",
       "    <tr>\n",
       "      <th>10</th>\n",
       "      <td>Corpus Callosum (L)</td>\n",
       "      <td>Midbrain Reticular Nucleus (R)</td>\n",
       "      <td>0.652512</td>\n",
       "      <td>2.901853e-06</td>\n",
       "      <td>0.159416</td>\n",
       "      <td>False</td>\n",
       "    </tr>\n",
       "    <tr>\n",
       "      <th>11</th>\n",
       "      <td>Midbrain Reticular Nucleus (L)</td>\n",
       "      <td>Superior Cerebellar Peduncle (L)</td>\n",
       "      <td>0.647961</td>\n",
       "      <td>3.130693e-06</td>\n",
       "      <td>0.171985</td>\n",
       "      <td>False</td>\n",
       "    </tr>\n",
       "    <tr>\n",
       "      <th>12</th>\n",
       "      <td>Corpus Callosum (L)</td>\n",
       "      <td>Corpus Callosum (R)</td>\n",
       "      <td>0.645608</td>\n",
       "      <td>3.255997e-06</td>\n",
       "      <td>0.178865</td>\n",
       "      <td>False</td>\n",
       "    </tr>\n",
       "    <tr>\n",
       "      <th>13</th>\n",
       "      <td>Spinal Trigeminal Nerve (L)</td>\n",
       "      <td>Middle Cerebellar Peduncle (L)</td>\n",
       "      <td>0.645284</td>\n",
       "      <td>3.273650e-06</td>\n",
       "      <td>0.179831</td>\n",
       "      <td>False</td>\n",
       "    </tr>\n",
       "    <tr>\n",
       "      <th>14</th>\n",
       "      <td>Secondary Visual CortexLateral Area (L)</td>\n",
       "      <td>Striatum (R)</td>\n",
       "      <td>0.641368</td>\n",
       "      <td>3.494704e-06</td>\n",
       "      <td>0.191971</td>\n",
       "      <td>False</td>\n",
       "    </tr>\n",
       "    <tr>\n",
       "      <th>15</th>\n",
       "      <td>Globus Pallidus (R)</td>\n",
       "      <td>Midbrain Reticular Nucleus (R)</td>\n",
       "      <td>0.631761</td>\n",
       "      <td>4.102502e-06</td>\n",
       "      <td>0.225355</td>\n",
       "      <td>False</td>\n",
       "    </tr>\n",
       "    <tr>\n",
       "      <th>16</th>\n",
       "      <td>Striatum (L)</td>\n",
       "      <td>Corpus Callosum (R)</td>\n",
       "      <td>0.631710</td>\n",
       "      <td>4.105987e-06</td>\n",
       "      <td>0.225542</td>\n",
       "      <td>False</td>\n",
       "    </tr>\n",
       "    <tr>\n",
       "      <th>17</th>\n",
       "      <td>Primary Somatosensory Cortex Hindlimb Region (L)</td>\n",
       "      <td>Secondary Visual Cortex Mediomedial Area (L)</td>\n",
       "      <td>0.628985</td>\n",
       "      <td>4.297134e-06</td>\n",
       "      <td>0.236037</td>\n",
       "      <td>False</td>\n",
       "    </tr>\n",
       "    <tr>\n",
       "      <th>18</th>\n",
       "      <td>Corpus Callosum (L)</td>\n",
       "      <td>Primary Somatosensory Cortex Jaw Region (R)</td>\n",
       "      <td>0.628365</td>\n",
       "      <td>4.341833e-06</td>\n",
       "      <td>0.238488</td>\n",
       "      <td>False</td>\n",
       "    </tr>\n",
       "    <tr>\n",
       "      <th>19</th>\n",
       "      <td>Corpus Callosum (L)</td>\n",
       "      <td>Ventral Orbital Cortex (R)</td>\n",
       "      <td>0.627970</td>\n",
       "      <td>4.370614e-06</td>\n",
       "      <td>0.240065</td>\n",
       "      <td>False</td>\n",
       "    </tr>\n",
       "  </tbody>\n",
       "</table>\n",
       "</div>"
      ],
      "text/plain": [
       "                                               ROI_1  \\\n",
       "0                                Corpus Callosum (L)   \n",
       "1                                Corpus Callosum (L)   \n",
       "2                                Corpus Callosum (L)   \n",
       "3                                Corpus Callosum (L)   \n",
       "4                                         Septum (R)   \n",
       "5                              Lateral Ventricle (L)   \n",
       "6                                       Striatum (L)   \n",
       "7                                Corpus Callosum (L)   \n",
       "8                                    Hippocampus (L)   \n",
       "9                  Caudomedial Entorhinal Cortex (R)   \n",
       "10                               Corpus Callosum (L)   \n",
       "11                    Midbrain Reticular Nucleus (L)   \n",
       "12                               Corpus Callosum (L)   \n",
       "13                       Spinal Trigeminal Nerve (L)   \n",
       "14           Secondary Visual CortexLateral Area (L)   \n",
       "15                               Globus Pallidus (R)   \n",
       "16                                      Striatum (L)   \n",
       "17  Primary Somatosensory Cortex Hindlimb Region (L)   \n",
       "18                               Corpus Callosum (L)   \n",
       "19                               Corpus Callosum (L)   \n",
       "\n",
       "                                           ROI_2      stat        pvalue  \\\n",
       "0                                   Striatum (R)  0.717036  9.911903e-07   \n",
       "1                           Internal Capsule (R)  0.699473  1.327371e-06   \n",
       "2              Reticular Nucleus of Thalamus (R)  0.698197  1.355858e-06   \n",
       "3                               Zona Incerta (R)  0.685735  1.668308e-06   \n",
       "4                            Corpus Callosum (R)  0.670809  2.139082e-06   \n",
       "5                                   Striatum (R)  0.667327  2.266866e-06   \n",
       "6                                   Striatum (R)  0.663875  2.401064e-06   \n",
       "7                    Ventral Thalamic Nuclei (R)  0.663380  2.420987e-06   \n",
       "8                 Middle Cerebellar Peduncle (L)  0.658415  2.629842e-06   \n",
       "9             Ventral Hippocampal Commissure (R)  0.655984  2.738604e-06   \n",
       "10                Midbrain Reticular Nucleus (R)  0.652512  2.901853e-06   \n",
       "11              Superior Cerebellar Peduncle (L)  0.647961  3.130693e-06   \n",
       "12                           Corpus Callosum (R)  0.645608  3.255997e-06   \n",
       "13                Middle Cerebellar Peduncle (L)  0.645284  3.273650e-06   \n",
       "14                                  Striatum (R)  0.641368  3.494704e-06   \n",
       "15                Midbrain Reticular Nucleus (R)  0.631761  4.102502e-06   \n",
       "16                           Corpus Callosum (R)  0.631710  4.105987e-06   \n",
       "17  Secondary Visual Cortex Mediomedial Area (L)  0.628985  4.297134e-06   \n",
       "18   Primary Somatosensory Cortex Jaw Region (R)  0.628365  4.341833e-06   \n",
       "19                    Ventral Orbital Cortex (R)  0.627970  4.370614e-06   \n",
       "\n",
       "    holm_pvalue  significant  \n",
       "0      0.054462        False  \n",
       "1      0.072932        False  \n",
       "2      0.074496        False  \n",
       "3      0.091662        False  \n",
       "4      0.117525        False  \n",
       "5      0.124544        False  \n",
       "6      0.131914        False  \n",
       "7      0.133007        False  \n",
       "8      0.144478        False  \n",
       "9      0.150451        False  \n",
       "10     0.159416        False  \n",
       "11     0.171985        False  \n",
       "12     0.178865        False  \n",
       "13     0.179831        False  \n",
       "14     0.191971        False  \n",
       "15     0.225355        False  \n",
       "16     0.225542        False  \n",
       "17     0.236037        False  \n",
       "18     0.238488        False  \n",
       "19     0.240065        False  "
      ]
     },
     "execution_count": 10,
     "metadata": {},
     "output_type": "execute_result"
    },
    {
     "data": {
      "application/javascript": [
       "\n",
       "            setTimeout(function() {\n",
       "                var nbb_cell_id = 10;\n",
       "                var nbb_unformatted_code = \"# Get the top 20 strongest signal edges\\nstrong_signal_edges = signal_edges.head(20)\\nstrong_signal_edges[\\\"ROI_1\\\"] = strong_signal_edges[\\\"ROI_1\\\"].apply(lookup_roi_name)\\nstrong_signal_edges[\\\"ROI_2\\\"] = strong_signal_edges[\\\"ROI_2\\\"].apply(lookup_roi_name)\\nstrong_signal_edges\";\n",
       "                var nbb_formatted_code = \"# Get the top 20 strongest signal edges\\nstrong_signal_edges = signal_edges.head(20)\\nstrong_signal_edges[\\\"ROI_1\\\"] = strong_signal_edges[\\\"ROI_1\\\"].apply(lookup_roi_name)\\nstrong_signal_edges[\\\"ROI_2\\\"] = strong_signal_edges[\\\"ROI_2\\\"].apply(lookup_roi_name)\\nstrong_signal_edges\";\n",
       "                var nbb_cells = Jupyter.notebook.get_cells();\n",
       "                for (var i = 0; i < nbb_cells.length; ++i) {\n",
       "                    if (nbb_cells[i].input_prompt_number == nbb_cell_id) {\n",
       "                        if (nbb_cells[i].get_text() == nbb_unformatted_code) {\n",
       "                             nbb_cells[i].set_text(nbb_formatted_code);\n",
       "                        }\n",
       "                        break;\n",
       "                    }\n",
       "                }\n",
       "            }, 500);\n",
       "            "
      ],
      "text/plain": [
       "<IPython.core.display.Javascript object>"
      ]
     },
     "metadata": {},
     "output_type": "display_data"
    }
   ],
   "source": [
    "# Get the top 20 strongest signal edges\n",
    "strong_signal_edges = signal_edges.head(20)\n",
    "strong_signal_edges[\"ROI_1\"] = strong_signal_edges[\"ROI_1\"].apply(lookup_roi_name)\n",
    "strong_signal_edges[\"ROI_2\"] = strong_signal_edges[\"ROI_2\"].apply(lookup_roi_name)\n",
    "strong_signal_edges"
   ]
  },
  {
   "cell_type": "markdown",
   "metadata": {},
   "source": [
    "## Identifying Signal Vertices"
   ]
  },
  {
   "cell_type": "code",
   "execution_count": 11,
   "metadata": {},
   "outputs": [
    {
     "data": {
      "application/javascript": [
       "\n",
       "            setTimeout(function() {\n",
       "                var nbb_cell_id = 11;\n",
       "                var nbb_unformatted_code = \"from itertools import product\\n\\nfrom graspologic.embed import OmnibusEmbed\";\n",
       "                var nbb_formatted_code = \"from itertools import product\\n\\nfrom graspologic.embed import OmnibusEmbed\";\n",
       "                var nbb_cells = Jupyter.notebook.get_cells();\n",
       "                for (var i = 0; i < nbb_cells.length; ++i) {\n",
       "                    if (nbb_cells[i].input_prompt_number == nbb_cell_id) {\n",
       "                        if (nbb_cells[i].get_text() == nbb_unformatted_code) {\n",
       "                             nbb_cells[i].set_text(nbb_formatted_code);\n",
       "                        }\n",
       "                        break;\n",
       "                    }\n",
       "                }\n",
       "            }, 500);\n",
       "            "
      ],
      "text/plain": [
       "<IPython.core.display.Javascript object>"
      ]
     },
     "metadata": {},
     "output_type": "display_data"
    }
   ],
   "source": [
    "from itertools import product\n",
    "\n",
    "from graspologic.embed import OmnibusEmbed"
   ]
  },
  {
   "cell_type": "code",
   "execution_count": 12,
   "metadata": {},
   "outputs": [
    {
     "name": "stdout",
     "output_type": "stream",
     "text": [
      "Omnibus embedding shape is (10624, 5)\n"
     ]
    },
    {
     "data": {
      "text/html": [
       "<div>\n",
       "<style scoped>\n",
       "    .dataframe tbody tr th:only-of-type {\n",
       "        vertical-align: middle;\n",
       "    }\n",
       "\n",
       "    .dataframe tbody tr th {\n",
       "        vertical-align: top;\n",
       "    }\n",
       "\n",
       "    .dataframe thead th {\n",
       "        text-align: right;\n",
       "    }\n",
       "</style>\n",
       "<table border=\"1\" class=\"dataframe\">\n",
       "  <thead>\n",
       "    <tr style=\"text-align: right;\">\n",
       "      <th></th>\n",
       "      <th>omni_1</th>\n",
       "      <th>omni_2</th>\n",
       "      <th>omni_3</th>\n",
       "      <th>omni_4</th>\n",
       "      <th>omni_5</th>\n",
       "    </tr>\n",
       "  </thead>\n",
       "  <tbody>\n",
       "    <tr>\n",
       "      <th>0</th>\n",
       "      <td>12.730154</td>\n",
       "      <td>-5.338366</td>\n",
       "      <td>-2.503565</td>\n",
       "      <td>14.369667</td>\n",
       "      <td>4.277382</td>\n",
       "    </tr>\n",
       "    <tr>\n",
       "      <th>1</th>\n",
       "      <td>9.080038</td>\n",
       "      <td>-3.107737</td>\n",
       "      <td>-0.569771</td>\n",
       "      <td>14.679973</td>\n",
       "      <td>2.005405</td>\n",
       "    </tr>\n",
       "    <tr>\n",
       "      <th>2</th>\n",
       "      <td>3.491072</td>\n",
       "      <td>-2.343092</td>\n",
       "      <td>-5.636349</td>\n",
       "      <td>11.416039</td>\n",
       "      <td>-0.373804</td>\n",
       "    </tr>\n",
       "    <tr>\n",
       "      <th>3</th>\n",
       "      <td>0.761835</td>\n",
       "      <td>-0.652198</td>\n",
       "      <td>-1.929811</td>\n",
       "      <td>3.537828</td>\n",
       "      <td>-0.247422</td>\n",
       "    </tr>\n",
       "    <tr>\n",
       "      <th>4</th>\n",
       "      <td>9.124708</td>\n",
       "      <td>-2.755428</td>\n",
       "      <td>-2.402753</td>\n",
       "      <td>17.376237</td>\n",
       "      <td>0.947563</td>\n",
       "    </tr>\n",
       "  </tbody>\n",
       "</table>\n",
       "</div>"
      ],
      "text/plain": [
       "      omni_1    omni_2    omni_3     omni_4    omni_5\n",
       "0  12.730154 -5.338366 -2.503565  14.369667  4.277382\n",
       "1   9.080038 -3.107737 -0.569771  14.679973  2.005405\n",
       "2   3.491072 -2.343092 -5.636349  11.416039 -0.373804\n",
       "3   0.761835 -0.652198 -1.929811   3.537828 -0.247422\n",
       "4   9.124708 -2.755428 -2.402753  17.376237  0.947563"
      ]
     },
     "execution_count": 12,
     "metadata": {},
     "output_type": "execute_result"
    },
    {
     "data": {
      "application/javascript": [
       "\n",
       "            setTimeout(function() {\n",
       "                var nbb_cell_id = 12;\n",
       "                var nbb_unformatted_code = \"# Jointly embed graphs using OMNI\\nembedder = OmnibusEmbed()\\nomni_embedding = embedder.fit_transform(graphs)\\nomni_embedding = omni_embedding.reshape(-1, omni_embedding.shape[-1])\\nprint(f\\\"Omnibus embedding shape is {omni_embedding.shape}\\\")\\n\\n# Convert array to a dataframe\\nomni_embedding = pd.DataFrame(\\n    omni_embedding, columns=[f\\\"omni_{i + 1}\\\" for i in range(omni_embedding.shape[-1])]\\n).astype(np.float64)\\nomni_embedding.head()\";\n",
       "                var nbb_formatted_code = \"# Jointly embed graphs using OMNI\\nembedder = OmnibusEmbed()\\nomni_embedding = embedder.fit_transform(graphs)\\nomni_embedding = omni_embedding.reshape(-1, omni_embedding.shape[-1])\\nprint(f\\\"Omnibus embedding shape is {omni_embedding.shape}\\\")\\n\\n# Convert array to a dataframe\\nomni_embedding = pd.DataFrame(\\n    omni_embedding, columns=[f\\\"omni_{i + 1}\\\" for i in range(omni_embedding.shape[-1])]\\n).astype(np.float64)\\nomni_embedding.head()\";\n",
       "                var nbb_cells = Jupyter.notebook.get_cells();\n",
       "                for (var i = 0; i < nbb_cells.length; ++i) {\n",
       "                    if (nbb_cells[i].input_prompt_number == nbb_cell_id) {\n",
       "                        if (nbb_cells[i].get_text() == nbb_unformatted_code) {\n",
       "                             nbb_cells[i].set_text(nbb_formatted_code);\n",
       "                        }\n",
       "                        break;\n",
       "                    }\n",
       "                }\n",
       "            }, 500);\n",
       "            "
      ],
      "text/plain": [
       "<IPython.core.display.Javascript object>"
      ]
     },
     "metadata": {},
     "output_type": "display_data"
    }
   ],
   "source": [
    "# Jointly embed graphs using OMNI\n",
    "embedder = OmnibusEmbed()\n",
    "omni_embedding = embedder.fit_transform(graphs)\n",
    "omni_embedding = omni_embedding.reshape(-1, omni_embedding.shape[-1])\n",
    "print(f\"Omnibus embedding shape is {omni_embedding.shape}\")\n",
    "\n",
    "# Convert array to a dataframe\n",
    "omni_embedding = pd.DataFrame(\n",
    "    omni_embedding, columns=[f\"omni_{i + 1}\" for i in range(omni_embedding.shape[-1])]\n",
    ").astype(np.float64)\n",
    "omni_embedding.head()"
   ]
  },
  {
   "cell_type": "code",
   "execution_count": 13,
   "metadata": {},
   "outputs": [
    {
     "data": {
      "text/html": [
       "<div>\n",
       "<style scoped>\n",
       "    .dataframe tbody tr th:only-of-type {\n",
       "        vertical-align: middle;\n",
       "    }\n",
       "\n",
       "    .dataframe tbody tr th {\n",
       "        vertical-align: top;\n",
       "    }\n",
       "\n",
       "    .dataframe thead th {\n",
       "        text-align: right;\n",
       "    }\n",
       "</style>\n",
       "<table border=\"1\" class=\"dataframe\">\n",
       "  <thead>\n",
       "    <tr style=\"text-align: right;\">\n",
       "      <th></th>\n",
       "      <th>omni_1</th>\n",
       "      <th>omni_2</th>\n",
       "      <th>omni_3</th>\n",
       "      <th>omni_4</th>\n",
       "      <th>omni_5</th>\n",
       "      <th>participant_id</th>\n",
       "      <th>ROI</th>\n",
       "      <th>genotype</th>\n",
       "    </tr>\n",
       "  </thead>\n",
       "  <tbody>\n",
       "    <tr>\n",
       "      <th>0</th>\n",
       "      <td>12.730154</td>\n",
       "      <td>-5.338366</td>\n",
       "      <td>-2.503565</td>\n",
       "      <td>14.369667</td>\n",
       "      <td>4.277382</td>\n",
       "      <td>54776</td>\n",
       "      <td>1</td>\n",
       "      <td>DBA2</td>\n",
       "    </tr>\n",
       "    <tr>\n",
       "      <th>1</th>\n",
       "      <td>9.080038</td>\n",
       "      <td>-3.107737</td>\n",
       "      <td>-0.569771</td>\n",
       "      <td>14.679973</td>\n",
       "      <td>2.005405</td>\n",
       "      <td>54776</td>\n",
       "      <td>2</td>\n",
       "      <td>DBA2</td>\n",
       "    </tr>\n",
       "    <tr>\n",
       "      <th>2</th>\n",
       "      <td>3.491072</td>\n",
       "      <td>-2.343092</td>\n",
       "      <td>-5.636349</td>\n",
       "      <td>11.416039</td>\n",
       "      <td>-0.373804</td>\n",
       "      <td>54776</td>\n",
       "      <td>3</td>\n",
       "      <td>DBA2</td>\n",
       "    </tr>\n",
       "    <tr>\n",
       "      <th>3</th>\n",
       "      <td>0.761835</td>\n",
       "      <td>-0.652198</td>\n",
       "      <td>-1.929811</td>\n",
       "      <td>3.537828</td>\n",
       "      <td>-0.247422</td>\n",
       "      <td>54776</td>\n",
       "      <td>4</td>\n",
       "      <td>DBA2</td>\n",
       "    </tr>\n",
       "    <tr>\n",
       "      <th>4</th>\n",
       "      <td>9.124708</td>\n",
       "      <td>-2.755428</td>\n",
       "      <td>-2.402753</td>\n",
       "      <td>17.376237</td>\n",
       "      <td>0.947563</td>\n",
       "      <td>54776</td>\n",
       "      <td>5</td>\n",
       "      <td>DBA2</td>\n",
       "    </tr>\n",
       "  </tbody>\n",
       "</table>\n",
       "</div>"
      ],
      "text/plain": [
       "      omni_1    omni_2    omni_3     omni_4    omni_5 participant_id  ROI  \\\n",
       "0  12.730154 -5.338366 -2.503565  14.369667  4.277382          54776    1   \n",
       "1   9.080038 -3.107737 -0.569771  14.679973  2.005405          54776    2   \n",
       "2   3.491072 -2.343092 -5.636349  11.416039 -0.373804          54776    3   \n",
       "3   0.761835 -0.652198 -1.929811   3.537828 -0.247422          54776    4   \n",
       "4   9.124708 -2.755428 -2.402753  17.376237  0.947563          54776    5   \n",
       "\n",
       "  genotype  \n",
       "0     DBA2  \n",
       "1     DBA2  \n",
       "2     DBA2  \n",
       "3     DBA2  \n",
       "4     DBA2  "
      ]
     },
     "execution_count": 13,
     "metadata": {},
     "output_type": "execute_result"
    },
    {
     "data": {
      "application/javascript": [
       "\n",
       "            setTimeout(function() {\n",
       "                var nbb_cell_id = 13;\n",
       "                var nbb_unformatted_code = \"# Construct identifiers for each embedded vertex\\nleft = mice.atlas[\\\"ROI\\\"].unique()\\nright = left + 166\\nrois = np.append(left, right)\\n\\nparticipants = mice.participants[\\\"participant_id\\\"]\\nparticipants = participants.apply(lambda x: x.split(\\\"-\\\")[1])\\n\\nidentifiers = np.array(list(product(participants, rois))).reshape(-1, 2)\\nidentifiers = pd.DataFrame(identifiers, columns=[\\\"participant_id\\\", \\\"ROI\\\"])\\nidentifiers[\\\"ROI\\\"] = identifiers[\\\"ROI\\\"].astype(np.int64)\\nidentifiers[\\\"genotype\\\"] = identifiers[\\\"participant_id\\\"].apply(\\n    lambda i: mice.participants.query(f\\\"participant_id == 'sub-{i}'\\\")[\\n        \\\"genotype\\\"\\n    ].values[0]\\n)\\n\\nomni = pd.concat([omni_embedding, identifiers], axis=1)\\nomni.head()\";\n",
       "                var nbb_formatted_code = \"# Construct identifiers for each embedded vertex\\nleft = mice.atlas[\\\"ROI\\\"].unique()\\nright = left + 166\\nrois = np.append(left, right)\\n\\nparticipants = mice.participants[\\\"participant_id\\\"]\\nparticipants = participants.apply(lambda x: x.split(\\\"-\\\")[1])\\n\\nidentifiers = np.array(list(product(participants, rois))).reshape(-1, 2)\\nidentifiers = pd.DataFrame(identifiers, columns=[\\\"participant_id\\\", \\\"ROI\\\"])\\nidentifiers[\\\"ROI\\\"] = identifiers[\\\"ROI\\\"].astype(np.int64)\\nidentifiers[\\\"genotype\\\"] = identifiers[\\\"participant_id\\\"].apply(\\n    lambda i: mice.participants.query(f\\\"participant_id == 'sub-{i}'\\\")[\\n        \\\"genotype\\\"\\n    ].values[0]\\n)\\n\\nomni = pd.concat([omni_embedding, identifiers], axis=1)\\nomni.head()\";\n",
       "                var nbb_cells = Jupyter.notebook.get_cells();\n",
       "                for (var i = 0; i < nbb_cells.length; ++i) {\n",
       "                    if (nbb_cells[i].input_prompt_number == nbb_cell_id) {\n",
       "                        if (nbb_cells[i].get_text() == nbb_unformatted_code) {\n",
       "                             nbb_cells[i].set_text(nbb_formatted_code);\n",
       "                        }\n",
       "                        break;\n",
       "                    }\n",
       "                }\n",
       "            }, 500);\n",
       "            "
      ],
      "text/plain": [
       "<IPython.core.display.Javascript object>"
      ]
     },
     "metadata": {},
     "output_type": "display_data"
    }
   ],
   "source": [
    "# Construct identifiers for each embedded vertex\n",
    "left = mice.atlas[\"ROI\"].unique()\n",
    "right = left + 166\n",
    "rois = np.append(left, right)\n",
    "\n",
    "participants = mice.participants[\"participant_id\"]\n",
    "participants = participants.apply(lambda x: x.split(\"-\")[1])\n",
    "\n",
    "identifiers = np.array(list(product(participants, rois))).reshape(-1, 2)\n",
    "identifiers = pd.DataFrame(identifiers, columns=[\"participant_id\", \"ROI\"])\n",
    "identifiers[\"ROI\"] = identifiers[\"ROI\"].astype(np.int64)\n",
    "identifiers[\"genotype\"] = identifiers[\"participant_id\"].apply(\n",
    "    lambda i: mice.participants.query(f\"participant_id == 'sub-{i}'\")[\n",
    "        \"genotype\"\n",
    "    ].values[0]\n",
    ")\n",
    "\n",
    "omni = pd.concat([omni_embedding, identifiers], axis=1)\n",
    "omni.head()"
   ]
  },
  {
   "cell_type": "code",
   "execution_count": 14,
   "metadata": {},
   "outputs": [
    {
     "data": {
      "application/javascript": [
       "\n",
       "            setTimeout(function() {\n",
       "                var nbb_cell_id = 14;\n",
       "                var nbb_unformatted_code = \"%%R -i omni -i n_vertices -o signal_vertices\\n\\nsuppressPackageStartupMessages(require(tidyverse))\\n\\ncol1 <- which(grepl(\\\"omni\\\", names(omni))) # column indices for the embeddings\\ncol2 <- which(grepl(\\\"genotype\\\", names(omni))) # column index for the genotype\\n\\nembedding <- colnames(omni)[col1]\\ngenotype <- colnames(omni)[col2]\\nform <- paste0(\\\"cbind(\\\", paste(embedding, collapse=\\\", \\\"), \\\") ~ \\\", genotype)\\n\\npvec <- rep(0, n_vertices)\\nfor (i in 1 : n_vertices) {\\n    omni.v <- omni[which(omni$ROI == i), ]\\n    ans <- manova(as.formula(form), data=omni.v)\\n    pval <- summary(ans)$stats[1,\\\"Pr(>F)\\\"]\\n    pvec[i] <- pval\\n}\\n\\nsignal_vertices <- data.frame(ROI=unique(omni$ROI), pvalue=pvec)\";\n",
       "                var nbb_formatted_code = \"%%R -i omni -i n_vertices -o signal_vertices\\n\\nsuppressPackageStartupMessages(require(tidyverse))\\n\\ncol1 <- which(grepl(\\\"omni\\\", names(omni))) # column indices for the embeddings\\ncol2 <- which(grepl(\\\"genotype\\\", names(omni))) # column index for the genotype\\n\\nembedding <- colnames(omni)[col1]\\ngenotype <- colnames(omni)[col2]\\nform <- paste0(\\\"cbind(\\\", paste(embedding, collapse=\\\", \\\"), \\\") ~ \\\", genotype)\\n\\npvec <- rep(0, n_vertices)\\nfor (i in 1 : n_vertices) {\\n    omni.v <- omni[which(omni$ROI == i), ]\\n    ans <- manova(as.formula(form), data=omni.v)\\n    pval <- summary(ans)$stats[1,\\\"Pr(>F)\\\"]\\n    pvec[i] <- pval\\n}\\n\\nsignal_vertices <- data.frame(ROI=unique(omni$ROI), pvalue=pvec)\";\n",
       "                var nbb_cells = Jupyter.notebook.get_cells();\n",
       "                for (var i = 0; i < nbb_cells.length; ++i) {\n",
       "                    if (nbb_cells[i].input_prompt_number == nbb_cell_id) {\n",
       "                        if (nbb_cells[i].get_text() == nbb_unformatted_code) {\n",
       "                             nbb_cells[i].set_text(nbb_formatted_code);\n",
       "                        }\n",
       "                        break;\n",
       "                    }\n",
       "                }\n",
       "            }, 500);\n",
       "            "
      ],
      "text/plain": [
       "<IPython.core.display.Javascript object>"
      ]
     },
     "metadata": {},
     "output_type": "display_data"
    }
   ],
   "source": [
    "%%R -i omni -i n_vertices -o signal_vertices\n",
    "\n",
    "suppressPackageStartupMessages(require(tidyverse))\n",
    "\n",
    "col1 <- which(grepl(\"omni\", names(omni))) # column indices for the embeddings\n",
    "col2 <- which(grepl(\"genotype\", names(omni))) # column index for the genotype\n",
    "\n",
    "embedding <- colnames(omni)[col1]\n",
    "genotype <- colnames(omni)[col2]\n",
    "form <- paste0(\"cbind(\", paste(embedding, collapse=\", \"), \") ~ \", genotype)\n",
    "\n",
    "pvec <- rep(0, n_vertices)\n",
    "for (i in 1 : n_vertices) {\n",
    "    omni.v <- omni[which(omni$ROI == i), ]\n",
    "    ans <- manova(as.formula(form), data=omni.v)\n",
    "    pval <- summary(ans)$stats[1,\"Pr(>F)\"]\n",
    "    pvec[i] <- pval\n",
    "}\n",
    "\n",
    "signal_vertices <- data.frame(ROI=unique(omni$ROI), pvalue=pvec)"
   ]
  },
  {
   "cell_type": "code",
   "execution_count": 15,
   "metadata": {},
   "outputs": [
    {
     "data": {
      "application/javascript": [
       "\n",
       "            setTimeout(function() {\n",
       "                var nbb_cell_id = 15;\n",
       "                var nbb_unformatted_code = \"# Correct p-values\\nsignal_vertices.sort_values(by=\\\"pvalue\\\", inplace=True, ignore_index=True)\\nreject, holm_pvalue, _, _ = multipletests(\\n    signal_vertices[\\\"pvalue\\\"], alpha=0.05, method=\\\"holm\\\"\\n)\\nsignal_vertices[\\\"holm_pvalue\\\"] = holm_pvalue\\nsignal_vertices[\\\"significant\\\"] = reject\\nsignal_vertices.sort_values(by=\\\"holm_pvalue\\\", inplace=True, ignore_index=True)\\nsignal_vertices.to_csv(\\\"../results/signal_vertices.csv\\\", index=False)\";\n",
       "                var nbb_formatted_code = \"# Correct p-values\\nsignal_vertices.sort_values(by=\\\"pvalue\\\", inplace=True, ignore_index=True)\\nreject, holm_pvalue, _, _ = multipletests(\\n    signal_vertices[\\\"pvalue\\\"], alpha=0.05, method=\\\"holm\\\"\\n)\\nsignal_vertices[\\\"holm_pvalue\\\"] = holm_pvalue\\nsignal_vertices[\\\"significant\\\"] = reject\\nsignal_vertices.sort_values(by=\\\"holm_pvalue\\\", inplace=True, ignore_index=True)\\nsignal_vertices.to_csv(\\\"../results/signal_vertices.csv\\\", index=False)\";\n",
       "                var nbb_cells = Jupyter.notebook.get_cells();\n",
       "                for (var i = 0; i < nbb_cells.length; ++i) {\n",
       "                    if (nbb_cells[i].input_prompt_number == nbb_cell_id) {\n",
       "                        if (nbb_cells[i].get_text() == nbb_unformatted_code) {\n",
       "                             nbb_cells[i].set_text(nbb_formatted_code);\n",
       "                        }\n",
       "                        break;\n",
       "                    }\n",
       "                }\n",
       "            }, 500);\n",
       "            "
      ],
      "text/plain": [
       "<IPython.core.display.Javascript object>"
      ]
     },
     "metadata": {},
     "output_type": "display_data"
    }
   ],
   "source": [
    "# Correct p-values\n",
    "signal_vertices.sort_values(by=\"pvalue\", inplace=True, ignore_index=True)\n",
    "reject, holm_pvalue, _, _ = multipletests(\n",
    "    signal_vertices[\"pvalue\"], alpha=0.05, method=\"holm\"\n",
    ")\n",
    "signal_vertices[\"holm_pvalue\"] = holm_pvalue\n",
    "signal_vertices[\"significant\"] = reject\n",
    "signal_vertices.sort_values(by=\"holm_pvalue\", inplace=True, ignore_index=True)\n",
    "signal_vertices.to_csv(\"../results/signal_vertices.csv\", index=False)"
   ]
  },
  {
   "cell_type": "code",
   "execution_count": 16,
   "metadata": {},
   "outputs": [
    {
     "data": {
      "text/html": [
       "<div>\n",
       "<style scoped>\n",
       "    .dataframe tbody tr th:only-of-type {\n",
       "        vertical-align: middle;\n",
       "    }\n",
       "\n",
       "    .dataframe tbody tr th {\n",
       "        vertical-align: top;\n",
       "    }\n",
       "\n",
       "    .dataframe thead th {\n",
       "        text-align: right;\n",
       "    }\n",
       "</style>\n",
       "<table border=\"1\" class=\"dataframe\">\n",
       "  <thead>\n",
       "    <tr style=\"text-align: right;\">\n",
       "      <th></th>\n",
       "      <th>ROI</th>\n",
       "      <th>pvalue</th>\n",
       "      <th>holm_pvalue</th>\n",
       "      <th>significant</th>\n",
       "    </tr>\n",
       "  </thead>\n",
       "  <tbody>\n",
       "    <tr>\n",
       "      <th>0</th>\n",
       "      <td>Corpus Callosum (L)</td>\n",
       "      <td>1.532763e-27</td>\n",
       "      <td>5.088774e-25</td>\n",
       "      <td>True</td>\n",
       "    </tr>\n",
       "    <tr>\n",
       "      <th>1</th>\n",
       "      <td>Corpus Callosum (R)</td>\n",
       "      <td>3.304280e-26</td>\n",
       "      <td>1.093717e-23</td>\n",
       "      <td>True</td>\n",
       "    </tr>\n",
       "    <tr>\n",
       "      <th>2</th>\n",
       "      <td>Fimbria (L)</td>\n",
       "      <td>2.201917e-22</td>\n",
       "      <td>7.266325e-20</td>\n",
       "      <td>True</td>\n",
       "    </tr>\n",
       "    <tr>\n",
       "      <th>3</th>\n",
       "      <td>Secondary Motor Cortex (L)</td>\n",
       "      <td>2.495654e-22</td>\n",
       "      <td>8.210702e-20</td>\n",
       "      <td>True</td>\n",
       "    </tr>\n",
       "    <tr>\n",
       "      <th>4</th>\n",
       "      <td>Midbrain Reticular Nucleus (R)</td>\n",
       "      <td>4.208925e-22</td>\n",
       "      <td>1.380528e-19</td>\n",
       "      <td>True</td>\n",
       "    </tr>\n",
       "    <tr>\n",
       "      <th>5</th>\n",
       "      <td>Substantia Nigra (R)</td>\n",
       "      <td>6.725453e-19</td>\n",
       "      <td>2.199223e-16</td>\n",
       "      <td>True</td>\n",
       "    </tr>\n",
       "    <tr>\n",
       "      <th>6</th>\n",
       "      <td>Internal Capsule (R)</td>\n",
       "      <td>7.016916e-19</td>\n",
       "      <td>2.287515e-16</td>\n",
       "      <td>True</td>\n",
       "    </tr>\n",
       "    <tr>\n",
       "      <th>7</th>\n",
       "      <td>Secondary Motor Cortex (R)</td>\n",
       "      <td>1.045814e-18</td>\n",
       "      <td>3.398894e-16</td>\n",
       "      <td>True</td>\n",
       "    </tr>\n",
       "    <tr>\n",
       "      <th>8</th>\n",
       "      <td>Cerebral Peduncle (R)</td>\n",
       "      <td>1.338334e-17</td>\n",
       "      <td>4.336201e-15</td>\n",
       "      <td>True</td>\n",
       "    </tr>\n",
       "    <tr>\n",
       "      <th>9</th>\n",
       "      <td>Internal Capsule (L)</td>\n",
       "      <td>2.077169e-17</td>\n",
       "      <td>6.709257e-15</td>\n",
       "      <td>True</td>\n",
       "    </tr>\n",
       "  </tbody>\n",
       "</table>\n",
       "</div>"
      ],
      "text/plain": [
       "                              ROI        pvalue   holm_pvalue  significant\n",
       "0             Corpus Callosum (L)  1.532763e-27  5.088774e-25         True\n",
       "1             Corpus Callosum (R)  3.304280e-26  1.093717e-23         True\n",
       "2                     Fimbria (L)  2.201917e-22  7.266325e-20         True\n",
       "3      Secondary Motor Cortex (L)  2.495654e-22  8.210702e-20         True\n",
       "4  Midbrain Reticular Nucleus (R)  4.208925e-22  1.380528e-19         True\n",
       "5            Substantia Nigra (R)  6.725453e-19  2.199223e-16         True\n",
       "6            Internal Capsule (R)  7.016916e-19  2.287515e-16         True\n",
       "7      Secondary Motor Cortex (R)  1.045814e-18  3.398894e-16         True\n",
       "8           Cerebral Peduncle (R)  1.338334e-17  4.336201e-15         True\n",
       "9            Internal Capsule (L)  2.077169e-17  6.709257e-15         True"
      ]
     },
     "execution_count": 16,
     "metadata": {},
     "output_type": "execute_result"
    },
    {
     "data": {
      "application/javascript": [
       "\n",
       "            setTimeout(function() {\n",
       "                var nbb_cell_id = 16;\n",
       "                var nbb_unformatted_code = \"# Get the top 10 strongest signal edges\\nstrong_signal_vertices = signal_vertices.head(10)\\nstrong_signal_vertices[\\\"ROI\\\"] = strong_signal_vertices[\\\"ROI\\\"].apply(lookup_roi_name)\\nstrong_signal_vertices\";\n",
       "                var nbb_formatted_code = \"# Get the top 10 strongest signal edges\\nstrong_signal_vertices = signal_vertices.head(10)\\nstrong_signal_vertices[\\\"ROI\\\"] = strong_signal_vertices[\\\"ROI\\\"].apply(lookup_roi_name)\\nstrong_signal_vertices\";\n",
       "                var nbb_cells = Jupyter.notebook.get_cells();\n",
       "                for (var i = 0; i < nbb_cells.length; ++i) {\n",
       "                    if (nbb_cells[i].input_prompt_number == nbb_cell_id) {\n",
       "                        if (nbb_cells[i].get_text() == nbb_unformatted_code) {\n",
       "                             nbb_cells[i].set_text(nbb_formatted_code);\n",
       "                        }\n",
       "                        break;\n",
       "                    }\n",
       "                }\n",
       "            }, 500);\n",
       "            "
      ],
      "text/plain": [
       "<IPython.core.display.Javascript object>"
      ]
     },
     "metadata": {},
     "output_type": "display_data"
    }
   ],
   "source": [
    "# Get the top 10 strongest signal edges\n",
    "strong_signal_vertices = signal_vertices.head(10)\n",
    "strong_signal_vertices[\"ROI\"] = strong_signal_vertices[\"ROI\"].apply(lookup_roi_name)\n",
    "strong_signal_vertices"
   ]
  },
  {
   "cell_type": "code",
   "execution_count": null,
   "metadata": {},
   "outputs": [],
   "source": []
  }
 ],
 "metadata": {
  "kernelspec": {
   "display_name": "Python [conda env:mcc]",
   "language": "python",
   "name": "conda-env-mcc-py"
  },
  "language_info": {
   "codemirror_mode": {
    "name": "ipython",
    "version": 3
   },
   "file_extension": ".py",
   "mimetype": "text/x-python",
   "name": "python",
   "nbconvert_exporter": "python",
   "pygments_lexer": "ipython3",
   "version": "3.8.6"
  },
  "varInspector": {
   "cols": {
    "lenName": 16,
    "lenType": 16,
    "lenVar": 40
   },
   "kernels_config": {
    "python": {
     "delete_cmd_postfix": "",
     "delete_cmd_prefix": "del ",
     "library": "var_list.py",
     "varRefreshCmd": "print(var_dic_list())"
    },
    "r": {
     "delete_cmd_postfix": ") ",
     "delete_cmd_prefix": "rm(",
     "library": "var_list.r",
     "varRefreshCmd": "cat(var_dic_list()) "
    }
   },
   "types_to_exclude": [
    "module",
    "function",
    "builtin_function_or_method",
    "instance",
    "_Feature"
   ],
   "window_display": false
  }
 },
 "nbformat": 4,
 "nbformat_minor": 4
}
