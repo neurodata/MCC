{
 "metadata": {
  "language_info": {
   "codemirror_mode": {
    "name": "ipython",
    "version": 3
   },
   "file_extension": ".py",
   "mimetype": "text/x-python",
   "name": "python",
   "nbconvert_exporter": "python",
   "pygments_lexer": "ipython3",
   "version": "3.8.6-final"
  },
  "orig_nbformat": 2,
  "kernelspec": {
   "name": "python386jvsc74a57bd06b471bcd36a268a775c77ea72e3198c8dfa384bdfddfab72b63bc19655072053",
   "display_name": "Python 3.8.6 64-bit ('mcc': conda)"
  }
 },
 "nbformat": 4,
 "nbformat_minor": 2,
 "cells": [
  {
   "source": [
    "# Vertex Weighting\n",
    "\n",
    "Can vertex weight be used find signal vertices?"
   ],
   "cell_type": "markdown",
   "metadata": {}
  },
  {
   "cell_type": "code",
   "execution_count": 1,
   "metadata": {},
   "outputs": [],
   "source": [
    "import numpy as np\n",
    "import pandas as pd\n",
    "from graspologic.datasets import load_mice\n",
    "from hyppo.ksample import KSample\n",
    "from statsmodels.stats.multitest import multipletests"
   ]
  },
  {
   "cell_type": "code",
   "execution_count": 2,
   "metadata": {},
   "outputs": [],
   "source": [
    "# Load the full mouse dataset\n",
    "mice = load_mice()\n",
    "\n",
    "# Stack all adjacency matrices in a 3D numpy array\n",
    "graphs = np.array(mice.graphs)\n",
    "\n",
    "# Sort the connectomes and genotype labels so BTBR is first\n",
    "label_indices = np.argsort(mice.labels).reshape(4, 8)\n",
    "label_indices = label_indices[[1, 0, 2, 3]].reshape(-1)\n",
    "labels = mice.labels[label_indices]\n",
    "graphs = graphs[label_indices]\n",
    "\n",
    "# Get sample parameters\n",
    "n_subjects = mice.meta[\"n_subjects\"]\n",
    "n_vertices = mice.meta[\"n_vertices\"]"
   ]
  },
  {
   "cell_type": "code",
   "execution_count": 3,
   "metadata": {},
   "outputs": [],
   "source": [
    "# Split the set of graphs by genotype\n",
    "btbr = graphs[labels == \"BTBR\"]\n",
    "b6 = graphs[labels == \"B6\"]\n",
    "cast = graphs[labels == \"CAST\"]\n",
    "dba2 = graphs[labels == \"DBA2\"]\n",
    "\n",
    "connectomes = [btbr, b6, cast, dba2]"
   ]
  },
  {
   "cell_type": "code",
   "execution_count": 4,
   "metadata": {},
   "outputs": [],
   "source": [
    "vertex_pvals = []\n",
    "\n",
    "for roi in range(332):\n",
    "\n",
    "    # Get the (i,j)-th edge for each connectome\n",
    "    samples = [genotype[:, roi, :] for genotype in connectomes]\n",
    "\n",
    "    # Calculate the p-value for the (i,j)-th edge\n",
    "    try:\n",
    "        statistic, pvalue = KSample(\"Dcorr\").test(*samples, reps=10000000)\n",
    "    except ValueError:\n",
    "        # A ValueError is thrown when any of the samples have equal edge\n",
    "        # weights (i.e. one of the inputs has 0 variance)\n",
    "        statistic = np.nan\n",
    "        pvalue = 1\n",
    "\n",
    "    vertex_pvals.append([roi, statistic, pvalue])"
   ]
  },
  {
   "cell_type": "code",
   "execution_count": 5,
   "metadata": {},
   "outputs": [
    {
     "output_type": "execute_result",
     "data": {
      "text/plain": [
       "   ROI      stat        pvalue  holm_pvalue  significant\n",
       "0   82  0.855475  9.993691e-08     0.000033         True\n",
       "1  309  0.851650  1.064597e-07     0.000035         True\n",
       "2  126  0.850944  1.077108e-07     0.000036         True\n",
       "3  248  0.847117  1.147466e-07     0.000038         True\n",
       "4  269  0.840477  1.280620e-07     0.000042         True"
      ],
      "text/html": "<div>\n<style scoped>\n    .dataframe tbody tr th:only-of-type {\n        vertical-align: middle;\n    }\n\n    .dataframe tbody tr th {\n        vertical-align: top;\n    }\n\n    .dataframe thead th {\n        text-align: right;\n    }\n</style>\n<table border=\"1\" class=\"dataframe\">\n  <thead>\n    <tr style=\"text-align: right;\">\n      <th></th>\n      <th>ROI</th>\n      <th>stat</th>\n      <th>pvalue</th>\n      <th>holm_pvalue</th>\n      <th>significant</th>\n    </tr>\n  </thead>\n  <tbody>\n    <tr>\n      <th>0</th>\n      <td>82</td>\n      <td>0.855475</td>\n      <td>9.993691e-08</td>\n      <td>0.000033</td>\n      <td>True</td>\n    </tr>\n    <tr>\n      <th>1</th>\n      <td>309</td>\n      <td>0.851650</td>\n      <td>1.064597e-07</td>\n      <td>0.000035</td>\n      <td>True</td>\n    </tr>\n    <tr>\n      <th>2</th>\n      <td>126</td>\n      <td>0.850944</td>\n      <td>1.077108e-07</td>\n      <td>0.000036</td>\n      <td>True</td>\n    </tr>\n    <tr>\n      <th>3</th>\n      <td>248</td>\n      <td>0.847117</td>\n      <td>1.147466e-07</td>\n      <td>0.000038</td>\n      <td>True</td>\n    </tr>\n    <tr>\n      <th>4</th>\n      <td>269</td>\n      <td>0.840477</td>\n      <td>1.280620e-07</td>\n      <td>0.000042</td>\n      <td>True</td>\n    </tr>\n  </tbody>\n</table>\n</div>"
     },
     "metadata": {},
     "execution_count": 5
    }
   ],
   "source": [
    "# Convert the nested list to a dataframe\n",
    "signal_vertices = pd.DataFrame(vertex_pvals, columns=[\"ROI\", \"stat\", \"pvalue\"])\n",
    "signal_vertices.sort_values(by=\"pvalue\", inplace=True, ignore_index=True)\n",
    "\n",
    "# Correct p-values\n",
    "reject, holm_pvalue, _, _ = multipletests(\n",
    "    signal_vertices[\"pvalue\"], alpha=0.05, method=\"holm\"\n",
    ")\n",
    "signal_vertices[\"holm_pvalue\"] = holm_pvalue\n",
    "signal_vertices[\"significant\"] = reject\n",
    "signal_vertices.sort_values(by=\"holm_pvalue\", inplace=True, ignore_index=True)\n",
    "signal_vertices.head()"
   ]
  },
  {
   "cell_type": "code",
   "execution_count": 6,
   "metadata": {},
   "outputs": [],
   "source": [
    "def lookup_roi_name(roi):\n",
    "    roi -= 1\n",
    "    hemisphere = \"R\" if roi // 166 else \"L\"\n",
    "    roi = roi % 166\n",
    "    structure = mice.atlas[\"Structure\"].values[roi]\n",
    "    structure = \" \".join(structure.split(\"_\"))\n",
    "    return f\"{structure} ({hemisphere})\""
   ]
  },
  {
   "cell_type": "code",
   "execution_count": 7,
   "metadata": {},
   "outputs": [
    {
     "output_type": "execute_result",
     "data": {
      "text/plain": [
       "                                                  ROI      stat        pvalue  \\\n",
       "0                             Inferior Colliculus (L)  0.855475  9.993691e-08   \n",
       "1                   Ventral Spinocerebellar Tract (R)  0.851650  1.064597e-07   \n",
       "2                  Ventral Hippocampal Commissure (L)  0.850944  1.077108e-07   \n",
       "3                             Inferior Colliculus (R)  0.847117  1.147466e-07   \n",
       "4                        Trigeminal Motor Nucleus (R)  0.840477  1.280620e-07   \n",
       "5                      Anterior Pretectal Nucleus (R)  0.838293  1.327723e-07   \n",
       "6                        Trigeminal Motor Nucleus (L)  0.838242  1.328856e-07   \n",
       "7                               Ectorhinal Cortex (L)  0.838199  1.329790e-07   \n",
       "8                              Pararubral Nucleus (L)  0.829333  1.539851e-07   \n",
       "9   Fastigial Medial Dorsolateral Nucleus of Cereb...  0.824864  1.658030e-07   \n",
       "10                Brachium of Superior Colliculus (R)  0.820357  1.786448e-07   \n",
       "11                Brachium of Superior Colliculus (L)  0.819049  1.825526e-07   \n",
       "12                                   Optic Tracts (L)  0.818466  1.843238e-07   \n",
       "13  Fastigial Medial Dorsolateral Nucleus of Cereb...  0.813574  1.998691e-07   \n",
       "14                      Cingulate Cortex Area 29c (L)  0.812643  2.029728e-07   \n",
       "15                           Precuneiform Nucleus (L)  0.811006  2.085513e-07   \n",
       "16                     Anterior Pretectal Nucleus (L)  0.807257  2.219063e-07   \n",
       "17                                         Septum (R)  0.805591  2.281134e-07   \n",
       "18                 Ventral Hippocampal Commissure (R)  0.796794  2.638930e-07   \n",
       "19                         Preoptic Telencephalon (R)  0.793381  2.792436e-07   \n",
       "\n",
       "    holm_pvalue  significant  \n",
       "0      0.000033         True  \n",
       "1      0.000035         True  \n",
       "2      0.000036         True  \n",
       "3      0.000038         True  \n",
       "4      0.000042         True  \n",
       "5      0.000043         True  \n",
       "6      0.000043         True  \n",
       "7      0.000043         True  \n",
       "8      0.000050         True  \n",
       "9      0.000054         True  \n",
       "10     0.000058         True  \n",
       "11     0.000059         True  \n",
       "12     0.000059         True  \n",
       "13     0.000064         True  \n",
       "14     0.000065         True  \n",
       "15     0.000066         True  \n",
       "16     0.000070         True  \n",
       "17     0.000072         True  \n",
       "18     0.000083         True  \n",
       "19     0.000087         True  "
      ],
      "text/html": "<div>\n<style scoped>\n    .dataframe tbody tr th:only-of-type {\n        vertical-align: middle;\n    }\n\n    .dataframe tbody tr th {\n        vertical-align: top;\n    }\n\n    .dataframe thead th {\n        text-align: right;\n    }\n</style>\n<table border=\"1\" class=\"dataframe\">\n  <thead>\n    <tr style=\"text-align: right;\">\n      <th></th>\n      <th>ROI</th>\n      <th>stat</th>\n      <th>pvalue</th>\n      <th>holm_pvalue</th>\n      <th>significant</th>\n    </tr>\n  </thead>\n  <tbody>\n    <tr>\n      <th>0</th>\n      <td>Inferior Colliculus (L)</td>\n      <td>0.855475</td>\n      <td>9.993691e-08</td>\n      <td>0.000033</td>\n      <td>True</td>\n    </tr>\n    <tr>\n      <th>1</th>\n      <td>Ventral Spinocerebellar Tract (R)</td>\n      <td>0.851650</td>\n      <td>1.064597e-07</td>\n      <td>0.000035</td>\n      <td>True</td>\n    </tr>\n    <tr>\n      <th>2</th>\n      <td>Ventral Hippocampal Commissure (L)</td>\n      <td>0.850944</td>\n      <td>1.077108e-07</td>\n      <td>0.000036</td>\n      <td>True</td>\n    </tr>\n    <tr>\n      <th>3</th>\n      <td>Inferior Colliculus (R)</td>\n      <td>0.847117</td>\n      <td>1.147466e-07</td>\n      <td>0.000038</td>\n      <td>True</td>\n    </tr>\n    <tr>\n      <th>4</th>\n      <td>Trigeminal Motor Nucleus (R)</td>\n      <td>0.840477</td>\n      <td>1.280620e-07</td>\n      <td>0.000042</td>\n      <td>True</td>\n    </tr>\n    <tr>\n      <th>5</th>\n      <td>Anterior Pretectal Nucleus (R)</td>\n      <td>0.838293</td>\n      <td>1.327723e-07</td>\n      <td>0.000043</td>\n      <td>True</td>\n    </tr>\n    <tr>\n      <th>6</th>\n      <td>Trigeminal Motor Nucleus (L)</td>\n      <td>0.838242</td>\n      <td>1.328856e-07</td>\n      <td>0.000043</td>\n      <td>True</td>\n    </tr>\n    <tr>\n      <th>7</th>\n      <td>Ectorhinal Cortex (L)</td>\n      <td>0.838199</td>\n      <td>1.329790e-07</td>\n      <td>0.000043</td>\n      <td>True</td>\n    </tr>\n    <tr>\n      <th>8</th>\n      <td>Pararubral Nucleus (L)</td>\n      <td>0.829333</td>\n      <td>1.539851e-07</td>\n      <td>0.000050</td>\n      <td>True</td>\n    </tr>\n    <tr>\n      <th>9</th>\n      <td>Fastigial Medial Dorsolateral Nucleus of Cereb...</td>\n      <td>0.824864</td>\n      <td>1.658030e-07</td>\n      <td>0.000054</td>\n      <td>True</td>\n    </tr>\n    <tr>\n      <th>10</th>\n      <td>Brachium of Superior Colliculus (R)</td>\n      <td>0.820357</td>\n      <td>1.786448e-07</td>\n      <td>0.000058</td>\n      <td>True</td>\n    </tr>\n    <tr>\n      <th>11</th>\n      <td>Brachium of Superior Colliculus (L)</td>\n      <td>0.819049</td>\n      <td>1.825526e-07</td>\n      <td>0.000059</td>\n      <td>True</td>\n    </tr>\n    <tr>\n      <th>12</th>\n      <td>Optic Tracts (L)</td>\n      <td>0.818466</td>\n      <td>1.843238e-07</td>\n      <td>0.000059</td>\n      <td>True</td>\n    </tr>\n    <tr>\n      <th>13</th>\n      <td>Fastigial Medial Dorsolateral Nucleus of Cereb...</td>\n      <td>0.813574</td>\n      <td>1.998691e-07</td>\n      <td>0.000064</td>\n      <td>True</td>\n    </tr>\n    <tr>\n      <th>14</th>\n      <td>Cingulate Cortex Area 29c (L)</td>\n      <td>0.812643</td>\n      <td>2.029728e-07</td>\n      <td>0.000065</td>\n      <td>True</td>\n    </tr>\n    <tr>\n      <th>15</th>\n      <td>Precuneiform Nucleus (L)</td>\n      <td>0.811006</td>\n      <td>2.085513e-07</td>\n      <td>0.000066</td>\n      <td>True</td>\n    </tr>\n    <tr>\n      <th>16</th>\n      <td>Anterior Pretectal Nucleus (L)</td>\n      <td>0.807257</td>\n      <td>2.219063e-07</td>\n      <td>0.000070</td>\n      <td>True</td>\n    </tr>\n    <tr>\n      <th>17</th>\n      <td>Septum (R)</td>\n      <td>0.805591</td>\n      <td>2.281134e-07</td>\n      <td>0.000072</td>\n      <td>True</td>\n    </tr>\n    <tr>\n      <th>18</th>\n      <td>Ventral Hippocampal Commissure (R)</td>\n      <td>0.796794</td>\n      <td>2.638930e-07</td>\n      <td>0.000083</td>\n      <td>True</td>\n    </tr>\n    <tr>\n      <th>19</th>\n      <td>Preoptic Telencephalon (R)</td>\n      <td>0.793381</td>\n      <td>2.792436e-07</td>\n      <td>0.000087</td>\n      <td>True</td>\n    </tr>\n  </tbody>\n</table>\n</div>"
     },
     "metadata": {},
     "execution_count": 7
    }
   ],
   "source": [
    "# Get the top 20 strongest signal edges\n",
    "strong_signal_vertices = signal_vertices.head(20)\n",
    "strong_signal_vertices[\"ROI\"] = strong_signal_vertices[\"ROI\"].apply(lookup_roi_name)\n",
    "strong_signal_vertices"
   ]
  },
  {
   "cell_type": "code",
   "execution_count": null,
   "metadata": {},
   "outputs": [],
   "source": []
  }
 ]
}